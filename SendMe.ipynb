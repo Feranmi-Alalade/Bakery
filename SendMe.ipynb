{
 "cells": [
  {
   "cell_type": "code",
   "execution_count": 77,
   "id": "237609b8",
   "metadata": {},
   "outputs": [],
   "source": [
    "import pandas as pd\n",
    "import numpy as np\n",
    "import matplotlib.pyplot as plt #Library for data visualization\n",
    "from datetime import datetime #Library for dealing with dates\n",
    "import plotly.express as px\n",
    "import seaborn as sns"
   ]
  },
  {
   "cell_type": "code",
   "execution_count": 39,
   "id": "5366ca49",
   "metadata": {},
   "outputs": [],
   "source": [
    "df = pd.read_csv(r\"C:\\Users\\Oluwaferanmi\\Downloads\\SendMe.csv\")"
   ]
  },
  {
   "cell_type": "code",
   "execution_count": 40,
   "id": "932fc0c6",
   "metadata": {},
   "outputs": [
    {
     "data": {
      "text/html": [
       "<div>\n",
       "<style scoped>\n",
       "    .dataframe tbody tr th:only-of-type {\n",
       "        vertical-align: middle;\n",
       "    }\n",
       "\n",
       "    .dataframe tbody tr th {\n",
       "        vertical-align: top;\n",
       "    }\n",
       "\n",
       "    .dataframe thead th {\n",
       "        text-align: right;\n",
       "    }\n",
       "</style>\n",
       "<table border=\"1\" class=\"dataframe\">\n",
       "  <thead>\n",
       "    <tr style=\"text-align: right;\">\n",
       "      <th></th>\n",
       "      <th>Date</th>\n",
       "      <th>Name of Customer</th>\n",
       "      <th>Time of Order</th>\n",
       "      <th>Expected Time out</th>\n",
       "      <th>Expected Time of Delivery</th>\n",
       "      <th>Time Out Update</th>\n",
       "      <th>Why was the Order not Dispatched in 30mins?</th>\n",
       "      <th>Action Taken</th>\n",
       "      <th>New Expected Time Out</th>\n",
       "      <th>New Expected Time of Delivery</th>\n",
       "      <th>...</th>\n",
       "      <th>Boneless Beef 1kg</th>\n",
       "      <th>Goat Meat 1kg</th>\n",
       "      <th>Hake 1kg</th>\n",
       "      <th>Hake 1kg (Cleaned)</th>\n",
       "      <th>Titus 1kg</th>\n",
       "      <th>Titus 1kg (Cleaned)</th>\n",
       "      <th>Chicken 1kg</th>\n",
       "      <th>Cow Head &amp; Neck 1kg</th>\n",
       "      <th>Naira Value</th>\n",
       "      <th>Fulfilment Center</th>\n",
       "    </tr>\n",
       "  </thead>\n",
       "  <tbody>\n",
       "    <tr>\n",
       "      <th>0</th>\n",
       "      <td>07/06/2022 00:00</td>\n",
       "      <td>Mr Ojo Olukunle</td>\n",
       "      <td>17:05</td>\n",
       "      <td>17:35</td>\n",
       "      <td>18:35</td>\n",
       "      <td>NaN</td>\n",
       "      <td>NaN</td>\n",
       "      <td>NaN</td>\n",
       "      <td>NaN</td>\n",
       "      <td>NaN</td>\n",
       "      <td>...</td>\n",
       "      <td>NaN</td>\n",
       "      <td>NaN</td>\n",
       "      <td>NaN</td>\n",
       "      <td>NaN</td>\n",
       "      <td>NaN</td>\n",
       "      <td>NaN</td>\n",
       "      <td>NaN</td>\n",
       "      <td>NaN</td>\n",
       "      <td>3185.0</td>\n",
       "      <td>Bashorun</td>\n",
       "    </tr>\n",
       "    <tr>\n",
       "      <th>1</th>\n",
       "      <td>26/07/2022 00:00</td>\n",
       "      <td>Mrs Adedokun</td>\n",
       "      <td>11:43</td>\n",
       "      <td>12:13</td>\n",
       "      <td>13:13</td>\n",
       "      <td>Gone</td>\n",
       "      <td>NaN</td>\n",
       "      <td>NaN</td>\n",
       "      <td>NaN</td>\n",
       "      <td>NaN</td>\n",
       "      <td>...</td>\n",
       "      <td>NaN</td>\n",
       "      <td>NaN</td>\n",
       "      <td>NaN</td>\n",
       "      <td>NaN</td>\n",
       "      <td>NaN</td>\n",
       "      <td>NaN</td>\n",
       "      <td>NaN</td>\n",
       "      <td>NaN</td>\n",
       "      <td>2340.0</td>\n",
       "      <td>Akobo</td>\n",
       "    </tr>\n",
       "    <tr>\n",
       "      <th>2</th>\n",
       "      <td>20/08/2022 00:00</td>\n",
       "      <td>Kemi</td>\n",
       "      <td>11:49</td>\n",
       "      <td>12:19</td>\n",
       "      <td>14:19</td>\n",
       "      <td>Gone</td>\n",
       "      <td>NaN</td>\n",
       "      <td>NaN</td>\n",
       "      <td>NaN</td>\n",
       "      <td>NaN</td>\n",
       "      <td>...</td>\n",
       "      <td>NaN</td>\n",
       "      <td>NaN</td>\n",
       "      <td>NaN</td>\n",
       "      <td>NaN</td>\n",
       "      <td>NaN</td>\n",
       "      <td>NaN</td>\n",
       "      <td>NaN</td>\n",
       "      <td>NaN</td>\n",
       "      <td>2340.0</td>\n",
       "      <td>Aleshinloye</td>\n",
       "    </tr>\n",
       "    <tr>\n",
       "      <th>3</th>\n",
       "      <td>12/08/2022 00:00</td>\n",
       "      <td>Omotayo A.</td>\n",
       "      <td>11:43</td>\n",
       "      <td>12:13</td>\n",
       "      <td>13:13</td>\n",
       "      <td>Gone</td>\n",
       "      <td>NaN</td>\n",
       "      <td>NaN</td>\n",
       "      <td>NaN</td>\n",
       "      <td>NaN</td>\n",
       "      <td>...</td>\n",
       "      <td>NaN</td>\n",
       "      <td>NaN</td>\n",
       "      <td>NaN</td>\n",
       "      <td>NaN</td>\n",
       "      <td>NaN</td>\n",
       "      <td>NaN</td>\n",
       "      <td>NaN</td>\n",
       "      <td>NaN</td>\n",
       "      <td>2340.0</td>\n",
       "      <td>Onikolobo</td>\n",
       "    </tr>\n",
       "    <tr>\n",
       "      <th>4</th>\n",
       "      <td>03/06/2022 00:00</td>\n",
       "      <td>Osasu</td>\n",
       "      <td>14:37</td>\n",
       "      <td>15:07</td>\n",
       "      <td>17:07</td>\n",
       "      <td>NaN</td>\n",
       "      <td>NaN</td>\n",
       "      <td>NaN</td>\n",
       "      <td>NaN</td>\n",
       "      <td>NaN</td>\n",
       "      <td>...</td>\n",
       "      <td>NaN</td>\n",
       "      <td>NaN</td>\n",
       "      <td>NaN</td>\n",
       "      <td>NaN</td>\n",
       "      <td>NaN</td>\n",
       "      <td>NaN</td>\n",
       "      <td>NaN</td>\n",
       "      <td>NaN</td>\n",
       "      <td>1430.0</td>\n",
       "      <td>Alakia</td>\n",
       "    </tr>\n",
       "  </tbody>\n",
       "</table>\n",
       "<p>5 rows × 55 columns</p>\n",
       "</div>"
      ],
      "text/plain": [
       "               Date Name of Customer Time of Order Expected Time out  \\\n",
       "0  07/06/2022 00:00  Mr Ojo Olukunle         17:05             17:35   \n",
       "1  26/07/2022 00:00     Mrs Adedokun         11:43             12:13   \n",
       "2  20/08/2022 00:00             Kemi         11:49             12:19   \n",
       "3  12/08/2022 00:00       Omotayo A.         11:43             12:13   \n",
       "4  03/06/2022 00:00            Osasu         14:37             15:07   \n",
       "\n",
       "  Expected Time of Delivery Time Out Update  \\\n",
       "0                     18:35             NaN   \n",
       "1                     13:13            Gone   \n",
       "2                     14:19            Gone   \n",
       "3                     13:13            Gone   \n",
       "4                     17:07             NaN   \n",
       "\n",
       "  Why was the Order not Dispatched in 30mins? Action Taken  \\\n",
       "0                                         NaN          NaN   \n",
       "1                                         NaN          NaN   \n",
       "2                                         NaN          NaN   \n",
       "3                                         NaN          NaN   \n",
       "4                                         NaN          NaN   \n",
       "\n",
       "  New Expected Time Out New Expected Time of Delivery  ... Boneless Beef 1kg  \\\n",
       "0                   NaN                           NaN  ...               NaN   \n",
       "1                   NaN                           NaN  ...               NaN   \n",
       "2                   NaN                           NaN  ...               NaN   \n",
       "3                   NaN                           NaN  ...               NaN   \n",
       "4                   NaN                           NaN  ...               NaN   \n",
       "\n",
       "   Goat Meat 1kg Hake 1kg Hake 1kg (Cleaned) Titus 1kg  Titus 1kg (Cleaned)  \\\n",
       "0            NaN      NaN                NaN       NaN                  NaN   \n",
       "1            NaN      NaN                NaN       NaN                  NaN   \n",
       "2            NaN      NaN                NaN       NaN                  NaN   \n",
       "3            NaN      NaN                NaN       NaN                  NaN   \n",
       "4            NaN      NaN                NaN       NaN                  NaN   \n",
       "\n",
       "  Chicken 1kg  Cow Head & Neck 1kg  Naira Value  Fulfilment Center  \n",
       "0         NaN                  NaN       3185.0           Bashorun  \n",
       "1         NaN                  NaN       2340.0              Akobo  \n",
       "2         NaN                  NaN       2340.0        Aleshinloye  \n",
       "3         NaN                  NaN       2340.0          Onikolobo  \n",
       "4         NaN                  NaN       1430.0             Alakia  \n",
       "\n",
       "[5 rows x 55 columns]"
      ]
     },
     "execution_count": 40,
     "metadata": {},
     "output_type": "execute_result"
    }
   ],
   "source": [
    "df.head() #Display the first five rows"
   ]
  },
  {
   "cell_type": "code",
   "execution_count": 41,
   "id": "4cd52018",
   "metadata": {},
   "outputs": [],
   "source": [
    "df[\"Date\"] = df[\"Date\"].apply(lambda x: x.split(\" \")[0])"
   ]
  },
  {
   "cell_type": "code",
   "execution_count": 42,
   "id": "626ada74",
   "metadata": {},
   "outputs": [],
   "source": [
    "def validate(date_text):\n",
    "    for i in range(len(date_text)):\n",
    "        try:\n",
    "            datetime.strptime(date_text[i], '%d/%m/%Y')\n",
    "        except Exception as e:\n",
    "            return i"
   ]
  },
  {
   "cell_type": "code",
   "execution_count": 43,
   "id": "8b82291e",
   "metadata": {},
   "outputs": [
    {
     "data": {
      "text/plain": [
       "29"
      ]
     },
     "execution_count": 43,
     "metadata": {},
     "output_type": "execute_result"
    }
   ],
   "source": [
    "validate(df[\"Date\"])"
   ]
  },
  {
   "cell_type": "code",
   "execution_count": 44,
   "id": "999a23c5",
   "metadata": {},
   "outputs": [
    {
     "data": {
      "text/plain": [
       "'0202-06-28'"
      ]
     },
     "execution_count": 44,
     "metadata": {},
     "output_type": "execute_result"
    }
   ],
   "source": [
    "df[\"Date\"][29] #The 29th index in the date series is invalid"
   ]
  },
  {
   "cell_type": "code",
   "execution_count": 45,
   "id": "a3a83344",
   "metadata": {},
   "outputs": [],
   "source": [
    "df.drop([29], inplace=True)"
   ]
  },
  {
   "cell_type": "code",
   "execution_count": 46,
   "id": "732e71a3",
   "metadata": {},
   "outputs": [],
   "source": [
    "df[\"Date\"] = pd.to_datetime(df[\"Date\"])"
   ]
  },
  {
   "cell_type": "code",
   "execution_count": 47,
   "id": "e155890c",
   "metadata": {},
   "outputs": [
    {
     "data": {
      "text/plain": [
       "2022-11-06    8\n",
       "2022-04-30    7\n",
       "2022-03-06    7\n",
       "2022-04-06    6\n",
       "2022-06-17    6\n",
       "             ..\n",
       "2022-06-15    1\n",
       "2022-06-14    1\n",
       "2022-04-19    1\n",
       "2025-06-28    1\n",
       "2023-10-09    1\n",
       "Name: Date, Length: 130, dtype: int64"
      ]
     },
     "execution_count": 47,
     "metadata": {},
     "output_type": "execute_result"
    }
   ],
   "source": [
    "df[\"Date\"].value_counts()"
   ]
  },
  {
   "cell_type": "code",
   "execution_count": 48,
   "id": "9cd87d30",
   "metadata": {},
   "outputs": [
    {
     "data": {
      "text/plain": [
       "dtype('<M8[ns]')"
      ]
     },
     "execution_count": 48,
     "metadata": {},
     "output_type": "execute_result"
    }
   ],
   "source": [
    "df[\"Date\"].dtype"
   ]
  },
  {
   "cell_type": "code",
   "execution_count": 49,
   "id": "a88db707",
   "metadata": {},
   "outputs": [],
   "source": [
    "df[\"Time of Order\"] = pd.to_datetime(df[\"Time of Order\"])\n",
    "df[\"Expected Time out\"] = pd.to_datetime(df[\"Expected Time out\"])\n",
    "df[\"Expected Time of Delivery\"] = pd.to_datetime(df[\"Expected Time of Delivery\"])"
   ]
  },
  {
   "cell_type": "code",
   "execution_count": 50,
   "id": "304b5e99",
   "metadata": {},
   "outputs": [
    {
     "data": {
      "text/plain": [
       "Date                                           datetime64[ns]\n",
       "Name of Customer                                       object\n",
       "Time of Order                                  datetime64[ns]\n",
       "Expected Time out                              datetime64[ns]\n",
       "Expected Time of Delivery                      datetime64[ns]\n",
       "Time Out Update                                        object\n",
       "Why was the Order not Dispatched in 30mins?            object\n",
       "Action Taken                                           object\n",
       "New Expected Time Out                                  object\n",
       "New Expected Time of Delivery                          object\n",
       "Discount Type                                          object\n",
       "Discount Amount                                       float64\n",
       "Mode of Payment                                        object\n",
       "Delivery Status                                        object\n",
       "Actual Time Of Delivery                                object\n",
       "Duration(minutes)                                     float64\n",
       "Customer Type                                          object\n",
       "Token pack(boneless beef)                             float64\n",
       "Token Pack (Cow Tail)                                 float64\n",
       "Token Pack (Cow Hump)                                 float64\n",
       "Token Pack (Cow Head & Neck)                          float64\n",
       "Token Pack (Cow Leg)                                  float64\n",
       "Token Pack (Agemawo)                                  float64\n",
       "Token Pack (Cow Assorted)                             float64\n",
       "Token Pack (Pomo)                                     float64\n",
       "Token Pack (Cow Minced Meat)                          float64\n",
       "Token Pack (Shaki & Roundabout)                       float64\n",
       "Value Pack (Agemawo)                                  float64\n",
       "Value Pack (Boneless Beef)                            float64\n",
       "Value Pack (Cow Head & Neck)                          float64\n",
       "Value Pack (Cow Hump)                                 float64\n",
       "Value Pack (Cow Assorted)                             float64\n",
       "Token Pack (Goat Meat)                                float64\n",
       "Token Pack (Goat Assorted)                            float64\n",
       "Token Pack (Head & Leg)                               float64\n",
       "Value Pack (Goat Meat)                                float64\n",
       "Value Pack (Chicken)                                  float64\n",
       "Token Pack (Chicken Gizzard)                          float64\n",
       "Token Pack (Chicken)                                  float64\n",
       "Value Pack (Titus)                                    float64\n",
       "Token Pack (Hake)                                     float64\n",
       "Value Pack (Hake)                                     float64\n",
       "Token Pack (Titus)                                    float64\n",
       "Value Pack (Cow Tongue)                               float64\n",
       "Agemawo 1kg                                           float64\n",
       "Boneless Beef 1kg                                     float64\n",
       "Goat Meat 1kg                                         float64\n",
       "Hake 1kg                                              float64\n",
       "Hake 1kg (Cleaned)                                    float64\n",
       "Titus 1kg                                             float64\n",
       "Titus 1kg (Cleaned)                                   float64\n",
       "Chicken 1kg                                           float64\n",
       "Cow Head & Neck 1kg                                   float64\n",
       "Naira Value                                           float64\n",
       "Fulfilment Center                                      object\n",
       "dtype: object"
      ]
     },
     "execution_count": 50,
     "metadata": {},
     "output_type": "execute_result"
    }
   ],
   "source": [
    "df.dtypes"
   ]
  },
  {
   "cell_type": "code",
   "execution_count": 51,
   "id": "f093035c",
   "metadata": {},
   "outputs": [
    {
     "data": {
      "text/plain": [
       "array(['Date', 'Name of Customer', 'Time of Order', 'Expected Time out',\n",
       "       'Expected Time of Delivery', 'Time Out Update',\n",
       "       'Why was the Order not Dispatched in 30mins?', 'Action Taken',\n",
       "       'New Expected Time Out', 'New Expected Time of Delivery',\n",
       "       'Discount Type', 'Discount Amount', 'Mode of Payment',\n",
       "       'Delivery Status', 'Actual Time Of Delivery', 'Duration(minutes)',\n",
       "       'Customer Type', 'Token pack(boneless beef)',\n",
       "       'Token Pack (Cow Tail)', 'Token Pack (Cow Hump)',\n",
       "       'Token Pack (Cow Head & Neck)', 'Token Pack (Cow Leg)',\n",
       "       'Token Pack (Agemawo)', 'Token Pack (Cow Assorted)',\n",
       "       'Token Pack (Pomo)', 'Token Pack (Cow Minced Meat)',\n",
       "       'Token Pack (Shaki & Roundabout)', 'Value Pack (Agemawo)',\n",
       "       'Value Pack (Boneless Beef)', 'Value Pack (Cow Head & Neck)',\n",
       "       'Value Pack (Cow Hump)', 'Value Pack (Cow Assorted)',\n",
       "       'Token Pack (Goat Meat)', 'Token Pack (Goat Assorted)',\n",
       "       'Token Pack (Head & Leg)', 'Value Pack (Goat Meat)',\n",
       "       'Value Pack (Chicken)', 'Token Pack (Chicken Gizzard)',\n",
       "       'Token Pack (Chicken)', 'Value Pack (Titus)', 'Token Pack (Hake)',\n",
       "       'Value Pack (Hake)', 'Token Pack (Titus)',\n",
       "       'Value Pack (Cow Tongue)', 'Agemawo 1kg', 'Boneless Beef 1kg',\n",
       "       'Goat Meat 1kg', 'Hake 1kg', 'Hake 1kg (Cleaned)', 'Titus 1kg',\n",
       "       'Titus 1kg (Cleaned)', 'Chicken 1kg', 'Cow Head & Neck 1kg',\n",
       "       'Naira Value', 'Fulfilment Center'], dtype=object)"
      ]
     },
     "execution_count": 51,
     "metadata": {},
     "output_type": "execute_result"
    }
   ],
   "source": [
    "column_names = df.columns.values #Display all the column names in the dataset\n",
    "column_names"
   ]
  },
  {
   "cell_type": "markdown",
   "id": "1f1a224c",
   "metadata": {},
   "source": [
    "From the above, it can be seen that the prodcut list starts from the 18th column to the 54th column"
   ]
  },
  {
   "cell_type": "code",
   "execution_count": 52,
   "id": "a0e04dd5",
   "metadata": {},
   "outputs": [
    {
     "data": {
      "text/plain": [
       "array(['Token pack(boneless beef)', 'Token Pack (Cow Tail)',\n",
       "       'Token Pack (Cow Hump)', 'Token Pack (Cow Head & Neck)',\n",
       "       'Token Pack (Cow Leg)', 'Token Pack (Agemawo)',\n",
       "       'Token Pack (Cow Assorted)', 'Token Pack (Pomo)',\n",
       "       'Token Pack (Cow Minced Meat)', 'Token Pack (Shaki & Roundabout)',\n",
       "       'Value Pack (Agemawo)', 'Value Pack (Boneless Beef)',\n",
       "       'Value Pack (Cow Head & Neck)', 'Value Pack (Cow Hump)',\n",
       "       'Value Pack (Cow Assorted)', 'Token Pack (Goat Meat)',\n",
       "       'Token Pack (Goat Assorted)', 'Token Pack (Head & Leg)',\n",
       "       'Value Pack (Goat Meat)', 'Value Pack (Chicken)',\n",
       "       'Token Pack (Chicken Gizzard)', 'Token Pack (Chicken)',\n",
       "       'Value Pack (Titus)', 'Token Pack (Hake)', 'Value Pack (Hake)',\n",
       "       'Token Pack (Titus)', 'Value Pack (Cow Tongue)', 'Agemawo 1kg',\n",
       "       'Boneless Beef 1kg', 'Goat Meat 1kg', 'Hake 1kg',\n",
       "       'Hake 1kg (Cleaned)', 'Titus 1kg', 'Titus 1kg (Cleaned)',\n",
       "       'Chicken 1kg', 'Cow Head & Neck 1kg'], dtype=object)"
      ]
     },
     "execution_count": 52,
     "metadata": {},
     "output_type": "execute_result"
    }
   ],
   "source": [
    "product_list = column_names[17:53]\n",
    "product_list"
   ]
  },
  {
   "cell_type": "code",
   "execution_count": 53,
   "id": "25144d4d",
   "metadata": {},
   "outputs": [],
   "source": [
    "df_sub = df.copy()\n",
    "df_sub = df_sub.iloc[:,17:54]\n",
    "df_sub\n",
    "\n",
    "df_sub.fillna(0, inplace = True)"
   ]
  },
  {
   "cell_type": "code",
   "execution_count": 54,
   "id": "0b991c1f",
   "metadata": {},
   "outputs": [
    {
     "data": {
      "text/html": [
       "<div>\n",
       "<style scoped>\n",
       "    .dataframe tbody tr th:only-of-type {\n",
       "        vertical-align: middle;\n",
       "    }\n",
       "\n",
       "    .dataframe tbody tr th {\n",
       "        vertical-align: top;\n",
       "    }\n",
       "\n",
       "    .dataframe thead th {\n",
       "        text-align: right;\n",
       "    }\n",
       "</style>\n",
       "<table border=\"1\" class=\"dataframe\">\n",
       "  <thead>\n",
       "    <tr style=\"text-align: right;\">\n",
       "      <th></th>\n",
       "      <th>Token pack(boneless beef)</th>\n",
       "      <th>Token Pack (Cow Tail)</th>\n",
       "      <th>Token Pack (Cow Hump)</th>\n",
       "      <th>Token Pack (Cow Head &amp; Neck)</th>\n",
       "      <th>Token Pack (Cow Leg)</th>\n",
       "      <th>Token Pack (Agemawo)</th>\n",
       "      <th>Token Pack (Cow Assorted)</th>\n",
       "      <th>Token Pack (Pomo)</th>\n",
       "      <th>Token Pack (Cow Minced Meat)</th>\n",
       "      <th>Token Pack (Shaki &amp; Roundabout)</th>\n",
       "      <th>...</th>\n",
       "      <th>Agemawo 1kg</th>\n",
       "      <th>Boneless Beef 1kg</th>\n",
       "      <th>Goat Meat 1kg</th>\n",
       "      <th>Hake 1kg</th>\n",
       "      <th>Hake 1kg (Cleaned)</th>\n",
       "      <th>Titus 1kg</th>\n",
       "      <th>Titus 1kg (Cleaned)</th>\n",
       "      <th>Chicken 1kg</th>\n",
       "      <th>Cow Head &amp; Neck 1kg</th>\n",
       "      <th>Naira Value</th>\n",
       "    </tr>\n",
       "  </thead>\n",
       "  <tbody>\n",
       "    <tr>\n",
       "      <th>0</th>\n",
       "      <td>0.0</td>\n",
       "      <td>0.0</td>\n",
       "      <td>0.0</td>\n",
       "      <td>0.0</td>\n",
       "      <td>0.0</td>\n",
       "      <td>0.0</td>\n",
       "      <td>0.0</td>\n",
       "      <td>0.0</td>\n",
       "      <td>0.0</td>\n",
       "      <td>0.0</td>\n",
       "      <td>...</td>\n",
       "      <td>0.0</td>\n",
       "      <td>0.0</td>\n",
       "      <td>0.0</td>\n",
       "      <td>0.0</td>\n",
       "      <td>0.0</td>\n",
       "      <td>0.0</td>\n",
       "      <td>0.0</td>\n",
       "      <td>0.0</td>\n",
       "      <td>0.0</td>\n",
       "      <td>3185.0</td>\n",
       "    </tr>\n",
       "    <tr>\n",
       "      <th>1</th>\n",
       "      <td>0.0</td>\n",
       "      <td>0.0</td>\n",
       "      <td>0.0</td>\n",
       "      <td>0.0</td>\n",
       "      <td>0.0</td>\n",
       "      <td>1.0</td>\n",
       "      <td>1.0</td>\n",
       "      <td>0.0</td>\n",
       "      <td>0.0</td>\n",
       "      <td>0.0</td>\n",
       "      <td>...</td>\n",
       "      <td>0.0</td>\n",
       "      <td>0.0</td>\n",
       "      <td>0.0</td>\n",
       "      <td>0.0</td>\n",
       "      <td>0.0</td>\n",
       "      <td>0.0</td>\n",
       "      <td>0.0</td>\n",
       "      <td>0.0</td>\n",
       "      <td>0.0</td>\n",
       "      <td>2340.0</td>\n",
       "    </tr>\n",
       "    <tr>\n",
       "      <th>2</th>\n",
       "      <td>0.0</td>\n",
       "      <td>0.0</td>\n",
       "      <td>0.0</td>\n",
       "      <td>1.0</td>\n",
       "      <td>0.0</td>\n",
       "      <td>0.0</td>\n",
       "      <td>0.0</td>\n",
       "      <td>0.0</td>\n",
       "      <td>0.0</td>\n",
       "      <td>0.0</td>\n",
       "      <td>...</td>\n",
       "      <td>0.0</td>\n",
       "      <td>0.0</td>\n",
       "      <td>0.0</td>\n",
       "      <td>0.0</td>\n",
       "      <td>0.0</td>\n",
       "      <td>0.0</td>\n",
       "      <td>0.0</td>\n",
       "      <td>0.0</td>\n",
       "      <td>0.0</td>\n",
       "      <td>2340.0</td>\n",
       "    </tr>\n",
       "    <tr>\n",
       "      <th>3</th>\n",
       "      <td>0.0</td>\n",
       "      <td>0.0</td>\n",
       "      <td>0.0</td>\n",
       "      <td>0.0</td>\n",
       "      <td>0.0</td>\n",
       "      <td>0.0</td>\n",
       "      <td>2.0</td>\n",
       "      <td>0.0</td>\n",
       "      <td>0.0</td>\n",
       "      <td>0.0</td>\n",
       "      <td>...</td>\n",
       "      <td>0.0</td>\n",
       "      <td>0.0</td>\n",
       "      <td>0.0</td>\n",
       "      <td>0.0</td>\n",
       "      <td>0.0</td>\n",
       "      <td>0.0</td>\n",
       "      <td>0.0</td>\n",
       "      <td>0.0</td>\n",
       "      <td>0.0</td>\n",
       "      <td>2340.0</td>\n",
       "    </tr>\n",
       "    <tr>\n",
       "      <th>4</th>\n",
       "      <td>0.0</td>\n",
       "      <td>0.0</td>\n",
       "      <td>0.0</td>\n",
       "      <td>0.0</td>\n",
       "      <td>0.0</td>\n",
       "      <td>0.0</td>\n",
       "      <td>0.0</td>\n",
       "      <td>0.0</td>\n",
       "      <td>0.0</td>\n",
       "      <td>0.0</td>\n",
       "      <td>...</td>\n",
       "      <td>0.0</td>\n",
       "      <td>0.0</td>\n",
       "      <td>0.0</td>\n",
       "      <td>0.0</td>\n",
       "      <td>0.0</td>\n",
       "      <td>0.0</td>\n",
       "      <td>0.0</td>\n",
       "      <td>0.0</td>\n",
       "      <td>0.0</td>\n",
       "      <td>1430.0</td>\n",
       "    </tr>\n",
       "    <tr>\n",
       "      <th>...</th>\n",
       "      <td>...</td>\n",
       "      <td>...</td>\n",
       "      <td>...</td>\n",
       "      <td>...</td>\n",
       "      <td>...</td>\n",
       "      <td>...</td>\n",
       "      <td>...</td>\n",
       "      <td>...</td>\n",
       "      <td>...</td>\n",
       "      <td>...</td>\n",
       "      <td>...</td>\n",
       "      <td>...</td>\n",
       "      <td>...</td>\n",
       "      <td>...</td>\n",
       "      <td>...</td>\n",
       "      <td>...</td>\n",
       "      <td>...</td>\n",
       "      <td>...</td>\n",
       "      <td>...</td>\n",
       "      <td>...</td>\n",
       "      <td>...</td>\n",
       "    </tr>\n",
       "    <tr>\n",
       "      <th>295</th>\n",
       "      <td>0.0</td>\n",
       "      <td>0.0</td>\n",
       "      <td>0.0</td>\n",
       "      <td>0.0</td>\n",
       "      <td>0.0</td>\n",
       "      <td>0.0</td>\n",
       "      <td>0.0</td>\n",
       "      <td>0.0</td>\n",
       "      <td>0.0</td>\n",
       "      <td>0.0</td>\n",
       "      <td>...</td>\n",
       "      <td>0.0</td>\n",
       "      <td>0.0</td>\n",
       "      <td>0.0</td>\n",
       "      <td>0.0</td>\n",
       "      <td>0.0</td>\n",
       "      <td>0.0</td>\n",
       "      <td>0.0</td>\n",
       "      <td>0.0</td>\n",
       "      <td>0.0</td>\n",
       "      <td>2340.0</td>\n",
       "    </tr>\n",
       "    <tr>\n",
       "      <th>296</th>\n",
       "      <td>0.0</td>\n",
       "      <td>3.0</td>\n",
       "      <td>0.0</td>\n",
       "      <td>0.0</td>\n",
       "      <td>0.0</td>\n",
       "      <td>0.0</td>\n",
       "      <td>0.0</td>\n",
       "      <td>0.0</td>\n",
       "      <td>0.0</td>\n",
       "      <td>0.0</td>\n",
       "      <td>...</td>\n",
       "      <td>0.0</td>\n",
       "      <td>0.0</td>\n",
       "      <td>0.0</td>\n",
       "      <td>0.0</td>\n",
       "      <td>0.0</td>\n",
       "      <td>0.0</td>\n",
       "      <td>0.0</td>\n",
       "      <td>0.0</td>\n",
       "      <td>0.0</td>\n",
       "      <td>49920.0</td>\n",
       "    </tr>\n",
       "    <tr>\n",
       "      <th>297</th>\n",
       "      <td>0.0</td>\n",
       "      <td>0.0</td>\n",
       "      <td>0.0</td>\n",
       "      <td>0.0</td>\n",
       "      <td>0.0</td>\n",
       "      <td>0.0</td>\n",
       "      <td>0.0</td>\n",
       "      <td>0.0</td>\n",
       "      <td>0.0</td>\n",
       "      <td>0.0</td>\n",
       "      <td>...</td>\n",
       "      <td>0.0</td>\n",
       "      <td>0.0</td>\n",
       "      <td>0.0</td>\n",
       "      <td>0.0</td>\n",
       "      <td>0.0</td>\n",
       "      <td>0.0</td>\n",
       "      <td>0.0</td>\n",
       "      <td>0.0</td>\n",
       "      <td>0.0</td>\n",
       "      <td>4810.0</td>\n",
       "    </tr>\n",
       "    <tr>\n",
       "      <th>298</th>\n",
       "      <td>0.0</td>\n",
       "      <td>0.0</td>\n",
       "      <td>0.0</td>\n",
       "      <td>0.0</td>\n",
       "      <td>0.0</td>\n",
       "      <td>0.0</td>\n",
       "      <td>0.0</td>\n",
       "      <td>0.0</td>\n",
       "      <td>0.0</td>\n",
       "      <td>1.0</td>\n",
       "      <td>...</td>\n",
       "      <td>0.0</td>\n",
       "      <td>0.0</td>\n",
       "      <td>0.0</td>\n",
       "      <td>0.0</td>\n",
       "      <td>0.0</td>\n",
       "      <td>0.0</td>\n",
       "      <td>0.0</td>\n",
       "      <td>0.0</td>\n",
       "      <td>0.0</td>\n",
       "      <td>3770.0</td>\n",
       "    </tr>\n",
       "    <tr>\n",
       "      <th>299</th>\n",
       "      <td>0.0</td>\n",
       "      <td>0.0</td>\n",
       "      <td>0.0</td>\n",
       "      <td>0.0</td>\n",
       "      <td>0.0</td>\n",
       "      <td>0.0</td>\n",
       "      <td>0.0</td>\n",
       "      <td>0.0</td>\n",
       "      <td>0.0</td>\n",
       "      <td>0.0</td>\n",
       "      <td>...</td>\n",
       "      <td>0.0</td>\n",
       "      <td>0.0</td>\n",
       "      <td>0.0</td>\n",
       "      <td>0.0</td>\n",
       "      <td>0.0</td>\n",
       "      <td>0.0</td>\n",
       "      <td>0.0</td>\n",
       "      <td>0.0</td>\n",
       "      <td>0.0</td>\n",
       "      <td>3510.0</td>\n",
       "    </tr>\n",
       "  </tbody>\n",
       "</table>\n",
       "<p>299 rows × 37 columns</p>\n",
       "</div>"
      ],
      "text/plain": [
       "     Token pack(boneless beef)  Token Pack (Cow Tail)  Token Pack (Cow Hump)  \\\n",
       "0                          0.0                    0.0                    0.0   \n",
       "1                          0.0                    0.0                    0.0   \n",
       "2                          0.0                    0.0                    0.0   \n",
       "3                          0.0                    0.0                    0.0   \n",
       "4                          0.0                    0.0                    0.0   \n",
       "..                         ...                    ...                    ...   \n",
       "295                        0.0                    0.0                    0.0   \n",
       "296                        0.0                    3.0                    0.0   \n",
       "297                        0.0                    0.0                    0.0   \n",
       "298                        0.0                    0.0                    0.0   \n",
       "299                        0.0                    0.0                    0.0   \n",
       "\n",
       "     Token Pack (Cow Head & Neck)  Token Pack (Cow Leg)  Token Pack (Agemawo)  \\\n",
       "0                             0.0                   0.0                   0.0   \n",
       "1                             0.0                   0.0                   1.0   \n",
       "2                             1.0                   0.0                   0.0   \n",
       "3                             0.0                   0.0                   0.0   \n",
       "4                             0.0                   0.0                   0.0   \n",
       "..                            ...                   ...                   ...   \n",
       "295                           0.0                   0.0                   0.0   \n",
       "296                           0.0                   0.0                   0.0   \n",
       "297                           0.0                   0.0                   0.0   \n",
       "298                           0.0                   0.0                   0.0   \n",
       "299                           0.0                   0.0                   0.0   \n",
       "\n",
       "     Token Pack (Cow Assorted)  Token Pack (Pomo)  \\\n",
       "0                          0.0                0.0   \n",
       "1                          1.0                0.0   \n",
       "2                          0.0                0.0   \n",
       "3                          2.0                0.0   \n",
       "4                          0.0                0.0   \n",
       "..                         ...                ...   \n",
       "295                        0.0                0.0   \n",
       "296                        0.0                0.0   \n",
       "297                        0.0                0.0   \n",
       "298                        0.0                0.0   \n",
       "299                        0.0                0.0   \n",
       "\n",
       "     Token Pack (Cow Minced Meat)  Token Pack (Shaki & Roundabout)  ...  \\\n",
       "0                             0.0                              0.0  ...   \n",
       "1                             0.0                              0.0  ...   \n",
       "2                             0.0                              0.0  ...   \n",
       "3                             0.0                              0.0  ...   \n",
       "4                             0.0                              0.0  ...   \n",
       "..                            ...                              ...  ...   \n",
       "295                           0.0                              0.0  ...   \n",
       "296                           0.0                              0.0  ...   \n",
       "297                           0.0                              0.0  ...   \n",
       "298                           0.0                              1.0  ...   \n",
       "299                           0.0                              0.0  ...   \n",
       "\n",
       "     Agemawo 1kg  Boneless Beef 1kg  Goat Meat 1kg  Hake 1kg  \\\n",
       "0            0.0                0.0            0.0       0.0   \n",
       "1            0.0                0.0            0.0       0.0   \n",
       "2            0.0                0.0            0.0       0.0   \n",
       "3            0.0                0.0            0.0       0.0   \n",
       "4            0.0                0.0            0.0       0.0   \n",
       "..           ...                ...            ...       ...   \n",
       "295          0.0                0.0            0.0       0.0   \n",
       "296          0.0                0.0            0.0       0.0   \n",
       "297          0.0                0.0            0.0       0.0   \n",
       "298          0.0                0.0            0.0       0.0   \n",
       "299          0.0                0.0            0.0       0.0   \n",
       "\n",
       "     Hake 1kg (Cleaned)  Titus 1kg  Titus 1kg (Cleaned)  Chicken 1kg  \\\n",
       "0                   0.0        0.0                  0.0          0.0   \n",
       "1                   0.0        0.0                  0.0          0.0   \n",
       "2                   0.0        0.0                  0.0          0.0   \n",
       "3                   0.0        0.0                  0.0          0.0   \n",
       "4                   0.0        0.0                  0.0          0.0   \n",
       "..                  ...        ...                  ...          ...   \n",
       "295                 0.0        0.0                  0.0          0.0   \n",
       "296                 0.0        0.0                  0.0          0.0   \n",
       "297                 0.0        0.0                  0.0          0.0   \n",
       "298                 0.0        0.0                  0.0          0.0   \n",
       "299                 0.0        0.0                  0.0          0.0   \n",
       "\n",
       "     Cow Head & Neck 1kg  Naira Value  \n",
       "0                    0.0       3185.0  \n",
       "1                    0.0       2340.0  \n",
       "2                    0.0       2340.0  \n",
       "3                    0.0       2340.0  \n",
       "4                    0.0       1430.0  \n",
       "..                   ...          ...  \n",
       "295                  0.0       2340.0  \n",
       "296                  0.0      49920.0  \n",
       "297                  0.0       4810.0  \n",
       "298                  0.0       3770.0  \n",
       "299                  0.0       3510.0  \n",
       "\n",
       "[299 rows x 37 columns]"
      ]
     },
     "execution_count": 54,
     "metadata": {},
     "output_type": "execute_result"
    }
   ],
   "source": [
    "df_sub"
   ]
  },
  {
   "cell_type": "code",
   "execution_count": 55,
   "id": "61a32569",
   "metadata": {},
   "outputs": [
    {
     "data": {
      "text/html": [
       "<div>\n",
       "<style scoped>\n",
       "    .dataframe tbody tr th:only-of-type {\n",
       "        vertical-align: middle;\n",
       "    }\n",
       "\n",
       "    .dataframe tbody tr th {\n",
       "        vertical-align: top;\n",
       "    }\n",
       "\n",
       "    .dataframe thead th {\n",
       "        text-align: right;\n",
       "    }\n",
       "</style>\n",
       "<table border=\"1\" class=\"dataframe\">\n",
       "  <thead>\n",
       "    <tr style=\"text-align: right;\">\n",
       "      <th></th>\n",
       "      <th>Token pack(boneless beef)</th>\n",
       "      <th>Token Pack (Cow Tail)</th>\n",
       "      <th>Token Pack (Cow Hump)</th>\n",
       "      <th>Token Pack (Cow Head &amp; Neck)</th>\n",
       "      <th>Token Pack (Cow Leg)</th>\n",
       "      <th>Token Pack (Agemawo)</th>\n",
       "      <th>Token Pack (Cow Assorted)</th>\n",
       "      <th>Token Pack (Pomo)</th>\n",
       "      <th>Token Pack (Cow Minced Meat)</th>\n",
       "      <th>Token Pack (Shaki &amp; Roundabout)</th>\n",
       "      <th>...</th>\n",
       "      <th>Agemawo 1kg</th>\n",
       "      <th>Boneless Beef 1kg</th>\n",
       "      <th>Goat Meat 1kg</th>\n",
       "      <th>Hake 1kg</th>\n",
       "      <th>Hake 1kg (Cleaned)</th>\n",
       "      <th>Titus 1kg</th>\n",
       "      <th>Titus 1kg (Cleaned)</th>\n",
       "      <th>Chicken 1kg</th>\n",
       "      <th>Cow Head &amp; Neck 1kg</th>\n",
       "      <th>Naira Value</th>\n",
       "    </tr>\n",
       "  </thead>\n",
       "  <tbody>\n",
       "    <tr>\n",
       "      <th>0</th>\n",
       "      <td>0.0</td>\n",
       "      <td>0.0</td>\n",
       "      <td>0.0</td>\n",
       "      <td>0.0</td>\n",
       "      <td>0.0</td>\n",
       "      <td>0.0</td>\n",
       "      <td>0.0</td>\n",
       "      <td>0.0</td>\n",
       "      <td>0.0</td>\n",
       "      <td>0.0</td>\n",
       "      <td>...</td>\n",
       "      <td>0.0</td>\n",
       "      <td>0.0</td>\n",
       "      <td>0.0</td>\n",
       "      <td>0.0</td>\n",
       "      <td>0.0</td>\n",
       "      <td>0.0</td>\n",
       "      <td>0.0</td>\n",
       "      <td>0.0</td>\n",
       "      <td>0.0</td>\n",
       "      <td>3185.0</td>\n",
       "    </tr>\n",
       "    <tr>\n",
       "      <th>1</th>\n",
       "      <td>0.0</td>\n",
       "      <td>0.0</td>\n",
       "      <td>0.0</td>\n",
       "      <td>0.0</td>\n",
       "      <td>0.0</td>\n",
       "      <td>1.0</td>\n",
       "      <td>1.0</td>\n",
       "      <td>0.0</td>\n",
       "      <td>0.0</td>\n",
       "      <td>0.0</td>\n",
       "      <td>...</td>\n",
       "      <td>0.0</td>\n",
       "      <td>0.0</td>\n",
       "      <td>0.0</td>\n",
       "      <td>0.0</td>\n",
       "      <td>0.0</td>\n",
       "      <td>0.0</td>\n",
       "      <td>0.0</td>\n",
       "      <td>0.0</td>\n",
       "      <td>0.0</td>\n",
       "      <td>2340.0</td>\n",
       "    </tr>\n",
       "    <tr>\n",
       "      <th>2</th>\n",
       "      <td>0.0</td>\n",
       "      <td>0.0</td>\n",
       "      <td>0.0</td>\n",
       "      <td>1.0</td>\n",
       "      <td>0.0</td>\n",
       "      <td>0.0</td>\n",
       "      <td>0.0</td>\n",
       "      <td>0.0</td>\n",
       "      <td>0.0</td>\n",
       "      <td>0.0</td>\n",
       "      <td>...</td>\n",
       "      <td>0.0</td>\n",
       "      <td>0.0</td>\n",
       "      <td>0.0</td>\n",
       "      <td>0.0</td>\n",
       "      <td>0.0</td>\n",
       "      <td>0.0</td>\n",
       "      <td>0.0</td>\n",
       "      <td>0.0</td>\n",
       "      <td>0.0</td>\n",
       "      <td>2340.0</td>\n",
       "    </tr>\n",
       "    <tr>\n",
       "      <th>3</th>\n",
       "      <td>0.0</td>\n",
       "      <td>0.0</td>\n",
       "      <td>0.0</td>\n",
       "      <td>0.0</td>\n",
       "      <td>0.0</td>\n",
       "      <td>0.0</td>\n",
       "      <td>2.0</td>\n",
       "      <td>0.0</td>\n",
       "      <td>0.0</td>\n",
       "      <td>0.0</td>\n",
       "      <td>...</td>\n",
       "      <td>0.0</td>\n",
       "      <td>0.0</td>\n",
       "      <td>0.0</td>\n",
       "      <td>0.0</td>\n",
       "      <td>0.0</td>\n",
       "      <td>0.0</td>\n",
       "      <td>0.0</td>\n",
       "      <td>0.0</td>\n",
       "      <td>0.0</td>\n",
       "      <td>2340.0</td>\n",
       "    </tr>\n",
       "    <tr>\n",
       "      <th>4</th>\n",
       "      <td>0.0</td>\n",
       "      <td>0.0</td>\n",
       "      <td>0.0</td>\n",
       "      <td>0.0</td>\n",
       "      <td>0.0</td>\n",
       "      <td>0.0</td>\n",
       "      <td>0.0</td>\n",
       "      <td>0.0</td>\n",
       "      <td>0.0</td>\n",
       "      <td>0.0</td>\n",
       "      <td>...</td>\n",
       "      <td>0.0</td>\n",
       "      <td>0.0</td>\n",
       "      <td>0.0</td>\n",
       "      <td>0.0</td>\n",
       "      <td>0.0</td>\n",
       "      <td>0.0</td>\n",
       "      <td>0.0</td>\n",
       "      <td>0.0</td>\n",
       "      <td>0.0</td>\n",
       "      <td>1430.0</td>\n",
       "    </tr>\n",
       "    <tr>\n",
       "      <th>...</th>\n",
       "      <td>...</td>\n",
       "      <td>...</td>\n",
       "      <td>...</td>\n",
       "      <td>...</td>\n",
       "      <td>...</td>\n",
       "      <td>...</td>\n",
       "      <td>...</td>\n",
       "      <td>...</td>\n",
       "      <td>...</td>\n",
       "      <td>...</td>\n",
       "      <td>...</td>\n",
       "      <td>...</td>\n",
       "      <td>...</td>\n",
       "      <td>...</td>\n",
       "      <td>...</td>\n",
       "      <td>...</td>\n",
       "      <td>...</td>\n",
       "      <td>...</td>\n",
       "      <td>...</td>\n",
       "      <td>...</td>\n",
       "      <td>...</td>\n",
       "    </tr>\n",
       "    <tr>\n",
       "      <th>295</th>\n",
       "      <td>0.0</td>\n",
       "      <td>0.0</td>\n",
       "      <td>0.0</td>\n",
       "      <td>0.0</td>\n",
       "      <td>0.0</td>\n",
       "      <td>0.0</td>\n",
       "      <td>0.0</td>\n",
       "      <td>0.0</td>\n",
       "      <td>0.0</td>\n",
       "      <td>0.0</td>\n",
       "      <td>...</td>\n",
       "      <td>0.0</td>\n",
       "      <td>0.0</td>\n",
       "      <td>0.0</td>\n",
       "      <td>0.0</td>\n",
       "      <td>0.0</td>\n",
       "      <td>0.0</td>\n",
       "      <td>0.0</td>\n",
       "      <td>0.0</td>\n",
       "      <td>0.0</td>\n",
       "      <td>2340.0</td>\n",
       "    </tr>\n",
       "    <tr>\n",
       "      <th>296</th>\n",
       "      <td>0.0</td>\n",
       "      <td>3.0</td>\n",
       "      <td>0.0</td>\n",
       "      <td>0.0</td>\n",
       "      <td>0.0</td>\n",
       "      <td>0.0</td>\n",
       "      <td>0.0</td>\n",
       "      <td>0.0</td>\n",
       "      <td>0.0</td>\n",
       "      <td>0.0</td>\n",
       "      <td>...</td>\n",
       "      <td>0.0</td>\n",
       "      <td>0.0</td>\n",
       "      <td>0.0</td>\n",
       "      <td>0.0</td>\n",
       "      <td>0.0</td>\n",
       "      <td>0.0</td>\n",
       "      <td>0.0</td>\n",
       "      <td>0.0</td>\n",
       "      <td>0.0</td>\n",
       "      <td>49920.0</td>\n",
       "    </tr>\n",
       "    <tr>\n",
       "      <th>297</th>\n",
       "      <td>0.0</td>\n",
       "      <td>0.0</td>\n",
       "      <td>0.0</td>\n",
       "      <td>0.0</td>\n",
       "      <td>0.0</td>\n",
       "      <td>0.0</td>\n",
       "      <td>0.0</td>\n",
       "      <td>0.0</td>\n",
       "      <td>0.0</td>\n",
       "      <td>0.0</td>\n",
       "      <td>...</td>\n",
       "      <td>0.0</td>\n",
       "      <td>0.0</td>\n",
       "      <td>0.0</td>\n",
       "      <td>0.0</td>\n",
       "      <td>0.0</td>\n",
       "      <td>0.0</td>\n",
       "      <td>0.0</td>\n",
       "      <td>0.0</td>\n",
       "      <td>0.0</td>\n",
       "      <td>4810.0</td>\n",
       "    </tr>\n",
       "    <tr>\n",
       "      <th>298</th>\n",
       "      <td>0.0</td>\n",
       "      <td>0.0</td>\n",
       "      <td>0.0</td>\n",
       "      <td>0.0</td>\n",
       "      <td>0.0</td>\n",
       "      <td>0.0</td>\n",
       "      <td>0.0</td>\n",
       "      <td>0.0</td>\n",
       "      <td>0.0</td>\n",
       "      <td>1.0</td>\n",
       "      <td>...</td>\n",
       "      <td>0.0</td>\n",
       "      <td>0.0</td>\n",
       "      <td>0.0</td>\n",
       "      <td>0.0</td>\n",
       "      <td>0.0</td>\n",
       "      <td>0.0</td>\n",
       "      <td>0.0</td>\n",
       "      <td>0.0</td>\n",
       "      <td>0.0</td>\n",
       "      <td>3770.0</td>\n",
       "    </tr>\n",
       "    <tr>\n",
       "      <th>299</th>\n",
       "      <td>0.0</td>\n",
       "      <td>0.0</td>\n",
       "      <td>0.0</td>\n",
       "      <td>0.0</td>\n",
       "      <td>0.0</td>\n",
       "      <td>0.0</td>\n",
       "      <td>0.0</td>\n",
       "      <td>0.0</td>\n",
       "      <td>0.0</td>\n",
       "      <td>0.0</td>\n",
       "      <td>...</td>\n",
       "      <td>0.0</td>\n",
       "      <td>0.0</td>\n",
       "      <td>0.0</td>\n",
       "      <td>0.0</td>\n",
       "      <td>0.0</td>\n",
       "      <td>0.0</td>\n",
       "      <td>0.0</td>\n",
       "      <td>0.0</td>\n",
       "      <td>0.0</td>\n",
       "      <td>3510.0</td>\n",
       "    </tr>\n",
       "  </tbody>\n",
       "</table>\n",
       "<p>299 rows × 37 columns</p>\n",
       "</div>"
      ],
      "text/plain": [
       "     Token pack(boneless beef)  Token Pack (Cow Tail)  Token Pack (Cow Hump)  \\\n",
       "0                          0.0                    0.0                    0.0   \n",
       "1                          0.0                    0.0                    0.0   \n",
       "2                          0.0                    0.0                    0.0   \n",
       "3                          0.0                    0.0                    0.0   \n",
       "4                          0.0                    0.0                    0.0   \n",
       "..                         ...                    ...                    ...   \n",
       "295                        0.0                    0.0                    0.0   \n",
       "296                        0.0                    3.0                    0.0   \n",
       "297                        0.0                    0.0                    0.0   \n",
       "298                        0.0                    0.0                    0.0   \n",
       "299                        0.0                    0.0                    0.0   \n",
       "\n",
       "     Token Pack (Cow Head & Neck)  Token Pack (Cow Leg)  Token Pack (Agemawo)  \\\n",
       "0                             0.0                   0.0                   0.0   \n",
       "1                             0.0                   0.0                   1.0   \n",
       "2                             1.0                   0.0                   0.0   \n",
       "3                             0.0                   0.0                   0.0   \n",
       "4                             0.0                   0.0                   0.0   \n",
       "..                            ...                   ...                   ...   \n",
       "295                           0.0                   0.0                   0.0   \n",
       "296                           0.0                   0.0                   0.0   \n",
       "297                           0.0                   0.0                   0.0   \n",
       "298                           0.0                   0.0                   0.0   \n",
       "299                           0.0                   0.0                   0.0   \n",
       "\n",
       "     Token Pack (Cow Assorted)  Token Pack (Pomo)  \\\n",
       "0                          0.0                0.0   \n",
       "1                          1.0                0.0   \n",
       "2                          0.0                0.0   \n",
       "3                          2.0                0.0   \n",
       "4                          0.0                0.0   \n",
       "..                         ...                ...   \n",
       "295                        0.0                0.0   \n",
       "296                        0.0                0.0   \n",
       "297                        0.0                0.0   \n",
       "298                        0.0                0.0   \n",
       "299                        0.0                0.0   \n",
       "\n",
       "     Token Pack (Cow Minced Meat)  Token Pack (Shaki & Roundabout)  ...  \\\n",
       "0                             0.0                              0.0  ...   \n",
       "1                             0.0                              0.0  ...   \n",
       "2                             0.0                              0.0  ...   \n",
       "3                             0.0                              0.0  ...   \n",
       "4                             0.0                              0.0  ...   \n",
       "..                            ...                              ...  ...   \n",
       "295                           0.0                              0.0  ...   \n",
       "296                           0.0                              0.0  ...   \n",
       "297                           0.0                              0.0  ...   \n",
       "298                           0.0                              1.0  ...   \n",
       "299                           0.0                              0.0  ...   \n",
       "\n",
       "     Agemawo 1kg  Boneless Beef 1kg  Goat Meat 1kg  Hake 1kg  \\\n",
       "0            0.0                0.0            0.0       0.0   \n",
       "1            0.0                0.0            0.0       0.0   \n",
       "2            0.0                0.0            0.0       0.0   \n",
       "3            0.0                0.0            0.0       0.0   \n",
       "4            0.0                0.0            0.0       0.0   \n",
       "..           ...                ...            ...       ...   \n",
       "295          0.0                0.0            0.0       0.0   \n",
       "296          0.0                0.0            0.0       0.0   \n",
       "297          0.0                0.0            0.0       0.0   \n",
       "298          0.0                0.0            0.0       0.0   \n",
       "299          0.0                0.0            0.0       0.0   \n",
       "\n",
       "     Hake 1kg (Cleaned)  Titus 1kg  Titus 1kg (Cleaned)  Chicken 1kg  \\\n",
       "0                   0.0        0.0                  0.0          0.0   \n",
       "1                   0.0        0.0                  0.0          0.0   \n",
       "2                   0.0        0.0                  0.0          0.0   \n",
       "3                   0.0        0.0                  0.0          0.0   \n",
       "4                   0.0        0.0                  0.0          0.0   \n",
       "..                  ...        ...                  ...          ...   \n",
       "295                 0.0        0.0                  0.0          0.0   \n",
       "296                 0.0        0.0                  0.0          0.0   \n",
       "297                 0.0        0.0                  0.0          0.0   \n",
       "298                 0.0        0.0                  0.0          0.0   \n",
       "299                 0.0        0.0                  0.0          0.0   \n",
       "\n",
       "     Cow Head & Neck 1kg  Naira Value  \n",
       "0                    0.0       3185.0  \n",
       "1                    0.0       2340.0  \n",
       "2                    0.0       2340.0  \n",
       "3                    0.0       2340.0  \n",
       "4                    0.0       1430.0  \n",
       "..                   ...          ...  \n",
       "295                  0.0       2340.0  \n",
       "296                  0.0      49920.0  \n",
       "297                  0.0       4810.0  \n",
       "298                  0.0       3770.0  \n",
       "299                  0.0       3510.0  \n",
       "\n",
       "[299 rows x 37 columns]"
      ]
     },
     "execution_count": 55,
     "metadata": {},
     "output_type": "execute_result"
    }
   ],
   "source": [
    "df_sub"
   ]
  },
  {
   "cell_type": "code",
   "execution_count": 56,
   "id": "f414c4e7",
   "metadata": {
    "scrolled": true
   },
   "outputs": [
    {
     "data": {
      "text/html": [
       "<div>\n",
       "<style scoped>\n",
       "    .dataframe tbody tr th:only-of-type {\n",
       "        vertical-align: middle;\n",
       "    }\n",
       "\n",
       "    .dataframe tbody tr th {\n",
       "        vertical-align: top;\n",
       "    }\n",
       "\n",
       "    .dataframe thead th {\n",
       "        text-align: right;\n",
       "    }\n",
       "</style>\n",
       "<table border=\"1\" class=\"dataframe\">\n",
       "  <thead>\n",
       "    <tr style=\"text-align: right;\">\n",
       "      <th></th>\n",
       "      <th>Products</th>\n",
       "      <th>Packs sold</th>\n",
       "    </tr>\n",
       "  </thead>\n",
       "  <tbody>\n",
       "    <tr>\n",
       "      <th>0</th>\n",
       "      <td>Token pack(boneless beef)</td>\n",
       "      <td>22.0</td>\n",
       "    </tr>\n",
       "    <tr>\n",
       "      <th>1</th>\n",
       "      <td>Token Pack (Cow Tail)</td>\n",
       "      <td>15.0</td>\n",
       "    </tr>\n",
       "    <tr>\n",
       "      <th>2</th>\n",
       "      <td>Token Pack (Cow Hump)</td>\n",
       "      <td>7.0</td>\n",
       "    </tr>\n",
       "    <tr>\n",
       "      <th>3</th>\n",
       "      <td>Token Pack (Cow Head &amp; Neck)</td>\n",
       "      <td>11.0</td>\n",
       "    </tr>\n",
       "    <tr>\n",
       "      <th>4</th>\n",
       "      <td>Token Pack (Cow Leg)</td>\n",
       "      <td>6.0</td>\n",
       "    </tr>\n",
       "    <tr>\n",
       "      <th>5</th>\n",
       "      <td>Token Pack (Agemawo)</td>\n",
       "      <td>47.0</td>\n",
       "    </tr>\n",
       "    <tr>\n",
       "      <th>6</th>\n",
       "      <td>Token Pack (Cow Assorted)</td>\n",
       "      <td>19.0</td>\n",
       "    </tr>\n",
       "    <tr>\n",
       "      <th>7</th>\n",
       "      <td>Token Pack (Pomo)</td>\n",
       "      <td>3.0</td>\n",
       "    </tr>\n",
       "    <tr>\n",
       "      <th>8</th>\n",
       "      <td>Token Pack (Cow Minced Meat)</td>\n",
       "      <td>1.0</td>\n",
       "    </tr>\n",
       "    <tr>\n",
       "      <th>9</th>\n",
       "      <td>Token Pack (Shaki &amp; Roundabout)</td>\n",
       "      <td>12.0</td>\n",
       "    </tr>\n",
       "    <tr>\n",
       "      <th>10</th>\n",
       "      <td>Value Pack (Agemawo)</td>\n",
       "      <td>35.0</td>\n",
       "    </tr>\n",
       "    <tr>\n",
       "      <th>11</th>\n",
       "      <td>Value Pack (Boneless Beef)</td>\n",
       "      <td>14.0</td>\n",
       "    </tr>\n",
       "    <tr>\n",
       "      <th>12</th>\n",
       "      <td>Value Pack (Cow Head &amp; Neck)</td>\n",
       "      <td>9.0</td>\n",
       "    </tr>\n",
       "    <tr>\n",
       "      <th>13</th>\n",
       "      <td>Value Pack (Cow Hump)</td>\n",
       "      <td>1.0</td>\n",
       "    </tr>\n",
       "    <tr>\n",
       "      <th>14</th>\n",
       "      <td>Value Pack (Cow Assorted)</td>\n",
       "      <td>17.0</td>\n",
       "    </tr>\n",
       "    <tr>\n",
       "      <th>15</th>\n",
       "      <td>Token Pack (Goat Meat)</td>\n",
       "      <td>4.0</td>\n",
       "    </tr>\n",
       "    <tr>\n",
       "      <th>16</th>\n",
       "      <td>Token Pack (Goat Assorted)</td>\n",
       "      <td>4.0</td>\n",
       "    </tr>\n",
       "    <tr>\n",
       "      <th>17</th>\n",
       "      <td>Token Pack (Head &amp; Leg)</td>\n",
       "      <td>0.0</td>\n",
       "    </tr>\n",
       "    <tr>\n",
       "      <th>18</th>\n",
       "      <td>Value Pack (Goat Meat)</td>\n",
       "      <td>5.0</td>\n",
       "    </tr>\n",
       "    <tr>\n",
       "      <th>19</th>\n",
       "      <td>Value Pack (Chicken)</td>\n",
       "      <td>12.0</td>\n",
       "    </tr>\n",
       "    <tr>\n",
       "      <th>20</th>\n",
       "      <td>Token Pack (Chicken Gizzard)</td>\n",
       "      <td>19.0</td>\n",
       "    </tr>\n",
       "    <tr>\n",
       "      <th>21</th>\n",
       "      <td>Token Pack (Chicken)</td>\n",
       "      <td>23.0</td>\n",
       "    </tr>\n",
       "    <tr>\n",
       "      <th>22</th>\n",
       "      <td>Value Pack (Titus)</td>\n",
       "      <td>3.0</td>\n",
       "    </tr>\n",
       "    <tr>\n",
       "      <th>23</th>\n",
       "      <td>Token Pack (Hake)</td>\n",
       "      <td>9.0</td>\n",
       "    </tr>\n",
       "    <tr>\n",
       "      <th>24</th>\n",
       "      <td>Value Pack (Hake)</td>\n",
       "      <td>12.0</td>\n",
       "    </tr>\n",
       "    <tr>\n",
       "      <th>25</th>\n",
       "      <td>Token Pack (Titus)</td>\n",
       "      <td>14.0</td>\n",
       "    </tr>\n",
       "    <tr>\n",
       "      <th>26</th>\n",
       "      <td>Value Pack (Cow Tongue)</td>\n",
       "      <td>4.0</td>\n",
       "    </tr>\n",
       "    <tr>\n",
       "      <th>27</th>\n",
       "      <td>Agemawo 1kg</td>\n",
       "      <td>7.0</td>\n",
       "    </tr>\n",
       "    <tr>\n",
       "      <th>28</th>\n",
       "      <td>Boneless Beef 1kg</td>\n",
       "      <td>2.0</td>\n",
       "    </tr>\n",
       "    <tr>\n",
       "      <th>29</th>\n",
       "      <td>Goat Meat 1kg</td>\n",
       "      <td>2.0</td>\n",
       "    </tr>\n",
       "    <tr>\n",
       "      <th>30</th>\n",
       "      <td>Hake 1kg</td>\n",
       "      <td>2.0</td>\n",
       "    </tr>\n",
       "    <tr>\n",
       "      <th>31</th>\n",
       "      <td>Hake 1kg (Cleaned)</td>\n",
       "      <td>0.0</td>\n",
       "    </tr>\n",
       "    <tr>\n",
       "      <th>32</th>\n",
       "      <td>Titus 1kg</td>\n",
       "      <td>1.0</td>\n",
       "    </tr>\n",
       "    <tr>\n",
       "      <th>33</th>\n",
       "      <td>Titus 1kg (Cleaned)</td>\n",
       "      <td>2.0</td>\n",
       "    </tr>\n",
       "    <tr>\n",
       "      <th>34</th>\n",
       "      <td>Chicken 1kg</td>\n",
       "      <td>9.0</td>\n",
       "    </tr>\n",
       "    <tr>\n",
       "      <th>35</th>\n",
       "      <td>Cow Head &amp; Neck 1kg</td>\n",
       "      <td>1.0</td>\n",
       "    </tr>\n",
       "  </tbody>\n",
       "</table>\n",
       "</div>"
      ],
      "text/plain": [
       "                           Products  Packs sold\n",
       "0         Token pack(boneless beef)        22.0\n",
       "1             Token Pack (Cow Tail)        15.0\n",
       "2             Token Pack (Cow Hump)         7.0\n",
       "3      Token Pack (Cow Head & Neck)        11.0\n",
       "4              Token Pack (Cow Leg)         6.0\n",
       "5              Token Pack (Agemawo)        47.0\n",
       "6         Token Pack (Cow Assorted)        19.0\n",
       "7                 Token Pack (Pomo)         3.0\n",
       "8      Token Pack (Cow Minced Meat)         1.0\n",
       "9   Token Pack (Shaki & Roundabout)        12.0\n",
       "10             Value Pack (Agemawo)        35.0\n",
       "11       Value Pack (Boneless Beef)        14.0\n",
       "12     Value Pack (Cow Head & Neck)         9.0\n",
       "13            Value Pack (Cow Hump)         1.0\n",
       "14        Value Pack (Cow Assorted)        17.0\n",
       "15           Token Pack (Goat Meat)         4.0\n",
       "16       Token Pack (Goat Assorted)         4.0\n",
       "17          Token Pack (Head & Leg)         0.0\n",
       "18           Value Pack (Goat Meat)         5.0\n",
       "19             Value Pack (Chicken)        12.0\n",
       "20     Token Pack (Chicken Gizzard)        19.0\n",
       "21             Token Pack (Chicken)        23.0\n",
       "22               Value Pack (Titus)         3.0\n",
       "23                Token Pack (Hake)         9.0\n",
       "24                Value Pack (Hake)        12.0\n",
       "25               Token Pack (Titus)        14.0\n",
       "26          Value Pack (Cow Tongue)         4.0\n",
       "27                      Agemawo 1kg         7.0\n",
       "28                Boneless Beef 1kg         2.0\n",
       "29                    Goat Meat 1kg         2.0\n",
       "30                         Hake 1kg         2.0\n",
       "31               Hake 1kg (Cleaned)         0.0\n",
       "32                        Titus 1kg         1.0\n",
       "33              Titus 1kg (Cleaned)         2.0\n",
       "34                      Chicken 1kg         9.0\n",
       "35              Cow Head & Neck 1kg         1.0"
      ]
     },
     "execution_count": 56,
     "metadata": {},
     "output_type": "execute_result"
    }
   ],
   "source": [
    "prod_sum = df_sub.sum(axis=0)[0:-1]\n",
    "products=(prod_sum.index).values\n",
    "packs_sold=prod_sum.values\n",
    "\n",
    "dataframe = {\"Products\":products,\"Packs sold\":packs_sold}\n",
    "\n",
    "prod_df = pd.DataFrame(dataframe)\n",
    "prod_df\n",
    "\n",
    "# print(packs_sold)"
   ]
  },
  {
   "cell_type": "code",
   "execution_count": 57,
   "id": "a3a48729",
   "metadata": {},
   "outputs": [
    {
     "data": {
      "application/vnd.plotly.v1+json": {
       "config": {
        "plotlyServerURL": "https://plot.ly"
       },
       "data": [
        {
         "alignmentgroup": "True",
         "hovertemplate": "Products=%{x}<br>No. of packs sold=%{y}<extra></extra>",
         "legendgroup": "",
         "marker": {
          "color": "#636efa",
          "pattern": {
           "shape": ""
          }
         },
         "name": "",
         "offsetgroup": "",
         "orientation": "v",
         "showlegend": false,
         "textposition": "auto",
         "type": "bar",
         "x": [
          "Token pack(boneless beef)",
          "Token Pack (Cow Tail)",
          "Token Pack (Cow Hump)",
          "Token Pack (Cow Head & Neck)",
          "Token Pack (Cow Leg)",
          "Token Pack (Agemawo)",
          "Token Pack (Cow Assorted)",
          "Token Pack (Pomo)",
          "Token Pack (Cow Minced Meat)",
          "Token Pack (Shaki & Roundabout)",
          "Value Pack (Agemawo)",
          "Value Pack (Boneless Beef)",
          "Value Pack (Cow Head & Neck)",
          "Value Pack (Cow Hump)",
          "Value Pack (Cow Assorted)",
          "Token Pack (Goat Meat)",
          "Token Pack (Goat Assorted)",
          "Token Pack (Head & Leg)",
          "Value Pack (Goat Meat)",
          "Value Pack (Chicken)",
          "Token Pack (Chicken Gizzard)",
          "Token Pack (Chicken)",
          "Value Pack (Titus)",
          "Token Pack (Hake)",
          "Value Pack (Hake)",
          "Token Pack (Titus)",
          "Value Pack (Cow Tongue)",
          "Agemawo 1kg",
          "Boneless Beef 1kg",
          "Goat Meat 1kg",
          "Hake 1kg",
          "Hake 1kg (Cleaned)",
          "Titus 1kg",
          "Titus 1kg (Cleaned)",
          "Chicken 1kg",
          "Cow Head & Neck 1kg"
         ],
         "xaxis": "x",
         "y": [
          22,
          15,
          7,
          11,
          6,
          47,
          19,
          3,
          1,
          12,
          35,
          14,
          9,
          1,
          17,
          4,
          4,
          0,
          5,
          12,
          19,
          23,
          3,
          9,
          12,
          14,
          4,
          7,
          2,
          2,
          2,
          0,
          1,
          2,
          9,
          1
         ],
         "yaxis": "y"
        }
       ],
       "layout": {
        "barmode": "relative",
        "legend": {
         "tracegroupgap": 0
        },
        "template": {
         "data": {
          "bar": [
           {
            "error_x": {
             "color": "#2a3f5f"
            },
            "error_y": {
             "color": "#2a3f5f"
            },
            "marker": {
             "line": {
              "color": "#E5ECF6",
              "width": 0.5
             },
             "pattern": {
              "fillmode": "overlay",
              "size": 10,
              "solidity": 0.2
             }
            },
            "type": "bar"
           }
          ],
          "barpolar": [
           {
            "marker": {
             "line": {
              "color": "#E5ECF6",
              "width": 0.5
             },
             "pattern": {
              "fillmode": "overlay",
              "size": 10,
              "solidity": 0.2
             }
            },
            "type": "barpolar"
           }
          ],
          "carpet": [
           {
            "aaxis": {
             "endlinecolor": "#2a3f5f",
             "gridcolor": "white",
             "linecolor": "white",
             "minorgridcolor": "white",
             "startlinecolor": "#2a3f5f"
            },
            "baxis": {
             "endlinecolor": "#2a3f5f",
             "gridcolor": "white",
             "linecolor": "white",
             "minorgridcolor": "white",
             "startlinecolor": "#2a3f5f"
            },
            "type": "carpet"
           }
          ],
          "choropleth": [
           {
            "colorbar": {
             "outlinewidth": 0,
             "ticks": ""
            },
            "type": "choropleth"
           }
          ],
          "contour": [
           {
            "colorbar": {
             "outlinewidth": 0,
             "ticks": ""
            },
            "colorscale": [
             [
              0,
              "#0d0887"
             ],
             [
              0.1111111111111111,
              "#46039f"
             ],
             [
              0.2222222222222222,
              "#7201a8"
             ],
             [
              0.3333333333333333,
              "#9c179e"
             ],
             [
              0.4444444444444444,
              "#bd3786"
             ],
             [
              0.5555555555555556,
              "#d8576b"
             ],
             [
              0.6666666666666666,
              "#ed7953"
             ],
             [
              0.7777777777777778,
              "#fb9f3a"
             ],
             [
              0.8888888888888888,
              "#fdca26"
             ],
             [
              1,
              "#f0f921"
             ]
            ],
            "type": "contour"
           }
          ],
          "contourcarpet": [
           {
            "colorbar": {
             "outlinewidth": 0,
             "ticks": ""
            },
            "type": "contourcarpet"
           }
          ],
          "heatmap": [
           {
            "colorbar": {
             "outlinewidth": 0,
             "ticks": ""
            },
            "colorscale": [
             [
              0,
              "#0d0887"
             ],
             [
              0.1111111111111111,
              "#46039f"
             ],
             [
              0.2222222222222222,
              "#7201a8"
             ],
             [
              0.3333333333333333,
              "#9c179e"
             ],
             [
              0.4444444444444444,
              "#bd3786"
             ],
             [
              0.5555555555555556,
              "#d8576b"
             ],
             [
              0.6666666666666666,
              "#ed7953"
             ],
             [
              0.7777777777777778,
              "#fb9f3a"
             ],
             [
              0.8888888888888888,
              "#fdca26"
             ],
             [
              1,
              "#f0f921"
             ]
            ],
            "type": "heatmap"
           }
          ],
          "heatmapgl": [
           {
            "colorbar": {
             "outlinewidth": 0,
             "ticks": ""
            },
            "colorscale": [
             [
              0,
              "#0d0887"
             ],
             [
              0.1111111111111111,
              "#46039f"
             ],
             [
              0.2222222222222222,
              "#7201a8"
             ],
             [
              0.3333333333333333,
              "#9c179e"
             ],
             [
              0.4444444444444444,
              "#bd3786"
             ],
             [
              0.5555555555555556,
              "#d8576b"
             ],
             [
              0.6666666666666666,
              "#ed7953"
             ],
             [
              0.7777777777777778,
              "#fb9f3a"
             ],
             [
              0.8888888888888888,
              "#fdca26"
             ],
             [
              1,
              "#f0f921"
             ]
            ],
            "type": "heatmapgl"
           }
          ],
          "histogram": [
           {
            "marker": {
             "pattern": {
              "fillmode": "overlay",
              "size": 10,
              "solidity": 0.2
             }
            },
            "type": "histogram"
           }
          ],
          "histogram2d": [
           {
            "colorbar": {
             "outlinewidth": 0,
             "ticks": ""
            },
            "colorscale": [
             [
              0,
              "#0d0887"
             ],
             [
              0.1111111111111111,
              "#46039f"
             ],
             [
              0.2222222222222222,
              "#7201a8"
             ],
             [
              0.3333333333333333,
              "#9c179e"
             ],
             [
              0.4444444444444444,
              "#bd3786"
             ],
             [
              0.5555555555555556,
              "#d8576b"
             ],
             [
              0.6666666666666666,
              "#ed7953"
             ],
             [
              0.7777777777777778,
              "#fb9f3a"
             ],
             [
              0.8888888888888888,
              "#fdca26"
             ],
             [
              1,
              "#f0f921"
             ]
            ],
            "type": "histogram2d"
           }
          ],
          "histogram2dcontour": [
           {
            "colorbar": {
             "outlinewidth": 0,
             "ticks": ""
            },
            "colorscale": [
             [
              0,
              "#0d0887"
             ],
             [
              0.1111111111111111,
              "#46039f"
             ],
             [
              0.2222222222222222,
              "#7201a8"
             ],
             [
              0.3333333333333333,
              "#9c179e"
             ],
             [
              0.4444444444444444,
              "#bd3786"
             ],
             [
              0.5555555555555556,
              "#d8576b"
             ],
             [
              0.6666666666666666,
              "#ed7953"
             ],
             [
              0.7777777777777778,
              "#fb9f3a"
             ],
             [
              0.8888888888888888,
              "#fdca26"
             ],
             [
              1,
              "#f0f921"
             ]
            ],
            "type": "histogram2dcontour"
           }
          ],
          "mesh3d": [
           {
            "colorbar": {
             "outlinewidth": 0,
             "ticks": ""
            },
            "type": "mesh3d"
           }
          ],
          "parcoords": [
           {
            "line": {
             "colorbar": {
              "outlinewidth": 0,
              "ticks": ""
             }
            },
            "type": "parcoords"
           }
          ],
          "pie": [
           {
            "automargin": true,
            "type": "pie"
           }
          ],
          "scatter": [
           {
            "fillpattern": {
             "fillmode": "overlay",
             "size": 10,
             "solidity": 0.2
            },
            "type": "scatter"
           }
          ],
          "scatter3d": [
           {
            "line": {
             "colorbar": {
              "outlinewidth": 0,
              "ticks": ""
             }
            },
            "marker": {
             "colorbar": {
              "outlinewidth": 0,
              "ticks": ""
             }
            },
            "type": "scatter3d"
           }
          ],
          "scattercarpet": [
           {
            "marker": {
             "colorbar": {
              "outlinewidth": 0,
              "ticks": ""
             }
            },
            "type": "scattercarpet"
           }
          ],
          "scattergeo": [
           {
            "marker": {
             "colorbar": {
              "outlinewidth": 0,
              "ticks": ""
             }
            },
            "type": "scattergeo"
           }
          ],
          "scattergl": [
           {
            "marker": {
             "colorbar": {
              "outlinewidth": 0,
              "ticks": ""
             }
            },
            "type": "scattergl"
           }
          ],
          "scattermapbox": [
           {
            "marker": {
             "colorbar": {
              "outlinewidth": 0,
              "ticks": ""
             }
            },
            "type": "scattermapbox"
           }
          ],
          "scatterpolar": [
           {
            "marker": {
             "colorbar": {
              "outlinewidth": 0,
              "ticks": ""
             }
            },
            "type": "scatterpolar"
           }
          ],
          "scatterpolargl": [
           {
            "marker": {
             "colorbar": {
              "outlinewidth": 0,
              "ticks": ""
             }
            },
            "type": "scatterpolargl"
           }
          ],
          "scatterternary": [
           {
            "marker": {
             "colorbar": {
              "outlinewidth": 0,
              "ticks": ""
             }
            },
            "type": "scatterternary"
           }
          ],
          "surface": [
           {
            "colorbar": {
             "outlinewidth": 0,
             "ticks": ""
            },
            "colorscale": [
             [
              0,
              "#0d0887"
             ],
             [
              0.1111111111111111,
              "#46039f"
             ],
             [
              0.2222222222222222,
              "#7201a8"
             ],
             [
              0.3333333333333333,
              "#9c179e"
             ],
             [
              0.4444444444444444,
              "#bd3786"
             ],
             [
              0.5555555555555556,
              "#d8576b"
             ],
             [
              0.6666666666666666,
              "#ed7953"
             ],
             [
              0.7777777777777778,
              "#fb9f3a"
             ],
             [
              0.8888888888888888,
              "#fdca26"
             ],
             [
              1,
              "#f0f921"
             ]
            ],
            "type": "surface"
           }
          ],
          "table": [
           {
            "cells": {
             "fill": {
              "color": "#EBF0F8"
             },
             "line": {
              "color": "white"
             }
            },
            "header": {
             "fill": {
              "color": "#C8D4E3"
             },
             "line": {
              "color": "white"
             }
            },
            "type": "table"
           }
          ]
         },
         "layout": {
          "annotationdefaults": {
           "arrowcolor": "#2a3f5f",
           "arrowhead": 0,
           "arrowwidth": 1
          },
          "autotypenumbers": "strict",
          "coloraxis": {
           "colorbar": {
            "outlinewidth": 0,
            "ticks": ""
           }
          },
          "colorscale": {
           "diverging": [
            [
             0,
             "#8e0152"
            ],
            [
             0.1,
             "#c51b7d"
            ],
            [
             0.2,
             "#de77ae"
            ],
            [
             0.3,
             "#f1b6da"
            ],
            [
             0.4,
             "#fde0ef"
            ],
            [
             0.5,
             "#f7f7f7"
            ],
            [
             0.6,
             "#e6f5d0"
            ],
            [
             0.7,
             "#b8e186"
            ],
            [
             0.8,
             "#7fbc41"
            ],
            [
             0.9,
             "#4d9221"
            ],
            [
             1,
             "#276419"
            ]
           ],
           "sequential": [
            [
             0,
             "#0d0887"
            ],
            [
             0.1111111111111111,
             "#46039f"
            ],
            [
             0.2222222222222222,
             "#7201a8"
            ],
            [
             0.3333333333333333,
             "#9c179e"
            ],
            [
             0.4444444444444444,
             "#bd3786"
            ],
            [
             0.5555555555555556,
             "#d8576b"
            ],
            [
             0.6666666666666666,
             "#ed7953"
            ],
            [
             0.7777777777777778,
             "#fb9f3a"
            ],
            [
             0.8888888888888888,
             "#fdca26"
            ],
            [
             1,
             "#f0f921"
            ]
           ],
           "sequentialminus": [
            [
             0,
             "#0d0887"
            ],
            [
             0.1111111111111111,
             "#46039f"
            ],
            [
             0.2222222222222222,
             "#7201a8"
            ],
            [
             0.3333333333333333,
             "#9c179e"
            ],
            [
             0.4444444444444444,
             "#bd3786"
            ],
            [
             0.5555555555555556,
             "#d8576b"
            ],
            [
             0.6666666666666666,
             "#ed7953"
            ],
            [
             0.7777777777777778,
             "#fb9f3a"
            ],
            [
             0.8888888888888888,
             "#fdca26"
            ],
            [
             1,
             "#f0f921"
            ]
           ]
          },
          "colorway": [
           "#636efa",
           "#EF553B",
           "#00cc96",
           "#ab63fa",
           "#FFA15A",
           "#19d3f3",
           "#FF6692",
           "#B6E880",
           "#FF97FF",
           "#FECB52"
          ],
          "font": {
           "color": "#2a3f5f"
          },
          "geo": {
           "bgcolor": "white",
           "lakecolor": "white",
           "landcolor": "#E5ECF6",
           "showlakes": true,
           "showland": true,
           "subunitcolor": "white"
          },
          "hoverlabel": {
           "align": "left"
          },
          "hovermode": "closest",
          "mapbox": {
           "style": "light"
          },
          "paper_bgcolor": "white",
          "plot_bgcolor": "#E5ECF6",
          "polar": {
           "angularaxis": {
            "gridcolor": "white",
            "linecolor": "white",
            "ticks": ""
           },
           "bgcolor": "#E5ECF6",
           "radialaxis": {
            "gridcolor": "white",
            "linecolor": "white",
            "ticks": ""
           }
          },
          "scene": {
           "xaxis": {
            "backgroundcolor": "#E5ECF6",
            "gridcolor": "white",
            "gridwidth": 2,
            "linecolor": "white",
            "showbackground": true,
            "ticks": "",
            "zerolinecolor": "white"
           },
           "yaxis": {
            "backgroundcolor": "#E5ECF6",
            "gridcolor": "white",
            "gridwidth": 2,
            "linecolor": "white",
            "showbackground": true,
            "ticks": "",
            "zerolinecolor": "white"
           },
           "zaxis": {
            "backgroundcolor": "#E5ECF6",
            "gridcolor": "white",
            "gridwidth": 2,
            "linecolor": "white",
            "showbackground": true,
            "ticks": "",
            "zerolinecolor": "white"
           }
          },
          "shapedefaults": {
           "line": {
            "color": "#2a3f5f"
           }
          },
          "ternary": {
           "aaxis": {
            "gridcolor": "white",
            "linecolor": "white",
            "ticks": ""
           },
           "baxis": {
            "gridcolor": "white",
            "linecolor": "white",
            "ticks": ""
           },
           "bgcolor": "#E5ECF6",
           "caxis": {
            "gridcolor": "white",
            "linecolor": "white",
            "ticks": ""
           }
          },
          "title": {
           "x": 0.05
          },
          "xaxis": {
           "automargin": true,
           "gridcolor": "white",
           "linecolor": "white",
           "ticks": "",
           "title": {
            "standoff": 15
           },
           "zerolinecolor": "white",
           "zerolinewidth": 2
          },
          "yaxis": {
           "automargin": true,
           "gridcolor": "white",
           "linecolor": "white",
           "ticks": "",
           "title": {
            "standoff": 15
           },
           "zerolinecolor": "white",
           "zerolinewidth": 2
          }
         }
        },
        "title": {
         "text": "Contribution of each product to total sales"
        },
        "xaxis": {
         "anchor": "y",
         "domain": [
          0,
          1
         ],
         "title": {
          "text": "Products"
         }
        },
        "yaxis": {
         "anchor": "x",
         "domain": [
          0,
          1
         ],
         "title": {
          "text": "No. of packs sold"
         }
        }
       }
      },
      "text/html": [
       "<div>                            <div id=\"9ee494f2-ba88-4d30-a50b-cafa805aa8fb\" class=\"plotly-graph-div\" style=\"height:525px; width:100%;\"></div>            <script type=\"text/javascript\">                require([\"plotly\"], function(Plotly) {                    window.PLOTLYENV=window.PLOTLYENV || {};                                    if (document.getElementById(\"9ee494f2-ba88-4d30-a50b-cafa805aa8fb\")) {                    Plotly.newPlot(                        \"9ee494f2-ba88-4d30-a50b-cafa805aa8fb\",                        [{\"alignmentgroup\":\"True\",\"hovertemplate\":\"Products=%{x}<br>No. of packs sold=%{y}<extra></extra>\",\"legendgroup\":\"\",\"marker\":{\"color\":\"#636efa\",\"pattern\":{\"shape\":\"\"}},\"name\":\"\",\"offsetgroup\":\"\",\"orientation\":\"v\",\"showlegend\":false,\"textposition\":\"auto\",\"x\":[\"Token pack(boneless beef)\",\"Token Pack (Cow Tail)\",\"Token Pack (Cow Hump)\",\"Token Pack (Cow Head & Neck)\",\"Token Pack (Cow Leg)\",\"Token Pack (Agemawo)\",\"Token Pack (Cow Assorted)\",\"Token Pack (Pomo)\",\"Token Pack (Cow Minced Meat)\",\"Token Pack (Shaki & Roundabout)\",\"Value Pack (Agemawo)\",\"Value Pack (Boneless Beef)\",\"Value Pack (Cow Head & Neck)\",\"Value Pack (Cow Hump)\",\"Value Pack (Cow Assorted)\",\"Token Pack (Goat Meat)\",\"Token Pack (Goat Assorted)\",\"Token Pack (Head & Leg)\",\"Value Pack (Goat Meat)\",\"Value Pack (Chicken)\",\"Token Pack (Chicken Gizzard)\",\"Token Pack (Chicken)\",\"Value Pack (Titus)\",\"Token Pack (Hake)\",\"Value Pack (Hake)\",\"Token Pack (Titus)\",\"Value Pack (Cow Tongue)\",\"Agemawo 1kg\",\"Boneless Beef 1kg\",\"Goat Meat 1kg\",\"Hake 1kg\",\"Hake 1kg (Cleaned)\",\"Titus 1kg\",\"Titus 1kg (Cleaned)\",\"Chicken 1kg\",\"Cow Head & Neck 1kg\"],\"xaxis\":\"x\",\"y\":[22.0,15.0,7.0,11.0,6.0,47.0,19.0,3.0,1.0,12.0,35.0,14.0,9.0,1.0,17.0,4.0,4.0,0.0,5.0,12.0,19.0,23.0,3.0,9.0,12.0,14.0,4.0,7.0,2.0,2.0,2.0,0.0,1.0,2.0,9.0,1.0],\"yaxis\":\"y\",\"type\":\"bar\"}],                        {\"template\":{\"data\":{\"histogram2dcontour\":[{\"type\":\"histogram2dcontour\",\"colorbar\":{\"outlinewidth\":0,\"ticks\":\"\"},\"colorscale\":[[0.0,\"#0d0887\"],[0.1111111111111111,\"#46039f\"],[0.2222222222222222,\"#7201a8\"],[0.3333333333333333,\"#9c179e\"],[0.4444444444444444,\"#bd3786\"],[0.5555555555555556,\"#d8576b\"],[0.6666666666666666,\"#ed7953\"],[0.7777777777777778,\"#fb9f3a\"],[0.8888888888888888,\"#fdca26\"],[1.0,\"#f0f921\"]]}],\"choropleth\":[{\"type\":\"choropleth\",\"colorbar\":{\"outlinewidth\":0,\"ticks\":\"\"}}],\"histogram2d\":[{\"type\":\"histogram2d\",\"colorbar\":{\"outlinewidth\":0,\"ticks\":\"\"},\"colorscale\":[[0.0,\"#0d0887\"],[0.1111111111111111,\"#46039f\"],[0.2222222222222222,\"#7201a8\"],[0.3333333333333333,\"#9c179e\"],[0.4444444444444444,\"#bd3786\"],[0.5555555555555556,\"#d8576b\"],[0.6666666666666666,\"#ed7953\"],[0.7777777777777778,\"#fb9f3a\"],[0.8888888888888888,\"#fdca26\"],[1.0,\"#f0f921\"]]}],\"heatmap\":[{\"type\":\"heatmap\",\"colorbar\":{\"outlinewidth\":0,\"ticks\":\"\"},\"colorscale\":[[0.0,\"#0d0887\"],[0.1111111111111111,\"#46039f\"],[0.2222222222222222,\"#7201a8\"],[0.3333333333333333,\"#9c179e\"],[0.4444444444444444,\"#bd3786\"],[0.5555555555555556,\"#d8576b\"],[0.6666666666666666,\"#ed7953\"],[0.7777777777777778,\"#fb9f3a\"],[0.8888888888888888,\"#fdca26\"],[1.0,\"#f0f921\"]]}],\"heatmapgl\":[{\"type\":\"heatmapgl\",\"colorbar\":{\"outlinewidth\":0,\"ticks\":\"\"},\"colorscale\":[[0.0,\"#0d0887\"],[0.1111111111111111,\"#46039f\"],[0.2222222222222222,\"#7201a8\"],[0.3333333333333333,\"#9c179e\"],[0.4444444444444444,\"#bd3786\"],[0.5555555555555556,\"#d8576b\"],[0.6666666666666666,\"#ed7953\"],[0.7777777777777778,\"#fb9f3a\"],[0.8888888888888888,\"#fdca26\"],[1.0,\"#f0f921\"]]}],\"contourcarpet\":[{\"type\":\"contourcarpet\",\"colorbar\":{\"outlinewidth\":0,\"ticks\":\"\"}}],\"contour\":[{\"type\":\"contour\",\"colorbar\":{\"outlinewidth\":0,\"ticks\":\"\"},\"colorscale\":[[0.0,\"#0d0887\"],[0.1111111111111111,\"#46039f\"],[0.2222222222222222,\"#7201a8\"],[0.3333333333333333,\"#9c179e\"],[0.4444444444444444,\"#bd3786\"],[0.5555555555555556,\"#d8576b\"],[0.6666666666666666,\"#ed7953\"],[0.7777777777777778,\"#fb9f3a\"],[0.8888888888888888,\"#fdca26\"],[1.0,\"#f0f921\"]]}],\"surface\":[{\"type\":\"surface\",\"colorbar\":{\"outlinewidth\":0,\"ticks\":\"\"},\"colorscale\":[[0.0,\"#0d0887\"],[0.1111111111111111,\"#46039f\"],[0.2222222222222222,\"#7201a8\"],[0.3333333333333333,\"#9c179e\"],[0.4444444444444444,\"#bd3786\"],[0.5555555555555556,\"#d8576b\"],[0.6666666666666666,\"#ed7953\"],[0.7777777777777778,\"#fb9f3a\"],[0.8888888888888888,\"#fdca26\"],[1.0,\"#f0f921\"]]}],\"mesh3d\":[{\"type\":\"mesh3d\",\"colorbar\":{\"outlinewidth\":0,\"ticks\":\"\"}}],\"scatter\":[{\"fillpattern\":{\"fillmode\":\"overlay\",\"size\":10,\"solidity\":0.2},\"type\":\"scatter\"}],\"parcoords\":[{\"type\":\"parcoords\",\"line\":{\"colorbar\":{\"outlinewidth\":0,\"ticks\":\"\"}}}],\"scatterpolargl\":[{\"type\":\"scatterpolargl\",\"marker\":{\"colorbar\":{\"outlinewidth\":0,\"ticks\":\"\"}}}],\"bar\":[{\"error_x\":{\"color\":\"#2a3f5f\"},\"error_y\":{\"color\":\"#2a3f5f\"},\"marker\":{\"line\":{\"color\":\"#E5ECF6\",\"width\":0.5},\"pattern\":{\"fillmode\":\"overlay\",\"size\":10,\"solidity\":0.2}},\"type\":\"bar\"}],\"scattergeo\":[{\"type\":\"scattergeo\",\"marker\":{\"colorbar\":{\"outlinewidth\":0,\"ticks\":\"\"}}}],\"scatterpolar\":[{\"type\":\"scatterpolar\",\"marker\":{\"colorbar\":{\"outlinewidth\":0,\"ticks\":\"\"}}}],\"histogram\":[{\"marker\":{\"pattern\":{\"fillmode\":\"overlay\",\"size\":10,\"solidity\":0.2}},\"type\":\"histogram\"}],\"scattergl\":[{\"type\":\"scattergl\",\"marker\":{\"colorbar\":{\"outlinewidth\":0,\"ticks\":\"\"}}}],\"scatter3d\":[{\"type\":\"scatter3d\",\"line\":{\"colorbar\":{\"outlinewidth\":0,\"ticks\":\"\"}},\"marker\":{\"colorbar\":{\"outlinewidth\":0,\"ticks\":\"\"}}}],\"scattermapbox\":[{\"type\":\"scattermapbox\",\"marker\":{\"colorbar\":{\"outlinewidth\":0,\"ticks\":\"\"}}}],\"scatterternary\":[{\"type\":\"scatterternary\",\"marker\":{\"colorbar\":{\"outlinewidth\":0,\"ticks\":\"\"}}}],\"scattercarpet\":[{\"type\":\"scattercarpet\",\"marker\":{\"colorbar\":{\"outlinewidth\":0,\"ticks\":\"\"}}}],\"carpet\":[{\"aaxis\":{\"endlinecolor\":\"#2a3f5f\",\"gridcolor\":\"white\",\"linecolor\":\"white\",\"minorgridcolor\":\"white\",\"startlinecolor\":\"#2a3f5f\"},\"baxis\":{\"endlinecolor\":\"#2a3f5f\",\"gridcolor\":\"white\",\"linecolor\":\"white\",\"minorgridcolor\":\"white\",\"startlinecolor\":\"#2a3f5f\"},\"type\":\"carpet\"}],\"table\":[{\"cells\":{\"fill\":{\"color\":\"#EBF0F8\"},\"line\":{\"color\":\"white\"}},\"header\":{\"fill\":{\"color\":\"#C8D4E3\"},\"line\":{\"color\":\"white\"}},\"type\":\"table\"}],\"barpolar\":[{\"marker\":{\"line\":{\"color\":\"#E5ECF6\",\"width\":0.5},\"pattern\":{\"fillmode\":\"overlay\",\"size\":10,\"solidity\":0.2}},\"type\":\"barpolar\"}],\"pie\":[{\"automargin\":true,\"type\":\"pie\"}]},\"layout\":{\"autotypenumbers\":\"strict\",\"colorway\":[\"#636efa\",\"#EF553B\",\"#00cc96\",\"#ab63fa\",\"#FFA15A\",\"#19d3f3\",\"#FF6692\",\"#B6E880\",\"#FF97FF\",\"#FECB52\"],\"font\":{\"color\":\"#2a3f5f\"},\"hovermode\":\"closest\",\"hoverlabel\":{\"align\":\"left\"},\"paper_bgcolor\":\"white\",\"plot_bgcolor\":\"#E5ECF6\",\"polar\":{\"bgcolor\":\"#E5ECF6\",\"angularaxis\":{\"gridcolor\":\"white\",\"linecolor\":\"white\",\"ticks\":\"\"},\"radialaxis\":{\"gridcolor\":\"white\",\"linecolor\":\"white\",\"ticks\":\"\"}},\"ternary\":{\"bgcolor\":\"#E5ECF6\",\"aaxis\":{\"gridcolor\":\"white\",\"linecolor\":\"white\",\"ticks\":\"\"},\"baxis\":{\"gridcolor\":\"white\",\"linecolor\":\"white\",\"ticks\":\"\"},\"caxis\":{\"gridcolor\":\"white\",\"linecolor\":\"white\",\"ticks\":\"\"}},\"coloraxis\":{\"colorbar\":{\"outlinewidth\":0,\"ticks\":\"\"}},\"colorscale\":{\"sequential\":[[0.0,\"#0d0887\"],[0.1111111111111111,\"#46039f\"],[0.2222222222222222,\"#7201a8\"],[0.3333333333333333,\"#9c179e\"],[0.4444444444444444,\"#bd3786\"],[0.5555555555555556,\"#d8576b\"],[0.6666666666666666,\"#ed7953\"],[0.7777777777777778,\"#fb9f3a\"],[0.8888888888888888,\"#fdca26\"],[1.0,\"#f0f921\"]],\"sequentialminus\":[[0.0,\"#0d0887\"],[0.1111111111111111,\"#46039f\"],[0.2222222222222222,\"#7201a8\"],[0.3333333333333333,\"#9c179e\"],[0.4444444444444444,\"#bd3786\"],[0.5555555555555556,\"#d8576b\"],[0.6666666666666666,\"#ed7953\"],[0.7777777777777778,\"#fb9f3a\"],[0.8888888888888888,\"#fdca26\"],[1.0,\"#f0f921\"]],\"diverging\":[[0,\"#8e0152\"],[0.1,\"#c51b7d\"],[0.2,\"#de77ae\"],[0.3,\"#f1b6da\"],[0.4,\"#fde0ef\"],[0.5,\"#f7f7f7\"],[0.6,\"#e6f5d0\"],[0.7,\"#b8e186\"],[0.8,\"#7fbc41\"],[0.9,\"#4d9221\"],[1,\"#276419\"]]},\"xaxis\":{\"gridcolor\":\"white\",\"linecolor\":\"white\",\"ticks\":\"\",\"title\":{\"standoff\":15},\"zerolinecolor\":\"white\",\"automargin\":true,\"zerolinewidth\":2},\"yaxis\":{\"gridcolor\":\"white\",\"linecolor\":\"white\",\"ticks\":\"\",\"title\":{\"standoff\":15},\"zerolinecolor\":\"white\",\"automargin\":true,\"zerolinewidth\":2},\"scene\":{\"xaxis\":{\"backgroundcolor\":\"#E5ECF6\",\"gridcolor\":\"white\",\"linecolor\":\"white\",\"showbackground\":true,\"ticks\":\"\",\"zerolinecolor\":\"white\",\"gridwidth\":2},\"yaxis\":{\"backgroundcolor\":\"#E5ECF6\",\"gridcolor\":\"white\",\"linecolor\":\"white\",\"showbackground\":true,\"ticks\":\"\",\"zerolinecolor\":\"white\",\"gridwidth\":2},\"zaxis\":{\"backgroundcolor\":\"#E5ECF6\",\"gridcolor\":\"white\",\"linecolor\":\"white\",\"showbackground\":true,\"ticks\":\"\",\"zerolinecolor\":\"white\",\"gridwidth\":2}},\"shapedefaults\":{\"line\":{\"color\":\"#2a3f5f\"}},\"annotationdefaults\":{\"arrowcolor\":\"#2a3f5f\",\"arrowhead\":0,\"arrowwidth\":1},\"geo\":{\"bgcolor\":\"white\",\"landcolor\":\"#E5ECF6\",\"subunitcolor\":\"white\",\"showland\":true,\"showlakes\":true,\"lakecolor\":\"white\"},\"title\":{\"x\":0.05},\"mapbox\":{\"style\":\"light\"}}},\"xaxis\":{\"anchor\":\"y\",\"domain\":[0.0,1.0],\"title\":{\"text\":\"Products\"}},\"yaxis\":{\"anchor\":\"x\",\"domain\":[0.0,1.0],\"title\":{\"text\":\"No. of packs sold\"}},\"legend\":{\"tracegroupgap\":0},\"title\":{\"text\":\"Contribution of each product to total sales\"},\"barmode\":\"relative\"},                        {\"responsive\": true}                    ).then(function(){\n",
       "                            \n",
       "var gd = document.getElementById('9ee494f2-ba88-4d30-a50b-cafa805aa8fb');\n",
       "var x = new MutationObserver(function (mutations, observer) {{\n",
       "        var display = window.getComputedStyle(gd).display;\n",
       "        if (!display || display === 'none') {{\n",
       "            console.log([gd, 'removed!']);\n",
       "            Plotly.purge(gd);\n",
       "            observer.disconnect();\n",
       "        }}\n",
       "}});\n",
       "\n",
       "// Listen for the removal of the full notebook cells\n",
       "var notebookContainer = gd.closest('#notebook-container');\n",
       "if (notebookContainer) {{\n",
       "    x.observe(notebookContainer, {childList: true});\n",
       "}}\n",
       "\n",
       "// Listen for the clearing of the current output cell\n",
       "var outputEl = gd.closest('.output');\n",
       "if (outputEl) {{\n",
       "    x.observe(outputEl, {childList: true});\n",
       "}}\n",
       "\n",
       "                        })                };                });            </script>        </div>"
      ]
     },
     "metadata": {},
     "output_type": "display_data"
    }
   ],
   "source": [
    "#Plot the products against the number of packs sold\n",
    "fig = px.bar(prod_df,x=\"Products\", y=\"Packs sold\", \n",
    "             labels={\"Products\": \"Products\",\n",
    "                     \"Packs sold\": \"No. of packs sold\",\n",
    "             },\n",
    "             title='Contribution of each product to total sales')\n",
    "             \n",
    "fig.show()"
   ]
  },
  {
   "cell_type": "code",
   "execution_count": null,
   "id": "2d7f81b3",
   "metadata": {},
   "outputs": [],
   "source": []
  },
  {
   "cell_type": "markdown",
   "id": "b9f40a4d",
   "metadata": {},
   "source": [
    "From the figure above, we can see that the most product sold within the period of time was the token pack of agemawo"
   ]
  },
  {
   "cell_type": "code",
   "execution_count": 58,
   "id": "746f4595",
   "metadata": {},
   "outputs": [
    {
     "data": {
      "text/html": [
       "<div>\n",
       "<style scoped>\n",
       "    .dataframe tbody tr th:only-of-type {\n",
       "        vertical-align: middle;\n",
       "    }\n",
       "\n",
       "    .dataframe tbody tr th {\n",
       "        vertical-align: top;\n",
       "    }\n",
       "\n",
       "    .dataframe thead th {\n",
       "        text-align: right;\n",
       "    }\n",
       "</style>\n",
       "<table border=\"1\" class=\"dataframe\">\n",
       "  <thead>\n",
       "    <tr style=\"text-align: right;\">\n",
       "      <th></th>\n",
       "      <th>Token pack(boneless beef)</th>\n",
       "      <th>Token Pack (Cow Tail)</th>\n",
       "      <th>Token Pack (Cow Hump)</th>\n",
       "      <th>Token Pack (Cow Head &amp; Neck)</th>\n",
       "      <th>Token Pack (Cow Leg)</th>\n",
       "      <th>Token Pack (Agemawo)</th>\n",
       "      <th>Token Pack (Cow Assorted)</th>\n",
       "      <th>Token Pack (Pomo)</th>\n",
       "      <th>Token Pack (Cow Minced Meat)</th>\n",
       "      <th>Token Pack (Shaki &amp; Roundabout)</th>\n",
       "      <th>...</th>\n",
       "      <th>Agemawo 1kg</th>\n",
       "      <th>Boneless Beef 1kg</th>\n",
       "      <th>Goat Meat 1kg</th>\n",
       "      <th>Hake 1kg</th>\n",
       "      <th>Hake 1kg (Cleaned)</th>\n",
       "      <th>Titus 1kg</th>\n",
       "      <th>Titus 1kg (Cleaned)</th>\n",
       "      <th>Chicken 1kg</th>\n",
       "      <th>Cow Head &amp; Neck 1kg</th>\n",
       "      <th>Naira Value</th>\n",
       "    </tr>\n",
       "  </thead>\n",
       "  <tbody>\n",
       "    <tr>\n",
       "      <th>0</th>\n",
       "      <td>0.0</td>\n",
       "      <td>0.0</td>\n",
       "      <td>0.0</td>\n",
       "      <td>0.0</td>\n",
       "      <td>0.0</td>\n",
       "      <td>0.0</td>\n",
       "      <td>0.0</td>\n",
       "      <td>0.0</td>\n",
       "      <td>0.0</td>\n",
       "      <td>0.0</td>\n",
       "      <td>...</td>\n",
       "      <td>0.0</td>\n",
       "      <td>0.0</td>\n",
       "      <td>0.0</td>\n",
       "      <td>0.0</td>\n",
       "      <td>0.0</td>\n",
       "      <td>0.0</td>\n",
       "      <td>0.0</td>\n",
       "      <td>0.0</td>\n",
       "      <td>0.0</td>\n",
       "      <td>3185.0</td>\n",
       "    </tr>\n",
       "    <tr>\n",
       "      <th>1</th>\n",
       "      <td>0.0</td>\n",
       "      <td>0.0</td>\n",
       "      <td>0.0</td>\n",
       "      <td>0.0</td>\n",
       "      <td>0.0</td>\n",
       "      <td>1.0</td>\n",
       "      <td>1.0</td>\n",
       "      <td>0.0</td>\n",
       "      <td>0.0</td>\n",
       "      <td>0.0</td>\n",
       "      <td>...</td>\n",
       "      <td>0.0</td>\n",
       "      <td>0.0</td>\n",
       "      <td>0.0</td>\n",
       "      <td>0.0</td>\n",
       "      <td>0.0</td>\n",
       "      <td>0.0</td>\n",
       "      <td>0.0</td>\n",
       "      <td>0.0</td>\n",
       "      <td>0.0</td>\n",
       "      <td>2340.0</td>\n",
       "    </tr>\n",
       "    <tr>\n",
       "      <th>2</th>\n",
       "      <td>0.0</td>\n",
       "      <td>0.0</td>\n",
       "      <td>0.0</td>\n",
       "      <td>1.0</td>\n",
       "      <td>0.0</td>\n",
       "      <td>0.0</td>\n",
       "      <td>0.0</td>\n",
       "      <td>0.0</td>\n",
       "      <td>0.0</td>\n",
       "      <td>0.0</td>\n",
       "      <td>...</td>\n",
       "      <td>0.0</td>\n",
       "      <td>0.0</td>\n",
       "      <td>0.0</td>\n",
       "      <td>0.0</td>\n",
       "      <td>0.0</td>\n",
       "      <td>0.0</td>\n",
       "      <td>0.0</td>\n",
       "      <td>0.0</td>\n",
       "      <td>0.0</td>\n",
       "      <td>2340.0</td>\n",
       "    </tr>\n",
       "    <tr>\n",
       "      <th>3</th>\n",
       "      <td>0.0</td>\n",
       "      <td>0.0</td>\n",
       "      <td>0.0</td>\n",
       "      <td>0.0</td>\n",
       "      <td>0.0</td>\n",
       "      <td>0.0</td>\n",
       "      <td>2.0</td>\n",
       "      <td>0.0</td>\n",
       "      <td>0.0</td>\n",
       "      <td>0.0</td>\n",
       "      <td>...</td>\n",
       "      <td>0.0</td>\n",
       "      <td>0.0</td>\n",
       "      <td>0.0</td>\n",
       "      <td>0.0</td>\n",
       "      <td>0.0</td>\n",
       "      <td>0.0</td>\n",
       "      <td>0.0</td>\n",
       "      <td>0.0</td>\n",
       "      <td>0.0</td>\n",
       "      <td>2340.0</td>\n",
       "    </tr>\n",
       "    <tr>\n",
       "      <th>4</th>\n",
       "      <td>0.0</td>\n",
       "      <td>0.0</td>\n",
       "      <td>0.0</td>\n",
       "      <td>0.0</td>\n",
       "      <td>0.0</td>\n",
       "      <td>0.0</td>\n",
       "      <td>0.0</td>\n",
       "      <td>0.0</td>\n",
       "      <td>0.0</td>\n",
       "      <td>0.0</td>\n",
       "      <td>...</td>\n",
       "      <td>0.0</td>\n",
       "      <td>0.0</td>\n",
       "      <td>0.0</td>\n",
       "      <td>0.0</td>\n",
       "      <td>0.0</td>\n",
       "      <td>0.0</td>\n",
       "      <td>0.0</td>\n",
       "      <td>0.0</td>\n",
       "      <td>0.0</td>\n",
       "      <td>1430.0</td>\n",
       "    </tr>\n",
       "  </tbody>\n",
       "</table>\n",
       "<p>5 rows × 37 columns</p>\n",
       "</div>"
      ],
      "text/plain": [
       "   Token pack(boneless beef)  Token Pack (Cow Tail)  Token Pack (Cow Hump)  \\\n",
       "0                        0.0                    0.0                    0.0   \n",
       "1                        0.0                    0.0                    0.0   \n",
       "2                        0.0                    0.0                    0.0   \n",
       "3                        0.0                    0.0                    0.0   \n",
       "4                        0.0                    0.0                    0.0   \n",
       "\n",
       "   Token Pack (Cow Head & Neck)  Token Pack (Cow Leg)  Token Pack (Agemawo)  \\\n",
       "0                           0.0                   0.0                   0.0   \n",
       "1                           0.0                   0.0                   1.0   \n",
       "2                           1.0                   0.0                   0.0   \n",
       "3                           0.0                   0.0                   0.0   \n",
       "4                           0.0                   0.0                   0.0   \n",
       "\n",
       "   Token Pack (Cow Assorted)  Token Pack (Pomo)  Token Pack (Cow Minced Meat)  \\\n",
       "0                        0.0                0.0                           0.0   \n",
       "1                        1.0                0.0                           0.0   \n",
       "2                        0.0                0.0                           0.0   \n",
       "3                        2.0                0.0                           0.0   \n",
       "4                        0.0                0.0                           0.0   \n",
       "\n",
       "   Token Pack (Shaki & Roundabout)  ...  Agemawo 1kg  Boneless Beef 1kg  \\\n",
       "0                              0.0  ...          0.0                0.0   \n",
       "1                              0.0  ...          0.0                0.0   \n",
       "2                              0.0  ...          0.0                0.0   \n",
       "3                              0.0  ...          0.0                0.0   \n",
       "4                              0.0  ...          0.0                0.0   \n",
       "\n",
       "   Goat Meat 1kg  Hake 1kg  Hake 1kg (Cleaned)  Titus 1kg  \\\n",
       "0            0.0       0.0                 0.0        0.0   \n",
       "1            0.0       0.0                 0.0        0.0   \n",
       "2            0.0       0.0                 0.0        0.0   \n",
       "3            0.0       0.0                 0.0        0.0   \n",
       "4            0.0       0.0                 0.0        0.0   \n",
       "\n",
       "   Titus 1kg (Cleaned)  Chicken 1kg  Cow Head & Neck 1kg  Naira Value  \n",
       "0                  0.0          0.0                  0.0       3185.0  \n",
       "1                  0.0          0.0                  0.0       2340.0  \n",
       "2                  0.0          0.0                  0.0       2340.0  \n",
       "3                  0.0          0.0                  0.0       2340.0  \n",
       "4                  0.0          0.0                  0.0       1430.0  \n",
       "\n",
       "[5 rows x 37 columns]"
      ]
     },
     "execution_count": 58,
     "metadata": {},
     "output_type": "execute_result"
    }
   ],
   "source": [
    "df_sub.head()"
   ]
  },
  {
   "cell_type": "code",
   "execution_count": 59,
   "id": "e09dea30",
   "metadata": {},
   "outputs": [
    {
     "data": {
      "text/plain": [
       "array(['Token pack(boneless beef)', 'Token Pack (Cow Tail)',\n",
       "       'Token Pack (Cow Hump)', 'Token Pack (Cow Head & Neck)',\n",
       "       'Token Pack (Cow Leg)', 'Token Pack (Agemawo)',\n",
       "       'Token Pack (Cow Assorted)', 'Token Pack (Pomo)',\n",
       "       'Token Pack (Cow Minced Meat)', 'Token Pack (Shaki & Roundabout)',\n",
       "       'Value Pack (Agemawo)', 'Value Pack (Boneless Beef)',\n",
       "       'Value Pack (Cow Head & Neck)', 'Value Pack (Cow Hump)',\n",
       "       'Value Pack (Cow Assorted)', 'Token Pack (Goat Meat)',\n",
       "       'Token Pack (Goat Assorted)', 'Token Pack (Head & Leg)',\n",
       "       'Value Pack (Goat Meat)', 'Value Pack (Chicken)',\n",
       "       'Token Pack (Chicken Gizzard)', 'Token Pack (Chicken)',\n",
       "       'Value Pack (Titus)', 'Token Pack (Hake)', 'Value Pack (Hake)',\n",
       "       'Token Pack (Titus)', 'Value Pack (Cow Tongue)', 'Agemawo 1kg',\n",
       "       'Boneless Beef 1kg', 'Goat Meat 1kg', 'Hake 1kg',\n",
       "       'Hake 1kg (Cleaned)', 'Titus 1kg', 'Titus 1kg (Cleaned)',\n",
       "       'Chicken 1kg', 'Cow Head & Neck 1kg'], dtype=object)"
      ]
     },
     "execution_count": 59,
     "metadata": {},
     "output_type": "execute_result"
    }
   ],
   "source": [
    "product_list"
   ]
  },
  {
   "cell_type": "code",
   "execution_count": 60,
   "id": "9a8b2933",
   "metadata": {},
   "outputs": [
    {
     "name": "stdout",
     "output_type": "stream",
     "text": [
      "0\n",
      "1\n",
      "Token Pack (Agemawo)\n",
      "2340.0\n",
      "Token Pack (Cow Assorted)\n",
      "2340.0\n",
      "2\n",
      "Token Pack (Cow Head & Neck)\n",
      "2340.0\n",
      "Token Pack (Chicken Gizzard)\n",
      "2340.0\n",
      "3\n",
      "Token Pack (Cow Assorted)\n",
      "2340.0\n",
      "4\n",
      "5\n",
      "6\n",
      "Agemawo 1kg\n",
      "7410.0\n",
      "Boneless Beef 1kg\n",
      "7410.0\n",
      "7\n",
      "8\n",
      "Token Pack (Cow Head & Neck)\n",
      "6500.0\n",
      "Token Pack (Agemawo)\n",
      "6500.0\n",
      "9\n",
      "10\n",
      "Token Pack (Agemawo)\n",
      "15600.0\n",
      "Token Pack (Chicken)\n",
      "15600.0\n",
      "Value Pack (Hake)\n",
      "15600.0\n",
      "11\n",
      "Token Pack (Cow Tail)\n",
      "14040.0\n",
      "Token Pack (Agemawo)\n",
      "14040.0\n",
      "Token Pack (Cow Assorted)\n",
      "14040.0\n",
      "Value Pack (Cow Assorted)\n",
      "14040.0\n",
      "Value Pack (Chicken)\n",
      "14040.0\n",
      "Token Pack (Hake)\n",
      "14040.0\n",
      "Value Pack (Hake)\n",
      "14040.0\n",
      "Value Pack (Cow Tongue)\n",
      "14040.0\n",
      "12\n",
      "Value Pack (Boneless Beef)\n",
      "2340.0\n",
      "13\n",
      "Chicken 1kg\n",
      "2470.0\n",
      "14\n",
      "Token Pack (Pomo)\n",
      "1170.0\n",
      "15\n",
      "Token Pack (Agemawo)\n",
      "2600.0\n",
      "16\n",
      "17\n",
      "18\n",
      "Value Pack (Cow Head & Neck)\n",
      "2340.0\n",
      "19\n",
      "Token Pack (Agemawo)\n",
      "7020.0\n",
      "Token Pack (Cow Assorted)\n",
      "7020.0\n",
      "Value Pack (Hake)\n",
      "7020.0\n",
      "20\n",
      "21\n",
      "22\n",
      "Value Pack (Cow Head & Neck)\n",
      "2600.0\n",
      "23\n",
      "24\n",
      "25\n",
      "Token Pack (Chicken)\n",
      "1300.0\n",
      "26\n",
      "Token pack(boneless beef)\n",
      "3575.0\n",
      "Token Pack (Agemawo)\n",
      "3575.0\n",
      "Token Pack (Chicken Gizzard)\n",
      "3575.0\n",
      "27\n",
      "28\n",
      "Value Pack (Cow Assorted)\n",
      "2340.0\n",
      "30\n",
      "Value Pack (Boneless Beef)\n",
      "3900.0\n",
      "Token Pack (Chicken)\n",
      "3900.0\n",
      "31\n",
      "Value Pack (Chicken)\n",
      "2340.0\n",
      "32\n",
      "33\n",
      "Token Pack (Shaki & Roundabout)\n",
      "4680.0\n",
      "34\n",
      "Value Pack (Agemawo)\n",
      "4680.0\n",
      "35\n",
      "36\n",
      "37\n",
      "38\n",
      "39\n",
      "Token Pack (Shaki & Roundabout)\n",
      "3770.0\n",
      "40\n",
      "41\n",
      "42\n",
      "43\n",
      "44\n",
      "Token Pack (Agemawo)\n",
      "2340.0\n",
      "Token Pack (Chicken Gizzard)\n",
      "2340.0\n",
      "45\n",
      "Value Pack (Goat Meat)\n",
      "2340.0\n",
      "46\n",
      "Chicken 1kg\n",
      "2470.0\n",
      "47\n",
      "48\n",
      "Value Pack (Agemawo)\n",
      "2340.0\n",
      "49\n",
      "Value Pack (Agemawo)\n",
      "2600.0\n",
      "50\n",
      "51\n",
      "Token Pack (Chicken)\n",
      "2600.0\n",
      "52\n",
      "53\n",
      "Value Pack (Cow Tongue)\n",
      "2340.0\n",
      "54\n",
      "55\n",
      "Value Pack (Agemawo)\n",
      "13000.0\n",
      "56\n",
      "57\n",
      "58\n",
      "59\n",
      "Token Pack (Cow Assorted)\n",
      "3510.0\n",
      "Value Pack (Agemawo)\n",
      "3510.0\n",
      "60\n",
      "61\n",
      "Token Pack (Cow Assorted)\n",
      "2730.0\n",
      "62\n",
      "Token Pack (Chicken Gizzard)\n",
      "2340.0\n",
      "Token Pack (Titus)\n",
      "2340.0\n",
      "63\n",
      "64\n",
      "Boneless Beef 1kg\n",
      "3640.0\n",
      "65\n",
      "Chicken 1kg\n",
      "4940.0\n",
      "66\n",
      "Token pack(boneless beef)\n",
      "1300.0\n",
      "67\n",
      "68\n",
      "Value Pack (Goat Meat)\n",
      "2340.0\n",
      "69\n",
      "70\n",
      "71\n",
      "72\n",
      "73\n",
      "Value Pack (Boneless Beef)\n",
      "9360.0\n",
      "Value Pack (Chicken)\n",
      "9360.0\n",
      "74\n",
      "Value Pack (Agemawo)\n",
      "6890.0\n",
      "Goat Meat 1kg\n",
      "6890.0\n",
      "75\n",
      "Token pack(boneless beef)\n",
      "6760.0\n",
      "Token Pack (Cow Head & Neck)\n",
      "6760.0\n",
      "76\n",
      "Token Pack (Cow Hump)\n",
      "1170.0\n",
      "77\n",
      "Token pack(boneless beef)\n",
      "2600.0\n",
      "78\n",
      "Token pack(boneless beef)\n",
      "3770.0\n",
      "Titus 1kg\n",
      "3770.0\n",
      "79\n",
      "80\n",
      "Token Pack (Shaki & Roundabout)\n",
      "4680.0\n",
      "81\n",
      "Token Pack (Agemawo)\n",
      "5850.0\n",
      "Token Pack (Shaki & Roundabout)\n",
      "5850.0\n",
      "Value Pack (Agemawo)\n",
      "5850.0\n",
      "82\n",
      "Token Pack (Chicken Gizzard)\n",
      "2600.0\n",
      "83\n",
      "Token Pack (Cow Tail)\n",
      "1170.0\n",
      "84\n",
      "Token Pack (Hake)\n",
      "4940.0\n",
      "Agemawo 1kg\n",
      "4940.0\n",
      "85\n",
      "Token Pack (Agemawo)\n",
      "1300.0\n",
      "86\n",
      "Token Pack (Cow Tail)\n",
      "1300.0\n",
      "87\n",
      "Chicken 1kg\n",
      "2470.0\n",
      "88\n",
      "89\n",
      "90\n",
      "91\n",
      "Value Pack (Agemawo)\n",
      "4680.0\n",
      "Value Pack (Cow Head & Neck)\n",
      "4680.0\n",
      "92\n",
      "Token Pack (Hake)\n",
      "1300.0\n",
      "93\n",
      "Token pack(boneless beef)\n",
      "1300.0\n",
      "94\n",
      "95\n",
      "Value Pack (Chicken)\n",
      "2600.0\n",
      "96\n",
      "97\n",
      "Token Pack (Cow Hump)\n",
      "8190.0\n",
      "Token Pack (Cow Head & Neck)\n",
      "8190.0\n",
      "Token Pack (Shaki & Roundabout)\n",
      "8190.0\n",
      "Value Pack (Chicken)\n",
      "8190.0\n",
      "Token Pack (Chicken Gizzard)\n",
      "8190.0\n",
      "98\n",
      "99\n",
      "Token Pack (Agemawo)\n",
      "2340.0\n",
      "Token Pack (Goat Meat)\n",
      "2340.0\n",
      "100\n",
      "Agemawo 1kg\n",
      "3770.0\n",
      "101\n",
      "102\n",
      "Token Pack (Agemawo)\n",
      "3510.0\n",
      "Value Pack (Hake)\n",
      "3510.0\n",
      "103\n",
      "Token Pack (Cow Leg)\n",
      "15210.0\n",
      "Token Pack (Agemawo)\n",
      "15210.0\n",
      "Value Pack (Cow Assorted)\n",
      "15210.0\n",
      "Token Pack (Chicken)\n",
      "15210.0\n",
      "Token Pack (Hake)\n",
      "15210.0\n",
      "104\n",
      "Value Pack (Cow Head & Neck)\n",
      "7020.0\n",
      "105\n",
      "106\n",
      "107\n",
      "108\n",
      "109\n",
      "Token Pack (Chicken Gizzard)\n",
      "4485.0\n",
      "110\n",
      "111\n",
      "Token Pack (Cow Tail)\n",
      "3510.0\n",
      "Token Pack (Chicken Gizzard)\n",
      "3510.0\n",
      "112\n",
      "Token Pack (Titus)\n",
      "1170.0\n",
      "113\n",
      "Value Pack (Boneless Beef)\n",
      "2600.0\n",
      "114\n",
      "115\n",
      "Token pack(boneless beef)\n",
      "2730.0\n",
      "116\n",
      "117\n",
      "Token Pack (Cow Tail)\n",
      "2340.0\n",
      "Token Pack (Cow Assorted)\n",
      "2340.0\n",
      "118\n",
      "Token Pack (Shaki & Roundabout)\n",
      "4810.0\n",
      "119\n",
      "120\n",
      "121\n",
      "122\n",
      "Token Pack (Cow Leg)\n",
      "3510.0\n",
      "Value Pack (Cow Head & Neck)\n",
      "3510.0\n",
      "123\n",
      "Token Pack (Cow Assorted)\n",
      "3900.0\n",
      "Value Pack (Hake)\n",
      "3900.0\n",
      "124\n",
      "125\n",
      "Token Pack (Agemawo)\n",
      "5200.0\n",
      "Token Pack (Shaki & Roundabout)\n",
      "5200.0\n",
      "Token Pack (Chicken)\n",
      "5200.0\n",
      "Token Pack (Hake)\n",
      "5200.0\n",
      "126\n",
      "127\n",
      "128\n",
      "Token Pack (Titus)\n",
      "4940.0\n",
      "Agemawo 1kg\n",
      "4940.0\n",
      "129\n",
      "130\n",
      "131\n",
      "Value Pack (Agemawo)\n",
      "11700.0\n",
      "Token Pack (Chicken Gizzard)\n",
      "11700.0\n",
      "132\n",
      "Value Pack (Cow Assorted)\n",
      "3900.0\n",
      "Token Pack (Chicken Gizzard)\n",
      "3900.0\n",
      "133\n",
      "134\n",
      "Titus 1kg (Cleaned)\n",
      "5330.0\n",
      "Chicken 1kg\n",
      "5330.0\n",
      "135\n",
      "Token Pack (Cow Hump)\n",
      "2275.0\n",
      "Token Pack (Chicken Gizzard)\n",
      "2275.0\n",
      "136\n",
      "137\n",
      "Agemawo 1kg\n",
      "3770.0\n",
      "138\n",
      "Token pack(boneless beef)\n",
      "2730.0\n",
      "139\n",
      "Token Pack (Agemawo)\n",
      "2340.0\n",
      "Token Pack (Cow Assorted)\n",
      "2340.0\n",
      "140\n",
      "Token Pack (Cow Leg)\n",
      "4680.0\n",
      "Token Pack (Titus)\n",
      "4680.0\n",
      "Value Pack (Cow Tongue)\n",
      "4680.0\n",
      "141\n",
      "142\n",
      "143\n",
      "Token Pack (Chicken Gizzard)\n",
      "1950.0\n",
      "144\n",
      "Value Pack (Cow Assorted)\n",
      "4680.0\n",
      "Value Pack (Hake)\n",
      "4680.0\n",
      "145\n",
      "Token pack(boneless beef)\n",
      "2600.0\n",
      "Token Pack (Agemawo)\n",
      "2600.0\n",
      "146\n",
      "Token Pack (Agemawo)\n",
      "1300.0\n",
      "147\n",
      "Token Pack (Cow Assorted)\n",
      "1300.0\n",
      "148\n",
      "149\n",
      "150\n",
      "Token Pack (Agemawo)\n",
      "4810.0\n",
      "151\n",
      "Token Pack (Chicken Gizzard)\n",
      "19630.0\n",
      "152\n",
      "Value Pack (Cow Assorted)\n",
      "2340.0\n",
      "153\n",
      "Value Pack (Cow Hump)\n",
      "2340.0\n",
      "154\n",
      "Token Pack (Agemawo)\n",
      "2340.0\n",
      "Token Pack (Cow Assorted)\n",
      "2340.0\n",
      "155\n",
      "Token Pack (Goat Assorted)\n",
      "1170.0\n",
      "156\n",
      "Token pack(boneless beef)\n",
      "3900.0\n",
      "Token Pack (Cow Hump)\n",
      "3900.0\n",
      "Token Pack (Agemawo)\n",
      "3900.0\n",
      "157\n",
      "Token Pack (Agemawo)\n",
      "5850.0\n",
      "Value Pack (Cow Assorted)\n",
      "5850.0\n",
      "Value Pack (Titus)\n",
      "5850.0\n",
      "158\n",
      "Token Pack (Agemawo)\n",
      "3770.0\n",
      "159\n",
      "160\n",
      "Token Pack (Agemawo)\n",
      "1300.0\n",
      "161\n",
      "Value Pack (Boneless Beef)\n",
      "6500.0\n",
      "Value Pack (Goat Meat)\n",
      "6500.0\n",
      "Value Pack (Titus)\n",
      "6500.0\n",
      "162\n",
      "Token Pack (Cow Leg)\n",
      "12870.0\n",
      "Token Pack (Agemawo)\n",
      "12870.0\n",
      "Token Pack (Cow Assorted)\n",
      "12870.0\n",
      "Token Pack (Goat Meat)\n",
      "12870.0\n",
      "Token Pack (Goat Assorted)\n",
      "12870.0\n",
      "Token Pack (Chicken)\n",
      "12870.0\n",
      "163\n",
      "164\n",
      "165\n",
      "166\n",
      "Token Pack (Titus)\n",
      "1170.0\n",
      "167\n",
      "Token pack(boneless beef)\n",
      "2275.0\n",
      "Token Pack (Chicken Gizzard)\n",
      "2275.0\n",
      "168\n",
      "Token Pack (Cow Hump)\n",
      "1170.0\n",
      "169\n",
      "170\n",
      "Token pack(boneless beef)\n",
      "2730.0\n",
      "171\n",
      "Token Pack (Chicken)\n",
      "6045.0\n",
      "172\n",
      "173\n",
      "174\n",
      "175\n",
      "176\n",
      "Token pack(boneless beef)\n",
      "1300.0\n",
      "177\n",
      "Value Pack (Boneless Beef)\n",
      "12870.0\n",
      "Value Pack (Cow Assorted)\n",
      "12870.0\n",
      "Value Pack (Goat Meat)\n",
      "12870.0\n",
      "Value Pack (Chicken)\n",
      "12870.0\n",
      "Token Pack (Chicken Gizzard)\n",
      "12870.0\n",
      "Token Pack (Hake)\n",
      "12870.0\n",
      "Token Pack (Titus)\n",
      "12870.0\n",
      "178\n",
      "Value Pack (Agemawo)\n",
      "3510.0\n",
      "Token Pack (Goat Assorted)\n",
      "3510.0\n",
      "179\n",
      "180\n",
      "181\n",
      "182\n",
      "Token Pack (Chicken)\n",
      "4810.0\n",
      "183\n",
      "Value Pack (Boneless Beef)\n",
      "2340.0\n",
      "184\n",
      "Token Pack (Agemawo)\n",
      "2340.0\n",
      "Token Pack (Goat Meat)\n",
      "2340.0\n",
      "185\n",
      "186\n",
      "187\n",
      "Token Pack (Cow Assorted)\n",
      "1170.0\n",
      "188\n",
      "Token pack(boneless beef)\n",
      "0.0\n",
      "189\n",
      "190\n",
      "191\n",
      "Token pack(boneless beef)\n",
      "2600.0\n",
      "Token Pack (Agemawo)\n",
      "2600.0\n",
      "192\n",
      "193\n",
      "Token Pack (Pomo)\n",
      "4680.0\n",
      "Value Pack (Goat Meat)\n",
      "4680.0\n",
      "Token Pack (Titus)\n",
      "4680.0\n",
      "194\n",
      "Token pack(boneless beef)\n",
      "1170.0\n",
      "195\n",
      "Token Pack (Cow Tail)\n",
      "3510.0\n",
      "196\n",
      "197\n",
      "Token Pack (Agemawo)\n",
      "1170.0\n",
      "198\n",
      "199\n",
      "Token Pack (Agemawo)\n",
      "3900.0\n",
      "Value Pack (Agemawo)\n",
      "3900.0\n",
      "200\n",
      "Token Pack (Pomo)\n",
      "3510.0\n",
      "Value Pack (Boneless Beef)\n",
      "3510.0\n",
      "201\n",
      "Value Pack (Boneless Beef)\n",
      "4680.0\n",
      "Value Pack (Cow Head & Neck)\n",
      "4680.0\n",
      "202\n",
      "Token pack(boneless beef)\n",
      "1170.0\n",
      "203\n",
      "204\n",
      "Token Pack (Shaki & Roundabout)\n",
      "3510.0\n",
      "Value Pack (Agemawo)\n",
      "3510.0\n",
      "205\n",
      "Token Pack (Titus)\n",
      "3640.0\n",
      "Chicken 1kg\n",
      "3640.0\n",
      "206\n",
      "Token Pack (Shaki & Roundabout)\n",
      "4485.0\n",
      "207\n",
      "208\n",
      "Token Pack (Agemawo)\n",
      "2600.0\n",
      "209\n",
      "Token Pack (Agemawo)\n",
      "3900.0\n",
      "Value Pack (Cow Assorted)\n",
      "3900.0\n",
      "210\n",
      "Token Pack (Agemawo)\n",
      "3900.0\n",
      "Value Pack (Agemawo)\n",
      "3900.0\n",
      "211\n",
      "212\n",
      "213\n",
      "Token Pack (Cow Minced Meat)\n",
      "1170.0\n",
      "214\n",
      "Token Pack (Chicken)\n",
      "1300.0\n",
      "215\n",
      "Token pack(boneless beef)\n",
      "1170.0\n",
      "216\n",
      "217\n",
      "218\n",
      "Token pack(boneless beef)\n",
      "7280.0\n",
      "219\n",
      "220\n",
      "221\n",
      "222\n",
      "223\n",
      "Token Pack (Agemawo)\n",
      "2340.0\n",
      "Token Pack (Cow Assorted)\n",
      "2340.0\n",
      "224\n",
      "225\n",
      "Value Pack (Agemawo)\n",
      "2340.0\n",
      "226\n",
      "227\n",
      "228\n",
      "Token Pack (Chicken)\n",
      "3640.0\n",
      "Chicken 1kg\n",
      "3640.0\n",
      "229\n",
      "230\n",
      "231\n",
      "Value Pack (Titus)\n",
      "2600.0\n",
      "232\n",
      "Value Pack (Boneless Beef)\n",
      "7020.0\n",
      "Value Pack (Cow Head & Neck)\n",
      "7020.0\n",
      "233\n",
      "234\n",
      "Hake 1kg\n",
      "2275.0\n",
      "235\n",
      "Token Pack (Agemawo)\n",
      "3510.0\n",
      "Value Pack (Cow Tongue)\n",
      "3510.0\n",
      "236\n",
      "237\n",
      "Token Pack (Cow Head & Neck)\n",
      "1170.0\n",
      "238\n",
      "Value Pack (Cow Assorted)\n",
      "2340.0\n",
      "239\n",
      "240\n",
      "241\n",
      "242\n",
      "Value Pack (Chicken)\n",
      "3510.0\n",
      "Token Pack (Titus)\n",
      "3510.0\n",
      "243\n",
      "244\n",
      "Value Pack (Agemawo)\n",
      "5200.0\n",
      "Token Pack (Hake)\n",
      "5200.0\n",
      "Token Pack (Titus)\n",
      "5200.0\n",
      "245\n",
      "246\n",
      "247\n",
      "Value Pack (Cow Assorted)\n",
      "2340.0\n",
      "248\n",
      "Token Pack (Agemawo)\n",
      "3510.0\n",
      "Token Pack (Cow Assorted)\n",
      "3510.0\n",
      "Token Pack (Chicken)\n",
      "3510.0\n",
      "249\n",
      "Value Pack (Hake)\n",
      "3900.0\n",
      "Token Pack (Titus)\n",
      "3900.0\n",
      "250\n",
      "Token Pack (Agemawo)\n",
      "1170.0\n",
      "251\n",
      "252\n",
      "Token Pack (Agemawo)\n",
      "3510.0\n",
      "253\n",
      "Token Pack (Agemawo)\n",
      "3770.0\n",
      "254\n",
      "255\n",
      "256\n",
      "Token Pack (Cow Hump)\n",
      "2600.0\n",
      "Token Pack (Goat Meat)\n",
      "2600.0\n",
      "257\n",
      "Token Pack (Chicken)\n",
      "1300.0\n",
      "258\n",
      "259\n",
      "Token pack(boneless beef)\n",
      "2600.0\n",
      "Token Pack (Cow Head & Neck)\n",
      "2600.0\n",
      "260\n",
      "261\n",
      "262\n",
      "263\n",
      "264\n",
      "265\n",
      "Titus 1kg (Cleaned)\n",
      "5330.0\n",
      "Chicken 1kg\n",
      "5330.0\n",
      "266\n",
      "Token Pack (Cow Tail)\n",
      "3510.0\n",
      "Token Pack (Cow Head & Neck)\n",
      "3510.0\n",
      "Token Pack (Cow Assorted)\n",
      "3510.0\n",
      "267\n",
      "Value Pack (Chicken)\n",
      "2340.0\n",
      "268\n",
      "Value Pack (Agemawo)\n",
      "2340.0\n",
      "269\n",
      "270\n",
      "271\n",
      "Token Pack (Cow Hump)\n",
      "4485.0\n",
      "272\n",
      "Value Pack (Cow Assorted)\n",
      "2340.0\n",
      "Cow Head & Neck 1kg\n",
      "2340.0\n",
      "273\n",
      "Token Pack (Chicken)\n"
     ]
    },
    {
     "name": "stdout",
     "output_type": "stream",
     "text": [
      "1170.0\n",
      "274\n",
      "Token pack(boneless beef)\n",
      "1170.0\n",
      "275\n",
      "276\n",
      "Agemawo 1kg\n",
      "8320.0\n",
      "Goat Meat 1kg\n",
      "8320.0\n",
      "277\n",
      "278\n",
      "279\n",
      "280\n",
      "Value Pack (Cow Assorted)\n",
      "5200.0\n",
      "Value Pack (Hake)\n",
      "5200.0\n",
      "281\n",
      "Token Pack (Cow Leg)\n",
      "4680.0\n",
      "Token Pack (Chicken)\n",
      "4680.0\n",
      "Token Pack (Titus)\n",
      "4680.0\n",
      "282\n",
      "Value Pack (Agemawo)\n",
      "2600.0\n",
      "283\n",
      "284\n",
      "285\n",
      "286\n",
      "Value Pack (Boneless Beef)\n",
      "2340.0\n",
      "287\n",
      "Token Pack (Agemawo)\n",
      "9100.0\n",
      "288\n",
      "289\n",
      "Token Pack (Agemawo)\n",
      "4810.0\n",
      "290\n",
      "Token Pack (Agemawo)\n",
      "2340.0\n",
      "Token Pack (Titus)\n",
      "2340.0\n",
      "291\n",
      "Token Pack (Titus)\n",
      "1170.0\n",
      "292\n",
      "Agemawo 1kg\n",
      "6045.0\n",
      "Hake 1kg\n",
      "6045.0\n",
      "293\n",
      "Token Pack (Cow Head & Neck)\n",
      "3510.0\n",
      "Value Pack (Boneless Beef)\n",
      "3510.0\n",
      "294\n",
      "Token Pack (Cow Tail)\n",
      "3510.0\n",
      "Token Pack (Cow Head & Neck)\n",
      "3510.0\n",
      "295\n",
      "Value Pack (Boneless Beef)\n",
      "2340.0\n",
      "296\n",
      "Token Pack (Cow Tail)\n",
      "49920.0\n",
      "Value Pack (Agemawo)\n",
      "49920.0\n",
      "Value Pack (Cow Assorted)\n",
      "49920.0\n",
      "Value Pack (Chicken)\n",
      "49920.0\n",
      "297\n",
      "298\n",
      "Token Pack (Shaki & Roundabout)\n",
      "3770.0\n",
      "299\n"
     ]
    }
   ],
   "source": [
    "for index,record in df_sub.iterrows():\n",
    "    print(index)\n",
    "    for product in product_list:\n",
    "        if record[product] == 0.0:\n",
    "            continue\n",
    "        else:\n",
    "            \n",
    "            print(product)\n",
    "            print(record[\"Naira Value\"])"
   ]
  },
  {
   "cell_type": "code",
   "execution_count": 61,
   "id": "a49b06f5",
   "metadata": {
    "scrolled": true
   },
   "outputs": [
    {
     "data": {
      "text/plain": [
       "Date                                           datetime64[ns]\n",
       "Name of Customer                                       object\n",
       "Time of Order                                  datetime64[ns]\n",
       "Expected Time out                              datetime64[ns]\n",
       "Expected Time of Delivery                      datetime64[ns]\n",
       "Time Out Update                                        object\n",
       "Why was the Order not Dispatched in 30mins?            object\n",
       "Action Taken                                           object\n",
       "New Expected Time Out                                  object\n",
       "New Expected Time of Delivery                          object\n",
       "Discount Type                                          object\n",
       "Discount Amount                                       float64\n",
       "Mode of Payment                                        object\n",
       "Delivery Status                                        object\n",
       "Actual Time Of Delivery                                object\n",
       "Duration(minutes)                                     float64\n",
       "Customer Type                                          object\n",
       "Token pack(boneless beef)                             float64\n",
       "Token Pack (Cow Tail)                                 float64\n",
       "Token Pack (Cow Hump)                                 float64\n",
       "Token Pack (Cow Head & Neck)                          float64\n",
       "Token Pack (Cow Leg)                                  float64\n",
       "Token Pack (Agemawo)                                  float64\n",
       "Token Pack (Cow Assorted)                             float64\n",
       "Token Pack (Pomo)                                     float64\n",
       "Token Pack (Cow Minced Meat)                          float64\n",
       "Token Pack (Shaki & Roundabout)                       float64\n",
       "Value Pack (Agemawo)                                  float64\n",
       "Value Pack (Boneless Beef)                            float64\n",
       "Value Pack (Cow Head & Neck)                          float64\n",
       "Value Pack (Cow Hump)                                 float64\n",
       "Value Pack (Cow Assorted)                             float64\n",
       "Token Pack (Goat Meat)                                float64\n",
       "Token Pack (Goat Assorted)                            float64\n",
       "Token Pack (Head & Leg)                               float64\n",
       "Value Pack (Goat Meat)                                float64\n",
       "Value Pack (Chicken)                                  float64\n",
       "Token Pack (Chicken Gizzard)                          float64\n",
       "Token Pack (Chicken)                                  float64\n",
       "Value Pack (Titus)                                    float64\n",
       "Token Pack (Hake)                                     float64\n",
       "Value Pack (Hake)                                     float64\n",
       "Token Pack (Titus)                                    float64\n",
       "Value Pack (Cow Tongue)                               float64\n",
       "Agemawo 1kg                                           float64\n",
       "Boneless Beef 1kg                                     float64\n",
       "Goat Meat 1kg                                         float64\n",
       "Hake 1kg                                              float64\n",
       "Hake 1kg (Cleaned)                                    float64\n",
       "Titus 1kg                                             float64\n",
       "Titus 1kg (Cleaned)                                   float64\n",
       "Chicken 1kg                                           float64\n",
       "Cow Head & Neck 1kg                                   float64\n",
       "Naira Value                                           float64\n",
       "Fulfilment Center                                      object\n",
       "dtype: object"
      ]
     },
     "execution_count": 61,
     "metadata": {},
     "output_type": "execute_result"
    }
   ],
   "source": [
    "df.dtypes"
   ]
  },
  {
   "cell_type": "code",
   "execution_count": 62,
   "id": "c0b1a27a",
   "metadata": {},
   "outputs": [
    {
     "data": {
      "text/plain": [
       "Mrs Adeleke       3\n",
       "Ola               3\n",
       "Ammansco          2\n",
       "Deborah           2\n",
       "Mrs Babatolu      2\n",
       "                 ..\n",
       "Mrs Sulyman       1\n",
       "Mrs omoyayi       1\n",
       "Mrs Yvonnegold    1\n",
       "Bash              1\n",
       "Mr Oladapo        1\n",
       "Name: Name of Customer, Length: 279, dtype: int64"
      ]
     },
     "execution_count": 62,
     "metadata": {},
     "output_type": "execute_result"
    }
   ],
   "source": [
    "df[\"Name of Customer\"].value_counts()"
   ]
  },
  {
   "cell_type": "markdown",
   "id": "5706e7f7",
   "metadata": {},
   "source": [
    "### Orders from customer type\n",
    "This section answers the question of how many orders came from old or existing customers and those that came from new customers."
   ]
  },
  {
   "cell_type": "code",
   "execution_count": 63,
   "id": "3b6aa4b9",
   "metadata": {},
   "outputs": [
    {
     "data": {
      "text/plain": [
       "Old Customer    249\n",
       "New Customer     31\n",
       "Old Custome       6\n",
       "Bicycle Op        5\n",
       "Retail            2\n",
       "New Custome       1\n",
       "OFC               1\n",
       "Name: Customer Type, dtype: int64"
      ]
     },
     "execution_count": 63,
     "metadata": {},
     "output_type": "execute_result"
    }
   ],
   "source": [
    "customer_count = df[\"Customer Type\"].value_counts() #The unique customer types and the count\n",
    "customer_count"
   ]
  },
  {
   "cell_type": "code",
   "execution_count": 64,
   "id": "4e15e407",
   "metadata": {},
   "outputs": [
    {
     "data": {
      "application/vnd.plotly.v1+json": {
       "config": {
        "plotlyServerURL": "https://plot.ly"
       },
       "data": [
        {
         "domain": {
          "x": [
           0,
           1
          ],
          "y": [
           0,
           1
          ]
         },
         "hole": 0.5,
         "hovertemplate": "label=%{label}<br>value=%{value}<extra></extra>",
         "labels": [
          "New Customers",
          "Old Customers",
          "other"
         ],
         "legendgroup": "",
         "name": "",
         "showlegend": true,
         "type": "pie",
         "values": [
          32,
          255,
          8
         ]
        }
       ],
       "layout": {
        "legend": {
         "tracegroupgap": 0
        },
        "template": {
         "data": {
          "bar": [
           {
            "error_x": {
             "color": "#2a3f5f"
            },
            "error_y": {
             "color": "#2a3f5f"
            },
            "marker": {
             "line": {
              "color": "#E5ECF6",
              "width": 0.5
             },
             "pattern": {
              "fillmode": "overlay",
              "size": 10,
              "solidity": 0.2
             }
            },
            "type": "bar"
           }
          ],
          "barpolar": [
           {
            "marker": {
             "line": {
              "color": "#E5ECF6",
              "width": 0.5
             },
             "pattern": {
              "fillmode": "overlay",
              "size": 10,
              "solidity": 0.2
             }
            },
            "type": "barpolar"
           }
          ],
          "carpet": [
           {
            "aaxis": {
             "endlinecolor": "#2a3f5f",
             "gridcolor": "white",
             "linecolor": "white",
             "minorgridcolor": "white",
             "startlinecolor": "#2a3f5f"
            },
            "baxis": {
             "endlinecolor": "#2a3f5f",
             "gridcolor": "white",
             "linecolor": "white",
             "minorgridcolor": "white",
             "startlinecolor": "#2a3f5f"
            },
            "type": "carpet"
           }
          ],
          "choropleth": [
           {
            "colorbar": {
             "outlinewidth": 0,
             "ticks": ""
            },
            "type": "choropleth"
           }
          ],
          "contour": [
           {
            "colorbar": {
             "outlinewidth": 0,
             "ticks": ""
            },
            "colorscale": [
             [
              0,
              "#0d0887"
             ],
             [
              0.1111111111111111,
              "#46039f"
             ],
             [
              0.2222222222222222,
              "#7201a8"
             ],
             [
              0.3333333333333333,
              "#9c179e"
             ],
             [
              0.4444444444444444,
              "#bd3786"
             ],
             [
              0.5555555555555556,
              "#d8576b"
             ],
             [
              0.6666666666666666,
              "#ed7953"
             ],
             [
              0.7777777777777778,
              "#fb9f3a"
             ],
             [
              0.8888888888888888,
              "#fdca26"
             ],
             [
              1,
              "#f0f921"
             ]
            ],
            "type": "contour"
           }
          ],
          "contourcarpet": [
           {
            "colorbar": {
             "outlinewidth": 0,
             "ticks": ""
            },
            "type": "contourcarpet"
           }
          ],
          "heatmap": [
           {
            "colorbar": {
             "outlinewidth": 0,
             "ticks": ""
            },
            "colorscale": [
             [
              0,
              "#0d0887"
             ],
             [
              0.1111111111111111,
              "#46039f"
             ],
             [
              0.2222222222222222,
              "#7201a8"
             ],
             [
              0.3333333333333333,
              "#9c179e"
             ],
             [
              0.4444444444444444,
              "#bd3786"
             ],
             [
              0.5555555555555556,
              "#d8576b"
             ],
             [
              0.6666666666666666,
              "#ed7953"
             ],
             [
              0.7777777777777778,
              "#fb9f3a"
             ],
             [
              0.8888888888888888,
              "#fdca26"
             ],
             [
              1,
              "#f0f921"
             ]
            ],
            "type": "heatmap"
           }
          ],
          "heatmapgl": [
           {
            "colorbar": {
             "outlinewidth": 0,
             "ticks": ""
            },
            "colorscale": [
             [
              0,
              "#0d0887"
             ],
             [
              0.1111111111111111,
              "#46039f"
             ],
             [
              0.2222222222222222,
              "#7201a8"
             ],
             [
              0.3333333333333333,
              "#9c179e"
             ],
             [
              0.4444444444444444,
              "#bd3786"
             ],
             [
              0.5555555555555556,
              "#d8576b"
             ],
             [
              0.6666666666666666,
              "#ed7953"
             ],
             [
              0.7777777777777778,
              "#fb9f3a"
             ],
             [
              0.8888888888888888,
              "#fdca26"
             ],
             [
              1,
              "#f0f921"
             ]
            ],
            "type": "heatmapgl"
           }
          ],
          "histogram": [
           {
            "marker": {
             "pattern": {
              "fillmode": "overlay",
              "size": 10,
              "solidity": 0.2
             }
            },
            "type": "histogram"
           }
          ],
          "histogram2d": [
           {
            "colorbar": {
             "outlinewidth": 0,
             "ticks": ""
            },
            "colorscale": [
             [
              0,
              "#0d0887"
             ],
             [
              0.1111111111111111,
              "#46039f"
             ],
             [
              0.2222222222222222,
              "#7201a8"
             ],
             [
              0.3333333333333333,
              "#9c179e"
             ],
             [
              0.4444444444444444,
              "#bd3786"
             ],
             [
              0.5555555555555556,
              "#d8576b"
             ],
             [
              0.6666666666666666,
              "#ed7953"
             ],
             [
              0.7777777777777778,
              "#fb9f3a"
             ],
             [
              0.8888888888888888,
              "#fdca26"
             ],
             [
              1,
              "#f0f921"
             ]
            ],
            "type": "histogram2d"
           }
          ],
          "histogram2dcontour": [
           {
            "colorbar": {
             "outlinewidth": 0,
             "ticks": ""
            },
            "colorscale": [
             [
              0,
              "#0d0887"
             ],
             [
              0.1111111111111111,
              "#46039f"
             ],
             [
              0.2222222222222222,
              "#7201a8"
             ],
             [
              0.3333333333333333,
              "#9c179e"
             ],
             [
              0.4444444444444444,
              "#bd3786"
             ],
             [
              0.5555555555555556,
              "#d8576b"
             ],
             [
              0.6666666666666666,
              "#ed7953"
             ],
             [
              0.7777777777777778,
              "#fb9f3a"
             ],
             [
              0.8888888888888888,
              "#fdca26"
             ],
             [
              1,
              "#f0f921"
             ]
            ],
            "type": "histogram2dcontour"
           }
          ],
          "mesh3d": [
           {
            "colorbar": {
             "outlinewidth": 0,
             "ticks": ""
            },
            "type": "mesh3d"
           }
          ],
          "parcoords": [
           {
            "line": {
             "colorbar": {
              "outlinewidth": 0,
              "ticks": ""
             }
            },
            "type": "parcoords"
           }
          ],
          "pie": [
           {
            "automargin": true,
            "type": "pie"
           }
          ],
          "scatter": [
           {
            "fillpattern": {
             "fillmode": "overlay",
             "size": 10,
             "solidity": 0.2
            },
            "type": "scatter"
           }
          ],
          "scatter3d": [
           {
            "line": {
             "colorbar": {
              "outlinewidth": 0,
              "ticks": ""
             }
            },
            "marker": {
             "colorbar": {
              "outlinewidth": 0,
              "ticks": ""
             }
            },
            "type": "scatter3d"
           }
          ],
          "scattercarpet": [
           {
            "marker": {
             "colorbar": {
              "outlinewidth": 0,
              "ticks": ""
             }
            },
            "type": "scattercarpet"
           }
          ],
          "scattergeo": [
           {
            "marker": {
             "colorbar": {
              "outlinewidth": 0,
              "ticks": ""
             }
            },
            "type": "scattergeo"
           }
          ],
          "scattergl": [
           {
            "marker": {
             "colorbar": {
              "outlinewidth": 0,
              "ticks": ""
             }
            },
            "type": "scattergl"
           }
          ],
          "scattermapbox": [
           {
            "marker": {
             "colorbar": {
              "outlinewidth": 0,
              "ticks": ""
             }
            },
            "type": "scattermapbox"
           }
          ],
          "scatterpolar": [
           {
            "marker": {
             "colorbar": {
              "outlinewidth": 0,
              "ticks": ""
             }
            },
            "type": "scatterpolar"
           }
          ],
          "scatterpolargl": [
           {
            "marker": {
             "colorbar": {
              "outlinewidth": 0,
              "ticks": ""
             }
            },
            "type": "scatterpolargl"
           }
          ],
          "scatterternary": [
           {
            "marker": {
             "colorbar": {
              "outlinewidth": 0,
              "ticks": ""
             }
            },
            "type": "scatterternary"
           }
          ],
          "surface": [
           {
            "colorbar": {
             "outlinewidth": 0,
             "ticks": ""
            },
            "colorscale": [
             [
              0,
              "#0d0887"
             ],
             [
              0.1111111111111111,
              "#46039f"
             ],
             [
              0.2222222222222222,
              "#7201a8"
             ],
             [
              0.3333333333333333,
              "#9c179e"
             ],
             [
              0.4444444444444444,
              "#bd3786"
             ],
             [
              0.5555555555555556,
              "#d8576b"
             ],
             [
              0.6666666666666666,
              "#ed7953"
             ],
             [
              0.7777777777777778,
              "#fb9f3a"
             ],
             [
              0.8888888888888888,
              "#fdca26"
             ],
             [
              1,
              "#f0f921"
             ]
            ],
            "type": "surface"
           }
          ],
          "table": [
           {
            "cells": {
             "fill": {
              "color": "#EBF0F8"
             },
             "line": {
              "color": "white"
             }
            },
            "header": {
             "fill": {
              "color": "#C8D4E3"
             },
             "line": {
              "color": "white"
             }
            },
            "type": "table"
           }
          ]
         },
         "layout": {
          "annotationdefaults": {
           "arrowcolor": "#2a3f5f",
           "arrowhead": 0,
           "arrowwidth": 1
          },
          "autotypenumbers": "strict",
          "coloraxis": {
           "colorbar": {
            "outlinewidth": 0,
            "ticks": ""
           }
          },
          "colorscale": {
           "diverging": [
            [
             0,
             "#8e0152"
            ],
            [
             0.1,
             "#c51b7d"
            ],
            [
             0.2,
             "#de77ae"
            ],
            [
             0.3,
             "#f1b6da"
            ],
            [
             0.4,
             "#fde0ef"
            ],
            [
             0.5,
             "#f7f7f7"
            ],
            [
             0.6,
             "#e6f5d0"
            ],
            [
             0.7,
             "#b8e186"
            ],
            [
             0.8,
             "#7fbc41"
            ],
            [
             0.9,
             "#4d9221"
            ],
            [
             1,
             "#276419"
            ]
           ],
           "sequential": [
            [
             0,
             "#0d0887"
            ],
            [
             0.1111111111111111,
             "#46039f"
            ],
            [
             0.2222222222222222,
             "#7201a8"
            ],
            [
             0.3333333333333333,
             "#9c179e"
            ],
            [
             0.4444444444444444,
             "#bd3786"
            ],
            [
             0.5555555555555556,
             "#d8576b"
            ],
            [
             0.6666666666666666,
             "#ed7953"
            ],
            [
             0.7777777777777778,
             "#fb9f3a"
            ],
            [
             0.8888888888888888,
             "#fdca26"
            ],
            [
             1,
             "#f0f921"
            ]
           ],
           "sequentialminus": [
            [
             0,
             "#0d0887"
            ],
            [
             0.1111111111111111,
             "#46039f"
            ],
            [
             0.2222222222222222,
             "#7201a8"
            ],
            [
             0.3333333333333333,
             "#9c179e"
            ],
            [
             0.4444444444444444,
             "#bd3786"
            ],
            [
             0.5555555555555556,
             "#d8576b"
            ],
            [
             0.6666666666666666,
             "#ed7953"
            ],
            [
             0.7777777777777778,
             "#fb9f3a"
            ],
            [
             0.8888888888888888,
             "#fdca26"
            ],
            [
             1,
             "#f0f921"
            ]
           ]
          },
          "colorway": [
           "#636efa",
           "#EF553B",
           "#00cc96",
           "#ab63fa",
           "#FFA15A",
           "#19d3f3",
           "#FF6692",
           "#B6E880",
           "#FF97FF",
           "#FECB52"
          ],
          "font": {
           "color": "#2a3f5f"
          },
          "geo": {
           "bgcolor": "white",
           "lakecolor": "white",
           "landcolor": "#E5ECF6",
           "showlakes": true,
           "showland": true,
           "subunitcolor": "white"
          },
          "hoverlabel": {
           "align": "left"
          },
          "hovermode": "closest",
          "mapbox": {
           "style": "light"
          },
          "paper_bgcolor": "white",
          "plot_bgcolor": "#E5ECF6",
          "polar": {
           "angularaxis": {
            "gridcolor": "white",
            "linecolor": "white",
            "ticks": ""
           },
           "bgcolor": "#E5ECF6",
           "radialaxis": {
            "gridcolor": "white",
            "linecolor": "white",
            "ticks": ""
           }
          },
          "scene": {
           "xaxis": {
            "backgroundcolor": "#E5ECF6",
            "gridcolor": "white",
            "gridwidth": 2,
            "linecolor": "white",
            "showbackground": true,
            "ticks": "",
            "zerolinecolor": "white"
           },
           "yaxis": {
            "backgroundcolor": "#E5ECF6",
            "gridcolor": "white",
            "gridwidth": 2,
            "linecolor": "white",
            "showbackground": true,
            "ticks": "",
            "zerolinecolor": "white"
           },
           "zaxis": {
            "backgroundcolor": "#E5ECF6",
            "gridcolor": "white",
            "gridwidth": 2,
            "linecolor": "white",
            "showbackground": true,
            "ticks": "",
            "zerolinecolor": "white"
           }
          },
          "shapedefaults": {
           "line": {
            "color": "#2a3f5f"
           }
          },
          "ternary": {
           "aaxis": {
            "gridcolor": "white",
            "linecolor": "white",
            "ticks": ""
           },
           "baxis": {
            "gridcolor": "white",
            "linecolor": "white",
            "ticks": ""
           },
           "bgcolor": "#E5ECF6",
           "caxis": {
            "gridcolor": "white",
            "linecolor": "white",
            "ticks": ""
           }
          },
          "title": {
           "x": 0.05
          },
          "xaxis": {
           "automargin": true,
           "gridcolor": "white",
           "linecolor": "white",
           "ticks": "",
           "title": {
            "standoff": 15
           },
           "zerolinecolor": "white",
           "zerolinewidth": 2
          },
          "yaxis": {
           "automargin": true,
           "gridcolor": "white",
           "linecolor": "white",
           "ticks": "",
           "title": {
            "standoff": 15
           },
           "zerolinecolor": "white",
           "zerolinewidth": 2
          }
         }
        },
        "title": {
         "text": "Orders from different Customer Types"
        }
       }
      },
      "text/html": [
       "<div>                            <div id=\"58c866eb-5723-4546-b906-01810d2a8e57\" class=\"plotly-graph-div\" style=\"height:525px; width:100%;\"></div>            <script type=\"text/javascript\">                require([\"plotly\"], function(Plotly) {                    window.PLOTLYENV=window.PLOTLYENV || {};                                    if (document.getElementById(\"58c866eb-5723-4546-b906-01810d2a8e57\")) {                    Plotly.newPlot(                        \"58c866eb-5723-4546-b906-01810d2a8e57\",                        [{\"domain\":{\"x\":[0.0,1.0],\"y\":[0.0,1.0]},\"hole\":0.5,\"hovertemplate\":\"label=%{label}<br>value=%{value}<extra></extra>\",\"labels\":[\"New Customers\",\"Old Customers\",\"other\"],\"legendgroup\":\"\",\"name\":\"\",\"showlegend\":true,\"values\":[32,255,8],\"type\":\"pie\"}],                        {\"template\":{\"data\":{\"histogram2dcontour\":[{\"type\":\"histogram2dcontour\",\"colorbar\":{\"outlinewidth\":0,\"ticks\":\"\"},\"colorscale\":[[0.0,\"#0d0887\"],[0.1111111111111111,\"#46039f\"],[0.2222222222222222,\"#7201a8\"],[0.3333333333333333,\"#9c179e\"],[0.4444444444444444,\"#bd3786\"],[0.5555555555555556,\"#d8576b\"],[0.6666666666666666,\"#ed7953\"],[0.7777777777777778,\"#fb9f3a\"],[0.8888888888888888,\"#fdca26\"],[1.0,\"#f0f921\"]]}],\"choropleth\":[{\"type\":\"choropleth\",\"colorbar\":{\"outlinewidth\":0,\"ticks\":\"\"}}],\"histogram2d\":[{\"type\":\"histogram2d\",\"colorbar\":{\"outlinewidth\":0,\"ticks\":\"\"},\"colorscale\":[[0.0,\"#0d0887\"],[0.1111111111111111,\"#46039f\"],[0.2222222222222222,\"#7201a8\"],[0.3333333333333333,\"#9c179e\"],[0.4444444444444444,\"#bd3786\"],[0.5555555555555556,\"#d8576b\"],[0.6666666666666666,\"#ed7953\"],[0.7777777777777778,\"#fb9f3a\"],[0.8888888888888888,\"#fdca26\"],[1.0,\"#f0f921\"]]}],\"heatmap\":[{\"type\":\"heatmap\",\"colorbar\":{\"outlinewidth\":0,\"ticks\":\"\"},\"colorscale\":[[0.0,\"#0d0887\"],[0.1111111111111111,\"#46039f\"],[0.2222222222222222,\"#7201a8\"],[0.3333333333333333,\"#9c179e\"],[0.4444444444444444,\"#bd3786\"],[0.5555555555555556,\"#d8576b\"],[0.6666666666666666,\"#ed7953\"],[0.7777777777777778,\"#fb9f3a\"],[0.8888888888888888,\"#fdca26\"],[1.0,\"#f0f921\"]]}],\"heatmapgl\":[{\"type\":\"heatmapgl\",\"colorbar\":{\"outlinewidth\":0,\"ticks\":\"\"},\"colorscale\":[[0.0,\"#0d0887\"],[0.1111111111111111,\"#46039f\"],[0.2222222222222222,\"#7201a8\"],[0.3333333333333333,\"#9c179e\"],[0.4444444444444444,\"#bd3786\"],[0.5555555555555556,\"#d8576b\"],[0.6666666666666666,\"#ed7953\"],[0.7777777777777778,\"#fb9f3a\"],[0.8888888888888888,\"#fdca26\"],[1.0,\"#f0f921\"]]}],\"contourcarpet\":[{\"type\":\"contourcarpet\",\"colorbar\":{\"outlinewidth\":0,\"ticks\":\"\"}}],\"contour\":[{\"type\":\"contour\",\"colorbar\":{\"outlinewidth\":0,\"ticks\":\"\"},\"colorscale\":[[0.0,\"#0d0887\"],[0.1111111111111111,\"#46039f\"],[0.2222222222222222,\"#7201a8\"],[0.3333333333333333,\"#9c179e\"],[0.4444444444444444,\"#bd3786\"],[0.5555555555555556,\"#d8576b\"],[0.6666666666666666,\"#ed7953\"],[0.7777777777777778,\"#fb9f3a\"],[0.8888888888888888,\"#fdca26\"],[1.0,\"#f0f921\"]]}],\"surface\":[{\"type\":\"surface\",\"colorbar\":{\"outlinewidth\":0,\"ticks\":\"\"},\"colorscale\":[[0.0,\"#0d0887\"],[0.1111111111111111,\"#46039f\"],[0.2222222222222222,\"#7201a8\"],[0.3333333333333333,\"#9c179e\"],[0.4444444444444444,\"#bd3786\"],[0.5555555555555556,\"#d8576b\"],[0.6666666666666666,\"#ed7953\"],[0.7777777777777778,\"#fb9f3a\"],[0.8888888888888888,\"#fdca26\"],[1.0,\"#f0f921\"]]}],\"mesh3d\":[{\"type\":\"mesh3d\",\"colorbar\":{\"outlinewidth\":0,\"ticks\":\"\"}}],\"scatter\":[{\"fillpattern\":{\"fillmode\":\"overlay\",\"size\":10,\"solidity\":0.2},\"type\":\"scatter\"}],\"parcoords\":[{\"type\":\"parcoords\",\"line\":{\"colorbar\":{\"outlinewidth\":0,\"ticks\":\"\"}}}],\"scatterpolargl\":[{\"type\":\"scatterpolargl\",\"marker\":{\"colorbar\":{\"outlinewidth\":0,\"ticks\":\"\"}}}],\"bar\":[{\"error_x\":{\"color\":\"#2a3f5f\"},\"error_y\":{\"color\":\"#2a3f5f\"},\"marker\":{\"line\":{\"color\":\"#E5ECF6\",\"width\":0.5},\"pattern\":{\"fillmode\":\"overlay\",\"size\":10,\"solidity\":0.2}},\"type\":\"bar\"}],\"scattergeo\":[{\"type\":\"scattergeo\",\"marker\":{\"colorbar\":{\"outlinewidth\":0,\"ticks\":\"\"}}}],\"scatterpolar\":[{\"type\":\"scatterpolar\",\"marker\":{\"colorbar\":{\"outlinewidth\":0,\"ticks\":\"\"}}}],\"histogram\":[{\"marker\":{\"pattern\":{\"fillmode\":\"overlay\",\"size\":10,\"solidity\":0.2}},\"type\":\"histogram\"}],\"scattergl\":[{\"type\":\"scattergl\",\"marker\":{\"colorbar\":{\"outlinewidth\":0,\"ticks\":\"\"}}}],\"scatter3d\":[{\"type\":\"scatter3d\",\"line\":{\"colorbar\":{\"outlinewidth\":0,\"ticks\":\"\"}},\"marker\":{\"colorbar\":{\"outlinewidth\":0,\"ticks\":\"\"}}}],\"scattermapbox\":[{\"type\":\"scattermapbox\",\"marker\":{\"colorbar\":{\"outlinewidth\":0,\"ticks\":\"\"}}}],\"scatterternary\":[{\"type\":\"scatterternary\",\"marker\":{\"colorbar\":{\"outlinewidth\":0,\"ticks\":\"\"}}}],\"scattercarpet\":[{\"type\":\"scattercarpet\",\"marker\":{\"colorbar\":{\"outlinewidth\":0,\"ticks\":\"\"}}}],\"carpet\":[{\"aaxis\":{\"endlinecolor\":\"#2a3f5f\",\"gridcolor\":\"white\",\"linecolor\":\"white\",\"minorgridcolor\":\"white\",\"startlinecolor\":\"#2a3f5f\"},\"baxis\":{\"endlinecolor\":\"#2a3f5f\",\"gridcolor\":\"white\",\"linecolor\":\"white\",\"minorgridcolor\":\"white\",\"startlinecolor\":\"#2a3f5f\"},\"type\":\"carpet\"}],\"table\":[{\"cells\":{\"fill\":{\"color\":\"#EBF0F8\"},\"line\":{\"color\":\"white\"}},\"header\":{\"fill\":{\"color\":\"#C8D4E3\"},\"line\":{\"color\":\"white\"}},\"type\":\"table\"}],\"barpolar\":[{\"marker\":{\"line\":{\"color\":\"#E5ECF6\",\"width\":0.5},\"pattern\":{\"fillmode\":\"overlay\",\"size\":10,\"solidity\":0.2}},\"type\":\"barpolar\"}],\"pie\":[{\"automargin\":true,\"type\":\"pie\"}]},\"layout\":{\"autotypenumbers\":\"strict\",\"colorway\":[\"#636efa\",\"#EF553B\",\"#00cc96\",\"#ab63fa\",\"#FFA15A\",\"#19d3f3\",\"#FF6692\",\"#B6E880\",\"#FF97FF\",\"#FECB52\"],\"font\":{\"color\":\"#2a3f5f\"},\"hovermode\":\"closest\",\"hoverlabel\":{\"align\":\"left\"},\"paper_bgcolor\":\"white\",\"plot_bgcolor\":\"#E5ECF6\",\"polar\":{\"bgcolor\":\"#E5ECF6\",\"angularaxis\":{\"gridcolor\":\"white\",\"linecolor\":\"white\",\"ticks\":\"\"},\"radialaxis\":{\"gridcolor\":\"white\",\"linecolor\":\"white\",\"ticks\":\"\"}},\"ternary\":{\"bgcolor\":\"#E5ECF6\",\"aaxis\":{\"gridcolor\":\"white\",\"linecolor\":\"white\",\"ticks\":\"\"},\"baxis\":{\"gridcolor\":\"white\",\"linecolor\":\"white\",\"ticks\":\"\"},\"caxis\":{\"gridcolor\":\"white\",\"linecolor\":\"white\",\"ticks\":\"\"}},\"coloraxis\":{\"colorbar\":{\"outlinewidth\":0,\"ticks\":\"\"}},\"colorscale\":{\"sequential\":[[0.0,\"#0d0887\"],[0.1111111111111111,\"#46039f\"],[0.2222222222222222,\"#7201a8\"],[0.3333333333333333,\"#9c179e\"],[0.4444444444444444,\"#bd3786\"],[0.5555555555555556,\"#d8576b\"],[0.6666666666666666,\"#ed7953\"],[0.7777777777777778,\"#fb9f3a\"],[0.8888888888888888,\"#fdca26\"],[1.0,\"#f0f921\"]],\"sequentialminus\":[[0.0,\"#0d0887\"],[0.1111111111111111,\"#46039f\"],[0.2222222222222222,\"#7201a8\"],[0.3333333333333333,\"#9c179e\"],[0.4444444444444444,\"#bd3786\"],[0.5555555555555556,\"#d8576b\"],[0.6666666666666666,\"#ed7953\"],[0.7777777777777778,\"#fb9f3a\"],[0.8888888888888888,\"#fdca26\"],[1.0,\"#f0f921\"]],\"diverging\":[[0,\"#8e0152\"],[0.1,\"#c51b7d\"],[0.2,\"#de77ae\"],[0.3,\"#f1b6da\"],[0.4,\"#fde0ef\"],[0.5,\"#f7f7f7\"],[0.6,\"#e6f5d0\"],[0.7,\"#b8e186\"],[0.8,\"#7fbc41\"],[0.9,\"#4d9221\"],[1,\"#276419\"]]},\"xaxis\":{\"gridcolor\":\"white\",\"linecolor\":\"white\",\"ticks\":\"\",\"title\":{\"standoff\":15},\"zerolinecolor\":\"white\",\"automargin\":true,\"zerolinewidth\":2},\"yaxis\":{\"gridcolor\":\"white\",\"linecolor\":\"white\",\"ticks\":\"\",\"title\":{\"standoff\":15},\"zerolinecolor\":\"white\",\"automargin\":true,\"zerolinewidth\":2},\"scene\":{\"xaxis\":{\"backgroundcolor\":\"#E5ECF6\",\"gridcolor\":\"white\",\"linecolor\":\"white\",\"showbackground\":true,\"ticks\":\"\",\"zerolinecolor\":\"white\",\"gridwidth\":2},\"yaxis\":{\"backgroundcolor\":\"#E5ECF6\",\"gridcolor\":\"white\",\"linecolor\":\"white\",\"showbackground\":true,\"ticks\":\"\",\"zerolinecolor\":\"white\",\"gridwidth\":2},\"zaxis\":{\"backgroundcolor\":\"#E5ECF6\",\"gridcolor\":\"white\",\"linecolor\":\"white\",\"showbackground\":true,\"ticks\":\"\",\"zerolinecolor\":\"white\",\"gridwidth\":2}},\"shapedefaults\":{\"line\":{\"color\":\"#2a3f5f\"}},\"annotationdefaults\":{\"arrowcolor\":\"#2a3f5f\",\"arrowhead\":0,\"arrowwidth\":1},\"geo\":{\"bgcolor\":\"white\",\"landcolor\":\"#E5ECF6\",\"subunitcolor\":\"white\",\"showland\":true,\"showlakes\":true,\"lakecolor\":\"white\"},\"title\":{\"x\":0.05},\"mapbox\":{\"style\":\"light\"}}},\"legend\":{\"tracegroupgap\":0},\"title\":{\"text\":\"Orders from different Customer Types\"}},                        {\"responsive\": true}                    ).then(function(){\n",
       "                            \n",
       "var gd = document.getElementById('58c866eb-5723-4546-b906-01810d2a8e57');\n",
       "var x = new MutationObserver(function (mutations, observer) {{\n",
       "        var display = window.getComputedStyle(gd).display;\n",
       "        if (!display || display === 'none') {{\n",
       "            console.log([gd, 'removed!']);\n",
       "            Plotly.purge(gd);\n",
       "            observer.disconnect();\n",
       "        }}\n",
       "}});\n",
       "\n",
       "// Listen for the removal of the full notebook cells\n",
       "var notebookContainer = gd.closest('#notebook-container');\n",
       "if (notebookContainer) {{\n",
       "    x.observe(notebookContainer, {childList: true});\n",
       "}}\n",
       "\n",
       "// Listen for the clearing of the current output cell\n",
       "var outputEl = gd.closest('.output');\n",
       "if (outputEl) {{\n",
       "    x.observe(outputEl, {childList: true});\n",
       "}}\n",
       "\n",
       "                        })                };                });            </script>        </div>"
      ]
     },
     "metadata": {},
     "output_type": "display_data"
    }
   ],
   "source": [
    "new_customer = customer_count[\"New Customer\"] + customer_count[\"New Custome\"]\n",
    "old_customer = customer_count[\"Old Customer\"] + customer_count[\"Old Custome\"]\n",
    "other = customer_count[\"Bicycle Op\"] + customer_count[\"Retail\"] + customer_count[\"OFC\"]\n",
    "\n",
    "labels = ['New Customers','Old Customers','other']\n",
    "values = [new_customer, old_customer, other]\n",
    "\n",
    "fig = px.pie(values=values, names=labels, \n",
    "             title='Orders from different Customer Types', hole=0.5)\n",
    "fig.show()"
   ]
  },
  {
   "cell_type": "markdown",
   "id": "ace107c2",
   "metadata": {},
   "source": [
    "So the above donut plot shows that about 86 percent of the orders are from Old customers, which shows that customers are satisfied with the service and keep coming back. 10.8 per cent is from new customers, which shows there needs to be improved advertisement."
   ]
  },
  {
   "cell_type": "markdown",
   "id": "9409beb7",
   "metadata": {},
   "source": [
    "## Week days and weekends"
   ]
  },
  {
   "cell_type": "code",
   "execution_count": 95,
   "id": "3d11814a",
   "metadata": {},
   "outputs": [
    {
     "data": {
      "image/png": "[encoded data removed]",
      "text/plain": [
       "<Figure size 216x216 with 1 Axes>"
      ]
     },
     "metadata": {
      "needs_background": "light"
     },
     "output_type": "display_data"
    }
   ],
   "source": [
    "df[\"dayofweek\"] = df[\"Date\"].dt.dayofweek\n",
    "bins = np.linspace(df.dayofweek.min(), df.dayofweek.max(), 10)\n",
    "g = sns.FacetGrid(df)\n",
    "g.map(plt.hist, 'dayofweek', bins=bins, ec=\"k\")\n",
    "plt.show()"
   ]
  },
  {
   "cell_type": "code",
   "execution_count": 96,
   "id": "63006b59",
   "metadata": {},
   "outputs": [
    {
     "data": {
      "text/plain": [
       "5    66\n",
       "2    47\n",
       "4    44\n",
       "3    39\n",
       "1    38\n",
       "6    36\n",
       "0    29\n",
       "Name: dayofweek, dtype: int64"
      ]
     },
     "execution_count": 96,
     "metadata": {},
     "output_type": "execute_result"
    }
   ],
   "source": [
    "df[\"dayofweek\"].value_counts()"
   ]
  },
  {
   "cell_type": "markdown",
   "id": "9ce60d53",
   "metadata": {},
   "source": [
    "According to the above figure, there are more orders on day 5, which is Saturday"
   ]
  },
  {
   "cell_type": "code",
   "execution_count": 71,
   "id": "178344a8",
   "metadata": {},
   "outputs": [
    {
     "data": {
      "text/plain": [
       "0      2\n",
       "1      1\n",
       "2      5\n",
       "3      3\n",
       "4      6\n",
       "      ..\n",
       "295    4\n",
       "296    2\n",
       "297    4\n",
       "298    6\n",
       "299    5\n",
       "Name: dayofweek, Length: 299, dtype: int64"
      ]
     },
     "execution_count": 71,
     "metadata": {},
     "output_type": "execute_result"
    }
   ],
   "source": [
    "df[\"dayofweek\"]"
   ]
  },
  {
   "cell_type": "code",
   "execution_count": 72,
   "id": "2e9fd6d1",
   "metadata": {},
   "outputs": [
    {
     "data": {
      "text/html": [
       "<div>\n",
       "<style scoped>\n",
       "    .dataframe tbody tr th:only-of-type {\n",
       "        vertical-align: middle;\n",
       "    }\n",
       "\n",
       "    .dataframe tbody tr th {\n",
       "        vertical-align: top;\n",
       "    }\n",
       "\n",
       "    .dataframe thead th {\n",
       "        text-align: right;\n",
       "    }\n",
       "</style>\n",
       "<table border=\"1\" class=\"dataframe\">\n",
       "  <thead>\n",
       "    <tr style=\"text-align: right;\">\n",
       "      <th></th>\n",
       "      <th>Date</th>\n",
       "      <th>Name of Customer</th>\n",
       "      <th>Time of Order</th>\n",
       "      <th>Expected Time out</th>\n",
       "      <th>Expected Time of Delivery</th>\n",
       "      <th>Time Out Update</th>\n",
       "      <th>Why was the Order not Dispatched in 30mins?</th>\n",
       "      <th>Action Taken</th>\n",
       "      <th>New Expected Time Out</th>\n",
       "      <th>New Expected Time of Delivery</th>\n",
       "      <th>...</th>\n",
       "      <th>Hake 1kg</th>\n",
       "      <th>Hake 1kg (Cleaned)</th>\n",
       "      <th>Titus 1kg</th>\n",
       "      <th>Titus 1kg (Cleaned)</th>\n",
       "      <th>Chicken 1kg</th>\n",
       "      <th>Cow Head &amp; Neck 1kg</th>\n",
       "      <th>Naira Value</th>\n",
       "      <th>Fulfilment Center</th>\n",
       "      <th>dayofweek</th>\n",
       "      <th>weekend</th>\n",
       "    </tr>\n",
       "  </thead>\n",
       "  <tbody>\n",
       "    <tr>\n",
       "      <th>0</th>\n",
       "      <td>2022-07-06</td>\n",
       "      <td>Mr Ojo Olukunle</td>\n",
       "      <td>2022-09-13 17:05:00</td>\n",
       "      <td>2022-09-13 17:35:00</td>\n",
       "      <td>2022-09-13 18:35:00</td>\n",
       "      <td>NaN</td>\n",
       "      <td>NaN</td>\n",
       "      <td>NaN</td>\n",
       "      <td>NaN</td>\n",
       "      <td>NaN</td>\n",
       "      <td>...</td>\n",
       "      <td>NaN</td>\n",
       "      <td>NaN</td>\n",
       "      <td>NaN</td>\n",
       "      <td>NaN</td>\n",
       "      <td>NaN</td>\n",
       "      <td>NaN</td>\n",
       "      <td>3185.0</td>\n",
       "      <td>Bashorun</td>\n",
       "      <td>2</td>\n",
       "      <td>0</td>\n",
       "    </tr>\n",
       "    <tr>\n",
       "      <th>1</th>\n",
       "      <td>2022-07-26</td>\n",
       "      <td>Mrs Adedokun</td>\n",
       "      <td>2022-09-13 11:43:00</td>\n",
       "      <td>2022-09-13 12:13:00</td>\n",
       "      <td>2022-09-13 13:13:00</td>\n",
       "      <td>Gone</td>\n",
       "      <td>NaN</td>\n",
       "      <td>NaN</td>\n",
       "      <td>NaN</td>\n",
       "      <td>NaN</td>\n",
       "      <td>...</td>\n",
       "      <td>NaN</td>\n",
       "      <td>NaN</td>\n",
       "      <td>NaN</td>\n",
       "      <td>NaN</td>\n",
       "      <td>NaN</td>\n",
       "      <td>NaN</td>\n",
       "      <td>2340.0</td>\n",
       "      <td>Akobo</td>\n",
       "      <td>1</td>\n",
       "      <td>0</td>\n",
       "    </tr>\n",
       "    <tr>\n",
       "      <th>2</th>\n",
       "      <td>2022-08-20</td>\n",
       "      <td>Kemi</td>\n",
       "      <td>2022-09-13 11:49:00</td>\n",
       "      <td>2022-09-13 12:19:00</td>\n",
       "      <td>2022-09-13 14:19:00</td>\n",
       "      <td>Gone</td>\n",
       "      <td>NaN</td>\n",
       "      <td>NaN</td>\n",
       "      <td>NaN</td>\n",
       "      <td>NaN</td>\n",
       "      <td>...</td>\n",
       "      <td>NaN</td>\n",
       "      <td>NaN</td>\n",
       "      <td>NaN</td>\n",
       "      <td>NaN</td>\n",
       "      <td>NaN</td>\n",
       "      <td>NaN</td>\n",
       "      <td>2340.0</td>\n",
       "      <td>Aleshinloye</td>\n",
       "      <td>5</td>\n",
       "      <td>1</td>\n",
       "    </tr>\n",
       "    <tr>\n",
       "      <th>3</th>\n",
       "      <td>2022-12-08</td>\n",
       "      <td>Omotayo A.</td>\n",
       "      <td>2022-09-13 11:43:00</td>\n",
       "      <td>2022-09-13 12:13:00</td>\n",
       "      <td>2022-09-13 13:13:00</td>\n",
       "      <td>Gone</td>\n",
       "      <td>NaN</td>\n",
       "      <td>NaN</td>\n",
       "      <td>NaN</td>\n",
       "      <td>NaN</td>\n",
       "      <td>...</td>\n",
       "      <td>NaN</td>\n",
       "      <td>NaN</td>\n",
       "      <td>NaN</td>\n",
       "      <td>NaN</td>\n",
       "      <td>NaN</td>\n",
       "      <td>NaN</td>\n",
       "      <td>2340.0</td>\n",
       "      <td>Onikolobo</td>\n",
       "      <td>3</td>\n",
       "      <td>0</td>\n",
       "    </tr>\n",
       "    <tr>\n",
       "      <th>4</th>\n",
       "      <td>2022-03-06</td>\n",
       "      <td>Osasu</td>\n",
       "      <td>2022-09-13 14:37:00</td>\n",
       "      <td>2022-09-13 15:07:00</td>\n",
       "      <td>2022-09-13 17:07:00</td>\n",
       "      <td>NaN</td>\n",
       "      <td>NaN</td>\n",
       "      <td>NaN</td>\n",
       "      <td>NaN</td>\n",
       "      <td>NaN</td>\n",
       "      <td>...</td>\n",
       "      <td>NaN</td>\n",
       "      <td>NaN</td>\n",
       "      <td>NaN</td>\n",
       "      <td>NaN</td>\n",
       "      <td>NaN</td>\n",
       "      <td>NaN</td>\n",
       "      <td>1430.0</td>\n",
       "      <td>Alakia</td>\n",
       "      <td>6</td>\n",
       "      <td>1</td>\n",
       "    </tr>\n",
       "  </tbody>\n",
       "</table>\n",
       "<p>5 rows × 57 columns</p>\n",
       "</div>"
      ],
      "text/plain": [
       "        Date Name of Customer       Time of Order   Expected Time out  \\\n",
       "0 2022-07-06  Mr Ojo Olukunle 2022-09-13 17:05:00 2022-09-13 17:35:00   \n",
       "1 2022-07-26     Mrs Adedokun 2022-09-13 11:43:00 2022-09-13 12:13:00   \n",
       "2 2022-08-20             Kemi 2022-09-13 11:49:00 2022-09-13 12:19:00   \n",
       "3 2022-12-08       Omotayo A. 2022-09-13 11:43:00 2022-09-13 12:13:00   \n",
       "4 2022-03-06            Osasu 2022-09-13 14:37:00 2022-09-13 15:07:00   \n",
       "\n",
       "  Expected Time of Delivery Time Out Update  \\\n",
       "0       2022-09-13 18:35:00             NaN   \n",
       "1       2022-09-13 13:13:00            Gone   \n",
       "2       2022-09-13 14:19:00            Gone   \n",
       "3       2022-09-13 13:13:00            Gone   \n",
       "4       2022-09-13 17:07:00             NaN   \n",
       "\n",
       "  Why was the Order not Dispatched in 30mins? Action Taken  \\\n",
       "0                                         NaN          NaN   \n",
       "1                                         NaN          NaN   \n",
       "2                                         NaN          NaN   \n",
       "3                                         NaN          NaN   \n",
       "4                                         NaN          NaN   \n",
       "\n",
       "  New Expected Time Out New Expected Time of Delivery  ... Hake 1kg  \\\n",
       "0                   NaN                           NaN  ...      NaN   \n",
       "1                   NaN                           NaN  ...      NaN   \n",
       "2                   NaN                           NaN  ...      NaN   \n",
       "3                   NaN                           NaN  ...      NaN   \n",
       "4                   NaN                           NaN  ...      NaN   \n",
       "\n",
       "   Hake 1kg (Cleaned) Titus 1kg Titus 1kg (Cleaned) Chicken 1kg  \\\n",
       "0                 NaN       NaN                 NaN         NaN   \n",
       "1                 NaN       NaN                 NaN         NaN   \n",
       "2                 NaN       NaN                 NaN         NaN   \n",
       "3                 NaN       NaN                 NaN         NaN   \n",
       "4                 NaN       NaN                 NaN         NaN   \n",
       "\n",
       "   Cow Head & Neck 1kg Naira Value  Fulfilment Center  dayofweek  weekend  \n",
       "0                  NaN      3185.0           Bashorun          2        0  \n",
       "1                  NaN      2340.0              Akobo          1        0  \n",
       "2                  NaN      2340.0        Aleshinloye          5        1  \n",
       "3                  NaN      2340.0          Onikolobo          3        0  \n",
       "4                  NaN      1430.0             Alakia          6        1  \n",
       "\n",
       "[5 rows x 57 columns]"
      ]
     },
     "execution_count": 72,
     "metadata": {},
     "output_type": "execute_result"
    }
   ],
   "source": [
    "df['weekend'] = df['dayofweek'].apply(lambda x: 1 if (x>3)  else 0)\n",
    "df.head()"
   ]
  },
  {
   "cell_type": "code",
   "execution_count": 69,
   "id": "96801829",
   "metadata": {},
   "outputs": [
    {
     "data": {
      "text/plain": [
       "dtype('<M8[ns]')"
      ]
     },
     "execution_count": 69,
     "metadata": {},
     "output_type": "execute_result"
    }
   ],
   "source": [
    "df[\"Date\"].dtype"
   ]
  },
  {
   "cell_type": "code",
   "execution_count": 65,
   "id": "f78f0226",
   "metadata": {},
   "outputs": [
    {
     "data": {
      "text/html": [
       "<div>\n",
       "<style scoped>\n",
       "    .dataframe tbody tr th:only-of-type {\n",
       "        vertical-align: middle;\n",
       "    }\n",
       "\n",
       "    .dataframe tbody tr th {\n",
       "        vertical-align: top;\n",
       "    }\n",
       "\n",
       "    .dataframe thead th {\n",
       "        text-align: right;\n",
       "    }\n",
       "</style>\n",
       "<table border=\"1\" class=\"dataframe\">\n",
       "  <thead>\n",
       "    <tr style=\"text-align: right;\">\n",
       "      <th></th>\n",
       "      <th>Date</th>\n",
       "      <th>Name of Customer</th>\n",
       "      <th>Time of Order</th>\n",
       "      <th>Expected Time out</th>\n",
       "      <th>Expected Time of Delivery</th>\n",
       "      <th>Time Out Update</th>\n",
       "      <th>Why was the Order not Dispatched in 30mins?</th>\n",
       "      <th>Action Taken</th>\n",
       "      <th>New Expected Time Out</th>\n",
       "      <th>New Expected Time of Delivery</th>\n",
       "      <th>...</th>\n",
       "      <th>Boneless Beef 1kg</th>\n",
       "      <th>Goat Meat 1kg</th>\n",
       "      <th>Hake 1kg</th>\n",
       "      <th>Hake 1kg (Cleaned)</th>\n",
       "      <th>Titus 1kg</th>\n",
       "      <th>Titus 1kg (Cleaned)</th>\n",
       "      <th>Chicken 1kg</th>\n",
       "      <th>Cow Head &amp; Neck 1kg</th>\n",
       "      <th>Naira Value</th>\n",
       "      <th>Fulfilment Center</th>\n",
       "    </tr>\n",
       "  </thead>\n",
       "  <tbody>\n",
       "    <tr>\n",
       "      <th>0</th>\n",
       "      <td>2022-07-06</td>\n",
       "      <td>Mr Ojo Olukunle</td>\n",
       "      <td>2022-09-13 17:05:00</td>\n",
       "      <td>2022-09-13 17:35:00</td>\n",
       "      <td>2022-09-13 18:35:00</td>\n",
       "      <td>NaN</td>\n",
       "      <td>NaN</td>\n",
       "      <td>NaN</td>\n",
       "      <td>NaN</td>\n",
       "      <td>NaN</td>\n",
       "      <td>...</td>\n",
       "      <td>NaN</td>\n",
       "      <td>NaN</td>\n",
       "      <td>NaN</td>\n",
       "      <td>NaN</td>\n",
       "      <td>NaN</td>\n",
       "      <td>NaN</td>\n",
       "      <td>NaN</td>\n",
       "      <td>NaN</td>\n",
       "      <td>3185.0</td>\n",
       "      <td>Bashorun</td>\n",
       "    </tr>\n",
       "    <tr>\n",
       "      <th>1</th>\n",
       "      <td>2022-07-26</td>\n",
       "      <td>Mrs Adedokun</td>\n",
       "      <td>2022-09-13 11:43:00</td>\n",
       "      <td>2022-09-13 12:13:00</td>\n",
       "      <td>2022-09-13 13:13:00</td>\n",
       "      <td>Gone</td>\n",
       "      <td>NaN</td>\n",
       "      <td>NaN</td>\n",
       "      <td>NaN</td>\n",
       "      <td>NaN</td>\n",
       "      <td>...</td>\n",
       "      <td>NaN</td>\n",
       "      <td>NaN</td>\n",
       "      <td>NaN</td>\n",
       "      <td>NaN</td>\n",
       "      <td>NaN</td>\n",
       "      <td>NaN</td>\n",
       "      <td>NaN</td>\n",
       "      <td>NaN</td>\n",
       "      <td>2340.0</td>\n",
       "      <td>Akobo</td>\n",
       "    </tr>\n",
       "    <tr>\n",
       "      <th>2</th>\n",
       "      <td>2022-08-20</td>\n",
       "      <td>Kemi</td>\n",
       "      <td>2022-09-13 11:49:00</td>\n",
       "      <td>2022-09-13 12:19:00</td>\n",
       "      <td>2022-09-13 14:19:00</td>\n",
       "      <td>Gone</td>\n",
       "      <td>NaN</td>\n",
       "      <td>NaN</td>\n",
       "      <td>NaN</td>\n",
       "      <td>NaN</td>\n",
       "      <td>...</td>\n",
       "      <td>NaN</td>\n",
       "      <td>NaN</td>\n",
       "      <td>NaN</td>\n",
       "      <td>NaN</td>\n",
       "      <td>NaN</td>\n",
       "      <td>NaN</td>\n",
       "      <td>NaN</td>\n",
       "      <td>NaN</td>\n",
       "      <td>2340.0</td>\n",
       "      <td>Aleshinloye</td>\n",
       "    </tr>\n",
       "    <tr>\n",
       "      <th>3</th>\n",
       "      <td>2022-12-08</td>\n",
       "      <td>Omotayo A.</td>\n",
       "      <td>2022-09-13 11:43:00</td>\n",
       "      <td>2022-09-13 12:13:00</td>\n",
       "      <td>2022-09-13 13:13:00</td>\n",
       "      <td>Gone</td>\n",
       "      <td>NaN</td>\n",
       "      <td>NaN</td>\n",
       "      <td>NaN</td>\n",
       "      <td>NaN</td>\n",
       "      <td>...</td>\n",
       "      <td>NaN</td>\n",
       "      <td>NaN</td>\n",
       "      <td>NaN</td>\n",
       "      <td>NaN</td>\n",
       "      <td>NaN</td>\n",
       "      <td>NaN</td>\n",
       "      <td>NaN</td>\n",
       "      <td>NaN</td>\n",
       "      <td>2340.0</td>\n",
       "      <td>Onikolobo</td>\n",
       "    </tr>\n",
       "    <tr>\n",
       "      <th>4</th>\n",
       "      <td>2022-03-06</td>\n",
       "      <td>Osasu</td>\n",
       "      <td>2022-09-13 14:37:00</td>\n",
       "      <td>2022-09-13 15:07:00</td>\n",
       "      <td>2022-09-13 17:07:00</td>\n",
       "      <td>NaN</td>\n",
       "      <td>NaN</td>\n",
       "      <td>NaN</td>\n",
       "      <td>NaN</td>\n",
       "      <td>NaN</td>\n",
       "      <td>...</td>\n",
       "      <td>NaN</td>\n",
       "      <td>NaN</td>\n",
       "      <td>NaN</td>\n",
       "      <td>NaN</td>\n",
       "      <td>NaN</td>\n",
       "      <td>NaN</td>\n",
       "      <td>NaN</td>\n",
       "      <td>NaN</td>\n",
       "      <td>1430.0</td>\n",
       "      <td>Alakia</td>\n",
       "    </tr>\n",
       "  </tbody>\n",
       "</table>\n",
       "<p>5 rows × 55 columns</p>\n",
       "</div>"
      ],
      "text/plain": [
       "        Date Name of Customer       Time of Order   Expected Time out  \\\n",
       "0 2022-07-06  Mr Ojo Olukunle 2022-09-13 17:05:00 2022-09-13 17:35:00   \n",
       "1 2022-07-26     Mrs Adedokun 2022-09-13 11:43:00 2022-09-13 12:13:00   \n",
       "2 2022-08-20             Kemi 2022-09-13 11:49:00 2022-09-13 12:19:00   \n",
       "3 2022-12-08       Omotayo A. 2022-09-13 11:43:00 2022-09-13 12:13:00   \n",
       "4 2022-03-06            Osasu 2022-09-13 14:37:00 2022-09-13 15:07:00   \n",
       "\n",
       "  Expected Time of Delivery Time Out Update  \\\n",
       "0       2022-09-13 18:35:00             NaN   \n",
       "1       2022-09-13 13:13:00            Gone   \n",
       "2       2022-09-13 14:19:00            Gone   \n",
       "3       2022-09-13 13:13:00            Gone   \n",
       "4       2022-09-13 17:07:00             NaN   \n",
       "\n",
       "  Why was the Order not Dispatched in 30mins? Action Taken  \\\n",
       "0                                         NaN          NaN   \n",
       "1                                         NaN          NaN   \n",
       "2                                         NaN          NaN   \n",
       "3                                         NaN          NaN   \n",
       "4                                         NaN          NaN   \n",
       "\n",
       "  New Expected Time Out New Expected Time of Delivery  ... Boneless Beef 1kg  \\\n",
       "0                   NaN                           NaN  ...               NaN   \n",
       "1                   NaN                           NaN  ...               NaN   \n",
       "2                   NaN                           NaN  ...               NaN   \n",
       "3                   NaN                           NaN  ...               NaN   \n",
       "4                   NaN                           NaN  ...               NaN   \n",
       "\n",
       "   Goat Meat 1kg Hake 1kg Hake 1kg (Cleaned) Titus 1kg  Titus 1kg (Cleaned)  \\\n",
       "0            NaN      NaN                NaN       NaN                  NaN   \n",
       "1            NaN      NaN                NaN       NaN                  NaN   \n",
       "2            NaN      NaN                NaN       NaN                  NaN   \n",
       "3            NaN      NaN                NaN       NaN                  NaN   \n",
       "4            NaN      NaN                NaN       NaN                  NaN   \n",
       "\n",
       "  Chicken 1kg  Cow Head & Neck 1kg  Naira Value  Fulfilment Center  \n",
       "0         NaN                  NaN       3185.0           Bashorun  \n",
       "1         NaN                  NaN       2340.0              Akobo  \n",
       "2         NaN                  NaN       2340.0        Aleshinloye  \n",
       "3         NaN                  NaN       2340.0          Onikolobo  \n",
       "4         NaN                  NaN       1430.0             Alakia  \n",
       "\n",
       "[5 rows x 55 columns]"
      ]
     },
     "execution_count": 65,
     "metadata": {},
     "output_type": "execute_result"
    }
   ],
   "source": [
    "df.head()"
   ]
  },
  {
   "cell_type": "code",
   "execution_count": 75,
   "id": "aa9fa761",
   "metadata": {},
   "outputs": [
    {
     "data": {
      "text/plain": [
       "0    153\n",
       "1    146\n",
       "Name: weekend, dtype: int64"
      ]
     },
     "execution_count": 75,
     "metadata": {},
     "output_type": "execute_result"
    }
   ],
   "source": [
    "df[\"weekend\"].value_counts()"
   ]
  },
  {
   "cell_type": "code",
   "execution_count": 80,
   "id": "0581a15d",
   "metadata": {},
   "outputs": [],
   "source": [
    "weekend = df.groupby(\"weekend\")"
   ]
  },
  {
   "cell_type": "code",
   "execution_count": 90,
   "id": "389f9055",
   "metadata": {},
   "outputs": [
    {
     "name": "stdout",
     "output_type": "stream",
     "text": [
      "The total amount made on a weekend is 659425.0\n"
     ]
    },
    {
     "name": "stderr",
     "output_type": "stream",
     "text": [
      "C:\\Users\\OLUWAF~1\\AppData\\Local\\Temp/ipykernel_2080/3453183035.py:1: FutureWarning:\n",
      "\n",
      "Dropping of nuisance columns in DataFrame reductions (with 'numeric_only=None') is deprecated; in a future version this will raise TypeError.  Select only valid columns before calling the reduction.\n",
      "\n"
     ]
    }
   ],
   "source": [
    "weekend_amount = weekend.get_group(0).sum()[\"Naira Value\"]\n",
    "print(f\"The total amount made on a weekend is {weekend_amount}\")"
   ]
  },
  {
   "cell_type": "code",
   "execution_count": 91,
   "id": "64388d12",
   "metadata": {},
   "outputs": [
    {
     "name": "stdout",
     "output_type": "stream",
     "text": [
      "The total amount made on a weekend is 693485.0\n"
     ]
    },
    {
     "name": "stderr",
     "output_type": "stream",
     "text": [
      "C:\\Users\\OLUWAF~1\\AppData\\Local\\Temp/ipykernel_2080/2362394695.py:1: FutureWarning:\n",
      "\n",
      "Dropping of nuisance columns in DataFrame reductions (with 'numeric_only=None') is deprecated; in a future version this will raise TypeError.  Select only valid columns before calling the reduction.\n",
      "\n"
     ]
    }
   ],
   "source": [
    "weekday_amount = weekend.get_group(1).sum()[\"Naira Value\"]\n",
    "print(f\"The total amount made on a weekend is {weekday_amount}\")"
   ]
  },
  {
   "cell_type": "markdown",
   "id": "21d3ed69",
   "metadata": {},
   "source": [
    "More money was made on the weekend - N693,485, compared to the weekdays - N659,425"
   ]
  },
  {
   "cell_type": "code",
   "execution_count": null,
   "id": "e703e6f5",
   "metadata": {},
   "outputs": [],
   "source": []
  }
 ],
 "metadata": {
  "kernelspec": {
   "display_name": "Python 3 (ipykernel)",
   "language": "python",
   "name": "python3"
  },
  "language_info": {
   "codemirror_mode": {
    "name": "ipython",
    "version": 3
   },
   "file_extension": ".py",
   "mimetype": "text/x-python",
   "name": "python",
   "nbconvert_exporter": "python",
   "pygments_lexer": "ipython3",
   "version": "3.9.7"
  }
 },
 "nbformat": 4,
 "nbformat_minor": 5
}
