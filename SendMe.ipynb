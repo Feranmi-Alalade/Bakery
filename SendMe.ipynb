{
 "cells": [
  {
   "cell_type": "markdown",
   "id": "ba8278c0",
   "metadata": {},
   "source": [
    "## Import Libraries"
   ]
  },
  {
   "cell_type": "code",
   "execution_count": 721,
   "id": "237609b8",
   "metadata": {},
   "outputs": [],
   "source": [
    "#Import the necessary libraries\n",
    "import pandas as pd\n",
    "import numpy as np\n",
    "import matplotlib.pyplot as plt #Library for data visualization\n",
    "from datetime import datetime #Library for dealing with dates\n",
    "import plotly.express as px #For data visualization\n",
    "import seaborn as sns"
   ]
  },
  {
   "cell_type": "markdown",
   "id": "d581e747",
   "metadata": {},
   "source": [
    "## Read csv file"
   ]
  },
  {
   "cell_type": "code",
   "execution_count": 722,
   "id": "5366ca49",
   "metadata": {},
   "outputs": [],
   "source": [
    "df = pd.read_csv(r\"C:\\Users\\Oluwaferanmi\\Downloads\\SendMe.csv\")#read the csv file into jupyter notebook"
   ]
  },
  {
   "cell_type": "code",
   "execution_count": 723,
   "id": "932fc0c6",
   "metadata": {},
   "outputs": [
    {
     "data": {
      "text/html": [
       "<div>\n",
       "<style scoped>\n",
       "    .dataframe tbody tr th:only-of-type {\n",
       "        vertical-align: middle;\n",
       "    }\n",
       "\n",
       "    .dataframe tbody tr th {\n",
       "        vertical-align: top;\n",
       "    }\n",
       "\n",
       "    .dataframe thead th {\n",
       "        text-align: right;\n",
       "    }\n",
       "</style>\n",
       "<table border=\"1\" class=\"dataframe\">\n",
       "  <thead>\n",
       "    <tr style=\"text-align: right;\">\n",
       "      <th></th>\n",
       "      <th>Date</th>\n",
       "      <th>Name of Customer</th>\n",
       "      <th>Time of Order</th>\n",
       "      <th>Expected Time out</th>\n",
       "      <th>Expected Time of Delivery</th>\n",
       "      <th>Time Out Update</th>\n",
       "      <th>Why was the Order not Dispatched in 30mins?</th>\n",
       "      <th>Action Taken</th>\n",
       "      <th>New Expected Time Out</th>\n",
       "      <th>New Expected Time of Delivery</th>\n",
       "      <th>...</th>\n",
       "      <th>Boneless Beef 1kg</th>\n",
       "      <th>Goat Meat 1kg</th>\n",
       "      <th>Hake 1kg</th>\n",
       "      <th>Hake 1kg (Cleaned)</th>\n",
       "      <th>Titus 1kg</th>\n",
       "      <th>Titus 1kg (Cleaned)</th>\n",
       "      <th>Chicken 1kg</th>\n",
       "      <th>Cow Head &amp; Neck 1kg</th>\n",
       "      <th>Naira Value</th>\n",
       "      <th>Fulfilment Center</th>\n",
       "    </tr>\n",
       "  </thead>\n",
       "  <tbody>\n",
       "    <tr>\n",
       "      <th>0</th>\n",
       "      <td>07/06/2022 00:00</td>\n",
       "      <td>Mr Ojo Olukunle</td>\n",
       "      <td>17:05</td>\n",
       "      <td>17:35</td>\n",
       "      <td>18:35</td>\n",
       "      <td>NaN</td>\n",
       "      <td>NaN</td>\n",
       "      <td>NaN</td>\n",
       "      <td>NaN</td>\n",
       "      <td>NaN</td>\n",
       "      <td>...</td>\n",
       "      <td>NaN</td>\n",
       "      <td>NaN</td>\n",
       "      <td>NaN</td>\n",
       "      <td>NaN</td>\n",
       "      <td>NaN</td>\n",
       "      <td>NaN</td>\n",
       "      <td>NaN</td>\n",
       "      <td>NaN</td>\n",
       "      <td>3185.0</td>\n",
       "      <td>Bashorun</td>\n",
       "    </tr>\n",
       "    <tr>\n",
       "      <th>1</th>\n",
       "      <td>26/07/2022 00:00</td>\n",
       "      <td>Mrs Adedokun</td>\n",
       "      <td>11:43</td>\n",
       "      <td>12:13</td>\n",
       "      <td>13:13</td>\n",
       "      <td>Gone</td>\n",
       "      <td>NaN</td>\n",
       "      <td>NaN</td>\n",
       "      <td>NaN</td>\n",
       "      <td>NaN</td>\n",
       "      <td>...</td>\n",
       "      <td>NaN</td>\n",
       "      <td>NaN</td>\n",
       "      <td>NaN</td>\n",
       "      <td>NaN</td>\n",
       "      <td>NaN</td>\n",
       "      <td>NaN</td>\n",
       "      <td>NaN</td>\n",
       "      <td>NaN</td>\n",
       "      <td>2340.0</td>\n",
       "      <td>Akobo</td>\n",
       "    </tr>\n",
       "    <tr>\n",
       "      <th>2</th>\n",
       "      <td>20/08/2022 00:00</td>\n",
       "      <td>Kemi</td>\n",
       "      <td>11:49</td>\n",
       "      <td>12:19</td>\n",
       "      <td>14:19</td>\n",
       "      <td>Gone</td>\n",
       "      <td>NaN</td>\n",
       "      <td>NaN</td>\n",
       "      <td>NaN</td>\n",
       "      <td>NaN</td>\n",
       "      <td>...</td>\n",
       "      <td>NaN</td>\n",
       "      <td>NaN</td>\n",
       "      <td>NaN</td>\n",
       "      <td>NaN</td>\n",
       "      <td>NaN</td>\n",
       "      <td>NaN</td>\n",
       "      <td>NaN</td>\n",
       "      <td>NaN</td>\n",
       "      <td>2340.0</td>\n",
       "      <td>Aleshinloye</td>\n",
       "    </tr>\n",
       "    <tr>\n",
       "      <th>3</th>\n",
       "      <td>12/08/2022 00:00</td>\n",
       "      <td>Omotayo A.</td>\n",
       "      <td>11:43</td>\n",
       "      <td>12:13</td>\n",
       "      <td>13:13</td>\n",
       "      <td>Gone</td>\n",
       "      <td>NaN</td>\n",
       "      <td>NaN</td>\n",
       "      <td>NaN</td>\n",
       "      <td>NaN</td>\n",
       "      <td>...</td>\n",
       "      <td>NaN</td>\n",
       "      <td>NaN</td>\n",
       "      <td>NaN</td>\n",
       "      <td>NaN</td>\n",
       "      <td>NaN</td>\n",
       "      <td>NaN</td>\n",
       "      <td>NaN</td>\n",
       "      <td>NaN</td>\n",
       "      <td>2340.0</td>\n",
       "      <td>Onikolobo</td>\n",
       "    </tr>\n",
       "    <tr>\n",
       "      <th>4</th>\n",
       "      <td>03/06/2022 00:00</td>\n",
       "      <td>Osasu</td>\n",
       "      <td>14:37</td>\n",
       "      <td>15:07</td>\n",
       "      <td>17:07</td>\n",
       "      <td>NaN</td>\n",
       "      <td>NaN</td>\n",
       "      <td>NaN</td>\n",
       "      <td>NaN</td>\n",
       "      <td>NaN</td>\n",
       "      <td>...</td>\n",
       "      <td>NaN</td>\n",
       "      <td>NaN</td>\n",
       "      <td>NaN</td>\n",
       "      <td>NaN</td>\n",
       "      <td>NaN</td>\n",
       "      <td>NaN</td>\n",
       "      <td>NaN</td>\n",
       "      <td>NaN</td>\n",
       "      <td>1430.0</td>\n",
       "      <td>Alakia</td>\n",
       "    </tr>\n",
       "  </tbody>\n",
       "</table>\n",
       "<p>5 rows × 55 columns</p>\n",
       "</div>"
      ],
      "text/plain": [
       "               Date Name of Customer Time of Order Expected Time out  \\\n",
       "0  07/06/2022 00:00  Mr Ojo Olukunle         17:05             17:35   \n",
       "1  26/07/2022 00:00     Mrs Adedokun         11:43             12:13   \n",
       "2  20/08/2022 00:00             Kemi         11:49             12:19   \n",
       "3  12/08/2022 00:00       Omotayo A.         11:43             12:13   \n",
       "4  03/06/2022 00:00            Osasu         14:37             15:07   \n",
       "\n",
       "  Expected Time of Delivery Time Out Update  \\\n",
       "0                     18:35             NaN   \n",
       "1                     13:13            Gone   \n",
       "2                     14:19            Gone   \n",
       "3                     13:13            Gone   \n",
       "4                     17:07             NaN   \n",
       "\n",
       "  Why was the Order not Dispatched in 30mins? Action Taken  \\\n",
       "0                                         NaN          NaN   \n",
       "1                                         NaN          NaN   \n",
       "2                                         NaN          NaN   \n",
       "3                                         NaN          NaN   \n",
       "4                                         NaN          NaN   \n",
       "\n",
       "  New Expected Time Out New Expected Time of Delivery  ... Boneless Beef 1kg  \\\n",
       "0                   NaN                           NaN  ...               NaN   \n",
       "1                   NaN                           NaN  ...               NaN   \n",
       "2                   NaN                           NaN  ...               NaN   \n",
       "3                   NaN                           NaN  ...               NaN   \n",
       "4                   NaN                           NaN  ...               NaN   \n",
       "\n",
       "   Goat Meat 1kg Hake 1kg Hake 1kg (Cleaned) Titus 1kg  Titus 1kg (Cleaned)  \\\n",
       "0            NaN      NaN                NaN       NaN                  NaN   \n",
       "1            NaN      NaN                NaN       NaN                  NaN   \n",
       "2            NaN      NaN                NaN       NaN                  NaN   \n",
       "3            NaN      NaN                NaN       NaN                  NaN   \n",
       "4            NaN      NaN                NaN       NaN                  NaN   \n",
       "\n",
       "  Chicken 1kg  Cow Head & Neck 1kg  Naira Value  Fulfilment Center  \n",
       "0         NaN                  NaN       3185.0           Bashorun  \n",
       "1         NaN                  NaN       2340.0              Akobo  \n",
       "2         NaN                  NaN       2340.0        Aleshinloye  \n",
       "3         NaN                  NaN       2340.0          Onikolobo  \n",
       "4         NaN                  NaN       1430.0             Alakia  \n",
       "\n",
       "[5 rows x 55 columns]"
      ]
     },
     "execution_count": 723,
     "metadata": {},
     "output_type": "execute_result"
    }
   ],
   "source": [
    "df.head() #Display the first five rows"
   ]
  },
  {
   "cell_type": "code",
   "execution_count": 724,
   "id": "c3dea141",
   "metadata": {},
   "outputs": [
    {
     "data": {
      "text/html": [
       "<div>\n",
       "<style scoped>\n",
       "    .dataframe tbody tr th:only-of-type {\n",
       "        vertical-align: middle;\n",
       "    }\n",
       "\n",
       "    .dataframe tbody tr th {\n",
       "        vertical-align: top;\n",
       "    }\n",
       "\n",
       "    .dataframe thead th {\n",
       "        text-align: right;\n",
       "    }\n",
       "</style>\n",
       "<table border=\"1\" class=\"dataframe\">\n",
       "  <thead>\n",
       "    <tr style=\"text-align: right;\">\n",
       "      <th></th>\n",
       "      <th>Discount Amount</th>\n",
       "      <th>Duration(minutes)</th>\n",
       "      <th>Token pack(boneless beef)</th>\n",
       "      <th>Token Pack (Cow Tail)</th>\n",
       "      <th>Token Pack (Cow Hump)</th>\n",
       "      <th>Token Pack (Cow Head &amp; Neck)</th>\n",
       "      <th>Token Pack (Cow Leg)</th>\n",
       "      <th>Token Pack (Agemawo)</th>\n",
       "      <th>Token Pack (Cow Assorted)</th>\n",
       "      <th>Token Pack (Pomo)</th>\n",
       "      <th>...</th>\n",
       "      <th>Agemawo 1kg</th>\n",
       "      <th>Boneless Beef 1kg</th>\n",
       "      <th>Goat Meat 1kg</th>\n",
       "      <th>Hake 1kg</th>\n",
       "      <th>Hake 1kg (Cleaned)</th>\n",
       "      <th>Titus 1kg</th>\n",
       "      <th>Titus 1kg (Cleaned)</th>\n",
       "      <th>Chicken 1kg</th>\n",
       "      <th>Cow Head &amp; Neck 1kg</th>\n",
       "      <th>Naira Value</th>\n",
       "    </tr>\n",
       "  </thead>\n",
       "  <tbody>\n",
       "    <tr>\n",
       "      <th>count</th>\n",
       "      <td>3.000000</td>\n",
       "      <td>176.000000</td>\n",
       "      <td>21.000000</td>\n",
       "      <td>9.000000</td>\n",
       "      <td>7.0</td>\n",
       "      <td>9.000000</td>\n",
       "      <td>5.000000</td>\n",
       "      <td>40.000000</td>\n",
       "      <td>16.000000</td>\n",
       "      <td>3.0</td>\n",
       "      <td>...</td>\n",
       "      <td>7.0</td>\n",
       "      <td>2.0</td>\n",
       "      <td>2.0</td>\n",
       "      <td>2.0</td>\n",
       "      <td>0.0</td>\n",
       "      <td>1.0</td>\n",
       "      <td>2.0</td>\n",
       "      <td>8.000000</td>\n",
       "      <td>1.0</td>\n",
       "      <td>293.000000</td>\n",
       "    </tr>\n",
       "    <tr>\n",
       "      <th>mean</th>\n",
       "      <td>3433.333333</td>\n",
       "      <td>53.181818</td>\n",
       "      <td>1.047619</td>\n",
       "      <td>1.666667</td>\n",
       "      <td>1.0</td>\n",
       "      <td>1.222222</td>\n",
       "      <td>1.200000</td>\n",
       "      <td>1.175000</td>\n",
       "      <td>1.187500</td>\n",
       "      <td>1.0</td>\n",
       "      <td>...</td>\n",
       "      <td>1.0</td>\n",
       "      <td>1.0</td>\n",
       "      <td>1.0</td>\n",
       "      <td>1.0</td>\n",
       "      <td>NaN</td>\n",
       "      <td>1.0</td>\n",
       "      <td>1.0</td>\n",
       "      <td>1.125000</td>\n",
       "      <td>1.0</td>\n",
       "      <td>4628.310580</td>\n",
       "    </tr>\n",
       "    <tr>\n",
       "      <th>std</th>\n",
       "      <td>3002.637729</td>\n",
       "      <td>52.099146</td>\n",
       "      <td>0.218218</td>\n",
       "      <td>0.866025</td>\n",
       "      <td>0.0</td>\n",
       "      <td>0.440959</td>\n",
       "      <td>0.447214</td>\n",
       "      <td>0.446496</td>\n",
       "      <td>0.403113</td>\n",
       "      <td>0.0</td>\n",
       "      <td>...</td>\n",
       "      <td>0.0</td>\n",
       "      <td>0.0</td>\n",
       "      <td>0.0</td>\n",
       "      <td>0.0</td>\n",
       "      <td>NaN</td>\n",
       "      <td>NaN</td>\n",
       "      <td>0.0</td>\n",
       "      <td>0.353553</td>\n",
       "      <td>NaN</td>\n",
       "      <td>5788.330221</td>\n",
       "    </tr>\n",
       "    <tr>\n",
       "      <th>min</th>\n",
       "      <td>900.000000</td>\n",
       "      <td>0.000000</td>\n",
       "      <td>1.000000</td>\n",
       "      <td>1.000000</td>\n",
       "      <td>1.0</td>\n",
       "      <td>1.000000</td>\n",
       "      <td>1.000000</td>\n",
       "      <td>1.000000</td>\n",
       "      <td>1.000000</td>\n",
       "      <td>1.0</td>\n",
       "      <td>...</td>\n",
       "      <td>1.0</td>\n",
       "      <td>1.0</td>\n",
       "      <td>1.0</td>\n",
       "      <td>1.0</td>\n",
       "      <td>NaN</td>\n",
       "      <td>1.0</td>\n",
       "      <td>1.0</td>\n",
       "      <td>1.000000</td>\n",
       "      <td>1.0</td>\n",
       "      <td>0.000000</td>\n",
       "    </tr>\n",
       "    <tr>\n",
       "      <th>25%</th>\n",
       "      <td>1775.000000</td>\n",
       "      <td>20.000000</td>\n",
       "      <td>1.000000</td>\n",
       "      <td>1.000000</td>\n",
       "      <td>1.0</td>\n",
       "      <td>1.000000</td>\n",
       "      <td>1.000000</td>\n",
       "      <td>1.000000</td>\n",
       "      <td>1.000000</td>\n",
       "      <td>1.0</td>\n",
       "      <td>...</td>\n",
       "      <td>1.0</td>\n",
       "      <td>1.0</td>\n",
       "      <td>1.0</td>\n",
       "      <td>1.0</td>\n",
       "      <td>NaN</td>\n",
       "      <td>1.0</td>\n",
       "      <td>1.0</td>\n",
       "      <td>1.000000</td>\n",
       "      <td>1.0</td>\n",
       "      <td>2340.000000</td>\n",
       "    </tr>\n",
       "    <tr>\n",
       "      <th>50%</th>\n",
       "      <td>2650.000000</td>\n",
       "      <td>35.000000</td>\n",
       "      <td>1.000000</td>\n",
       "      <td>1.000000</td>\n",
       "      <td>1.0</td>\n",
       "      <td>1.000000</td>\n",
       "      <td>1.000000</td>\n",
       "      <td>1.000000</td>\n",
       "      <td>1.000000</td>\n",
       "      <td>1.0</td>\n",
       "      <td>...</td>\n",
       "      <td>1.0</td>\n",
       "      <td>1.0</td>\n",
       "      <td>1.0</td>\n",
       "      <td>1.0</td>\n",
       "      <td>NaN</td>\n",
       "      <td>1.0</td>\n",
       "      <td>1.0</td>\n",
       "      <td>1.000000</td>\n",
       "      <td>1.0</td>\n",
       "      <td>3510.000000</td>\n",
       "    </tr>\n",
       "    <tr>\n",
       "      <th>75%</th>\n",
       "      <td>4700.000000</td>\n",
       "      <td>69.750000</td>\n",
       "      <td>1.000000</td>\n",
       "      <td>2.000000</td>\n",
       "      <td>1.0</td>\n",
       "      <td>1.000000</td>\n",
       "      <td>1.000000</td>\n",
       "      <td>1.000000</td>\n",
       "      <td>1.000000</td>\n",
       "      <td>1.0</td>\n",
       "      <td>...</td>\n",
       "      <td>1.0</td>\n",
       "      <td>1.0</td>\n",
       "      <td>1.0</td>\n",
       "      <td>1.0</td>\n",
       "      <td>NaN</td>\n",
       "      <td>1.0</td>\n",
       "      <td>1.0</td>\n",
       "      <td>1.000000</td>\n",
       "      <td>1.0</td>\n",
       "      <td>4810.000000</td>\n",
       "    </tr>\n",
       "    <tr>\n",
       "      <th>max</th>\n",
       "      <td>6750.000000</td>\n",
       "      <td>429.000000</td>\n",
       "      <td>2.000000</td>\n",
       "      <td>3.000000</td>\n",
       "      <td>1.0</td>\n",
       "      <td>2.000000</td>\n",
       "      <td>2.000000</td>\n",
       "      <td>3.000000</td>\n",
       "      <td>2.000000</td>\n",
       "      <td>1.0</td>\n",
       "      <td>...</td>\n",
       "      <td>1.0</td>\n",
       "      <td>1.0</td>\n",
       "      <td>1.0</td>\n",
       "      <td>1.0</td>\n",
       "      <td>NaN</td>\n",
       "      <td>1.0</td>\n",
       "      <td>1.0</td>\n",
       "      <td>2.000000</td>\n",
       "      <td>1.0</td>\n",
       "      <td>65260.000000</td>\n",
       "    </tr>\n",
       "  </tbody>\n",
       "</table>\n",
       "<p>8 rows × 39 columns</p>\n",
       "</div>"
      ],
      "text/plain": [
       "       Discount Amount  Duration(minutes)  Token pack(boneless beef)  \\\n",
       "count         3.000000         176.000000                  21.000000   \n",
       "mean       3433.333333          53.181818                   1.047619   \n",
       "std        3002.637729          52.099146                   0.218218   \n",
       "min         900.000000           0.000000                   1.000000   \n",
       "25%        1775.000000          20.000000                   1.000000   \n",
       "50%        2650.000000          35.000000                   1.000000   \n",
       "75%        4700.000000          69.750000                   1.000000   \n",
       "max        6750.000000         429.000000                   2.000000   \n",
       "\n",
       "       Token Pack (Cow Tail)  Token Pack (Cow Hump)  \\\n",
       "count               9.000000                    7.0   \n",
       "mean                1.666667                    1.0   \n",
       "std                 0.866025                    0.0   \n",
       "min                 1.000000                    1.0   \n",
       "25%                 1.000000                    1.0   \n",
       "50%                 1.000000                    1.0   \n",
       "75%                 2.000000                    1.0   \n",
       "max                 3.000000                    1.0   \n",
       "\n",
       "       Token Pack (Cow Head & Neck)  Token Pack (Cow Leg)  \\\n",
       "count                      9.000000              5.000000   \n",
       "mean                       1.222222              1.200000   \n",
       "std                        0.440959              0.447214   \n",
       "min                        1.000000              1.000000   \n",
       "25%                        1.000000              1.000000   \n",
       "50%                        1.000000              1.000000   \n",
       "75%                        1.000000              1.000000   \n",
       "max                        2.000000              2.000000   \n",
       "\n",
       "       Token Pack (Agemawo)  Token Pack (Cow Assorted)  Token Pack (Pomo)  \\\n",
       "count             40.000000                  16.000000                3.0   \n",
       "mean               1.175000                   1.187500                1.0   \n",
       "std                0.446496                   0.403113                0.0   \n",
       "min                1.000000                   1.000000                1.0   \n",
       "25%                1.000000                   1.000000                1.0   \n",
       "50%                1.000000                   1.000000                1.0   \n",
       "75%                1.000000                   1.000000                1.0   \n",
       "max                3.000000                   2.000000                1.0   \n",
       "\n",
       "       ...  Agemawo 1kg  Boneless Beef 1kg  Goat Meat 1kg  Hake 1kg  \\\n",
       "count  ...          7.0                2.0            2.0       2.0   \n",
       "mean   ...          1.0                1.0            1.0       1.0   \n",
       "std    ...          0.0                0.0            0.0       0.0   \n",
       "min    ...          1.0                1.0            1.0       1.0   \n",
       "25%    ...          1.0                1.0            1.0       1.0   \n",
       "50%    ...          1.0                1.0            1.0       1.0   \n",
       "75%    ...          1.0                1.0            1.0       1.0   \n",
       "max    ...          1.0                1.0            1.0       1.0   \n",
       "\n",
       "       Hake 1kg (Cleaned)  Titus 1kg  Titus 1kg (Cleaned)  Chicken 1kg  \\\n",
       "count                 0.0        1.0                  2.0     8.000000   \n",
       "mean                  NaN        1.0                  1.0     1.125000   \n",
       "std                   NaN        NaN                  0.0     0.353553   \n",
       "min                   NaN        1.0                  1.0     1.000000   \n",
       "25%                   NaN        1.0                  1.0     1.000000   \n",
       "50%                   NaN        1.0                  1.0     1.000000   \n",
       "75%                   NaN        1.0                  1.0     1.000000   \n",
       "max                   NaN        1.0                  1.0     2.000000   \n",
       "\n",
       "       Cow Head & Neck 1kg   Naira Value  \n",
       "count                  1.0    293.000000  \n",
       "mean                   1.0   4628.310580  \n",
       "std                    NaN   5788.330221  \n",
       "min                    1.0      0.000000  \n",
       "25%                    1.0   2340.000000  \n",
       "50%                    1.0   3510.000000  \n",
       "75%                    1.0   4810.000000  \n",
       "max                    1.0  65260.000000  \n",
       "\n",
       "[8 rows x 39 columns]"
      ]
     },
     "execution_count": 724,
     "metadata": {},
     "output_type": "execute_result"
    }
   ],
   "source": [
    "df.describe() #Get more information on the columns"
   ]
  },
  {
   "cell_type": "code",
   "execution_count": 725,
   "id": "809bf22d",
   "metadata": {},
   "outputs": [
    {
     "data": {
      "text/plain": [
       "array(['Date', 'Name of Customer', 'Time of Order', 'Expected Time out',\n",
       "       'Expected Time of Delivery', 'Time Out Update',\n",
       "       'Why was the Order not Dispatched in 30mins?', 'Action Taken',\n",
       "       'New Expected Time Out', 'New Expected Time of Delivery',\n",
       "       'Discount Type', 'Discount Amount', 'Mode of Payment',\n",
       "       'Delivery Status', 'Actual Time Of Delivery', 'Duration(minutes)',\n",
       "       'Customer Type', 'Token pack(boneless beef)',\n",
       "       'Token Pack (Cow Tail)', 'Token Pack (Cow Hump)',\n",
       "       'Token Pack (Cow Head & Neck)', 'Token Pack (Cow Leg)',\n",
       "       'Token Pack (Agemawo)', 'Token Pack (Cow Assorted)',\n",
       "       'Token Pack (Pomo)', 'Token Pack (Cow Minced Meat)',\n",
       "       'Token Pack (Shaki & Roundabout)', 'Value Pack (Agemawo)',\n",
       "       'Value Pack (Boneless Beef)', 'Value Pack (Cow Head & Neck)',\n",
       "       'Value Pack (Cow Hump)', 'Value Pack (Cow Assorted)',\n",
       "       'Token Pack (Goat Meat)', 'Token Pack (Goat Assorted)',\n",
       "       'Token Pack (Head & Leg)', 'Value Pack (Goat Meat)',\n",
       "       'Value Pack (Chicken)', 'Token Pack (Chicken Gizzard)',\n",
       "       'Token Pack (Chicken)', 'Value Pack (Titus)', 'Token Pack (Hake)',\n",
       "       'Value Pack (Hake)', 'Token Pack (Titus)',\n",
       "       'Value Pack (Cow Tongue)', 'Agemawo 1kg', 'Boneless Beef 1kg',\n",
       "       'Goat Meat 1kg', 'Hake 1kg', 'Hake 1kg (Cleaned)', 'Titus 1kg',\n",
       "       'Titus 1kg (Cleaned)', 'Chicken 1kg', 'Cow Head & Neck 1kg',\n",
       "       'Naira Value', 'Fulfilment Center'], dtype=object)"
      ]
     },
     "execution_count": 725,
     "metadata": {},
     "output_type": "execute_result"
    }
   ],
   "source": [
    "column_names = df.columns.values #Display all the column names in the dataset\n",
    "columns_names = list(column_names) #return the columns names as a list\n",
    "column_names"
   ]
  },
  {
   "cell_type": "markdown",
   "id": "d0184cf3",
   "metadata": {},
   "source": [
    "From the above, it can be seen that the prodcut list starts from the 18th column to the 54th column"
   ]
  },
  {
   "cell_type": "code",
   "execution_count": 726,
   "id": "ca0bca19",
   "metadata": {},
   "outputs": [
    {
     "data": {
      "text/plain": [
       "array(['Token pack(boneless beef)', 'Token Pack (Cow Tail)',\n",
       "       'Token Pack (Cow Hump)', 'Token Pack (Cow Head & Neck)',\n",
       "       'Token Pack (Cow Leg)', 'Token Pack (Agemawo)',\n",
       "       'Token Pack (Cow Assorted)', 'Token Pack (Pomo)',\n",
       "       'Token Pack (Cow Minced Meat)', 'Token Pack (Shaki & Roundabout)',\n",
       "       'Value Pack (Agemawo)', 'Value Pack (Boneless Beef)',\n",
       "       'Value Pack (Cow Head & Neck)', 'Value Pack (Cow Hump)',\n",
       "       'Value Pack (Cow Assorted)', 'Token Pack (Goat Meat)',\n",
       "       'Token Pack (Goat Assorted)', 'Token Pack (Head & Leg)',\n",
       "       'Value Pack (Goat Meat)', 'Value Pack (Chicken)',\n",
       "       'Token Pack (Chicken Gizzard)', 'Token Pack (Chicken)',\n",
       "       'Value Pack (Titus)', 'Token Pack (Hake)', 'Value Pack (Hake)',\n",
       "       'Token Pack (Titus)', 'Value Pack (Cow Tongue)', 'Agemawo 1kg',\n",
       "       'Boneless Beef 1kg', 'Goat Meat 1kg', 'Hake 1kg',\n",
       "       'Hake 1kg (Cleaned)', 'Titus 1kg', 'Titus 1kg (Cleaned)',\n",
       "       'Chicken 1kg', 'Cow Head & Neck 1kg'], dtype=object)"
      ]
     },
     "execution_count": 726,
     "metadata": {},
     "output_type": "execute_result"
    }
   ],
   "source": [
    "product_list = column_names[17:53]\n",
    "product_list #This returns the product list during the period of time"
   ]
  },
  {
   "cell_type": "markdown",
   "id": "3fa6336f",
   "metadata": {},
   "source": [
    "## Data Cleaning\n",
    "Cleaned the data to make it fit for analysis\n",
    " - Changed the date format to datetime\n",
    " - Fill the missing values in the product column\n",
    " - Fill the missing values in the Time of Order column"
   ]
  },
  {
   "cell_type": "markdown",
   "id": "df86cafe",
   "metadata": {},
   "source": [
    "## Date Formatting"
   ]
  },
  {
   "cell_type": "code",
   "execution_count": 727,
   "id": "4cd52018",
   "metadata": {},
   "outputs": [],
   "source": [
    "df[\"Date\"] = df[\"Date\"].apply(lambda x: x.split(\" \")[0]) #Remove the hour and minute from the date column and return just the date"
   ]
  },
  {
   "cell_type": "code",
   "execution_count": 728,
   "id": "626ada74",
   "metadata": {},
   "outputs": [
    {
     "name": "stdout",
     "output_type": "stream",
     "text": [
      "\n",
      "    This function returns\n",
      "    the index of the date\n",
      "    which is not in the \n",
      "    general format in the \n",
      "    date column\n",
      "    \n"
     ]
    }
   ],
   "source": [
    "def validate(date_text):\n",
    "    \"\"\"\n",
    "    This function returns\n",
    "    the index of the date\n",
    "    which is not in the \n",
    "    general format in the \n",
    "    date column\n",
    "    \"\"\"\n",
    "    for i in range(len(date_text)):\n",
    "        try:\n",
    "            datetime.strptime(date_text[i], '%d/%m/%Y')\n",
    "        except Exception as e:\n",
    "            return i\n",
    "        \n",
    "print(validate.__doc__) #prints what the function does"
   ]
  },
  {
   "cell_type": "code",
   "execution_count": 729,
   "id": "8b82291e",
   "metadata": {},
   "outputs": [
    {
     "data": {
      "text/plain": [
       "29"
      ]
     },
     "execution_count": 729,
     "metadata": {},
     "output_type": "execute_result"
    }
   ],
   "source": [
    "validate(df[\"Date\"])"
   ]
  },
  {
   "cell_type": "code",
   "execution_count": 730,
   "id": "999a23c5",
   "metadata": {},
   "outputs": [
    {
     "data": {
      "text/plain": [
       "'0202-06-28'"
      ]
     },
     "execution_count": 730,
     "metadata": {},
     "output_type": "execute_result"
    }
   ],
   "source": [
    "df[\"Date\"][29] #The 29th index in the date series is invalid"
   ]
  },
  {
   "cell_type": "code",
   "execution_count": 731,
   "id": "a3a83344",
   "metadata": {},
   "outputs": [],
   "source": [
    "df.drop([29], inplace=True) #Drop the row of the date with the invalid format"
   ]
  },
  {
   "cell_type": "code",
   "execution_count": 732,
   "id": "732e71a3",
   "metadata": {},
   "outputs": [],
   "source": [
    "df[\"Date\"] = pd.to_datetime(df[\"Date\"]) #Change the dates to datetime"
   ]
  },
  {
   "cell_type": "code",
   "execution_count": 733,
   "id": "e155890c",
   "metadata": {},
   "outputs": [
    {
     "data": {
      "text/plain": [
       "2022-11-06    8\n",
       "2022-04-30    7\n",
       "2022-03-06    7\n",
       "2022-04-06    6\n",
       "2022-06-17    6\n",
       "             ..\n",
       "2022-06-15    1\n",
       "2022-06-14    1\n",
       "2022-04-19    1\n",
       "2025-06-28    1\n",
       "2023-10-09    1\n",
       "Name: Date, Length: 130, dtype: int64"
      ]
     },
     "execution_count": 733,
     "metadata": {},
     "output_type": "execute_result"
    }
   ],
   "source": [
    "df[\"Date\"].value_counts() #Returns the unique dates with their counts"
   ]
  },
  {
   "cell_type": "code",
   "execution_count": 734,
   "id": "9cd87d30",
   "metadata": {},
   "outputs": [
    {
     "data": {
      "text/plain": [
       "dtype('<M8[ns]')"
      ]
     },
     "execution_count": 734,
     "metadata": {},
     "output_type": "execute_result"
    }
   ],
   "source": [
    "df[\"Date\"].dtype #Get the data type of the date column"
   ]
  },
  {
   "cell_type": "markdown",
   "id": "5d8d8fb8",
   "metadata": {},
   "source": [
    "## Null values"
   ]
  },
  {
   "cell_type": "code",
   "execution_count": 735,
   "id": "9d46ed1d",
   "metadata": {},
   "outputs": [
    {
     "name": "stdout",
     "output_type": "stream",
     "text": [
      "Date                                             0\n",
      "Name of Customer                                 3\n",
      "Time of Order                                    4\n",
      "Expected Time out                                5\n",
      "Expected Time of Delivery                        5\n",
      "Time Out Update                                 86\n",
      "Why was the Order not Dispatched in 30mins?    259\n",
      "Action Taken                                   267\n",
      "New Expected Time Out                          259\n",
      "New Expected Time of Delivery                  259\n",
      "Discount Type                                   31\n",
      "Discount Amount                                296\n",
      "Mode of Payment                                 21\n",
      "Delivery Status                                  4\n",
      "Actual Time Of Delivery                        121\n",
      "Duration(minutes)                              124\n",
      "Customer Type                                    4\n",
      "Token pack(boneless beef)                      278\n",
      "Token Pack (Cow Tail)                          290\n",
      "Token Pack (Cow Hump)                          292\n",
      "Token Pack (Cow Head & Neck)                   290\n",
      "Token Pack (Cow Leg)                           294\n",
      "Token Pack (Agemawo)                           259\n",
      "Token Pack (Cow Assorted)                      283\n",
      "Token Pack (Pomo)                              296\n",
      "Token Pack (Cow Minced Meat)                   298\n",
      "Token Pack (Shaki & Roundabout)                289\n",
      "Value Pack (Agemawo)                           281\n",
      "Value Pack (Boneless Beef)                     286\n",
      "Value Pack (Cow Head & Neck)                   292\n",
      "Value Pack (Cow Hump)                          298\n",
      "Value Pack (Cow Assorted)                      285\n",
      "Token Pack (Goat Meat)                         295\n",
      "Token Pack (Goat Assorted)                     296\n",
      "Token Pack (Head & Leg)                        299\n",
      "Value Pack (Goat Meat)                         294\n",
      "Value Pack (Chicken)                           290\n",
      "Token Pack (Chicken Gizzard)                   284\n",
      "Token Pack (Chicken)                           284\n",
      "Value Pack (Titus)                             296\n",
      "Token Pack (Hake)                              292\n",
      "Value Pack (Hake)                              291\n",
      "Token Pack (Titus)                             285\n",
      "Value Pack (Cow Tongue)                        295\n",
      "Agemawo 1kg                                    292\n",
      "Boneless Beef 1kg                              297\n",
      "Goat Meat 1kg                                  297\n",
      "Hake 1kg                                       297\n",
      "Hake 1kg (Cleaned)                             299\n",
      "Titus 1kg                                      298\n",
      "Titus 1kg (Cleaned)                            297\n",
      "Chicken 1kg                                    291\n",
      "Cow Head & Neck 1kg                            298\n",
      "Naira Value                                      7\n",
      "Fulfilment Center                                0\n",
      "dtype: int64\n"
     ]
    }
   ],
   "source": [
    "print(df.isnull().sum()) #Get the number of null values in each column"
   ]
  },
  {
   "cell_type": "markdown",
   "id": "5f9e03a3",
   "metadata": {},
   "source": [
    "Looking at the above we can see that the product columns have a lot of empty values, this can be easily replaced with zero, which means that the product wasnt ordered by thecustomer."
   ]
  },
  {
   "cell_type": "markdown",
   "id": "349045fe",
   "metadata": {},
   "source": [
    "### Product null values"
   ]
  },
  {
   "cell_type": "code",
   "execution_count": 736,
   "id": "ef10045e",
   "metadata": {},
   "outputs": [],
   "source": [
    "for product in product_list:\n",
    "    df[product].fillna(0, inplace = True) #FIlls the empty values in the products column with zero"
   ]
  },
  {
   "cell_type": "code",
   "execution_count": 737,
   "id": "bf81fd6b",
   "metadata": {},
   "outputs": [
    {
     "data": {
      "text/html": [
       "<div>\n",
       "<style scoped>\n",
       "    .dataframe tbody tr th:only-of-type {\n",
       "        vertical-align: middle;\n",
       "    }\n",
       "\n",
       "    .dataframe tbody tr th {\n",
       "        vertical-align: top;\n",
       "    }\n",
       "\n",
       "    .dataframe thead th {\n",
       "        text-align: right;\n",
       "    }\n",
       "</style>\n",
       "<table border=\"1\" class=\"dataframe\">\n",
       "  <thead>\n",
       "    <tr style=\"text-align: right;\">\n",
       "      <th></th>\n",
       "      <th>Token pack(boneless beef)</th>\n",
       "      <th>Token Pack (Cow Tail)</th>\n",
       "      <th>Token Pack (Cow Hump)</th>\n",
       "      <th>Token Pack (Cow Head &amp; Neck)</th>\n",
       "      <th>Token Pack (Cow Leg)</th>\n",
       "      <th>Token Pack (Agemawo)</th>\n",
       "      <th>Token Pack (Cow Assorted)</th>\n",
       "      <th>Token Pack (Pomo)</th>\n",
       "      <th>Token Pack (Cow Minced Meat)</th>\n",
       "      <th>Token Pack (Shaki &amp; Roundabout)</th>\n",
       "      <th>...</th>\n",
       "      <th>Value Pack (Cow Tongue)</th>\n",
       "      <th>Agemawo 1kg</th>\n",
       "      <th>Boneless Beef 1kg</th>\n",
       "      <th>Goat Meat 1kg</th>\n",
       "      <th>Hake 1kg</th>\n",
       "      <th>Hake 1kg (Cleaned)</th>\n",
       "      <th>Titus 1kg</th>\n",
       "      <th>Titus 1kg (Cleaned)</th>\n",
       "      <th>Chicken 1kg</th>\n",
       "      <th>Cow Head &amp; Neck 1kg</th>\n",
       "    </tr>\n",
       "  </thead>\n",
       "  <tbody>\n",
       "    <tr>\n",
       "      <th>0</th>\n",
       "      <td>0.0</td>\n",
       "      <td>0.0</td>\n",
       "      <td>0.0</td>\n",
       "      <td>0.0</td>\n",
       "      <td>0.0</td>\n",
       "      <td>0.0</td>\n",
       "      <td>0.0</td>\n",
       "      <td>0.0</td>\n",
       "      <td>0.0</td>\n",
       "      <td>0.0</td>\n",
       "      <td>...</td>\n",
       "      <td>0.0</td>\n",
       "      <td>0.0</td>\n",
       "      <td>0.0</td>\n",
       "      <td>0.0</td>\n",
       "      <td>0.0</td>\n",
       "      <td>0.0</td>\n",
       "      <td>0.0</td>\n",
       "      <td>0.0</td>\n",
       "      <td>0.0</td>\n",
       "      <td>0.0</td>\n",
       "    </tr>\n",
       "    <tr>\n",
       "      <th>1</th>\n",
       "      <td>0.0</td>\n",
       "      <td>0.0</td>\n",
       "      <td>0.0</td>\n",
       "      <td>0.0</td>\n",
       "      <td>0.0</td>\n",
       "      <td>1.0</td>\n",
       "      <td>1.0</td>\n",
       "      <td>0.0</td>\n",
       "      <td>0.0</td>\n",
       "      <td>0.0</td>\n",
       "      <td>...</td>\n",
       "      <td>0.0</td>\n",
       "      <td>0.0</td>\n",
       "      <td>0.0</td>\n",
       "      <td>0.0</td>\n",
       "      <td>0.0</td>\n",
       "      <td>0.0</td>\n",
       "      <td>0.0</td>\n",
       "      <td>0.0</td>\n",
       "      <td>0.0</td>\n",
       "      <td>0.0</td>\n",
       "    </tr>\n",
       "    <tr>\n",
       "      <th>2</th>\n",
       "      <td>0.0</td>\n",
       "      <td>0.0</td>\n",
       "      <td>0.0</td>\n",
       "      <td>1.0</td>\n",
       "      <td>0.0</td>\n",
       "      <td>0.0</td>\n",
       "      <td>0.0</td>\n",
       "      <td>0.0</td>\n",
       "      <td>0.0</td>\n",
       "      <td>0.0</td>\n",
       "      <td>...</td>\n",
       "      <td>0.0</td>\n",
       "      <td>0.0</td>\n",
       "      <td>0.0</td>\n",
       "      <td>0.0</td>\n",
       "      <td>0.0</td>\n",
       "      <td>0.0</td>\n",
       "      <td>0.0</td>\n",
       "      <td>0.0</td>\n",
       "      <td>0.0</td>\n",
       "      <td>0.0</td>\n",
       "    </tr>\n",
       "    <tr>\n",
       "      <th>3</th>\n",
       "      <td>0.0</td>\n",
       "      <td>0.0</td>\n",
       "      <td>0.0</td>\n",
       "      <td>0.0</td>\n",
       "      <td>0.0</td>\n",
       "      <td>0.0</td>\n",
       "      <td>2.0</td>\n",
       "      <td>0.0</td>\n",
       "      <td>0.0</td>\n",
       "      <td>0.0</td>\n",
       "      <td>...</td>\n",
       "      <td>0.0</td>\n",
       "      <td>0.0</td>\n",
       "      <td>0.0</td>\n",
       "      <td>0.0</td>\n",
       "      <td>0.0</td>\n",
       "      <td>0.0</td>\n",
       "      <td>0.0</td>\n",
       "      <td>0.0</td>\n",
       "      <td>0.0</td>\n",
       "      <td>0.0</td>\n",
       "    </tr>\n",
       "    <tr>\n",
       "      <th>4</th>\n",
       "      <td>0.0</td>\n",
       "      <td>0.0</td>\n",
       "      <td>0.0</td>\n",
       "      <td>0.0</td>\n",
       "      <td>0.0</td>\n",
       "      <td>0.0</td>\n",
       "      <td>0.0</td>\n",
       "      <td>0.0</td>\n",
       "      <td>0.0</td>\n",
       "      <td>0.0</td>\n",
       "      <td>...</td>\n",
       "      <td>0.0</td>\n",
       "      <td>0.0</td>\n",
       "      <td>0.0</td>\n",
       "      <td>0.0</td>\n",
       "      <td>0.0</td>\n",
       "      <td>0.0</td>\n",
       "      <td>0.0</td>\n",
       "      <td>0.0</td>\n",
       "      <td>0.0</td>\n",
       "      <td>0.0</td>\n",
       "    </tr>\n",
       "  </tbody>\n",
       "</table>\n",
       "<p>5 rows × 36 columns</p>\n",
       "</div>"
      ],
      "text/plain": [
       "   Token pack(boneless beef)  Token Pack (Cow Tail)  Token Pack (Cow Hump)  \\\n",
       "0                        0.0                    0.0                    0.0   \n",
       "1                        0.0                    0.0                    0.0   \n",
       "2                        0.0                    0.0                    0.0   \n",
       "3                        0.0                    0.0                    0.0   \n",
       "4                        0.0                    0.0                    0.0   \n",
       "\n",
       "   Token Pack (Cow Head & Neck)  Token Pack (Cow Leg)  Token Pack (Agemawo)  \\\n",
       "0                           0.0                   0.0                   0.0   \n",
       "1                           0.0                   0.0                   1.0   \n",
       "2                           1.0                   0.0                   0.0   \n",
       "3                           0.0                   0.0                   0.0   \n",
       "4                           0.0                   0.0                   0.0   \n",
       "\n",
       "   Token Pack (Cow Assorted)  Token Pack (Pomo)  Token Pack (Cow Minced Meat)  \\\n",
       "0                        0.0                0.0                           0.0   \n",
       "1                        1.0                0.0                           0.0   \n",
       "2                        0.0                0.0                           0.0   \n",
       "3                        2.0                0.0                           0.0   \n",
       "4                        0.0                0.0                           0.0   \n",
       "\n",
       "   Token Pack (Shaki & Roundabout)  ...  Value Pack (Cow Tongue)  Agemawo 1kg  \\\n",
       "0                              0.0  ...                      0.0          0.0   \n",
       "1                              0.0  ...                      0.0          0.0   \n",
       "2                              0.0  ...                      0.0          0.0   \n",
       "3                              0.0  ...                      0.0          0.0   \n",
       "4                              0.0  ...                      0.0          0.0   \n",
       "\n",
       "   Boneless Beef 1kg  Goat Meat 1kg  Hake 1kg  Hake 1kg (Cleaned)  Titus 1kg  \\\n",
       "0                0.0            0.0       0.0                 0.0        0.0   \n",
       "1                0.0            0.0       0.0                 0.0        0.0   \n",
       "2                0.0            0.0       0.0                 0.0        0.0   \n",
       "3                0.0            0.0       0.0                 0.0        0.0   \n",
       "4                0.0            0.0       0.0                 0.0        0.0   \n",
       "\n",
       "   Titus 1kg (Cleaned)  Chicken 1kg  Cow Head & Neck 1kg  \n",
       "0                  0.0          0.0                  0.0  \n",
       "1                  0.0          0.0                  0.0  \n",
       "2                  0.0          0.0                  0.0  \n",
       "3                  0.0          0.0                  0.0  \n",
       "4                  0.0          0.0                  0.0  \n",
       "\n",
       "[5 rows x 36 columns]"
      ]
     },
     "execution_count": 737,
     "metadata": {},
     "output_type": "execute_result"
    }
   ],
   "source": [
    "df[product_list].head()#Check if the above worked correctly"
   ]
  },
  {
   "cell_type": "code",
   "execution_count": 738,
   "id": "89f430cf",
   "metadata": {
    "scrolled": true
   },
   "outputs": [
    {
     "name": "stdout",
     "output_type": "stream",
     "text": [
      "Date                                             0\n",
      "Name of Customer                                 3\n",
      "Time of Order                                    4\n",
      "Expected Time out                                5\n",
      "Expected Time of Delivery                        5\n",
      "Time Out Update                                 86\n",
      "Why was the Order not Dispatched in 30mins?    259\n",
      "Action Taken                                   267\n",
      "New Expected Time Out                          259\n",
      "New Expected Time of Delivery                  259\n",
      "Discount Type                                   31\n",
      "Discount Amount                                296\n",
      "Mode of Payment                                 21\n",
      "Delivery Status                                  4\n",
      "Actual Time Of Delivery                        121\n",
      "Duration(minutes)                              124\n",
      "Customer Type                                    4\n",
      "Token pack(boneless beef)                        0\n",
      "Token Pack (Cow Tail)                            0\n",
      "Token Pack (Cow Hump)                            0\n",
      "Token Pack (Cow Head & Neck)                     0\n",
      "Token Pack (Cow Leg)                             0\n",
      "Token Pack (Agemawo)                             0\n",
      "Token Pack (Cow Assorted)                        0\n",
      "Token Pack (Pomo)                                0\n",
      "Token Pack (Cow Minced Meat)                     0\n",
      "Token Pack (Shaki & Roundabout)                  0\n",
      "Value Pack (Agemawo)                             0\n",
      "Value Pack (Boneless Beef)                       0\n",
      "Value Pack (Cow Head & Neck)                     0\n",
      "Value Pack (Cow Hump)                            0\n",
      "Value Pack (Cow Assorted)                        0\n",
      "Token Pack (Goat Meat)                           0\n",
      "Token Pack (Goat Assorted)                       0\n",
      "Token Pack (Head & Leg)                          0\n",
      "Value Pack (Goat Meat)                           0\n",
      "Value Pack (Chicken)                             0\n",
      "Token Pack (Chicken Gizzard)                     0\n",
      "Token Pack (Chicken)                             0\n",
      "Value Pack (Titus)                               0\n",
      "Token Pack (Hake)                                0\n",
      "Value Pack (Hake)                                0\n",
      "Token Pack (Titus)                               0\n",
      "Value Pack (Cow Tongue)                          0\n",
      "Agemawo 1kg                                      0\n",
      "Boneless Beef 1kg                                0\n",
      "Goat Meat 1kg                                    0\n",
      "Hake 1kg                                         0\n",
      "Hake 1kg (Cleaned)                               0\n",
      "Titus 1kg                                        0\n",
      "Titus 1kg (Cleaned)                              0\n",
      "Chicken 1kg                                      0\n",
      "Cow Head & Neck 1kg                              0\n",
      "Naira Value                                      7\n",
      "Fulfilment Center                                0\n",
      "dtype: int64\n"
     ]
    }
   ],
   "source": [
    "print(df.isnull().sum()) #Recheck the number of missing values in each column"
   ]
  },
  {
   "cell_type": "markdown",
   "id": "27c67af5",
   "metadata": {},
   "source": [
    "### Time of order null values\n",
    "This can be replaced by the most common date during the period"
   ]
  },
  {
   "cell_type": "code",
   "execution_count": 739,
   "id": "2cde376c",
   "metadata": {},
   "outputs": [],
   "source": [
    "rows_with_nan = [index for index, row in df[[\"Time of Order\"]].iterrows() if row.isnull().any()]\n",
    "#The above returns the index of the rows in Time of order that are empty"
   ]
  },
  {
   "cell_type": "code",
   "execution_count": 740,
   "id": "da19ace1",
   "metadata": {},
   "outputs": [
    {
     "data": {
      "text/plain": [
       "[70, 162, 199, 295]"
      ]
     },
     "execution_count": 740,
     "metadata": {},
     "output_type": "execute_result"
    }
   ],
   "source": [
    "rows_with_nan"
   ]
  },
  {
   "cell_type": "code",
   "execution_count": 741,
   "id": "ec839b0b",
   "metadata": {},
   "outputs": [
    {
     "data": {
      "text/plain": [
       "0"
      ]
     },
     "execution_count": 741,
     "metadata": {},
     "output_type": "execute_result"
    }
   ],
   "source": [
    "mode = df[df[\"Time of Order\"]!=\"?\"][\"Time of Order\"].mode()[0]\n",
    "df['Time of Order'] = df['Time of Order'].replace(np.nan, mode)\n",
    "\n",
    "df[\"Time of Order\"].isnull().sum()"
   ]
  },
  {
   "cell_type": "code",
   "execution_count": 742,
   "id": "85593997",
   "metadata": {},
   "outputs": [
    {
     "name": "stdout",
     "output_type": "stream",
     "text": [
      "Date                                             0\n",
      "Name of Customer                                 3\n",
      "Time of Order                                    0\n",
      "Expected Time out                                5\n",
      "Expected Time of Delivery                        5\n",
      "Time Out Update                                 86\n",
      "Why was the Order not Dispatched in 30mins?    259\n",
      "Action Taken                                   267\n",
      "New Expected Time Out                          259\n",
      "New Expected Time of Delivery                  259\n",
      "Discount Type                                   31\n",
      "Discount Amount                                296\n",
      "Mode of Payment                                 21\n",
      "Delivery Status                                  4\n",
      "Actual Time Of Delivery                        121\n",
      "Duration(minutes)                              124\n",
      "Customer Type                                    4\n",
      "Token pack(boneless beef)                        0\n",
      "Token Pack (Cow Tail)                            0\n",
      "Token Pack (Cow Hump)                            0\n",
      "Token Pack (Cow Head & Neck)                     0\n",
      "Token Pack (Cow Leg)                             0\n",
      "Token Pack (Agemawo)                             0\n",
      "Token Pack (Cow Assorted)                        0\n",
      "Token Pack (Pomo)                                0\n",
      "Token Pack (Cow Minced Meat)                     0\n",
      "Token Pack (Shaki & Roundabout)                  0\n",
      "Value Pack (Agemawo)                             0\n",
      "Value Pack (Boneless Beef)                       0\n",
      "Value Pack (Cow Head & Neck)                     0\n",
      "Value Pack (Cow Hump)                            0\n",
      "Value Pack (Cow Assorted)                        0\n",
      "Token Pack (Goat Meat)                           0\n",
      "Token Pack (Goat Assorted)                       0\n",
      "Token Pack (Head & Leg)                          0\n",
      "Value Pack (Goat Meat)                           0\n",
      "Value Pack (Chicken)                             0\n",
      "Token Pack (Chicken Gizzard)                     0\n",
      "Token Pack (Chicken)                             0\n",
      "Value Pack (Titus)                               0\n",
      "Token Pack (Hake)                                0\n",
      "Value Pack (Hake)                                0\n",
      "Token Pack (Titus)                               0\n",
      "Value Pack (Cow Tongue)                          0\n",
      "Agemawo 1kg                                      0\n",
      "Boneless Beef 1kg                                0\n",
      "Goat Meat 1kg                                    0\n",
      "Hake 1kg                                         0\n",
      "Hake 1kg (Cleaned)                               0\n",
      "Titus 1kg                                        0\n",
      "Titus 1kg (Cleaned)                              0\n",
      "Chicken 1kg                                      0\n",
      "Cow Head & Neck 1kg                              0\n",
      "Naira Value                                      7\n",
      "Fulfilment Center                                0\n",
      "dtype: int64\n"
     ]
    }
   ],
   "source": [
    "print(df.isnull().sum())"
   ]
  },
  {
   "cell_type": "code",
   "execution_count": 743,
   "id": "a88db707",
   "metadata": {},
   "outputs": [],
   "source": [
    "# df[\"Time of Order\"] = pd.to_datetime(df[\"Time of Order\"])\n",
    "# df[\"Expected Time out\"] = pd.to_datetime(df[\"Expected Time out\"])\n",
    "# df[\"Expected Time of Delivery\"] = pd.to_datetime(df[\"Expected Time of Delivery\"])"
   ]
  },
  {
   "cell_type": "markdown",
   "id": "6b4f40a7",
   "metadata": {},
   "source": [
    "## Exploration of Data"
   ]
  },
  {
   "cell_type": "code",
   "execution_count": 744,
   "id": "25144d4d",
   "metadata": {},
   "outputs": [],
   "source": [
    "df_sub = df.copy() #Create a copy of the dataframe which will be used for analysis\n",
    "df_sub_prod = df_sub[product_list] #Get just the product columns"
   ]
  },
  {
   "cell_type": "code",
   "execution_count": 745,
   "id": "0b991c1f",
   "metadata": {},
   "outputs": [
    {
     "data": {
      "text/html": [
       "<div>\n",
       "<style scoped>\n",
       "    .dataframe tbody tr th:only-of-type {\n",
       "        vertical-align: middle;\n",
       "    }\n",
       "\n",
       "    .dataframe tbody tr th {\n",
       "        vertical-align: top;\n",
       "    }\n",
       "\n",
       "    .dataframe thead th {\n",
       "        text-align: right;\n",
       "    }\n",
       "</style>\n",
       "<table border=\"1\" class=\"dataframe\">\n",
       "  <thead>\n",
       "    <tr style=\"text-align: right;\">\n",
       "      <th></th>\n",
       "      <th>Token pack(boneless beef)</th>\n",
       "      <th>Token Pack (Cow Tail)</th>\n",
       "      <th>Token Pack (Cow Hump)</th>\n",
       "      <th>Token Pack (Cow Head &amp; Neck)</th>\n",
       "      <th>Token Pack (Cow Leg)</th>\n",
       "      <th>Token Pack (Agemawo)</th>\n",
       "      <th>Token Pack (Cow Assorted)</th>\n",
       "      <th>Token Pack (Pomo)</th>\n",
       "      <th>Token Pack (Cow Minced Meat)</th>\n",
       "      <th>Token Pack (Shaki &amp; Roundabout)</th>\n",
       "      <th>...</th>\n",
       "      <th>Value Pack (Cow Tongue)</th>\n",
       "      <th>Agemawo 1kg</th>\n",
       "      <th>Boneless Beef 1kg</th>\n",
       "      <th>Goat Meat 1kg</th>\n",
       "      <th>Hake 1kg</th>\n",
       "      <th>Hake 1kg (Cleaned)</th>\n",
       "      <th>Titus 1kg</th>\n",
       "      <th>Titus 1kg (Cleaned)</th>\n",
       "      <th>Chicken 1kg</th>\n",
       "      <th>Cow Head &amp; Neck 1kg</th>\n",
       "    </tr>\n",
       "  </thead>\n",
       "  <tbody>\n",
       "    <tr>\n",
       "      <th>0</th>\n",
       "      <td>0.0</td>\n",
       "      <td>0.0</td>\n",
       "      <td>0.0</td>\n",
       "      <td>0.0</td>\n",
       "      <td>0.0</td>\n",
       "      <td>0.0</td>\n",
       "      <td>0.0</td>\n",
       "      <td>0.0</td>\n",
       "      <td>0.0</td>\n",
       "      <td>0.0</td>\n",
       "      <td>...</td>\n",
       "      <td>0.0</td>\n",
       "      <td>0.0</td>\n",
       "      <td>0.0</td>\n",
       "      <td>0.0</td>\n",
       "      <td>0.0</td>\n",
       "      <td>0.0</td>\n",
       "      <td>0.0</td>\n",
       "      <td>0.0</td>\n",
       "      <td>0.0</td>\n",
       "      <td>0.0</td>\n",
       "    </tr>\n",
       "    <tr>\n",
       "      <th>1</th>\n",
       "      <td>0.0</td>\n",
       "      <td>0.0</td>\n",
       "      <td>0.0</td>\n",
       "      <td>0.0</td>\n",
       "      <td>0.0</td>\n",
       "      <td>1.0</td>\n",
       "      <td>1.0</td>\n",
       "      <td>0.0</td>\n",
       "      <td>0.0</td>\n",
       "      <td>0.0</td>\n",
       "      <td>...</td>\n",
       "      <td>0.0</td>\n",
       "      <td>0.0</td>\n",
       "      <td>0.0</td>\n",
       "      <td>0.0</td>\n",
       "      <td>0.0</td>\n",
       "      <td>0.0</td>\n",
       "      <td>0.0</td>\n",
       "      <td>0.0</td>\n",
       "      <td>0.0</td>\n",
       "      <td>0.0</td>\n",
       "    </tr>\n",
       "    <tr>\n",
       "      <th>2</th>\n",
       "      <td>0.0</td>\n",
       "      <td>0.0</td>\n",
       "      <td>0.0</td>\n",
       "      <td>1.0</td>\n",
       "      <td>0.0</td>\n",
       "      <td>0.0</td>\n",
       "      <td>0.0</td>\n",
       "      <td>0.0</td>\n",
       "      <td>0.0</td>\n",
       "      <td>0.0</td>\n",
       "      <td>...</td>\n",
       "      <td>0.0</td>\n",
       "      <td>0.0</td>\n",
       "      <td>0.0</td>\n",
       "      <td>0.0</td>\n",
       "      <td>0.0</td>\n",
       "      <td>0.0</td>\n",
       "      <td>0.0</td>\n",
       "      <td>0.0</td>\n",
       "      <td>0.0</td>\n",
       "      <td>0.0</td>\n",
       "    </tr>\n",
       "    <tr>\n",
       "      <th>3</th>\n",
       "      <td>0.0</td>\n",
       "      <td>0.0</td>\n",
       "      <td>0.0</td>\n",
       "      <td>0.0</td>\n",
       "      <td>0.0</td>\n",
       "      <td>0.0</td>\n",
       "      <td>2.0</td>\n",
       "      <td>0.0</td>\n",
       "      <td>0.0</td>\n",
       "      <td>0.0</td>\n",
       "      <td>...</td>\n",
       "      <td>0.0</td>\n",
       "      <td>0.0</td>\n",
       "      <td>0.0</td>\n",
       "      <td>0.0</td>\n",
       "      <td>0.0</td>\n",
       "      <td>0.0</td>\n",
       "      <td>0.0</td>\n",
       "      <td>0.0</td>\n",
       "      <td>0.0</td>\n",
       "      <td>0.0</td>\n",
       "    </tr>\n",
       "    <tr>\n",
       "      <th>4</th>\n",
       "      <td>0.0</td>\n",
       "      <td>0.0</td>\n",
       "      <td>0.0</td>\n",
       "      <td>0.0</td>\n",
       "      <td>0.0</td>\n",
       "      <td>0.0</td>\n",
       "      <td>0.0</td>\n",
       "      <td>0.0</td>\n",
       "      <td>0.0</td>\n",
       "      <td>0.0</td>\n",
       "      <td>...</td>\n",
       "      <td>0.0</td>\n",
       "      <td>0.0</td>\n",
       "      <td>0.0</td>\n",
       "      <td>0.0</td>\n",
       "      <td>0.0</td>\n",
       "      <td>0.0</td>\n",
       "      <td>0.0</td>\n",
       "      <td>0.0</td>\n",
       "      <td>0.0</td>\n",
       "      <td>0.0</td>\n",
       "    </tr>\n",
       "  </tbody>\n",
       "</table>\n",
       "<p>5 rows × 36 columns</p>\n",
       "</div>"
      ],
      "text/plain": [
       "   Token pack(boneless beef)  Token Pack (Cow Tail)  Token Pack (Cow Hump)  \\\n",
       "0                        0.0                    0.0                    0.0   \n",
       "1                        0.0                    0.0                    0.0   \n",
       "2                        0.0                    0.0                    0.0   \n",
       "3                        0.0                    0.0                    0.0   \n",
       "4                        0.0                    0.0                    0.0   \n",
       "\n",
       "   Token Pack (Cow Head & Neck)  Token Pack (Cow Leg)  Token Pack (Agemawo)  \\\n",
       "0                           0.0                   0.0                   0.0   \n",
       "1                           0.0                   0.0                   1.0   \n",
       "2                           1.0                   0.0                   0.0   \n",
       "3                           0.0                   0.0                   0.0   \n",
       "4                           0.0                   0.0                   0.0   \n",
       "\n",
       "   Token Pack (Cow Assorted)  Token Pack (Pomo)  Token Pack (Cow Minced Meat)  \\\n",
       "0                        0.0                0.0                           0.0   \n",
       "1                        1.0                0.0                           0.0   \n",
       "2                        0.0                0.0                           0.0   \n",
       "3                        2.0                0.0                           0.0   \n",
       "4                        0.0                0.0                           0.0   \n",
       "\n",
       "   Token Pack (Shaki & Roundabout)  ...  Value Pack (Cow Tongue)  Agemawo 1kg  \\\n",
       "0                              0.0  ...                      0.0          0.0   \n",
       "1                              0.0  ...                      0.0          0.0   \n",
       "2                              0.0  ...                      0.0          0.0   \n",
       "3                              0.0  ...                      0.0          0.0   \n",
       "4                              0.0  ...                      0.0          0.0   \n",
       "\n",
       "   Boneless Beef 1kg  Goat Meat 1kg  Hake 1kg  Hake 1kg (Cleaned)  Titus 1kg  \\\n",
       "0                0.0            0.0       0.0                 0.0        0.0   \n",
       "1                0.0            0.0       0.0                 0.0        0.0   \n",
       "2                0.0            0.0       0.0                 0.0        0.0   \n",
       "3                0.0            0.0       0.0                 0.0        0.0   \n",
       "4                0.0            0.0       0.0                 0.0        0.0   \n",
       "\n",
       "   Titus 1kg (Cleaned)  Chicken 1kg  Cow Head & Neck 1kg  \n",
       "0                  0.0          0.0                  0.0  \n",
       "1                  0.0          0.0                  0.0  \n",
       "2                  0.0          0.0                  0.0  \n",
       "3                  0.0          0.0                  0.0  \n",
       "4                  0.0          0.0                  0.0  \n",
       "\n",
       "[5 rows x 36 columns]"
      ]
     },
     "execution_count": 745,
     "metadata": {},
     "output_type": "execute_result"
    }
   ],
   "source": [
    "df_sub_prod.head()"
   ]
  },
  {
   "cell_type": "markdown",
   "id": "c1aa696f",
   "metadata": {},
   "source": [
    "## Number of packs of each product sold"
   ]
  },
  {
   "cell_type": "code",
   "execution_count": 746,
   "id": "f414c4e7",
   "metadata": {
    "scrolled": true
   },
   "outputs": [
    {
     "data": {
      "text/html": [
       "<div>\n",
       "<style scoped>\n",
       "    .dataframe tbody tr th:only-of-type {\n",
       "        vertical-align: middle;\n",
       "    }\n",
       "\n",
       "    .dataframe tbody tr th {\n",
       "        vertical-align: top;\n",
       "    }\n",
       "\n",
       "    .dataframe thead th {\n",
       "        text-align: right;\n",
       "    }\n",
       "</style>\n",
       "<table border=\"1\" class=\"dataframe\">\n",
       "  <thead>\n",
       "    <tr style=\"text-align: right;\">\n",
       "      <th></th>\n",
       "      <th>Products</th>\n",
       "      <th>Packs sold</th>\n",
       "    </tr>\n",
       "  </thead>\n",
       "  <tbody>\n",
       "    <tr>\n",
       "      <th>0</th>\n",
       "      <td>Token pack(boneless beef)</td>\n",
       "      <td>22.0</td>\n",
       "    </tr>\n",
       "    <tr>\n",
       "      <th>1</th>\n",
       "      <td>Token Pack (Cow Tail)</td>\n",
       "      <td>15.0</td>\n",
       "    </tr>\n",
       "    <tr>\n",
       "      <th>2</th>\n",
       "      <td>Token Pack (Cow Hump)</td>\n",
       "      <td>7.0</td>\n",
       "    </tr>\n",
       "    <tr>\n",
       "      <th>3</th>\n",
       "      <td>Token Pack (Cow Head &amp; Neck)</td>\n",
       "      <td>11.0</td>\n",
       "    </tr>\n",
       "    <tr>\n",
       "      <th>4</th>\n",
       "      <td>Token Pack (Cow Leg)</td>\n",
       "      <td>6.0</td>\n",
       "    </tr>\n",
       "    <tr>\n",
       "      <th>5</th>\n",
       "      <td>Token Pack (Agemawo)</td>\n",
       "      <td>47.0</td>\n",
       "    </tr>\n",
       "    <tr>\n",
       "      <th>6</th>\n",
       "      <td>Token Pack (Cow Assorted)</td>\n",
       "      <td>19.0</td>\n",
       "    </tr>\n",
       "    <tr>\n",
       "      <th>7</th>\n",
       "      <td>Token Pack (Pomo)</td>\n",
       "      <td>3.0</td>\n",
       "    </tr>\n",
       "    <tr>\n",
       "      <th>8</th>\n",
       "      <td>Token Pack (Cow Minced Meat)</td>\n",
       "      <td>1.0</td>\n",
       "    </tr>\n",
       "    <tr>\n",
       "      <th>9</th>\n",
       "      <td>Token Pack (Shaki &amp; Roundabout)</td>\n",
       "      <td>12.0</td>\n",
       "    </tr>\n",
       "    <tr>\n",
       "      <th>10</th>\n",
       "      <td>Value Pack (Agemawo)</td>\n",
       "      <td>35.0</td>\n",
       "    </tr>\n",
       "    <tr>\n",
       "      <th>11</th>\n",
       "      <td>Value Pack (Boneless Beef)</td>\n",
       "      <td>14.0</td>\n",
       "    </tr>\n",
       "    <tr>\n",
       "      <th>12</th>\n",
       "      <td>Value Pack (Cow Head &amp; Neck)</td>\n",
       "      <td>9.0</td>\n",
       "    </tr>\n",
       "    <tr>\n",
       "      <th>13</th>\n",
       "      <td>Value Pack (Cow Hump)</td>\n",
       "      <td>1.0</td>\n",
       "    </tr>\n",
       "    <tr>\n",
       "      <th>14</th>\n",
       "      <td>Value Pack (Cow Assorted)</td>\n",
       "      <td>17.0</td>\n",
       "    </tr>\n",
       "    <tr>\n",
       "      <th>15</th>\n",
       "      <td>Token Pack (Goat Meat)</td>\n",
       "      <td>4.0</td>\n",
       "    </tr>\n",
       "    <tr>\n",
       "      <th>16</th>\n",
       "      <td>Token Pack (Goat Assorted)</td>\n",
       "      <td>4.0</td>\n",
       "    </tr>\n",
       "    <tr>\n",
       "      <th>17</th>\n",
       "      <td>Token Pack (Head &amp; Leg)</td>\n",
       "      <td>0.0</td>\n",
       "    </tr>\n",
       "    <tr>\n",
       "      <th>18</th>\n",
       "      <td>Value Pack (Goat Meat)</td>\n",
       "      <td>5.0</td>\n",
       "    </tr>\n",
       "    <tr>\n",
       "      <th>19</th>\n",
       "      <td>Value Pack (Chicken)</td>\n",
       "      <td>12.0</td>\n",
       "    </tr>\n",
       "    <tr>\n",
       "      <th>20</th>\n",
       "      <td>Token Pack (Chicken Gizzard)</td>\n",
       "      <td>19.0</td>\n",
       "    </tr>\n",
       "    <tr>\n",
       "      <th>21</th>\n",
       "      <td>Token Pack (Chicken)</td>\n",
       "      <td>23.0</td>\n",
       "    </tr>\n",
       "    <tr>\n",
       "      <th>22</th>\n",
       "      <td>Value Pack (Titus)</td>\n",
       "      <td>3.0</td>\n",
       "    </tr>\n",
       "    <tr>\n",
       "      <th>23</th>\n",
       "      <td>Token Pack (Hake)</td>\n",
       "      <td>9.0</td>\n",
       "    </tr>\n",
       "    <tr>\n",
       "      <th>24</th>\n",
       "      <td>Value Pack (Hake)</td>\n",
       "      <td>12.0</td>\n",
       "    </tr>\n",
       "    <tr>\n",
       "      <th>25</th>\n",
       "      <td>Token Pack (Titus)</td>\n",
       "      <td>14.0</td>\n",
       "    </tr>\n",
       "    <tr>\n",
       "      <th>26</th>\n",
       "      <td>Value Pack (Cow Tongue)</td>\n",
       "      <td>4.0</td>\n",
       "    </tr>\n",
       "    <tr>\n",
       "      <th>27</th>\n",
       "      <td>Agemawo 1kg</td>\n",
       "      <td>7.0</td>\n",
       "    </tr>\n",
       "    <tr>\n",
       "      <th>28</th>\n",
       "      <td>Boneless Beef 1kg</td>\n",
       "      <td>2.0</td>\n",
       "    </tr>\n",
       "    <tr>\n",
       "      <th>29</th>\n",
       "      <td>Goat Meat 1kg</td>\n",
       "      <td>2.0</td>\n",
       "    </tr>\n",
       "    <tr>\n",
       "      <th>30</th>\n",
       "      <td>Hake 1kg</td>\n",
       "      <td>2.0</td>\n",
       "    </tr>\n",
       "    <tr>\n",
       "      <th>31</th>\n",
       "      <td>Hake 1kg (Cleaned)</td>\n",
       "      <td>0.0</td>\n",
       "    </tr>\n",
       "    <tr>\n",
       "      <th>32</th>\n",
       "      <td>Titus 1kg</td>\n",
       "      <td>1.0</td>\n",
       "    </tr>\n",
       "    <tr>\n",
       "      <th>33</th>\n",
       "      <td>Titus 1kg (Cleaned)</td>\n",
       "      <td>2.0</td>\n",
       "    </tr>\n",
       "    <tr>\n",
       "      <th>34</th>\n",
       "      <td>Chicken 1kg</td>\n",
       "      <td>9.0</td>\n",
       "    </tr>\n",
       "    <tr>\n",
       "      <th>35</th>\n",
       "      <td>Cow Head &amp; Neck 1kg</td>\n",
       "      <td>1.0</td>\n",
       "    </tr>\n",
       "  </tbody>\n",
       "</table>\n",
       "</div>"
      ],
      "text/plain": [
       "                           Products  Packs sold\n",
       "0         Token pack(boneless beef)        22.0\n",
       "1             Token Pack (Cow Tail)        15.0\n",
       "2             Token Pack (Cow Hump)         7.0\n",
       "3      Token Pack (Cow Head & Neck)        11.0\n",
       "4              Token Pack (Cow Leg)         6.0\n",
       "5              Token Pack (Agemawo)        47.0\n",
       "6         Token Pack (Cow Assorted)        19.0\n",
       "7                 Token Pack (Pomo)         3.0\n",
       "8      Token Pack (Cow Minced Meat)         1.0\n",
       "9   Token Pack (Shaki & Roundabout)        12.0\n",
       "10             Value Pack (Agemawo)        35.0\n",
       "11       Value Pack (Boneless Beef)        14.0\n",
       "12     Value Pack (Cow Head & Neck)         9.0\n",
       "13            Value Pack (Cow Hump)         1.0\n",
       "14        Value Pack (Cow Assorted)        17.0\n",
       "15           Token Pack (Goat Meat)         4.0\n",
       "16       Token Pack (Goat Assorted)         4.0\n",
       "17          Token Pack (Head & Leg)         0.0\n",
       "18           Value Pack (Goat Meat)         5.0\n",
       "19             Value Pack (Chicken)        12.0\n",
       "20     Token Pack (Chicken Gizzard)        19.0\n",
       "21             Token Pack (Chicken)        23.0\n",
       "22               Value Pack (Titus)         3.0\n",
       "23                Token Pack (Hake)         9.0\n",
       "24                Value Pack (Hake)        12.0\n",
       "25               Token Pack (Titus)        14.0\n",
       "26          Value Pack (Cow Tongue)         4.0\n",
       "27                      Agemawo 1kg         7.0\n",
       "28                Boneless Beef 1kg         2.0\n",
       "29                    Goat Meat 1kg         2.0\n",
       "30                         Hake 1kg         2.0\n",
       "31               Hake 1kg (Cleaned)         0.0\n",
       "32                        Titus 1kg         1.0\n",
       "33              Titus 1kg (Cleaned)         2.0\n",
       "34                      Chicken 1kg         9.0\n",
       "35              Cow Head & Neck 1kg         1.0"
      ]
     },
     "execution_count": 746,
     "metadata": {},
     "output_type": "execute_result"
    }
   ],
   "source": [
    "prod_sum = df_sub_prod.sum(axis=0) #Get the sum of each product column\n",
    "\n",
    "products=(prod_sum.index).values #Get a list of the products\n",
    "packs_sold=prod_sum.values #Get a list of the sum of the packs sold per column\n",
    "\n",
    "dataframe = {\"Products\":products,\"Packs sold\":packs_sold}\n",
    "\n",
    "prod_df = pd.DataFrame(dataframe) #Create a dataframe\n",
    "prod_df\n",
    "\n",
    "# print(packs_sold)"
   ]
  },
  {
   "cell_type": "code",
   "execution_count": 747,
   "id": "a3a48729",
   "metadata": {},
   "outputs": [
    {
     "data": {
      "application/vnd.plotly.v1+json": {
       "config": {
        "plotlyServerURL": "https://plot.ly"
       },
       "data": [
        {
         "alignmentgroup": "True",
         "hovertemplate": "Products=%{x}<br>No. of packs sold=%{y}<extra></extra>",
         "legendgroup": "",
         "marker": {
          "color": "#636efa",
          "pattern": {
           "shape": ""
          }
         },
         "name": "",
         "offsetgroup": "",
         "orientation": "v",
         "showlegend": false,
         "textposition": "auto",
         "type": "bar",
         "x": [
          "Token pack(boneless beef)",
          "Token Pack (Cow Tail)",
          "Token Pack (Cow Hump)",
          "Token Pack (Cow Head & Neck)",
          "Token Pack (Cow Leg)",
          "Token Pack (Agemawo)",
          "Token Pack (Cow Assorted)",
          "Token Pack (Pomo)",
          "Token Pack (Cow Minced Meat)",
          "Token Pack (Shaki & Roundabout)",
          "Value Pack (Agemawo)",
          "Value Pack (Boneless Beef)",
          "Value Pack (Cow Head & Neck)",
          "Value Pack (Cow Hump)",
          "Value Pack (Cow Assorted)",
          "Token Pack (Goat Meat)",
          "Token Pack (Goat Assorted)",
          "Token Pack (Head & Leg)",
          "Value Pack (Goat Meat)",
          "Value Pack (Chicken)",
          "Token Pack (Chicken Gizzard)",
          "Token Pack (Chicken)",
          "Value Pack (Titus)",
          "Token Pack (Hake)",
          "Value Pack (Hake)",
          "Token Pack (Titus)",
          "Value Pack (Cow Tongue)",
          "Agemawo 1kg",
          "Boneless Beef 1kg",
          "Goat Meat 1kg",
          "Hake 1kg",
          "Hake 1kg (Cleaned)",
          "Titus 1kg",
          "Titus 1kg (Cleaned)",
          "Chicken 1kg",
          "Cow Head & Neck 1kg"
         ],
         "xaxis": "x",
         "y": [
          22,
          15,
          7,
          11,
          6,
          47,
          19,
          3,
          1,
          12,
          35,
          14,
          9,
          1,
          17,
          4,
          4,
          0,
          5,
          12,
          19,
          23,
          3,
          9,
          12,
          14,
          4,
          7,
          2,
          2,
          2,
          0,
          1,
          2,
          9,
          1
         ],
         "yaxis": "y"
        }
       ],
       "layout": {
        "barmode": "relative",
        "legend": {
         "tracegroupgap": 0
        },
        "template": {
         "data": {
          "bar": [
           {
            "error_x": {
             "color": "#2a3f5f"
            },
            "error_y": {
             "color": "#2a3f5f"
            },
            "marker": {
             "line": {
              "color": "#E5ECF6",
              "width": 0.5
             },
             "pattern": {
              "fillmode": "overlay",
              "size": 10,
              "solidity": 0.2
             }
            },
            "type": "bar"
           }
          ],
          "barpolar": [
           {
            "marker": {
             "line": {
              "color": "#E5ECF6",
              "width": 0.5
             },
             "pattern": {
              "fillmode": "overlay",
              "size": 10,
              "solidity": 0.2
             }
            },
            "type": "barpolar"
           }
          ],
          "carpet": [
           {
            "aaxis": {
             "endlinecolor": "#2a3f5f",
             "gridcolor": "white",
             "linecolor": "white",
             "minorgridcolor": "white",
             "startlinecolor": "#2a3f5f"
            },
            "baxis": {
             "endlinecolor": "#2a3f5f",
             "gridcolor": "white",
             "linecolor": "white",
             "minorgridcolor": "white",
             "startlinecolor": "#2a3f5f"
            },
            "type": "carpet"
           }
          ],
          "choropleth": [
           {
            "colorbar": {
             "outlinewidth": 0,
             "ticks": ""
            },
            "type": "choropleth"
           }
          ],
          "contour": [
           {
            "colorbar": {
             "outlinewidth": 0,
             "ticks": ""
            },
            "colorscale": [
             [
              0,
              "#0d0887"
             ],
             [
              0.1111111111111111,
              "#46039f"
             ],
             [
              0.2222222222222222,
              "#7201a8"
             ],
             [
              0.3333333333333333,
              "#9c179e"
             ],
             [
              0.4444444444444444,
              "#bd3786"
             ],
             [
              0.5555555555555556,
              "#d8576b"
             ],
             [
              0.6666666666666666,
              "#ed7953"
             ],
             [
              0.7777777777777778,
              "#fb9f3a"
             ],
             [
              0.8888888888888888,
              "#fdca26"
             ],
             [
              1,
              "#f0f921"
             ]
            ],
            "type": "contour"
           }
          ],
          "contourcarpet": [
           {
            "colorbar": {
             "outlinewidth": 0,
             "ticks": ""
            },
            "type": "contourcarpet"
           }
          ],
          "heatmap": [
           {
            "colorbar": {
             "outlinewidth": 0,
             "ticks": ""
            },
            "colorscale": [
             [
              0,
              "#0d0887"
             ],
             [
              0.1111111111111111,
              "#46039f"
             ],
             [
              0.2222222222222222,
              "#7201a8"
             ],
             [
              0.3333333333333333,
              "#9c179e"
             ],
             [
              0.4444444444444444,
              "#bd3786"
             ],
             [
              0.5555555555555556,
              "#d8576b"
             ],
             [
              0.6666666666666666,
              "#ed7953"
             ],
             [
              0.7777777777777778,
              "#fb9f3a"
             ],
             [
              0.8888888888888888,
              "#fdca26"
             ],
             [
              1,
              "#f0f921"
             ]
            ],
            "type": "heatmap"
           }
          ],
          "heatmapgl": [
           {
            "colorbar": {
             "outlinewidth": 0,
             "ticks": ""
            },
            "colorscale": [
             [
              0,
              "#0d0887"
             ],
             [
              0.1111111111111111,
              "#46039f"
             ],
             [
              0.2222222222222222,
              "#7201a8"
             ],
             [
              0.3333333333333333,
              "#9c179e"
             ],
             [
              0.4444444444444444,
              "#bd3786"
             ],
             [
              0.5555555555555556,
              "#d8576b"
             ],
             [
              0.6666666666666666,
              "#ed7953"
             ],
             [
              0.7777777777777778,
              "#fb9f3a"
             ],
             [
              0.8888888888888888,
              "#fdca26"
             ],
             [
              1,
              "#f0f921"
             ]
            ],
            "type": "heatmapgl"
           }
          ],
          "histogram": [
           {
            "marker": {
             "pattern": {
              "fillmode": "overlay",
              "size": 10,
              "solidity": 0.2
             }
            },
            "type": "histogram"
           }
          ],
          "histogram2d": [
           {
            "colorbar": {
             "outlinewidth": 0,
             "ticks": ""
            },
            "colorscale": [
             [
              0,
              "#0d0887"
             ],
             [
              0.1111111111111111,
              "#46039f"
             ],
             [
              0.2222222222222222,
              "#7201a8"
             ],
             [
              0.3333333333333333,
              "#9c179e"
             ],
             [
              0.4444444444444444,
              "#bd3786"
             ],
             [
              0.5555555555555556,
              "#d8576b"
             ],
             [
              0.6666666666666666,
              "#ed7953"
             ],
             [
              0.7777777777777778,
              "#fb9f3a"
             ],
             [
              0.8888888888888888,
              "#fdca26"
             ],
             [
              1,
              "#f0f921"
             ]
            ],
            "type": "histogram2d"
           }
          ],
          "histogram2dcontour": [
           {
            "colorbar": {
             "outlinewidth": 0,
             "ticks": ""
            },
            "colorscale": [
             [
              0,
              "#0d0887"
             ],
             [
              0.1111111111111111,
              "#46039f"
             ],
             [
              0.2222222222222222,
              "#7201a8"
             ],
             [
              0.3333333333333333,
              "#9c179e"
             ],
             [
              0.4444444444444444,
              "#bd3786"
             ],
             [
              0.5555555555555556,
              "#d8576b"
             ],
             [
              0.6666666666666666,
              "#ed7953"
             ],
             [
              0.7777777777777778,
              "#fb9f3a"
             ],
             [
              0.8888888888888888,
              "#fdca26"
             ],
             [
              1,
              "#f0f921"
             ]
            ],
            "type": "histogram2dcontour"
           }
          ],
          "mesh3d": [
           {
            "colorbar": {
             "outlinewidth": 0,
             "ticks": ""
            },
            "type": "mesh3d"
           }
          ],
          "parcoords": [
           {
            "line": {
             "colorbar": {
              "outlinewidth": 0,
              "ticks": ""
             }
            },
            "type": "parcoords"
           }
          ],
          "pie": [
           {
            "automargin": true,
            "type": "pie"
           }
          ],
          "scatter": [
           {
            "fillpattern": {
             "fillmode": "overlay",
             "size": 10,
             "solidity": 0.2
            },
            "type": "scatter"
           }
          ],
          "scatter3d": [
           {
            "line": {
             "colorbar": {
              "outlinewidth": 0,
              "ticks": ""
             }
            },
            "marker": {
             "colorbar": {
              "outlinewidth": 0,
              "ticks": ""
             }
            },
            "type": "scatter3d"
           }
          ],
          "scattercarpet": [
           {
            "marker": {
             "colorbar": {
              "outlinewidth": 0,
              "ticks": ""
             }
            },
            "type": "scattercarpet"
           }
          ],
          "scattergeo": [
           {
            "marker": {
             "colorbar": {
              "outlinewidth": 0,
              "ticks": ""
             }
            },
            "type": "scattergeo"
           }
          ],
          "scattergl": [
           {
            "marker": {
             "colorbar": {
              "outlinewidth": 0,
              "ticks": ""
             }
            },
            "type": "scattergl"
           }
          ],
          "scattermapbox": [
           {
            "marker": {
             "colorbar": {
              "outlinewidth": 0,
              "ticks": ""
             }
            },
            "type": "scattermapbox"
           }
          ],
          "scatterpolar": [
           {
            "marker": {
             "colorbar": {
              "outlinewidth": 0,
              "ticks": ""
             }
            },
            "type": "scatterpolar"
           }
          ],
          "scatterpolargl": [
           {
            "marker": {
             "colorbar": {
              "outlinewidth": 0,
              "ticks": ""
             }
            },
            "type": "scatterpolargl"
           }
          ],
          "scatterternary": [
           {
            "marker": {
             "colorbar": {
              "outlinewidth": 0,
              "ticks": ""
             }
            },
            "type": "scatterternary"
           }
          ],
          "surface": [
           {
            "colorbar": {
             "outlinewidth": 0,
             "ticks": ""
            },
            "colorscale": [
             [
              0,
              "#0d0887"
             ],
             [
              0.1111111111111111,
              "#46039f"
             ],
             [
              0.2222222222222222,
              "#7201a8"
             ],
             [
              0.3333333333333333,
              "#9c179e"
             ],
             [
              0.4444444444444444,
              "#bd3786"
             ],
             [
              0.5555555555555556,
              "#d8576b"
             ],
             [
              0.6666666666666666,
              "#ed7953"
             ],
             [
              0.7777777777777778,
              "#fb9f3a"
             ],
             [
              0.8888888888888888,
              "#fdca26"
             ],
             [
              1,
              "#f0f921"
             ]
            ],
            "type": "surface"
           }
          ],
          "table": [
           {
            "cells": {
             "fill": {
              "color": "#EBF0F8"
             },
             "line": {
              "color": "white"
             }
            },
            "header": {
             "fill": {
              "color": "#C8D4E3"
             },
             "line": {
              "color": "white"
             }
            },
            "type": "table"
           }
          ]
         },
         "layout": {
          "annotationdefaults": {
           "arrowcolor": "#2a3f5f",
           "arrowhead": 0,
           "arrowwidth": 1
          },
          "autotypenumbers": "strict",
          "coloraxis": {
           "colorbar": {
            "outlinewidth": 0,
            "ticks": ""
           }
          },
          "colorscale": {
           "diverging": [
            [
             0,
             "#8e0152"
            ],
            [
             0.1,
             "#c51b7d"
            ],
            [
             0.2,
             "#de77ae"
            ],
            [
             0.3,
             "#f1b6da"
            ],
            [
             0.4,
             "#fde0ef"
            ],
            [
             0.5,
             "#f7f7f7"
            ],
            [
             0.6,
             "#e6f5d0"
            ],
            [
             0.7,
             "#b8e186"
            ],
            [
             0.8,
             "#7fbc41"
            ],
            [
             0.9,
             "#4d9221"
            ],
            [
             1,
             "#276419"
            ]
           ],
           "sequential": [
            [
             0,
             "#0d0887"
            ],
            [
             0.1111111111111111,
             "#46039f"
            ],
            [
             0.2222222222222222,
             "#7201a8"
            ],
            [
             0.3333333333333333,
             "#9c179e"
            ],
            [
             0.4444444444444444,
             "#bd3786"
            ],
            [
             0.5555555555555556,
             "#d8576b"
            ],
            [
             0.6666666666666666,
             "#ed7953"
            ],
            [
             0.7777777777777778,
             "#fb9f3a"
            ],
            [
             0.8888888888888888,
             "#fdca26"
            ],
            [
             1,
             "#f0f921"
            ]
           ],
           "sequentialminus": [
            [
             0,
             "#0d0887"
            ],
            [
             0.1111111111111111,
             "#46039f"
            ],
            [
             0.2222222222222222,
             "#7201a8"
            ],
            [
             0.3333333333333333,
             "#9c179e"
            ],
            [
             0.4444444444444444,
             "#bd3786"
            ],
            [
             0.5555555555555556,
             "#d8576b"
            ],
            [
             0.6666666666666666,
             "#ed7953"
            ],
            [
             0.7777777777777778,
             "#fb9f3a"
            ],
            [
             0.8888888888888888,
             "#fdca26"
            ],
            [
             1,
             "#f0f921"
            ]
           ]
          },
          "colorway": [
           "#636efa",
           "#EF553B",
           "#00cc96",
           "#ab63fa",
           "#FFA15A",
           "#19d3f3",
           "#FF6692",
           "#B6E880",
           "#FF97FF",
           "#FECB52"
          ],
          "font": {
           "color": "#2a3f5f"
          },
          "geo": {
           "bgcolor": "white",
           "lakecolor": "white",
           "landcolor": "#E5ECF6",
           "showlakes": true,
           "showland": true,
           "subunitcolor": "white"
          },
          "hoverlabel": {
           "align": "left"
          },
          "hovermode": "closest",
          "mapbox": {
           "style": "light"
          },
          "paper_bgcolor": "white",
          "plot_bgcolor": "#E5ECF6",
          "polar": {
           "angularaxis": {
            "gridcolor": "white",
            "linecolor": "white",
            "ticks": ""
           },
           "bgcolor": "#E5ECF6",
           "radialaxis": {
            "gridcolor": "white",
            "linecolor": "white",
            "ticks": ""
           }
          },
          "scene": {
           "xaxis": {
            "backgroundcolor": "#E5ECF6",
            "gridcolor": "white",
            "gridwidth": 2,
            "linecolor": "white",
            "showbackground": true,
            "ticks": "",
            "zerolinecolor": "white"
           },
           "yaxis": {
            "backgroundcolor": "#E5ECF6",
            "gridcolor": "white",
            "gridwidth": 2,
            "linecolor": "white",
            "showbackground": true,
            "ticks": "",
            "zerolinecolor": "white"
           },
           "zaxis": {
            "backgroundcolor": "#E5ECF6",
            "gridcolor": "white",
            "gridwidth": 2,
            "linecolor": "white",
            "showbackground": true,
            "ticks": "",
            "zerolinecolor": "white"
           }
          },
          "shapedefaults": {
           "line": {
            "color": "#2a3f5f"
           }
          },
          "ternary": {
           "aaxis": {
            "gridcolor": "white",
            "linecolor": "white",
            "ticks": ""
           },
           "baxis": {
            "gridcolor": "white",
            "linecolor": "white",
            "ticks": ""
           },
           "bgcolor": "#E5ECF6",
           "caxis": {
            "gridcolor": "white",
            "linecolor": "white",
            "ticks": ""
           }
          },
          "title": {
           "x": 0.05
          },
          "xaxis": {
           "automargin": true,
           "gridcolor": "white",
           "linecolor": "white",
           "ticks": "",
           "title": {
            "standoff": 15
           },
           "zerolinecolor": "white",
           "zerolinewidth": 2
          },
          "yaxis": {
           "automargin": true,
           "gridcolor": "white",
           "linecolor": "white",
           "ticks": "",
           "title": {
            "standoff": 15
           },
           "zerolinecolor": "white",
           "zerolinewidth": 2
          }
         }
        },
        "title": {
         "text": "Contribution of each product to total sales"
        },
        "xaxis": {
         "anchor": "y",
         "domain": [
          0,
          1
         ],
         "title": {
          "text": "Products"
         }
        },
        "yaxis": {
         "anchor": "x",
         "domain": [
          0,
          1
         ],
         "title": {
          "text": "No. of packs sold"
         }
        }
       }
      },
      "text/html": [
       "<div>                            <div id=\"cfabf438-9cbf-4983-8d8f-341628789f78\" class=\"plotly-graph-div\" style=\"height:525px; width:100%;\"></div>            <script type=\"text/javascript\">                require([\"plotly\"], function(Plotly) {                    window.PLOTLYENV=window.PLOTLYENV || {};                                    if (document.getElementById(\"cfabf438-9cbf-4983-8d8f-341628789f78\")) {                    Plotly.newPlot(                        \"cfabf438-9cbf-4983-8d8f-341628789f78\",                        [{\"alignmentgroup\":\"True\",\"hovertemplate\":\"Products=%{x}<br>No. of packs sold=%{y}<extra></extra>\",\"legendgroup\":\"\",\"marker\":{\"color\":\"#636efa\",\"pattern\":{\"shape\":\"\"}},\"name\":\"\",\"offsetgroup\":\"\",\"orientation\":\"v\",\"showlegend\":false,\"textposition\":\"auto\",\"x\":[\"Token pack(boneless beef)\",\"Token Pack (Cow Tail)\",\"Token Pack (Cow Hump)\",\"Token Pack (Cow Head & Neck)\",\"Token Pack (Cow Leg)\",\"Token Pack (Agemawo)\",\"Token Pack (Cow Assorted)\",\"Token Pack (Pomo)\",\"Token Pack (Cow Minced Meat)\",\"Token Pack (Shaki & Roundabout)\",\"Value Pack (Agemawo)\",\"Value Pack (Boneless Beef)\",\"Value Pack (Cow Head & Neck)\",\"Value Pack (Cow Hump)\",\"Value Pack (Cow Assorted)\",\"Token Pack (Goat Meat)\",\"Token Pack (Goat Assorted)\",\"Token Pack (Head & Leg)\",\"Value Pack (Goat Meat)\",\"Value Pack (Chicken)\",\"Token Pack (Chicken Gizzard)\",\"Token Pack (Chicken)\",\"Value Pack (Titus)\",\"Token Pack (Hake)\",\"Value Pack (Hake)\",\"Token Pack (Titus)\",\"Value Pack (Cow Tongue)\",\"Agemawo 1kg\",\"Boneless Beef 1kg\",\"Goat Meat 1kg\",\"Hake 1kg\",\"Hake 1kg (Cleaned)\",\"Titus 1kg\",\"Titus 1kg (Cleaned)\",\"Chicken 1kg\",\"Cow Head & Neck 1kg\"],\"xaxis\":\"x\",\"y\":[22.0,15.0,7.0,11.0,6.0,47.0,19.0,3.0,1.0,12.0,35.0,14.0,9.0,1.0,17.0,4.0,4.0,0.0,5.0,12.0,19.0,23.0,3.0,9.0,12.0,14.0,4.0,7.0,2.0,2.0,2.0,0.0,1.0,2.0,9.0,1.0],\"yaxis\":\"y\",\"type\":\"bar\"}],                        {\"template\":{\"data\":{\"histogram2dcontour\":[{\"type\":\"histogram2dcontour\",\"colorbar\":{\"outlinewidth\":0,\"ticks\":\"\"},\"colorscale\":[[0.0,\"#0d0887\"],[0.1111111111111111,\"#46039f\"],[0.2222222222222222,\"#7201a8\"],[0.3333333333333333,\"#9c179e\"],[0.4444444444444444,\"#bd3786\"],[0.5555555555555556,\"#d8576b\"],[0.6666666666666666,\"#ed7953\"],[0.7777777777777778,\"#fb9f3a\"],[0.8888888888888888,\"#fdca26\"],[1.0,\"#f0f921\"]]}],\"choropleth\":[{\"type\":\"choropleth\",\"colorbar\":{\"outlinewidth\":0,\"ticks\":\"\"}}],\"histogram2d\":[{\"type\":\"histogram2d\",\"colorbar\":{\"outlinewidth\":0,\"ticks\":\"\"},\"colorscale\":[[0.0,\"#0d0887\"],[0.1111111111111111,\"#46039f\"],[0.2222222222222222,\"#7201a8\"],[0.3333333333333333,\"#9c179e\"],[0.4444444444444444,\"#bd3786\"],[0.5555555555555556,\"#d8576b\"],[0.6666666666666666,\"#ed7953\"],[0.7777777777777778,\"#fb9f3a\"],[0.8888888888888888,\"#fdca26\"],[1.0,\"#f0f921\"]]}],\"heatmap\":[{\"type\":\"heatmap\",\"colorbar\":{\"outlinewidth\":0,\"ticks\":\"\"},\"colorscale\":[[0.0,\"#0d0887\"],[0.1111111111111111,\"#46039f\"],[0.2222222222222222,\"#7201a8\"],[0.3333333333333333,\"#9c179e\"],[0.4444444444444444,\"#bd3786\"],[0.5555555555555556,\"#d8576b\"],[0.6666666666666666,\"#ed7953\"],[0.7777777777777778,\"#fb9f3a\"],[0.8888888888888888,\"#fdca26\"],[1.0,\"#f0f921\"]]}],\"heatmapgl\":[{\"type\":\"heatmapgl\",\"colorbar\":{\"outlinewidth\":0,\"ticks\":\"\"},\"colorscale\":[[0.0,\"#0d0887\"],[0.1111111111111111,\"#46039f\"],[0.2222222222222222,\"#7201a8\"],[0.3333333333333333,\"#9c179e\"],[0.4444444444444444,\"#bd3786\"],[0.5555555555555556,\"#d8576b\"],[0.6666666666666666,\"#ed7953\"],[0.7777777777777778,\"#fb9f3a\"],[0.8888888888888888,\"#fdca26\"],[1.0,\"#f0f921\"]]}],\"contourcarpet\":[{\"type\":\"contourcarpet\",\"colorbar\":{\"outlinewidth\":0,\"ticks\":\"\"}}],\"contour\":[{\"type\":\"contour\",\"colorbar\":{\"outlinewidth\":0,\"ticks\":\"\"},\"colorscale\":[[0.0,\"#0d0887\"],[0.1111111111111111,\"#46039f\"],[0.2222222222222222,\"#7201a8\"],[0.3333333333333333,\"#9c179e\"],[0.4444444444444444,\"#bd3786\"],[0.5555555555555556,\"#d8576b\"],[0.6666666666666666,\"#ed7953\"],[0.7777777777777778,\"#fb9f3a\"],[0.8888888888888888,\"#fdca26\"],[1.0,\"#f0f921\"]]}],\"surface\":[{\"type\":\"surface\",\"colorbar\":{\"outlinewidth\":0,\"ticks\":\"\"},\"colorscale\":[[0.0,\"#0d0887\"],[0.1111111111111111,\"#46039f\"],[0.2222222222222222,\"#7201a8\"],[0.3333333333333333,\"#9c179e\"],[0.4444444444444444,\"#bd3786\"],[0.5555555555555556,\"#d8576b\"],[0.6666666666666666,\"#ed7953\"],[0.7777777777777778,\"#fb9f3a\"],[0.8888888888888888,\"#fdca26\"],[1.0,\"#f0f921\"]]}],\"mesh3d\":[{\"type\":\"mesh3d\",\"colorbar\":{\"outlinewidth\":0,\"ticks\":\"\"}}],\"scatter\":[{\"fillpattern\":{\"fillmode\":\"overlay\",\"size\":10,\"solidity\":0.2},\"type\":\"scatter\"}],\"parcoords\":[{\"type\":\"parcoords\",\"line\":{\"colorbar\":{\"outlinewidth\":0,\"ticks\":\"\"}}}],\"scatterpolargl\":[{\"type\":\"scatterpolargl\",\"marker\":{\"colorbar\":{\"outlinewidth\":0,\"ticks\":\"\"}}}],\"bar\":[{\"error_x\":{\"color\":\"#2a3f5f\"},\"error_y\":{\"color\":\"#2a3f5f\"},\"marker\":{\"line\":{\"color\":\"#E5ECF6\",\"width\":0.5},\"pattern\":{\"fillmode\":\"overlay\",\"size\":10,\"solidity\":0.2}},\"type\":\"bar\"}],\"scattergeo\":[{\"type\":\"scattergeo\",\"marker\":{\"colorbar\":{\"outlinewidth\":0,\"ticks\":\"\"}}}],\"scatterpolar\":[{\"type\":\"scatterpolar\",\"marker\":{\"colorbar\":{\"outlinewidth\":0,\"ticks\":\"\"}}}],\"histogram\":[{\"marker\":{\"pattern\":{\"fillmode\":\"overlay\",\"size\":10,\"solidity\":0.2}},\"type\":\"histogram\"}],\"scattergl\":[{\"type\":\"scattergl\",\"marker\":{\"colorbar\":{\"outlinewidth\":0,\"ticks\":\"\"}}}],\"scatter3d\":[{\"type\":\"scatter3d\",\"line\":{\"colorbar\":{\"outlinewidth\":0,\"ticks\":\"\"}},\"marker\":{\"colorbar\":{\"outlinewidth\":0,\"ticks\":\"\"}}}],\"scattermapbox\":[{\"type\":\"scattermapbox\",\"marker\":{\"colorbar\":{\"outlinewidth\":0,\"ticks\":\"\"}}}],\"scatterternary\":[{\"type\":\"scatterternary\",\"marker\":{\"colorbar\":{\"outlinewidth\":0,\"ticks\":\"\"}}}],\"scattercarpet\":[{\"type\":\"scattercarpet\",\"marker\":{\"colorbar\":{\"outlinewidth\":0,\"ticks\":\"\"}}}],\"carpet\":[{\"aaxis\":{\"endlinecolor\":\"#2a3f5f\",\"gridcolor\":\"white\",\"linecolor\":\"white\",\"minorgridcolor\":\"white\",\"startlinecolor\":\"#2a3f5f\"},\"baxis\":{\"endlinecolor\":\"#2a3f5f\",\"gridcolor\":\"white\",\"linecolor\":\"white\",\"minorgridcolor\":\"white\",\"startlinecolor\":\"#2a3f5f\"},\"type\":\"carpet\"}],\"table\":[{\"cells\":{\"fill\":{\"color\":\"#EBF0F8\"},\"line\":{\"color\":\"white\"}},\"header\":{\"fill\":{\"color\":\"#C8D4E3\"},\"line\":{\"color\":\"white\"}},\"type\":\"table\"}],\"barpolar\":[{\"marker\":{\"line\":{\"color\":\"#E5ECF6\",\"width\":0.5},\"pattern\":{\"fillmode\":\"overlay\",\"size\":10,\"solidity\":0.2}},\"type\":\"barpolar\"}],\"pie\":[{\"automargin\":true,\"type\":\"pie\"}]},\"layout\":{\"autotypenumbers\":\"strict\",\"colorway\":[\"#636efa\",\"#EF553B\",\"#00cc96\",\"#ab63fa\",\"#FFA15A\",\"#19d3f3\",\"#FF6692\",\"#B6E880\",\"#FF97FF\",\"#FECB52\"],\"font\":{\"color\":\"#2a3f5f\"},\"hovermode\":\"closest\",\"hoverlabel\":{\"align\":\"left\"},\"paper_bgcolor\":\"white\",\"plot_bgcolor\":\"#E5ECF6\",\"polar\":{\"bgcolor\":\"#E5ECF6\",\"angularaxis\":{\"gridcolor\":\"white\",\"linecolor\":\"white\",\"ticks\":\"\"},\"radialaxis\":{\"gridcolor\":\"white\",\"linecolor\":\"white\",\"ticks\":\"\"}},\"ternary\":{\"bgcolor\":\"#E5ECF6\",\"aaxis\":{\"gridcolor\":\"white\",\"linecolor\":\"white\",\"ticks\":\"\"},\"baxis\":{\"gridcolor\":\"white\",\"linecolor\":\"white\",\"ticks\":\"\"},\"caxis\":{\"gridcolor\":\"white\",\"linecolor\":\"white\",\"ticks\":\"\"}},\"coloraxis\":{\"colorbar\":{\"outlinewidth\":0,\"ticks\":\"\"}},\"colorscale\":{\"sequential\":[[0.0,\"#0d0887\"],[0.1111111111111111,\"#46039f\"],[0.2222222222222222,\"#7201a8\"],[0.3333333333333333,\"#9c179e\"],[0.4444444444444444,\"#bd3786\"],[0.5555555555555556,\"#d8576b\"],[0.6666666666666666,\"#ed7953\"],[0.7777777777777778,\"#fb9f3a\"],[0.8888888888888888,\"#fdca26\"],[1.0,\"#f0f921\"]],\"sequentialminus\":[[0.0,\"#0d0887\"],[0.1111111111111111,\"#46039f\"],[0.2222222222222222,\"#7201a8\"],[0.3333333333333333,\"#9c179e\"],[0.4444444444444444,\"#bd3786\"],[0.5555555555555556,\"#d8576b\"],[0.6666666666666666,\"#ed7953\"],[0.7777777777777778,\"#fb9f3a\"],[0.8888888888888888,\"#fdca26\"],[1.0,\"#f0f921\"]],\"diverging\":[[0,\"#8e0152\"],[0.1,\"#c51b7d\"],[0.2,\"#de77ae\"],[0.3,\"#f1b6da\"],[0.4,\"#fde0ef\"],[0.5,\"#f7f7f7\"],[0.6,\"#e6f5d0\"],[0.7,\"#b8e186\"],[0.8,\"#7fbc41\"],[0.9,\"#4d9221\"],[1,\"#276419\"]]},\"xaxis\":{\"gridcolor\":\"white\",\"linecolor\":\"white\",\"ticks\":\"\",\"title\":{\"standoff\":15},\"zerolinecolor\":\"white\",\"automargin\":true,\"zerolinewidth\":2},\"yaxis\":{\"gridcolor\":\"white\",\"linecolor\":\"white\",\"ticks\":\"\",\"title\":{\"standoff\":15},\"zerolinecolor\":\"white\",\"automargin\":true,\"zerolinewidth\":2},\"scene\":{\"xaxis\":{\"backgroundcolor\":\"#E5ECF6\",\"gridcolor\":\"white\",\"linecolor\":\"white\",\"showbackground\":true,\"ticks\":\"\",\"zerolinecolor\":\"white\",\"gridwidth\":2},\"yaxis\":{\"backgroundcolor\":\"#E5ECF6\",\"gridcolor\":\"white\",\"linecolor\":\"white\",\"showbackground\":true,\"ticks\":\"\",\"zerolinecolor\":\"white\",\"gridwidth\":2},\"zaxis\":{\"backgroundcolor\":\"#E5ECF6\",\"gridcolor\":\"white\",\"linecolor\":\"white\",\"showbackground\":true,\"ticks\":\"\",\"zerolinecolor\":\"white\",\"gridwidth\":2}},\"shapedefaults\":{\"line\":{\"color\":\"#2a3f5f\"}},\"annotationdefaults\":{\"arrowcolor\":\"#2a3f5f\",\"arrowhead\":0,\"arrowwidth\":1},\"geo\":{\"bgcolor\":\"white\",\"landcolor\":\"#E5ECF6\",\"subunitcolor\":\"white\",\"showland\":true,\"showlakes\":true,\"lakecolor\":\"white\"},\"title\":{\"x\":0.05},\"mapbox\":{\"style\":\"light\"}}},\"xaxis\":{\"anchor\":\"y\",\"domain\":[0.0,1.0],\"title\":{\"text\":\"Products\"}},\"yaxis\":{\"anchor\":\"x\",\"domain\":[0.0,1.0],\"title\":{\"text\":\"No. of packs sold\"}},\"legend\":{\"tracegroupgap\":0},\"title\":{\"text\":\"Contribution of each product to total sales\"},\"barmode\":\"relative\"},                        {\"responsive\": true}                    ).then(function(){\n",
       "                            \n",
       "var gd = document.getElementById('cfabf438-9cbf-4983-8d8f-341628789f78');\n",
       "var x = new MutationObserver(function (mutations, observer) {{\n",
       "        var display = window.getComputedStyle(gd).display;\n",
       "        if (!display || display === 'none') {{\n",
       "            console.log([gd, 'removed!']);\n",
       "            Plotly.purge(gd);\n",
       "            observer.disconnect();\n",
       "        }}\n",
       "}});\n",
       "\n",
       "// Listen for the removal of the full notebook cells\n",
       "var notebookContainer = gd.closest('#notebook-container');\n",
       "if (notebookContainer) {{\n",
       "    x.observe(notebookContainer, {childList: true});\n",
       "}}\n",
       "\n",
       "// Listen for the clearing of the current output cell\n",
       "var outputEl = gd.closest('.output');\n",
       "if (outputEl) {{\n",
       "    x.observe(outputEl, {childList: true});\n",
       "}}\n",
       "\n",
       "                        })                };                });            </script>        </div>"
      ]
     },
     "metadata": {},
     "output_type": "display_data"
    }
   ],
   "source": [
    "#Plot the products against the number of packs sold\n",
    "fig = px.bar(prod_df,x=\"Products\", y=\"Packs sold\", \n",
    "             labels={\"Products\": \"Products\",\n",
    "                     \"Packs sold\": \"No. of packs sold\",\n",
    "             },\n",
    "             title='Contribution of each product to total sales')\n",
    "             \n",
    "fig.show()"
   ]
  },
  {
   "cell_type": "markdown",
   "id": "b9f40a4d",
   "metadata": {},
   "source": [
    "From the figure above, we can see that the most product sold within the period of time was the token pack of agemawo"
   ]
  },
  {
   "cell_type": "code",
   "execution_count": 748,
   "id": "9a8b2933",
   "metadata": {},
   "outputs": [],
   "source": [
    "# for index,record in df_sub.iterrows():\n",
    "#     print(index)\n",
    "#     for product in product_list:\n",
    "#         if record[product] == 0.0:\n",
    "#             continue\n",
    "#         else:\n",
    "            \n",
    "#             print(product)\n",
    "#             print(record[\"Naira Value\"])"
   ]
  },
  {
   "cell_type": "code",
   "execution_count": 749,
   "id": "e09dea30",
   "metadata": {},
   "outputs": [
    {
     "data": {
      "text/plain": [
       "array(['Token pack(boneless beef)', 'Token Pack (Cow Tail)',\n",
       "       'Token Pack (Cow Hump)', 'Token Pack (Cow Head & Neck)',\n",
       "       'Token Pack (Cow Leg)', 'Token Pack (Agemawo)',\n",
       "       'Token Pack (Cow Assorted)', 'Token Pack (Pomo)',\n",
       "       'Token Pack (Cow Minced Meat)', 'Token Pack (Shaki & Roundabout)',\n",
       "       'Value Pack (Agemawo)', 'Value Pack (Boneless Beef)',\n",
       "       'Value Pack (Cow Head & Neck)', 'Value Pack (Cow Hump)',\n",
       "       'Value Pack (Cow Assorted)', 'Token Pack (Goat Meat)',\n",
       "       'Token Pack (Goat Assorted)', 'Token Pack (Head & Leg)',\n",
       "       'Value Pack (Goat Meat)', 'Value Pack (Chicken)',\n",
       "       'Token Pack (Chicken Gizzard)', 'Token Pack (Chicken)',\n",
       "       'Value Pack (Titus)', 'Token Pack (Hake)', 'Value Pack (Hake)',\n",
       "       'Token Pack (Titus)', 'Value Pack (Cow Tongue)', 'Agemawo 1kg',\n",
       "       'Boneless Beef 1kg', 'Goat Meat 1kg', 'Hake 1kg',\n",
       "       'Hake 1kg (Cleaned)', 'Titus 1kg', 'Titus 1kg (Cleaned)',\n",
       "       'Chicken 1kg', 'Cow Head & Neck 1kg'], dtype=object)"
      ]
     },
     "execution_count": 749,
     "metadata": {},
     "output_type": "execute_result"
    }
   ],
   "source": [
    "product_list"
   ]
  },
  {
   "cell_type": "code",
   "execution_count": 750,
   "id": "a49b06f5",
   "metadata": {
    "scrolled": true
   },
   "outputs": [
    {
     "data": {
      "text/plain": [
       "Date                                           datetime64[ns]\n",
       "Name of Customer                                       object\n",
       "Time of Order                                          object\n",
       "Expected Time out                                      object\n",
       "Expected Time of Delivery                              object\n",
       "Time Out Update                                        object\n",
       "Why was the Order not Dispatched in 30mins?            object\n",
       "Action Taken                                           object\n",
       "New Expected Time Out                                  object\n",
       "New Expected Time of Delivery                          object\n",
       "Discount Type                                          object\n",
       "Discount Amount                                       float64\n",
       "Mode of Payment                                        object\n",
       "Delivery Status                                        object\n",
       "Actual Time Of Delivery                                object\n",
       "Duration(minutes)                                     float64\n",
       "Customer Type                                          object\n",
       "Token pack(boneless beef)                             float64\n",
       "Token Pack (Cow Tail)                                 float64\n",
       "Token Pack (Cow Hump)                                 float64\n",
       "Token Pack (Cow Head & Neck)                          float64\n",
       "Token Pack (Cow Leg)                                  float64\n",
       "Token Pack (Agemawo)                                  float64\n",
       "Token Pack (Cow Assorted)                             float64\n",
       "Token Pack (Pomo)                                     float64\n",
       "Token Pack (Cow Minced Meat)                          float64\n",
       "Token Pack (Shaki & Roundabout)                       float64\n",
       "Value Pack (Agemawo)                                  float64\n",
       "Value Pack (Boneless Beef)                            float64\n",
       "Value Pack (Cow Head & Neck)                          float64\n",
       "Value Pack (Cow Hump)                                 float64\n",
       "Value Pack (Cow Assorted)                             float64\n",
       "Token Pack (Goat Meat)                                float64\n",
       "Token Pack (Goat Assorted)                            float64\n",
       "Token Pack (Head & Leg)                               float64\n",
       "Value Pack (Goat Meat)                                float64\n",
       "Value Pack (Chicken)                                  float64\n",
       "Token Pack (Chicken Gizzard)                          float64\n",
       "Token Pack (Chicken)                                  float64\n",
       "Value Pack (Titus)                                    float64\n",
       "Token Pack (Hake)                                     float64\n",
       "Value Pack (Hake)                                     float64\n",
       "Token Pack (Titus)                                    float64\n",
       "Value Pack (Cow Tongue)                               float64\n",
       "Agemawo 1kg                                           float64\n",
       "Boneless Beef 1kg                                     float64\n",
       "Goat Meat 1kg                                         float64\n",
       "Hake 1kg                                              float64\n",
       "Hake 1kg (Cleaned)                                    float64\n",
       "Titus 1kg                                             float64\n",
       "Titus 1kg (Cleaned)                                   float64\n",
       "Chicken 1kg                                           float64\n",
       "Cow Head & Neck 1kg                                   float64\n",
       "Naira Value                                           float64\n",
       "Fulfilment Center                                      object\n",
       "dtype: object"
      ]
     },
     "execution_count": 750,
     "metadata": {},
     "output_type": "execute_result"
    }
   ],
   "source": [
    "df.dtypes"
   ]
  },
  {
   "cell_type": "code",
   "execution_count": 751,
   "id": "c0b1a27a",
   "metadata": {},
   "outputs": [
    {
     "data": {
      "text/plain": [
       "Mrs Adeleke       3\n",
       "Ola               3\n",
       "Ammansco          2\n",
       "Deborah           2\n",
       "Mrs Babatolu      2\n",
       "                 ..\n",
       "Mrs Sulyman       1\n",
       "Mrs omoyayi       1\n",
       "Mrs Yvonnegold    1\n",
       "Bash              1\n",
       "Mr Oladapo        1\n",
       "Name: Name of Customer, Length: 279, dtype: int64"
      ]
     },
     "execution_count": 751,
     "metadata": {},
     "output_type": "execute_result"
    }
   ],
   "source": [
    "df[\"Name of Customer\"].value_counts()"
   ]
  },
  {
   "cell_type": "markdown",
   "id": "5706e7f7",
   "metadata": {},
   "source": [
    "### Orders from customer type\n",
    "This section answers the question of how many orders came from old or existing customers and those that came from new customers."
   ]
  },
  {
   "cell_type": "code",
   "execution_count": 752,
   "id": "3b6aa4b9",
   "metadata": {},
   "outputs": [
    {
     "data": {
      "text/plain": [
       "Old Customer    249\n",
       "New Customer     31\n",
       "Old Custome       6\n",
       "Bicycle Op        5\n",
       "Retail            2\n",
       "New Custome       1\n",
       "OFC               1\n",
       "Name: Customer Type, dtype: int64"
      ]
     },
     "execution_count": 752,
     "metadata": {},
     "output_type": "execute_result"
    }
   ],
   "source": [
    "customer_count = df[\"Customer Type\"].value_counts() #The unique customer types and the count\n",
    "customer_count"
   ]
  },
  {
   "cell_type": "markdown",
   "id": "fb288ec3",
   "metadata": {},
   "source": [
    "Old Custome and New custome were spelt incorrectly. Retail, OFC, Bicycle Op were classified under \"Other\""
   ]
  },
  {
   "cell_type": "code",
   "execution_count": 753,
   "id": "4e15e407",
   "metadata": {},
   "outputs": [
    {
     "data": {
      "application/vnd.plotly.v1+json": {
       "config": {
        "plotlyServerURL": "https://plot.ly"
       },
       "data": [
        {
         "domain": {
          "x": [
           0,
           1
          ],
          "y": [
           0,
           1
          ]
         },
         "hole": 0.5,
         "hovertemplate": "label=%{label}<br>value=%{value}<extra></extra>",
         "labels": [
          "New Customers",
          "Old Customers",
          "other"
         ],
         "legendgroup": "",
         "name": "",
         "showlegend": true,
         "type": "pie",
         "values": [
          32,
          255,
          8
         ]
        }
       ],
       "layout": {
        "legend": {
         "tracegroupgap": 0
        },
        "template": {
         "data": {
          "bar": [
           {
            "error_x": {
             "color": "#2a3f5f"
            },
            "error_y": {
             "color": "#2a3f5f"
            },
            "marker": {
             "line": {
              "color": "#E5ECF6",
              "width": 0.5
             },
             "pattern": {
              "fillmode": "overlay",
              "size": 10,
              "solidity": 0.2
             }
            },
            "type": "bar"
           }
          ],
          "barpolar": [
           {
            "marker": {
             "line": {
              "color": "#E5ECF6",
              "width": 0.5
             },
             "pattern": {
              "fillmode": "overlay",
              "size": 10,
              "solidity": 0.2
             }
            },
            "type": "barpolar"
           }
          ],
          "carpet": [
           {
            "aaxis": {
             "endlinecolor": "#2a3f5f",
             "gridcolor": "white",
             "linecolor": "white",
             "minorgridcolor": "white",
             "startlinecolor": "#2a3f5f"
            },
            "baxis": {
             "endlinecolor": "#2a3f5f",
             "gridcolor": "white",
             "linecolor": "white",
             "minorgridcolor": "white",
             "startlinecolor": "#2a3f5f"
            },
            "type": "carpet"
           }
          ],
          "choropleth": [
           {
            "colorbar": {
             "outlinewidth": 0,
             "ticks": ""
            },
            "type": "choropleth"
           }
          ],
          "contour": [
           {
            "colorbar": {
             "outlinewidth": 0,
             "ticks": ""
            },
            "colorscale": [
             [
              0,
              "#0d0887"
             ],
             [
              0.1111111111111111,
              "#46039f"
             ],
             [
              0.2222222222222222,
              "#7201a8"
             ],
             [
              0.3333333333333333,
              "#9c179e"
             ],
             [
              0.4444444444444444,
              "#bd3786"
             ],
             [
              0.5555555555555556,
              "#d8576b"
             ],
             [
              0.6666666666666666,
              "#ed7953"
             ],
             [
              0.7777777777777778,
              "#fb9f3a"
             ],
             [
              0.8888888888888888,
              "#fdca26"
             ],
             [
              1,
              "#f0f921"
             ]
            ],
            "type": "contour"
           }
          ],
          "contourcarpet": [
           {
            "colorbar": {
             "outlinewidth": 0,
             "ticks": ""
            },
            "type": "contourcarpet"
           }
          ],
          "heatmap": [
           {
            "colorbar": {
             "outlinewidth": 0,
             "ticks": ""
            },
            "colorscale": [
             [
              0,
              "#0d0887"
             ],
             [
              0.1111111111111111,
              "#46039f"
             ],
             [
              0.2222222222222222,
              "#7201a8"
             ],
             [
              0.3333333333333333,
              "#9c179e"
             ],
             [
              0.4444444444444444,
              "#bd3786"
             ],
             [
              0.5555555555555556,
              "#d8576b"
             ],
             [
              0.6666666666666666,
              "#ed7953"
             ],
             [
              0.7777777777777778,
              "#fb9f3a"
             ],
             [
              0.8888888888888888,
              "#fdca26"
             ],
             [
              1,
              "#f0f921"
             ]
            ],
            "type": "heatmap"
           }
          ],
          "heatmapgl": [
           {
            "colorbar": {
             "outlinewidth": 0,
             "ticks": ""
            },
            "colorscale": [
             [
              0,
              "#0d0887"
             ],
             [
              0.1111111111111111,
              "#46039f"
             ],
             [
              0.2222222222222222,
              "#7201a8"
             ],
             [
              0.3333333333333333,
              "#9c179e"
             ],
             [
              0.4444444444444444,
              "#bd3786"
             ],
             [
              0.5555555555555556,
              "#d8576b"
             ],
             [
              0.6666666666666666,
              "#ed7953"
             ],
             [
              0.7777777777777778,
              "#fb9f3a"
             ],
             [
              0.8888888888888888,
              "#fdca26"
             ],
             [
              1,
              "#f0f921"
             ]
            ],
            "type": "heatmapgl"
           }
          ],
          "histogram": [
           {
            "marker": {
             "pattern": {
              "fillmode": "overlay",
              "size": 10,
              "solidity": 0.2
             }
            },
            "type": "histogram"
           }
          ],
          "histogram2d": [
           {
            "colorbar": {
             "outlinewidth": 0,
             "ticks": ""
            },
            "colorscale": [
             [
              0,
              "#0d0887"
             ],
             [
              0.1111111111111111,
              "#46039f"
             ],
             [
              0.2222222222222222,
              "#7201a8"
             ],
             [
              0.3333333333333333,
              "#9c179e"
             ],
             [
              0.4444444444444444,
              "#bd3786"
             ],
             [
              0.5555555555555556,
              "#d8576b"
             ],
             [
              0.6666666666666666,
              "#ed7953"
             ],
             [
              0.7777777777777778,
              "#fb9f3a"
             ],
             [
              0.8888888888888888,
              "#fdca26"
             ],
             [
              1,
              "#f0f921"
             ]
            ],
            "type": "histogram2d"
           }
          ],
          "histogram2dcontour": [
           {
            "colorbar": {
             "outlinewidth": 0,
             "ticks": ""
            },
            "colorscale": [
             [
              0,
              "#0d0887"
             ],
             [
              0.1111111111111111,
              "#46039f"
             ],
             [
              0.2222222222222222,
              "#7201a8"
             ],
             [
              0.3333333333333333,
              "#9c179e"
             ],
             [
              0.4444444444444444,
              "#bd3786"
             ],
             [
              0.5555555555555556,
              "#d8576b"
             ],
             [
              0.6666666666666666,
              "#ed7953"
             ],
             [
              0.7777777777777778,
              "#fb9f3a"
             ],
             [
              0.8888888888888888,
              "#fdca26"
             ],
             [
              1,
              "#f0f921"
             ]
            ],
            "type": "histogram2dcontour"
           }
          ],
          "mesh3d": [
           {
            "colorbar": {
             "outlinewidth": 0,
             "ticks": ""
            },
            "type": "mesh3d"
           }
          ],
          "parcoords": [
           {
            "line": {
             "colorbar": {
              "outlinewidth": 0,
              "ticks": ""
             }
            },
            "type": "parcoords"
           }
          ],
          "pie": [
           {
            "automargin": true,
            "type": "pie"
           }
          ],
          "scatter": [
           {
            "fillpattern": {
             "fillmode": "overlay",
             "size": 10,
             "solidity": 0.2
            },
            "type": "scatter"
           }
          ],
          "scatter3d": [
           {
            "line": {
             "colorbar": {
              "outlinewidth": 0,
              "ticks": ""
             }
            },
            "marker": {
             "colorbar": {
              "outlinewidth": 0,
              "ticks": ""
             }
            },
            "type": "scatter3d"
           }
          ],
          "scattercarpet": [
           {
            "marker": {
             "colorbar": {
              "outlinewidth": 0,
              "ticks": ""
             }
            },
            "type": "scattercarpet"
           }
          ],
          "scattergeo": [
           {
            "marker": {
             "colorbar": {
              "outlinewidth": 0,
              "ticks": ""
             }
            },
            "type": "scattergeo"
           }
          ],
          "scattergl": [
           {
            "marker": {
             "colorbar": {
              "outlinewidth": 0,
              "ticks": ""
             }
            },
            "type": "scattergl"
           }
          ],
          "scattermapbox": [
           {
            "marker": {
             "colorbar": {
              "outlinewidth": 0,
              "ticks": ""
             }
            },
            "type": "scattermapbox"
           }
          ],
          "scatterpolar": [
           {
            "marker": {
             "colorbar": {
              "outlinewidth": 0,
              "ticks": ""
             }
            },
            "type": "scatterpolar"
           }
          ],
          "scatterpolargl": [
           {
            "marker": {
             "colorbar": {
              "outlinewidth": 0,
              "ticks": ""
             }
            },
            "type": "scatterpolargl"
           }
          ],
          "scatterternary": [
           {
            "marker": {
             "colorbar": {
              "outlinewidth": 0,
              "ticks": ""
             }
            },
            "type": "scatterternary"
           }
          ],
          "surface": [
           {
            "colorbar": {
             "outlinewidth": 0,
             "ticks": ""
            },
            "colorscale": [
             [
              0,
              "#0d0887"
             ],
             [
              0.1111111111111111,
              "#46039f"
             ],
             [
              0.2222222222222222,
              "#7201a8"
             ],
             [
              0.3333333333333333,
              "#9c179e"
             ],
             [
              0.4444444444444444,
              "#bd3786"
             ],
             [
              0.5555555555555556,
              "#d8576b"
             ],
             [
              0.6666666666666666,
              "#ed7953"
             ],
             [
              0.7777777777777778,
              "#fb9f3a"
             ],
             [
              0.8888888888888888,
              "#fdca26"
             ],
             [
              1,
              "#f0f921"
             ]
            ],
            "type": "surface"
           }
          ],
          "table": [
           {
            "cells": {
             "fill": {
              "color": "#EBF0F8"
             },
             "line": {
              "color": "white"
             }
            },
            "header": {
             "fill": {
              "color": "#C8D4E3"
             },
             "line": {
              "color": "white"
             }
            },
            "type": "table"
           }
          ]
         },
         "layout": {
          "annotationdefaults": {
           "arrowcolor": "#2a3f5f",
           "arrowhead": 0,
           "arrowwidth": 1
          },
          "autotypenumbers": "strict",
          "coloraxis": {
           "colorbar": {
            "outlinewidth": 0,
            "ticks": ""
           }
          },
          "colorscale": {
           "diverging": [
            [
             0,
             "#8e0152"
            ],
            [
             0.1,
             "#c51b7d"
            ],
            [
             0.2,
             "#de77ae"
            ],
            [
             0.3,
             "#f1b6da"
            ],
            [
             0.4,
             "#fde0ef"
            ],
            [
             0.5,
             "#f7f7f7"
            ],
            [
             0.6,
             "#e6f5d0"
            ],
            [
             0.7,
             "#b8e186"
            ],
            [
             0.8,
             "#7fbc41"
            ],
            [
             0.9,
             "#4d9221"
            ],
            [
             1,
             "#276419"
            ]
           ],
           "sequential": [
            [
             0,
             "#0d0887"
            ],
            [
             0.1111111111111111,
             "#46039f"
            ],
            [
             0.2222222222222222,
             "#7201a8"
            ],
            [
             0.3333333333333333,
             "#9c179e"
            ],
            [
             0.4444444444444444,
             "#bd3786"
            ],
            [
             0.5555555555555556,
             "#d8576b"
            ],
            [
             0.6666666666666666,
             "#ed7953"
            ],
            [
             0.7777777777777778,
             "#fb9f3a"
            ],
            [
             0.8888888888888888,
             "#fdca26"
            ],
            [
             1,
             "#f0f921"
            ]
           ],
           "sequentialminus": [
            [
             0,
             "#0d0887"
            ],
            [
             0.1111111111111111,
             "#46039f"
            ],
            [
             0.2222222222222222,
             "#7201a8"
            ],
            [
             0.3333333333333333,
             "#9c179e"
            ],
            [
             0.4444444444444444,
             "#bd3786"
            ],
            [
             0.5555555555555556,
             "#d8576b"
            ],
            [
             0.6666666666666666,
             "#ed7953"
            ],
            [
             0.7777777777777778,
             "#fb9f3a"
            ],
            [
             0.8888888888888888,
             "#fdca26"
            ],
            [
             1,
             "#f0f921"
            ]
           ]
          },
          "colorway": [
           "#636efa",
           "#EF553B",
           "#00cc96",
           "#ab63fa",
           "#FFA15A",
           "#19d3f3",
           "#FF6692",
           "#B6E880",
           "#FF97FF",
           "#FECB52"
          ],
          "font": {
           "color": "#2a3f5f"
          },
          "geo": {
           "bgcolor": "white",
           "lakecolor": "white",
           "landcolor": "#E5ECF6",
           "showlakes": true,
           "showland": true,
           "subunitcolor": "white"
          },
          "hoverlabel": {
           "align": "left"
          },
          "hovermode": "closest",
          "mapbox": {
           "style": "light"
          },
          "paper_bgcolor": "white",
          "plot_bgcolor": "#E5ECF6",
          "polar": {
           "angularaxis": {
            "gridcolor": "white",
            "linecolor": "white",
            "ticks": ""
           },
           "bgcolor": "#E5ECF6",
           "radialaxis": {
            "gridcolor": "white",
            "linecolor": "white",
            "ticks": ""
           }
          },
          "scene": {
           "xaxis": {
            "backgroundcolor": "#E5ECF6",
            "gridcolor": "white",
            "gridwidth": 2,
            "linecolor": "white",
            "showbackground": true,
            "ticks": "",
            "zerolinecolor": "white"
           },
           "yaxis": {
            "backgroundcolor": "#E5ECF6",
            "gridcolor": "white",
            "gridwidth": 2,
            "linecolor": "white",
            "showbackground": true,
            "ticks": "",
            "zerolinecolor": "white"
           },
           "zaxis": {
            "backgroundcolor": "#E5ECF6",
            "gridcolor": "white",
            "gridwidth": 2,
            "linecolor": "white",
            "showbackground": true,
            "ticks": "",
            "zerolinecolor": "white"
           }
          },
          "shapedefaults": {
           "line": {
            "color": "#2a3f5f"
           }
          },
          "ternary": {
           "aaxis": {
            "gridcolor": "white",
            "linecolor": "white",
            "ticks": ""
           },
           "baxis": {
            "gridcolor": "white",
            "linecolor": "white",
            "ticks": ""
           },
           "bgcolor": "#E5ECF6",
           "caxis": {
            "gridcolor": "white",
            "linecolor": "white",
            "ticks": ""
           }
          },
          "title": {
           "x": 0.05
          },
          "xaxis": {
           "automargin": true,
           "gridcolor": "white",
           "linecolor": "white",
           "ticks": "",
           "title": {
            "standoff": 15
           },
           "zerolinecolor": "white",
           "zerolinewidth": 2
          },
          "yaxis": {
           "automargin": true,
           "gridcolor": "white",
           "linecolor": "white",
           "ticks": "",
           "title": {
            "standoff": 15
           },
           "zerolinecolor": "white",
           "zerolinewidth": 2
          }
         }
        },
        "title": {
         "text": "Orders from different Customer Types"
        }
       }
      },
      "text/html": [
       "<div>                            <div id=\"e8edbf14-34ba-4fb1-beed-576b53ca9f93\" class=\"plotly-graph-div\" style=\"height:525px; width:100%;\"></div>            <script type=\"text/javascript\">                require([\"plotly\"], function(Plotly) {                    window.PLOTLYENV=window.PLOTLYENV || {};                                    if (document.getElementById(\"e8edbf14-34ba-4fb1-beed-576b53ca9f93\")) {                    Plotly.newPlot(                        \"e8edbf14-34ba-4fb1-beed-576b53ca9f93\",                        [{\"domain\":{\"x\":[0.0,1.0],\"y\":[0.0,1.0]},\"hole\":0.5,\"hovertemplate\":\"label=%{label}<br>value=%{value}<extra></extra>\",\"labels\":[\"New Customers\",\"Old Customers\",\"other\"],\"legendgroup\":\"\",\"name\":\"\",\"showlegend\":true,\"values\":[32,255,8],\"type\":\"pie\"}],                        {\"template\":{\"data\":{\"histogram2dcontour\":[{\"type\":\"histogram2dcontour\",\"colorbar\":{\"outlinewidth\":0,\"ticks\":\"\"},\"colorscale\":[[0.0,\"#0d0887\"],[0.1111111111111111,\"#46039f\"],[0.2222222222222222,\"#7201a8\"],[0.3333333333333333,\"#9c179e\"],[0.4444444444444444,\"#bd3786\"],[0.5555555555555556,\"#d8576b\"],[0.6666666666666666,\"#ed7953\"],[0.7777777777777778,\"#fb9f3a\"],[0.8888888888888888,\"#fdca26\"],[1.0,\"#f0f921\"]]}],\"choropleth\":[{\"type\":\"choropleth\",\"colorbar\":{\"outlinewidth\":0,\"ticks\":\"\"}}],\"histogram2d\":[{\"type\":\"histogram2d\",\"colorbar\":{\"outlinewidth\":0,\"ticks\":\"\"},\"colorscale\":[[0.0,\"#0d0887\"],[0.1111111111111111,\"#46039f\"],[0.2222222222222222,\"#7201a8\"],[0.3333333333333333,\"#9c179e\"],[0.4444444444444444,\"#bd3786\"],[0.5555555555555556,\"#d8576b\"],[0.6666666666666666,\"#ed7953\"],[0.7777777777777778,\"#fb9f3a\"],[0.8888888888888888,\"#fdca26\"],[1.0,\"#f0f921\"]]}],\"heatmap\":[{\"type\":\"heatmap\",\"colorbar\":{\"outlinewidth\":0,\"ticks\":\"\"},\"colorscale\":[[0.0,\"#0d0887\"],[0.1111111111111111,\"#46039f\"],[0.2222222222222222,\"#7201a8\"],[0.3333333333333333,\"#9c179e\"],[0.4444444444444444,\"#bd3786\"],[0.5555555555555556,\"#d8576b\"],[0.6666666666666666,\"#ed7953\"],[0.7777777777777778,\"#fb9f3a\"],[0.8888888888888888,\"#fdca26\"],[1.0,\"#f0f921\"]]}],\"heatmapgl\":[{\"type\":\"heatmapgl\",\"colorbar\":{\"outlinewidth\":0,\"ticks\":\"\"},\"colorscale\":[[0.0,\"#0d0887\"],[0.1111111111111111,\"#46039f\"],[0.2222222222222222,\"#7201a8\"],[0.3333333333333333,\"#9c179e\"],[0.4444444444444444,\"#bd3786\"],[0.5555555555555556,\"#d8576b\"],[0.6666666666666666,\"#ed7953\"],[0.7777777777777778,\"#fb9f3a\"],[0.8888888888888888,\"#fdca26\"],[1.0,\"#f0f921\"]]}],\"contourcarpet\":[{\"type\":\"contourcarpet\",\"colorbar\":{\"outlinewidth\":0,\"ticks\":\"\"}}],\"contour\":[{\"type\":\"contour\",\"colorbar\":{\"outlinewidth\":0,\"ticks\":\"\"},\"colorscale\":[[0.0,\"#0d0887\"],[0.1111111111111111,\"#46039f\"],[0.2222222222222222,\"#7201a8\"],[0.3333333333333333,\"#9c179e\"],[0.4444444444444444,\"#bd3786\"],[0.5555555555555556,\"#d8576b\"],[0.6666666666666666,\"#ed7953\"],[0.7777777777777778,\"#fb9f3a\"],[0.8888888888888888,\"#fdca26\"],[1.0,\"#f0f921\"]]}],\"surface\":[{\"type\":\"surface\",\"colorbar\":{\"outlinewidth\":0,\"ticks\":\"\"},\"colorscale\":[[0.0,\"#0d0887\"],[0.1111111111111111,\"#46039f\"],[0.2222222222222222,\"#7201a8\"],[0.3333333333333333,\"#9c179e\"],[0.4444444444444444,\"#bd3786\"],[0.5555555555555556,\"#d8576b\"],[0.6666666666666666,\"#ed7953\"],[0.7777777777777778,\"#fb9f3a\"],[0.8888888888888888,\"#fdca26\"],[1.0,\"#f0f921\"]]}],\"mesh3d\":[{\"type\":\"mesh3d\",\"colorbar\":{\"outlinewidth\":0,\"ticks\":\"\"}}],\"scatter\":[{\"fillpattern\":{\"fillmode\":\"overlay\",\"size\":10,\"solidity\":0.2},\"type\":\"scatter\"}],\"parcoords\":[{\"type\":\"parcoords\",\"line\":{\"colorbar\":{\"outlinewidth\":0,\"ticks\":\"\"}}}],\"scatterpolargl\":[{\"type\":\"scatterpolargl\",\"marker\":{\"colorbar\":{\"outlinewidth\":0,\"ticks\":\"\"}}}],\"bar\":[{\"error_x\":{\"color\":\"#2a3f5f\"},\"error_y\":{\"color\":\"#2a3f5f\"},\"marker\":{\"line\":{\"color\":\"#E5ECF6\",\"width\":0.5},\"pattern\":{\"fillmode\":\"overlay\",\"size\":10,\"solidity\":0.2}},\"type\":\"bar\"}],\"scattergeo\":[{\"type\":\"scattergeo\",\"marker\":{\"colorbar\":{\"outlinewidth\":0,\"ticks\":\"\"}}}],\"scatterpolar\":[{\"type\":\"scatterpolar\",\"marker\":{\"colorbar\":{\"outlinewidth\":0,\"ticks\":\"\"}}}],\"histogram\":[{\"marker\":{\"pattern\":{\"fillmode\":\"overlay\",\"size\":10,\"solidity\":0.2}},\"type\":\"histogram\"}],\"scattergl\":[{\"type\":\"scattergl\",\"marker\":{\"colorbar\":{\"outlinewidth\":0,\"ticks\":\"\"}}}],\"scatter3d\":[{\"type\":\"scatter3d\",\"line\":{\"colorbar\":{\"outlinewidth\":0,\"ticks\":\"\"}},\"marker\":{\"colorbar\":{\"outlinewidth\":0,\"ticks\":\"\"}}}],\"scattermapbox\":[{\"type\":\"scattermapbox\",\"marker\":{\"colorbar\":{\"outlinewidth\":0,\"ticks\":\"\"}}}],\"scatterternary\":[{\"type\":\"scatterternary\",\"marker\":{\"colorbar\":{\"outlinewidth\":0,\"ticks\":\"\"}}}],\"scattercarpet\":[{\"type\":\"scattercarpet\",\"marker\":{\"colorbar\":{\"outlinewidth\":0,\"ticks\":\"\"}}}],\"carpet\":[{\"aaxis\":{\"endlinecolor\":\"#2a3f5f\",\"gridcolor\":\"white\",\"linecolor\":\"white\",\"minorgridcolor\":\"white\",\"startlinecolor\":\"#2a3f5f\"},\"baxis\":{\"endlinecolor\":\"#2a3f5f\",\"gridcolor\":\"white\",\"linecolor\":\"white\",\"minorgridcolor\":\"white\",\"startlinecolor\":\"#2a3f5f\"},\"type\":\"carpet\"}],\"table\":[{\"cells\":{\"fill\":{\"color\":\"#EBF0F8\"},\"line\":{\"color\":\"white\"}},\"header\":{\"fill\":{\"color\":\"#C8D4E3\"},\"line\":{\"color\":\"white\"}},\"type\":\"table\"}],\"barpolar\":[{\"marker\":{\"line\":{\"color\":\"#E5ECF6\",\"width\":0.5},\"pattern\":{\"fillmode\":\"overlay\",\"size\":10,\"solidity\":0.2}},\"type\":\"barpolar\"}],\"pie\":[{\"automargin\":true,\"type\":\"pie\"}]},\"layout\":{\"autotypenumbers\":\"strict\",\"colorway\":[\"#636efa\",\"#EF553B\",\"#00cc96\",\"#ab63fa\",\"#FFA15A\",\"#19d3f3\",\"#FF6692\",\"#B6E880\",\"#FF97FF\",\"#FECB52\"],\"font\":{\"color\":\"#2a3f5f\"},\"hovermode\":\"closest\",\"hoverlabel\":{\"align\":\"left\"},\"paper_bgcolor\":\"white\",\"plot_bgcolor\":\"#E5ECF6\",\"polar\":{\"bgcolor\":\"#E5ECF6\",\"angularaxis\":{\"gridcolor\":\"white\",\"linecolor\":\"white\",\"ticks\":\"\"},\"radialaxis\":{\"gridcolor\":\"white\",\"linecolor\":\"white\",\"ticks\":\"\"}},\"ternary\":{\"bgcolor\":\"#E5ECF6\",\"aaxis\":{\"gridcolor\":\"white\",\"linecolor\":\"white\",\"ticks\":\"\"},\"baxis\":{\"gridcolor\":\"white\",\"linecolor\":\"white\",\"ticks\":\"\"},\"caxis\":{\"gridcolor\":\"white\",\"linecolor\":\"white\",\"ticks\":\"\"}},\"coloraxis\":{\"colorbar\":{\"outlinewidth\":0,\"ticks\":\"\"}},\"colorscale\":{\"sequential\":[[0.0,\"#0d0887\"],[0.1111111111111111,\"#46039f\"],[0.2222222222222222,\"#7201a8\"],[0.3333333333333333,\"#9c179e\"],[0.4444444444444444,\"#bd3786\"],[0.5555555555555556,\"#d8576b\"],[0.6666666666666666,\"#ed7953\"],[0.7777777777777778,\"#fb9f3a\"],[0.8888888888888888,\"#fdca26\"],[1.0,\"#f0f921\"]],\"sequentialminus\":[[0.0,\"#0d0887\"],[0.1111111111111111,\"#46039f\"],[0.2222222222222222,\"#7201a8\"],[0.3333333333333333,\"#9c179e\"],[0.4444444444444444,\"#bd3786\"],[0.5555555555555556,\"#d8576b\"],[0.6666666666666666,\"#ed7953\"],[0.7777777777777778,\"#fb9f3a\"],[0.8888888888888888,\"#fdca26\"],[1.0,\"#f0f921\"]],\"diverging\":[[0,\"#8e0152\"],[0.1,\"#c51b7d\"],[0.2,\"#de77ae\"],[0.3,\"#f1b6da\"],[0.4,\"#fde0ef\"],[0.5,\"#f7f7f7\"],[0.6,\"#e6f5d0\"],[0.7,\"#b8e186\"],[0.8,\"#7fbc41\"],[0.9,\"#4d9221\"],[1,\"#276419\"]]},\"xaxis\":{\"gridcolor\":\"white\",\"linecolor\":\"white\",\"ticks\":\"\",\"title\":{\"standoff\":15},\"zerolinecolor\":\"white\",\"automargin\":true,\"zerolinewidth\":2},\"yaxis\":{\"gridcolor\":\"white\",\"linecolor\":\"white\",\"ticks\":\"\",\"title\":{\"standoff\":15},\"zerolinecolor\":\"white\",\"automargin\":true,\"zerolinewidth\":2},\"scene\":{\"xaxis\":{\"backgroundcolor\":\"#E5ECF6\",\"gridcolor\":\"white\",\"linecolor\":\"white\",\"showbackground\":true,\"ticks\":\"\",\"zerolinecolor\":\"white\",\"gridwidth\":2},\"yaxis\":{\"backgroundcolor\":\"#E5ECF6\",\"gridcolor\":\"white\",\"linecolor\":\"white\",\"showbackground\":true,\"ticks\":\"\",\"zerolinecolor\":\"white\",\"gridwidth\":2},\"zaxis\":{\"backgroundcolor\":\"#E5ECF6\",\"gridcolor\":\"white\",\"linecolor\":\"white\",\"showbackground\":true,\"ticks\":\"\",\"zerolinecolor\":\"white\",\"gridwidth\":2}},\"shapedefaults\":{\"line\":{\"color\":\"#2a3f5f\"}},\"annotationdefaults\":{\"arrowcolor\":\"#2a3f5f\",\"arrowhead\":0,\"arrowwidth\":1},\"geo\":{\"bgcolor\":\"white\",\"landcolor\":\"#E5ECF6\",\"subunitcolor\":\"white\",\"showland\":true,\"showlakes\":true,\"lakecolor\":\"white\"},\"title\":{\"x\":0.05},\"mapbox\":{\"style\":\"light\"}}},\"legend\":{\"tracegroupgap\":0},\"title\":{\"text\":\"Orders from different Customer Types\"}},                        {\"responsive\": true}                    ).then(function(){\n",
       "                            \n",
       "var gd = document.getElementById('e8edbf14-34ba-4fb1-beed-576b53ca9f93');\n",
       "var x = new MutationObserver(function (mutations, observer) {{\n",
       "        var display = window.getComputedStyle(gd).display;\n",
       "        if (!display || display === 'none') {{\n",
       "            console.log([gd, 'removed!']);\n",
       "            Plotly.purge(gd);\n",
       "            observer.disconnect();\n",
       "        }}\n",
       "}});\n",
       "\n",
       "// Listen for the removal of the full notebook cells\n",
       "var notebookContainer = gd.closest('#notebook-container');\n",
       "if (notebookContainer) {{\n",
       "    x.observe(notebookContainer, {childList: true});\n",
       "}}\n",
       "\n",
       "// Listen for the clearing of the current output cell\n",
       "var outputEl = gd.closest('.output');\n",
       "if (outputEl) {{\n",
       "    x.observe(outputEl, {childList: true});\n",
       "}}\n",
       "\n",
       "                        })                };                });            </script>        </div>"
      ]
     },
     "metadata": {},
     "output_type": "display_data"
    }
   ],
   "source": [
    "new_customer = customer_count[\"New Customer\"] + customer_count[\"New Custome\"]\n",
    "old_customer = customer_count[\"Old Customer\"] + customer_count[\"Old Custome\"]\n",
    "other = customer_count[\"Bicycle Op\"] + customer_count[\"Retail\"] + customer_count[\"OFC\"]\n",
    "\n",
    "labels = ['New Customers','Old Customers','other']\n",
    "values = [new_customer, old_customer, other]\n",
    "\n",
    "fig = px.pie(values=values, names=labels, \n",
    "             title='Orders from different Customer Types', hole=0.5)#Create the pie chart figure\n",
    "fig.show() #Show figure"
   ]
  },
  {
   "cell_type": "markdown",
   "id": "ace107c2",
   "metadata": {},
   "source": [
    "So the above donut plot shows that about 86 percent of the orders are from Old customers, which shows that customers are satisfied with the service and keep coming back. 10.8 per cent is from new customers, which shows there needs to be improved advertisement."
   ]
  },
  {
   "cell_type": "markdown",
   "id": "9409beb7",
   "metadata": {},
   "source": [
    "## Orders from Week days and weekends"
   ]
  },
  {
   "cell_type": "code",
   "execution_count": 754,
   "id": "3d11814a",
   "metadata": {},
   "outputs": [
    {
     "data": {
      "image/png": "[encoded data removed]",
      "text/plain": [
       "<Figure size 432x432 with 1 Axes>"
      ]
     },
     "metadata": {
      "needs_background": "light"
     },
     "output_type": "display_data"
    }
   ],
   "source": [
    "df[\"dayofweek\"] = df[\"Date\"].dt.dayofweek #Get the day of the week the order was from\n",
    "bins = np.linspace(df.dayofweek.min(), df.dayofweek.max(), 10) #Modify the bins to start from the min day, and end at the max day\n",
    "g = sns.FacetGrid(df, height=6)\n",
    "g.map(plt.hist, 'dayofweek', bins=bins, ec=\"k\") #maps the dataframe to a histogram\n",
    "plt.show()#Show the figure"
   ]
  },
  {
   "cell_type": "code",
   "execution_count": 755,
   "id": "63006b59",
   "metadata": {},
   "outputs": [
    {
     "data": {
      "text/plain": [
       "5    66\n",
       "2    47\n",
       "4    44\n",
       "3    39\n",
       "1    38\n",
       "6    36\n",
       "0    29\n",
       "Name: dayofweek, dtype: int64"
      ]
     },
     "execution_count": 755,
     "metadata": {},
     "output_type": "execute_result"
    }
   ],
   "source": [
    "df[\"dayofweek\"].value_counts()"
   ]
  },
  {
   "cell_type": "markdown",
   "id": "9ce60d53",
   "metadata": {},
   "source": [
    "According to the above figure, there are more orders on day 5, which is Saturday"
   ]
  },
  {
   "cell_type": "code",
   "execution_count": 756,
   "id": "2e9fd6d1",
   "metadata": {},
   "outputs": [
    {
     "data": {
      "text/html": [
       "<div>\n",
       "<style scoped>\n",
       "    .dataframe tbody tr th:only-of-type {\n",
       "        vertical-align: middle;\n",
       "    }\n",
       "\n",
       "    .dataframe tbody tr th {\n",
       "        vertical-align: top;\n",
       "    }\n",
       "\n",
       "    .dataframe thead th {\n",
       "        text-align: right;\n",
       "    }\n",
       "</style>\n",
       "<table border=\"1\" class=\"dataframe\">\n",
       "  <thead>\n",
       "    <tr style=\"text-align: right;\">\n",
       "      <th></th>\n",
       "      <th>Date</th>\n",
       "      <th>Name of Customer</th>\n",
       "      <th>Time of Order</th>\n",
       "      <th>Expected Time out</th>\n",
       "      <th>Expected Time of Delivery</th>\n",
       "      <th>Time Out Update</th>\n",
       "      <th>Why was the Order not Dispatched in 30mins?</th>\n",
       "      <th>Action Taken</th>\n",
       "      <th>New Expected Time Out</th>\n",
       "      <th>New Expected Time of Delivery</th>\n",
       "      <th>...</th>\n",
       "      <th>Hake 1kg</th>\n",
       "      <th>Hake 1kg (Cleaned)</th>\n",
       "      <th>Titus 1kg</th>\n",
       "      <th>Titus 1kg (Cleaned)</th>\n",
       "      <th>Chicken 1kg</th>\n",
       "      <th>Cow Head &amp; Neck 1kg</th>\n",
       "      <th>Naira Value</th>\n",
       "      <th>Fulfilment Center</th>\n",
       "      <th>dayofweek</th>\n",
       "      <th>weekend</th>\n",
       "    </tr>\n",
       "  </thead>\n",
       "  <tbody>\n",
       "    <tr>\n",
       "      <th>0</th>\n",
       "      <td>2022-07-06</td>\n",
       "      <td>Mr Ojo Olukunle</td>\n",
       "      <td>17:05</td>\n",
       "      <td>17:35</td>\n",
       "      <td>18:35</td>\n",
       "      <td>NaN</td>\n",
       "      <td>NaN</td>\n",
       "      <td>NaN</td>\n",
       "      <td>NaN</td>\n",
       "      <td>NaN</td>\n",
       "      <td>...</td>\n",
       "      <td>0.0</td>\n",
       "      <td>0.0</td>\n",
       "      <td>0.0</td>\n",
       "      <td>0.0</td>\n",
       "      <td>0.0</td>\n",
       "      <td>0.0</td>\n",
       "      <td>3185.0</td>\n",
       "      <td>Bashorun</td>\n",
       "      <td>2</td>\n",
       "      <td>0</td>\n",
       "    </tr>\n",
       "    <tr>\n",
       "      <th>1</th>\n",
       "      <td>2022-07-26</td>\n",
       "      <td>Mrs Adedokun</td>\n",
       "      <td>11:43</td>\n",
       "      <td>12:13</td>\n",
       "      <td>13:13</td>\n",
       "      <td>Gone</td>\n",
       "      <td>NaN</td>\n",
       "      <td>NaN</td>\n",
       "      <td>NaN</td>\n",
       "      <td>NaN</td>\n",
       "      <td>...</td>\n",
       "      <td>0.0</td>\n",
       "      <td>0.0</td>\n",
       "      <td>0.0</td>\n",
       "      <td>0.0</td>\n",
       "      <td>0.0</td>\n",
       "      <td>0.0</td>\n",
       "      <td>2340.0</td>\n",
       "      <td>Akobo</td>\n",
       "      <td>1</td>\n",
       "      <td>0</td>\n",
       "    </tr>\n",
       "    <tr>\n",
       "      <th>2</th>\n",
       "      <td>2022-08-20</td>\n",
       "      <td>Kemi</td>\n",
       "      <td>11:49</td>\n",
       "      <td>12:19</td>\n",
       "      <td>14:19</td>\n",
       "      <td>Gone</td>\n",
       "      <td>NaN</td>\n",
       "      <td>NaN</td>\n",
       "      <td>NaN</td>\n",
       "      <td>NaN</td>\n",
       "      <td>...</td>\n",
       "      <td>0.0</td>\n",
       "      <td>0.0</td>\n",
       "      <td>0.0</td>\n",
       "      <td>0.0</td>\n",
       "      <td>0.0</td>\n",
       "      <td>0.0</td>\n",
       "      <td>2340.0</td>\n",
       "      <td>Aleshinloye</td>\n",
       "      <td>5</td>\n",
       "      <td>1</td>\n",
       "    </tr>\n",
       "    <tr>\n",
       "      <th>3</th>\n",
       "      <td>2022-12-08</td>\n",
       "      <td>Omotayo A.</td>\n",
       "      <td>11:43</td>\n",
       "      <td>12:13</td>\n",
       "      <td>13:13</td>\n",
       "      <td>Gone</td>\n",
       "      <td>NaN</td>\n",
       "      <td>NaN</td>\n",
       "      <td>NaN</td>\n",
       "      <td>NaN</td>\n",
       "      <td>...</td>\n",
       "      <td>0.0</td>\n",
       "      <td>0.0</td>\n",
       "      <td>0.0</td>\n",
       "      <td>0.0</td>\n",
       "      <td>0.0</td>\n",
       "      <td>0.0</td>\n",
       "      <td>2340.0</td>\n",
       "      <td>Onikolobo</td>\n",
       "      <td>3</td>\n",
       "      <td>0</td>\n",
       "    </tr>\n",
       "    <tr>\n",
       "      <th>4</th>\n",
       "      <td>2022-03-06</td>\n",
       "      <td>Osasu</td>\n",
       "      <td>14:37</td>\n",
       "      <td>15:07</td>\n",
       "      <td>17:07</td>\n",
       "      <td>NaN</td>\n",
       "      <td>NaN</td>\n",
       "      <td>NaN</td>\n",
       "      <td>NaN</td>\n",
       "      <td>NaN</td>\n",
       "      <td>...</td>\n",
       "      <td>0.0</td>\n",
       "      <td>0.0</td>\n",
       "      <td>0.0</td>\n",
       "      <td>0.0</td>\n",
       "      <td>0.0</td>\n",
       "      <td>0.0</td>\n",
       "      <td>1430.0</td>\n",
       "      <td>Alakia</td>\n",
       "      <td>6</td>\n",
       "      <td>1</td>\n",
       "    </tr>\n",
       "  </tbody>\n",
       "</table>\n",
       "<p>5 rows × 57 columns</p>\n",
       "</div>"
      ],
      "text/plain": [
       "        Date Name of Customer Time of Order Expected Time out  \\\n",
       "0 2022-07-06  Mr Ojo Olukunle         17:05             17:35   \n",
       "1 2022-07-26     Mrs Adedokun         11:43             12:13   \n",
       "2 2022-08-20             Kemi         11:49             12:19   \n",
       "3 2022-12-08       Omotayo A.         11:43             12:13   \n",
       "4 2022-03-06            Osasu         14:37             15:07   \n",
       "\n",
       "  Expected Time of Delivery Time Out Update  \\\n",
       "0                     18:35             NaN   \n",
       "1                     13:13            Gone   \n",
       "2                     14:19            Gone   \n",
       "3                     13:13            Gone   \n",
       "4                     17:07             NaN   \n",
       "\n",
       "  Why was the Order not Dispatched in 30mins? Action Taken  \\\n",
       "0                                         NaN          NaN   \n",
       "1                                         NaN          NaN   \n",
       "2                                         NaN          NaN   \n",
       "3                                         NaN          NaN   \n",
       "4                                         NaN          NaN   \n",
       "\n",
       "  New Expected Time Out New Expected Time of Delivery  ... Hake 1kg  \\\n",
       "0                   NaN                           NaN  ...      0.0   \n",
       "1                   NaN                           NaN  ...      0.0   \n",
       "2                   NaN                           NaN  ...      0.0   \n",
       "3                   NaN                           NaN  ...      0.0   \n",
       "4                   NaN                           NaN  ...      0.0   \n",
       "\n",
       "   Hake 1kg (Cleaned) Titus 1kg Titus 1kg (Cleaned) Chicken 1kg  \\\n",
       "0                 0.0       0.0                 0.0         0.0   \n",
       "1                 0.0       0.0                 0.0         0.0   \n",
       "2                 0.0       0.0                 0.0         0.0   \n",
       "3                 0.0       0.0                 0.0         0.0   \n",
       "4                 0.0       0.0                 0.0         0.0   \n",
       "\n",
       "   Cow Head & Neck 1kg Naira Value  Fulfilment Center  dayofweek  weekend  \n",
       "0                  0.0      3185.0           Bashorun          2        0  \n",
       "1                  0.0      2340.0              Akobo          1        0  \n",
       "2                  0.0      2340.0        Aleshinloye          5        1  \n",
       "3                  0.0      2340.0          Onikolobo          3        0  \n",
       "4                  0.0      1430.0             Alakia          6        1  \n",
       "\n",
       "[5 rows x 57 columns]"
      ]
     },
     "execution_count": 756,
     "metadata": {},
     "output_type": "execute_result"
    }
   ],
   "source": [
    "df['weekend'] = df['dayofweek'].apply(lambda x: 1 if (x>3)  else 0) #Create a new column weekend, Return 1 if the order was on a weekend, return 0 otherwise\n",
    "df.head()"
   ]
  },
  {
   "cell_type": "code",
   "execution_count": 757,
   "id": "aa9fa761",
   "metadata": {},
   "outputs": [
    {
     "data": {
      "text/plain": [
       "0    153\n",
       "1    146\n",
       "Name: weekend, dtype: int64"
      ]
     },
     "execution_count": 757,
     "metadata": {},
     "output_type": "execute_result"
    }
   ],
   "source": [
    "df[\"weekend\"].value_counts()"
   ]
  },
  {
   "cell_type": "code",
   "execution_count": 758,
   "id": "0581a15d",
   "metadata": {},
   "outputs": [],
   "source": [
    "weekend = df.groupby(\"weekend\") #Group the orders by weekend"
   ]
  },
  {
   "cell_type": "code",
   "execution_count": 759,
   "id": "389f9055",
   "metadata": {},
   "outputs": [
    {
     "name": "stdout",
     "output_type": "stream",
     "text": [
      "The total amount made on a weekend is 659425.0\n"
     ]
    },
    {
     "name": "stderr",
     "output_type": "stream",
     "text": [
      "C:\\Users\\OLUWAF~1\\AppData\\Local\\Temp/ipykernel_24488/9903563.py:1: FutureWarning:\n",
      "\n",
      "Dropping of nuisance columns in DataFrame reductions (with 'numeric_only=None') is deprecated; in a future version this will raise TypeError.  Select only valid columns before calling the reduction.\n",
      "\n"
     ]
    }
   ],
   "source": [
    "weekend_amount = weekend.get_group(0).sum()[\"Naira Value\"] #Get the sum of money which was on a weekday not weekend\n",
    "print(f\"The total amount made on a weekend is {weekend_amount}\")"
   ]
  },
  {
   "cell_type": "code",
   "execution_count": 760,
   "id": "64388d12",
   "metadata": {},
   "outputs": [
    {
     "name": "stdout",
     "output_type": "stream",
     "text": [
      "The total amount made on a weekend is 693485.0\n"
     ]
    },
    {
     "name": "stderr",
     "output_type": "stream",
     "text": [
      "C:\\Users\\OLUWAF~1\\AppData\\Local\\Temp/ipykernel_24488/337128865.py:1: FutureWarning:\n",
      "\n",
      "Dropping of nuisance columns in DataFrame reductions (with 'numeric_only=None') is deprecated; in a future version this will raise TypeError.  Select only valid columns before calling the reduction.\n",
      "\n"
     ]
    }
   ],
   "source": [
    "weekday_amount = weekend.get_group(1).sum()[\"Naira Value\"] #Get the sum of money which was on a weekend not weekday\n",
    "print(f\"The total amount made on a weekend is {weekday_amount}\")"
   ]
  },
  {
   "cell_type": "markdown",
   "id": "21d3ed69",
   "metadata": {},
   "source": [
    "More money was made on the weekend - N693,485, compared to the weekdays - N659,425"
   ]
  },
  {
   "cell_type": "markdown",
   "id": "a5574c4e",
   "metadata": {},
   "source": [
    "## Orders at the different Time of day"
   ]
  },
  {
   "cell_type": "code",
   "execution_count": 761,
   "id": "78c8453e",
   "metadata": {},
   "outputs": [
    {
     "name": "stdout",
     "output_type": "stream",
     "text": [
      "\n",
      "    This function takes in the dataset\n",
      "    and returns the hour of the day the\n",
      "    order was\n",
      "    \n"
     ]
    }
   ],
   "source": [
    "def f(data):\n",
    "    \"\"\"\n",
    "    This function takes in the dataset\n",
    "    and returns the hour of the day the\n",
    "    order was\n",
    "    \"\"\"\n",
    "    hour_of_day = []\n",
    "    for index,record in data.iterrows():\n",
    "        x = int(record[\"Time of Order\"].split(\":\")[0])\n",
    "        if (x > 4) and (x <= 8):\n",
    "            hour=\"Early Morning\"\n",
    "        elif (x > 8) and (x <= 12 ):\n",
    "            hour='Morning'\n",
    "        elif (x > 12) and (x <= 16):\n",
    "            hour='Noon'\n",
    "        elif (x > 16) and (x <= 20) :\n",
    "            hour='Eve'\n",
    "        elif (x > 20) and (x <= 24):\n",
    "            hour='Night'\n",
    "        elif (x <= 4):\n",
    "            hour='Late Night'\n",
    "        hour_of_day.append(hour)\n",
    "    return hour_of_day\n",
    "\n",
    "print(f.__doc__)"
   ]
  },
  {
   "cell_type": "code",
   "execution_count": 762,
   "id": "3383eec7",
   "metadata": {},
   "outputs": [
    {
     "data": {
      "text/plain": [
       "Noon             130\n",
       "Morning          118\n",
       "Eve               21\n",
       "Late Night        21\n",
       "Early Morning      9\n",
       "Name: Hour of Day, dtype: int64"
      ]
     },
     "execution_count": 762,
     "metadata": {},
     "output_type": "execute_result"
    }
   ],
   "source": [
    "df[\"Hour of Day\"] = f(df)\n",
    "hour_day = df[\"Hour of Day\"].value_counts()\n",
    "hour_day"
   ]
  },
  {
   "cell_type": "code",
   "execution_count": 763,
   "id": "d80e1dbb",
   "metadata": {},
   "outputs": [
    {
     "data": {
      "application/vnd.plotly.v1+json": {
       "config": {
        "plotlyServerURL": "https://plot.ly"
       },
       "data": [
        {
         "domain": {
          "x": [
           0,
           1
          ],
          "y": [
           0,
           1
          ]
         },
         "hole": 0.5,
         "hovertemplate": "label=%{label}<br>value=%{value}<extra></extra>",
         "labels": [
          "Noon",
          "Morning",
          "Eve",
          "Late Night",
          "Early Morning"
         ],
         "legendgroup": "",
         "name": "",
         "showlegend": true,
         "type": "pie",
         "values": [
          130,
          118,
          21,
          21,
          9
         ]
        }
       ],
       "layout": {
        "legend": {
         "tracegroupgap": 0
        },
        "template": {
         "data": {
          "bar": [
           {
            "error_x": {
             "color": "#2a3f5f"
            },
            "error_y": {
             "color": "#2a3f5f"
            },
            "marker": {
             "line": {
              "color": "#E5ECF6",
              "width": 0.5
             },
             "pattern": {
              "fillmode": "overlay",
              "size": 10,
              "solidity": 0.2
             }
            },
            "type": "bar"
           }
          ],
          "barpolar": [
           {
            "marker": {
             "line": {
              "color": "#E5ECF6",
              "width": 0.5
             },
             "pattern": {
              "fillmode": "overlay",
              "size": 10,
              "solidity": 0.2
             }
            },
            "type": "barpolar"
           }
          ],
          "carpet": [
           {
            "aaxis": {
             "endlinecolor": "#2a3f5f",
             "gridcolor": "white",
             "linecolor": "white",
             "minorgridcolor": "white",
             "startlinecolor": "#2a3f5f"
            },
            "baxis": {
             "endlinecolor": "#2a3f5f",
             "gridcolor": "white",
             "linecolor": "white",
             "minorgridcolor": "white",
             "startlinecolor": "#2a3f5f"
            },
            "type": "carpet"
           }
          ],
          "choropleth": [
           {
            "colorbar": {
             "outlinewidth": 0,
             "ticks": ""
            },
            "type": "choropleth"
           }
          ],
          "contour": [
           {
            "colorbar": {
             "outlinewidth": 0,
             "ticks": ""
            },
            "colorscale": [
             [
              0,
              "#0d0887"
             ],
             [
              0.1111111111111111,
              "#46039f"
             ],
             [
              0.2222222222222222,
              "#7201a8"
             ],
             [
              0.3333333333333333,
              "#9c179e"
             ],
             [
              0.4444444444444444,
              "#bd3786"
             ],
             [
              0.5555555555555556,
              "#d8576b"
             ],
             [
              0.6666666666666666,
              "#ed7953"
             ],
             [
              0.7777777777777778,
              "#fb9f3a"
             ],
             [
              0.8888888888888888,
              "#fdca26"
             ],
             [
              1,
              "#f0f921"
             ]
            ],
            "type": "contour"
           }
          ],
          "contourcarpet": [
           {
            "colorbar": {
             "outlinewidth": 0,
             "ticks": ""
            },
            "type": "contourcarpet"
           }
          ],
          "heatmap": [
           {
            "colorbar": {
             "outlinewidth": 0,
             "ticks": ""
            },
            "colorscale": [
             [
              0,
              "#0d0887"
             ],
             [
              0.1111111111111111,
              "#46039f"
             ],
             [
              0.2222222222222222,
              "#7201a8"
             ],
             [
              0.3333333333333333,
              "#9c179e"
             ],
             [
              0.4444444444444444,
              "#bd3786"
             ],
             [
              0.5555555555555556,
              "#d8576b"
             ],
             [
              0.6666666666666666,
              "#ed7953"
             ],
             [
              0.7777777777777778,
              "#fb9f3a"
             ],
             [
              0.8888888888888888,
              "#fdca26"
             ],
             [
              1,
              "#f0f921"
             ]
            ],
            "type": "heatmap"
           }
          ],
          "heatmapgl": [
           {
            "colorbar": {
             "outlinewidth": 0,
             "ticks": ""
            },
            "colorscale": [
             [
              0,
              "#0d0887"
             ],
             [
              0.1111111111111111,
              "#46039f"
             ],
             [
              0.2222222222222222,
              "#7201a8"
             ],
             [
              0.3333333333333333,
              "#9c179e"
             ],
             [
              0.4444444444444444,
              "#bd3786"
             ],
             [
              0.5555555555555556,
              "#d8576b"
             ],
             [
              0.6666666666666666,
              "#ed7953"
             ],
             [
              0.7777777777777778,
              "#fb9f3a"
             ],
             [
              0.8888888888888888,
              "#fdca26"
             ],
             [
              1,
              "#f0f921"
             ]
            ],
            "type": "heatmapgl"
           }
          ],
          "histogram": [
           {
            "marker": {
             "pattern": {
              "fillmode": "overlay",
              "size": 10,
              "solidity": 0.2
             }
            },
            "type": "histogram"
           }
          ],
          "histogram2d": [
           {
            "colorbar": {
             "outlinewidth": 0,
             "ticks": ""
            },
            "colorscale": [
             [
              0,
              "#0d0887"
             ],
             [
              0.1111111111111111,
              "#46039f"
             ],
             [
              0.2222222222222222,
              "#7201a8"
             ],
             [
              0.3333333333333333,
              "#9c179e"
             ],
             [
              0.4444444444444444,
              "#bd3786"
             ],
             [
              0.5555555555555556,
              "#d8576b"
             ],
             [
              0.6666666666666666,
              "#ed7953"
             ],
             [
              0.7777777777777778,
              "#fb9f3a"
             ],
             [
              0.8888888888888888,
              "#fdca26"
             ],
             [
              1,
              "#f0f921"
             ]
            ],
            "type": "histogram2d"
           }
          ],
          "histogram2dcontour": [
           {
            "colorbar": {
             "outlinewidth": 0,
             "ticks": ""
            },
            "colorscale": [
             [
              0,
              "#0d0887"
             ],
             [
              0.1111111111111111,
              "#46039f"
             ],
             [
              0.2222222222222222,
              "#7201a8"
             ],
             [
              0.3333333333333333,
              "#9c179e"
             ],
             [
              0.4444444444444444,
              "#bd3786"
             ],
             [
              0.5555555555555556,
              "#d8576b"
             ],
             [
              0.6666666666666666,
              "#ed7953"
             ],
             [
              0.7777777777777778,
              "#fb9f3a"
             ],
             [
              0.8888888888888888,
              "#fdca26"
             ],
             [
              1,
              "#f0f921"
             ]
            ],
            "type": "histogram2dcontour"
           }
          ],
          "mesh3d": [
           {
            "colorbar": {
             "outlinewidth": 0,
             "ticks": ""
            },
            "type": "mesh3d"
           }
          ],
          "parcoords": [
           {
            "line": {
             "colorbar": {
              "outlinewidth": 0,
              "ticks": ""
             }
            },
            "type": "parcoords"
           }
          ],
          "pie": [
           {
            "automargin": true,
            "type": "pie"
           }
          ],
          "scatter": [
           {
            "fillpattern": {
             "fillmode": "overlay",
             "size": 10,
             "solidity": 0.2
            },
            "type": "scatter"
           }
          ],
          "scatter3d": [
           {
            "line": {
             "colorbar": {
              "outlinewidth": 0,
              "ticks": ""
             }
            },
            "marker": {
             "colorbar": {
              "outlinewidth": 0,
              "ticks": ""
             }
            },
            "type": "scatter3d"
           }
          ],
          "scattercarpet": [
           {
            "marker": {
             "colorbar": {
              "outlinewidth": 0,
              "ticks": ""
             }
            },
            "type": "scattercarpet"
           }
          ],
          "scattergeo": [
           {
            "marker": {
             "colorbar": {
              "outlinewidth": 0,
              "ticks": ""
             }
            },
            "type": "scattergeo"
           }
          ],
          "scattergl": [
           {
            "marker": {
             "colorbar": {
              "outlinewidth": 0,
              "ticks": ""
             }
            },
            "type": "scattergl"
           }
          ],
          "scattermapbox": [
           {
            "marker": {
             "colorbar": {
              "outlinewidth": 0,
              "ticks": ""
             }
            },
            "type": "scattermapbox"
           }
          ],
          "scatterpolar": [
           {
            "marker": {
             "colorbar": {
              "outlinewidth": 0,
              "ticks": ""
             }
            },
            "type": "scatterpolar"
           }
          ],
          "scatterpolargl": [
           {
            "marker": {
             "colorbar": {
              "outlinewidth": 0,
              "ticks": ""
             }
            },
            "type": "scatterpolargl"
           }
          ],
          "scatterternary": [
           {
            "marker": {
             "colorbar": {
              "outlinewidth": 0,
              "ticks": ""
             }
            },
            "type": "scatterternary"
           }
          ],
          "surface": [
           {
            "colorbar": {
             "outlinewidth": 0,
             "ticks": ""
            },
            "colorscale": [
             [
              0,
              "#0d0887"
             ],
             [
              0.1111111111111111,
              "#46039f"
             ],
             [
              0.2222222222222222,
              "#7201a8"
             ],
             [
              0.3333333333333333,
              "#9c179e"
             ],
             [
              0.4444444444444444,
              "#bd3786"
             ],
             [
              0.5555555555555556,
              "#d8576b"
             ],
             [
              0.6666666666666666,
              "#ed7953"
             ],
             [
              0.7777777777777778,
              "#fb9f3a"
             ],
             [
              0.8888888888888888,
              "#fdca26"
             ],
             [
              1,
              "#f0f921"
             ]
            ],
            "type": "surface"
           }
          ],
          "table": [
           {
            "cells": {
             "fill": {
              "color": "#EBF0F8"
             },
             "line": {
              "color": "white"
             }
            },
            "header": {
             "fill": {
              "color": "#C8D4E3"
             },
             "line": {
              "color": "white"
             }
            },
            "type": "table"
           }
          ]
         },
         "layout": {
          "annotationdefaults": {
           "arrowcolor": "#2a3f5f",
           "arrowhead": 0,
           "arrowwidth": 1
          },
          "autotypenumbers": "strict",
          "coloraxis": {
           "colorbar": {
            "outlinewidth": 0,
            "ticks": ""
           }
          },
          "colorscale": {
           "diverging": [
            [
             0,
             "#8e0152"
            ],
            [
             0.1,
             "#c51b7d"
            ],
            [
             0.2,
             "#de77ae"
            ],
            [
             0.3,
             "#f1b6da"
            ],
            [
             0.4,
             "#fde0ef"
            ],
            [
             0.5,
             "#f7f7f7"
            ],
            [
             0.6,
             "#e6f5d0"
            ],
            [
             0.7,
             "#b8e186"
            ],
            [
             0.8,
             "#7fbc41"
            ],
            [
             0.9,
             "#4d9221"
            ],
            [
             1,
             "#276419"
            ]
           ],
           "sequential": [
            [
             0,
             "#0d0887"
            ],
            [
             0.1111111111111111,
             "#46039f"
            ],
            [
             0.2222222222222222,
             "#7201a8"
            ],
            [
             0.3333333333333333,
             "#9c179e"
            ],
            [
             0.4444444444444444,
             "#bd3786"
            ],
            [
             0.5555555555555556,
             "#d8576b"
            ],
            [
             0.6666666666666666,
             "#ed7953"
            ],
            [
             0.7777777777777778,
             "#fb9f3a"
            ],
            [
             0.8888888888888888,
             "#fdca26"
            ],
            [
             1,
             "#f0f921"
            ]
           ],
           "sequentialminus": [
            [
             0,
             "#0d0887"
            ],
            [
             0.1111111111111111,
             "#46039f"
            ],
            [
             0.2222222222222222,
             "#7201a8"
            ],
            [
             0.3333333333333333,
             "#9c179e"
            ],
            [
             0.4444444444444444,
             "#bd3786"
            ],
            [
             0.5555555555555556,
             "#d8576b"
            ],
            [
             0.6666666666666666,
             "#ed7953"
            ],
            [
             0.7777777777777778,
             "#fb9f3a"
            ],
            [
             0.8888888888888888,
             "#fdca26"
            ],
            [
             1,
             "#f0f921"
            ]
           ]
          },
          "colorway": [
           "#636efa",
           "#EF553B",
           "#00cc96",
           "#ab63fa",
           "#FFA15A",
           "#19d3f3",
           "#FF6692",
           "#B6E880",
           "#FF97FF",
           "#FECB52"
          ],
          "font": {
           "color": "#2a3f5f"
          },
          "geo": {
           "bgcolor": "white",
           "lakecolor": "white",
           "landcolor": "#E5ECF6",
           "showlakes": true,
           "showland": true,
           "subunitcolor": "white"
          },
          "hoverlabel": {
           "align": "left"
          },
          "hovermode": "closest",
          "mapbox": {
           "style": "light"
          },
          "paper_bgcolor": "white",
          "plot_bgcolor": "#E5ECF6",
          "polar": {
           "angularaxis": {
            "gridcolor": "white",
            "linecolor": "white",
            "ticks": ""
           },
           "bgcolor": "#E5ECF6",
           "radialaxis": {
            "gridcolor": "white",
            "linecolor": "white",
            "ticks": ""
           }
          },
          "scene": {
           "xaxis": {
            "backgroundcolor": "#E5ECF6",
            "gridcolor": "white",
            "gridwidth": 2,
            "linecolor": "white",
            "showbackground": true,
            "ticks": "",
            "zerolinecolor": "white"
           },
           "yaxis": {
            "backgroundcolor": "#E5ECF6",
            "gridcolor": "white",
            "gridwidth": 2,
            "linecolor": "white",
            "showbackground": true,
            "ticks": "",
            "zerolinecolor": "white"
           },
           "zaxis": {
            "backgroundcolor": "#E5ECF6",
            "gridcolor": "white",
            "gridwidth": 2,
            "linecolor": "white",
            "showbackground": true,
            "ticks": "",
            "zerolinecolor": "white"
           }
          },
          "shapedefaults": {
           "line": {
            "color": "#2a3f5f"
           }
          },
          "ternary": {
           "aaxis": {
            "gridcolor": "white",
            "linecolor": "white",
            "ticks": ""
           },
           "baxis": {
            "gridcolor": "white",
            "linecolor": "white",
            "ticks": ""
           },
           "bgcolor": "#E5ECF6",
           "caxis": {
            "gridcolor": "white",
            "linecolor": "white",
            "ticks": ""
           }
          },
          "title": {
           "x": 0.05
          },
          "xaxis": {
           "automargin": true,
           "gridcolor": "white",
           "linecolor": "white",
           "ticks": "",
           "title": {
            "standoff": 15
           },
           "zerolinecolor": "white",
           "zerolinewidth": 2
          },
          "yaxis": {
           "automargin": true,
           "gridcolor": "white",
           "linecolor": "white",
           "ticks": "",
           "title": {
            "standoff": 15
           },
           "zerolinecolor": "white",
           "zerolinewidth": 2
          }
         }
        },
        "title": {
         "text": "Orders from different hours of the Day"
        }
       }
      },
      "text/html": [
       "<div>                            <div id=\"5a4c985f-f536-44fa-8c81-b0086ffba423\" class=\"plotly-graph-div\" style=\"height:525px; width:100%;\"></div>            <script type=\"text/javascript\">                require([\"plotly\"], function(Plotly) {                    window.PLOTLYENV=window.PLOTLYENV || {};                                    if (document.getElementById(\"5a4c985f-f536-44fa-8c81-b0086ffba423\")) {                    Plotly.newPlot(                        \"5a4c985f-f536-44fa-8c81-b0086ffba423\",                        [{\"domain\":{\"x\":[0.0,1.0],\"y\":[0.0,1.0]},\"hole\":0.5,\"hovertemplate\":\"label=%{label}<br>value=%{value}<extra></extra>\",\"labels\":[\"Noon\",\"Morning\",\"Eve\",\"Late Night\",\"Early Morning\"],\"legendgroup\":\"\",\"name\":\"\",\"showlegend\":true,\"values\":[130,118,21,21,9],\"type\":\"pie\"}],                        {\"template\":{\"data\":{\"histogram2dcontour\":[{\"type\":\"histogram2dcontour\",\"colorbar\":{\"outlinewidth\":0,\"ticks\":\"\"},\"colorscale\":[[0.0,\"#0d0887\"],[0.1111111111111111,\"#46039f\"],[0.2222222222222222,\"#7201a8\"],[0.3333333333333333,\"#9c179e\"],[0.4444444444444444,\"#bd3786\"],[0.5555555555555556,\"#d8576b\"],[0.6666666666666666,\"#ed7953\"],[0.7777777777777778,\"#fb9f3a\"],[0.8888888888888888,\"#fdca26\"],[1.0,\"#f0f921\"]]}],\"choropleth\":[{\"type\":\"choropleth\",\"colorbar\":{\"outlinewidth\":0,\"ticks\":\"\"}}],\"histogram2d\":[{\"type\":\"histogram2d\",\"colorbar\":{\"outlinewidth\":0,\"ticks\":\"\"},\"colorscale\":[[0.0,\"#0d0887\"],[0.1111111111111111,\"#46039f\"],[0.2222222222222222,\"#7201a8\"],[0.3333333333333333,\"#9c179e\"],[0.4444444444444444,\"#bd3786\"],[0.5555555555555556,\"#d8576b\"],[0.6666666666666666,\"#ed7953\"],[0.7777777777777778,\"#fb9f3a\"],[0.8888888888888888,\"#fdca26\"],[1.0,\"#f0f921\"]]}],\"heatmap\":[{\"type\":\"heatmap\",\"colorbar\":{\"outlinewidth\":0,\"ticks\":\"\"},\"colorscale\":[[0.0,\"#0d0887\"],[0.1111111111111111,\"#46039f\"],[0.2222222222222222,\"#7201a8\"],[0.3333333333333333,\"#9c179e\"],[0.4444444444444444,\"#bd3786\"],[0.5555555555555556,\"#d8576b\"],[0.6666666666666666,\"#ed7953\"],[0.7777777777777778,\"#fb9f3a\"],[0.8888888888888888,\"#fdca26\"],[1.0,\"#f0f921\"]]}],\"heatmapgl\":[{\"type\":\"heatmapgl\",\"colorbar\":{\"outlinewidth\":0,\"ticks\":\"\"},\"colorscale\":[[0.0,\"#0d0887\"],[0.1111111111111111,\"#46039f\"],[0.2222222222222222,\"#7201a8\"],[0.3333333333333333,\"#9c179e\"],[0.4444444444444444,\"#bd3786\"],[0.5555555555555556,\"#d8576b\"],[0.6666666666666666,\"#ed7953\"],[0.7777777777777778,\"#fb9f3a\"],[0.8888888888888888,\"#fdca26\"],[1.0,\"#f0f921\"]]}],\"contourcarpet\":[{\"type\":\"contourcarpet\",\"colorbar\":{\"outlinewidth\":0,\"ticks\":\"\"}}],\"contour\":[{\"type\":\"contour\",\"colorbar\":{\"outlinewidth\":0,\"ticks\":\"\"},\"colorscale\":[[0.0,\"#0d0887\"],[0.1111111111111111,\"#46039f\"],[0.2222222222222222,\"#7201a8\"],[0.3333333333333333,\"#9c179e\"],[0.4444444444444444,\"#bd3786\"],[0.5555555555555556,\"#d8576b\"],[0.6666666666666666,\"#ed7953\"],[0.7777777777777778,\"#fb9f3a\"],[0.8888888888888888,\"#fdca26\"],[1.0,\"#f0f921\"]]}],\"surface\":[{\"type\":\"surface\",\"colorbar\":{\"outlinewidth\":0,\"ticks\":\"\"},\"colorscale\":[[0.0,\"#0d0887\"],[0.1111111111111111,\"#46039f\"],[0.2222222222222222,\"#7201a8\"],[0.3333333333333333,\"#9c179e\"],[0.4444444444444444,\"#bd3786\"],[0.5555555555555556,\"#d8576b\"],[0.6666666666666666,\"#ed7953\"],[0.7777777777777778,\"#fb9f3a\"],[0.8888888888888888,\"#fdca26\"],[1.0,\"#f0f921\"]]}],\"mesh3d\":[{\"type\":\"mesh3d\",\"colorbar\":{\"outlinewidth\":0,\"ticks\":\"\"}}],\"scatter\":[{\"fillpattern\":{\"fillmode\":\"overlay\",\"size\":10,\"solidity\":0.2},\"type\":\"scatter\"}],\"parcoords\":[{\"type\":\"parcoords\",\"line\":{\"colorbar\":{\"outlinewidth\":0,\"ticks\":\"\"}}}],\"scatterpolargl\":[{\"type\":\"scatterpolargl\",\"marker\":{\"colorbar\":{\"outlinewidth\":0,\"ticks\":\"\"}}}],\"bar\":[{\"error_x\":{\"color\":\"#2a3f5f\"},\"error_y\":{\"color\":\"#2a3f5f\"},\"marker\":{\"line\":{\"color\":\"#E5ECF6\",\"width\":0.5},\"pattern\":{\"fillmode\":\"overlay\",\"size\":10,\"solidity\":0.2}},\"type\":\"bar\"}],\"scattergeo\":[{\"type\":\"scattergeo\",\"marker\":{\"colorbar\":{\"outlinewidth\":0,\"ticks\":\"\"}}}],\"scatterpolar\":[{\"type\":\"scatterpolar\",\"marker\":{\"colorbar\":{\"outlinewidth\":0,\"ticks\":\"\"}}}],\"histogram\":[{\"marker\":{\"pattern\":{\"fillmode\":\"overlay\",\"size\":10,\"solidity\":0.2}},\"type\":\"histogram\"}],\"scattergl\":[{\"type\":\"scattergl\",\"marker\":{\"colorbar\":{\"outlinewidth\":0,\"ticks\":\"\"}}}],\"scatter3d\":[{\"type\":\"scatter3d\",\"line\":{\"colorbar\":{\"outlinewidth\":0,\"ticks\":\"\"}},\"marker\":{\"colorbar\":{\"outlinewidth\":0,\"ticks\":\"\"}}}],\"scattermapbox\":[{\"type\":\"scattermapbox\",\"marker\":{\"colorbar\":{\"outlinewidth\":0,\"ticks\":\"\"}}}],\"scatterternary\":[{\"type\":\"scatterternary\",\"marker\":{\"colorbar\":{\"outlinewidth\":0,\"ticks\":\"\"}}}],\"scattercarpet\":[{\"type\":\"scattercarpet\",\"marker\":{\"colorbar\":{\"outlinewidth\":0,\"ticks\":\"\"}}}],\"carpet\":[{\"aaxis\":{\"endlinecolor\":\"#2a3f5f\",\"gridcolor\":\"white\",\"linecolor\":\"white\",\"minorgridcolor\":\"white\",\"startlinecolor\":\"#2a3f5f\"},\"baxis\":{\"endlinecolor\":\"#2a3f5f\",\"gridcolor\":\"white\",\"linecolor\":\"white\",\"minorgridcolor\":\"white\",\"startlinecolor\":\"#2a3f5f\"},\"type\":\"carpet\"}],\"table\":[{\"cells\":{\"fill\":{\"color\":\"#EBF0F8\"},\"line\":{\"color\":\"white\"}},\"header\":{\"fill\":{\"color\":\"#C8D4E3\"},\"line\":{\"color\":\"white\"}},\"type\":\"table\"}],\"barpolar\":[{\"marker\":{\"line\":{\"color\":\"#E5ECF6\",\"width\":0.5},\"pattern\":{\"fillmode\":\"overlay\",\"size\":10,\"solidity\":0.2}},\"type\":\"barpolar\"}],\"pie\":[{\"automargin\":true,\"type\":\"pie\"}]},\"layout\":{\"autotypenumbers\":\"strict\",\"colorway\":[\"#636efa\",\"#EF553B\",\"#00cc96\",\"#ab63fa\",\"#FFA15A\",\"#19d3f3\",\"#FF6692\",\"#B6E880\",\"#FF97FF\",\"#FECB52\"],\"font\":{\"color\":\"#2a3f5f\"},\"hovermode\":\"closest\",\"hoverlabel\":{\"align\":\"left\"},\"paper_bgcolor\":\"white\",\"plot_bgcolor\":\"#E5ECF6\",\"polar\":{\"bgcolor\":\"#E5ECF6\",\"angularaxis\":{\"gridcolor\":\"white\",\"linecolor\":\"white\",\"ticks\":\"\"},\"radialaxis\":{\"gridcolor\":\"white\",\"linecolor\":\"white\",\"ticks\":\"\"}},\"ternary\":{\"bgcolor\":\"#E5ECF6\",\"aaxis\":{\"gridcolor\":\"white\",\"linecolor\":\"white\",\"ticks\":\"\"},\"baxis\":{\"gridcolor\":\"white\",\"linecolor\":\"white\",\"ticks\":\"\"},\"caxis\":{\"gridcolor\":\"white\",\"linecolor\":\"white\",\"ticks\":\"\"}},\"coloraxis\":{\"colorbar\":{\"outlinewidth\":0,\"ticks\":\"\"}},\"colorscale\":{\"sequential\":[[0.0,\"#0d0887\"],[0.1111111111111111,\"#46039f\"],[0.2222222222222222,\"#7201a8\"],[0.3333333333333333,\"#9c179e\"],[0.4444444444444444,\"#bd3786\"],[0.5555555555555556,\"#d8576b\"],[0.6666666666666666,\"#ed7953\"],[0.7777777777777778,\"#fb9f3a\"],[0.8888888888888888,\"#fdca26\"],[1.0,\"#f0f921\"]],\"sequentialminus\":[[0.0,\"#0d0887\"],[0.1111111111111111,\"#46039f\"],[0.2222222222222222,\"#7201a8\"],[0.3333333333333333,\"#9c179e\"],[0.4444444444444444,\"#bd3786\"],[0.5555555555555556,\"#d8576b\"],[0.6666666666666666,\"#ed7953\"],[0.7777777777777778,\"#fb9f3a\"],[0.8888888888888888,\"#fdca26\"],[1.0,\"#f0f921\"]],\"diverging\":[[0,\"#8e0152\"],[0.1,\"#c51b7d\"],[0.2,\"#de77ae\"],[0.3,\"#f1b6da\"],[0.4,\"#fde0ef\"],[0.5,\"#f7f7f7\"],[0.6,\"#e6f5d0\"],[0.7,\"#b8e186\"],[0.8,\"#7fbc41\"],[0.9,\"#4d9221\"],[1,\"#276419\"]]},\"xaxis\":{\"gridcolor\":\"white\",\"linecolor\":\"white\",\"ticks\":\"\",\"title\":{\"standoff\":15},\"zerolinecolor\":\"white\",\"automargin\":true,\"zerolinewidth\":2},\"yaxis\":{\"gridcolor\":\"white\",\"linecolor\":\"white\",\"ticks\":\"\",\"title\":{\"standoff\":15},\"zerolinecolor\":\"white\",\"automargin\":true,\"zerolinewidth\":2},\"scene\":{\"xaxis\":{\"backgroundcolor\":\"#E5ECF6\",\"gridcolor\":\"white\",\"linecolor\":\"white\",\"showbackground\":true,\"ticks\":\"\",\"zerolinecolor\":\"white\",\"gridwidth\":2},\"yaxis\":{\"backgroundcolor\":\"#E5ECF6\",\"gridcolor\":\"white\",\"linecolor\":\"white\",\"showbackground\":true,\"ticks\":\"\",\"zerolinecolor\":\"white\",\"gridwidth\":2},\"zaxis\":{\"backgroundcolor\":\"#E5ECF6\",\"gridcolor\":\"white\",\"linecolor\":\"white\",\"showbackground\":true,\"ticks\":\"\",\"zerolinecolor\":\"white\",\"gridwidth\":2}},\"shapedefaults\":{\"line\":{\"color\":\"#2a3f5f\"}},\"annotationdefaults\":{\"arrowcolor\":\"#2a3f5f\",\"arrowhead\":0,\"arrowwidth\":1},\"geo\":{\"bgcolor\":\"white\",\"landcolor\":\"#E5ECF6\",\"subunitcolor\":\"white\",\"showland\":true,\"showlakes\":true,\"lakecolor\":\"white\"},\"title\":{\"x\":0.05},\"mapbox\":{\"style\":\"light\"}}},\"legend\":{\"tracegroupgap\":0},\"title\":{\"text\":\"Orders from different hours of the Day\"}},                        {\"responsive\": true}                    ).then(function(){\n",
       "                            \n",
       "var gd = document.getElementById('5a4c985f-f536-44fa-8c81-b0086ffba423');\n",
       "var x = new MutationObserver(function (mutations, observer) {{\n",
       "        var display = window.getComputedStyle(gd).display;\n",
       "        if (!display || display === 'none') {{\n",
       "            console.log([gd, 'removed!']);\n",
       "            Plotly.purge(gd);\n",
       "            observer.disconnect();\n",
       "        }}\n",
       "}});\n",
       "\n",
       "// Listen for the removal of the full notebook cells\n",
       "var notebookContainer = gd.closest('#notebook-container');\n",
       "if (notebookContainer) {{\n",
       "    x.observe(notebookContainer, {childList: true});\n",
       "}}\n",
       "\n",
       "// Listen for the clearing of the current output cell\n",
       "var outputEl = gd.closest('.output');\n",
       "if (outputEl) {{\n",
       "    x.observe(outputEl, {childList: true});\n",
       "}}\n",
       "\n",
       "                        })                };                });            </script>        </div>"
      ]
     },
     "metadata": {},
     "output_type": "display_data"
    }
   ],
   "source": [
    "noon = hour_day[\"Noon\"]#Get the number of orders at noon\n",
    "morning = hour_day[\"Morning\"]#Get the number of orders during the morning\n",
    "Eve = hour_day[\"Eve\"]#Get the number of orders during the evening\n",
    "late_night = hour_day[\"Late Night\"]#Get the number of orders during the late night\n",
    "early_morning = hour_day[\"Early Morning\"]#Get the number of orders during the early morning\n",
    "\n",
    "labels = hour_day.index\n",
    "values = [noon,morning,Eve,late_night,early_morning]#The different hours of the day\n",
    "\n",
    "fig = px.pie(values=values, names=labels, \n",
    "             title='Orders from different hours of the Day', hole=0.5)#Create the pie chart figure\n",
    "fig.show() #Show figure"
   ]
  },
  {
   "cell_type": "markdown",
   "id": "b6504a55",
   "metadata": {},
   "source": [
    "The above figure shows that most of the orderswere from Noon/Morning. But, a considerable amount came during odd hours."
   ]
  },
  {
   "cell_type": "markdown",
   "id": "a3fb9a66",
   "metadata": {},
   "source": [
    "### Insights into orders that came at odd hours"
   ]
  },
  {
   "cell_type": "code",
   "execution_count": 780,
   "id": "f6625839",
   "metadata": {},
   "outputs": [],
   "source": [
    "late_night = df.loc[df[\"Hour of Day\"] == \"Late Night\"]#Orders that came in at late night 1am to 4am\n",
    "early_morning = df.loc[df[\"Hour of Day\"] == \"Early Morning\"]#Orders that came in between 5 and 8am"
   ]
  },
  {
   "cell_type": "code",
   "execution_count": 765,
   "id": "59ad0702",
   "metadata": {},
   "outputs": [
    {
     "data": {
      "text/html": [
       "<div>\n",
       "<style scoped>\n",
       "    .dataframe tbody tr th:only-of-type {\n",
       "        vertical-align: middle;\n",
       "    }\n",
       "\n",
       "    .dataframe tbody tr th {\n",
       "        vertical-align: top;\n",
       "    }\n",
       "\n",
       "    .dataframe thead th {\n",
       "        text-align: right;\n",
       "    }\n",
       "</style>\n",
       "<table border=\"1\" class=\"dataframe\">\n",
       "  <thead>\n",
       "    <tr style=\"text-align: right;\">\n",
       "      <th></th>\n",
       "      <th>Date</th>\n",
       "      <th>Name of Customer</th>\n",
       "      <th>Time of Order</th>\n",
       "      <th>Expected Time out</th>\n",
       "      <th>Expected Time of Delivery</th>\n",
       "      <th>Time Out Update</th>\n",
       "      <th>Why was the Order not Dispatched in 30mins?</th>\n",
       "      <th>Action Taken</th>\n",
       "      <th>New Expected Time Out</th>\n",
       "      <th>New Expected Time of Delivery</th>\n",
       "      <th>...</th>\n",
       "      <th>Hake 1kg (Cleaned)</th>\n",
       "      <th>Titus 1kg</th>\n",
       "      <th>Titus 1kg (Cleaned)</th>\n",
       "      <th>Chicken 1kg</th>\n",
       "      <th>Cow Head &amp; Neck 1kg</th>\n",
       "      <th>Naira Value</th>\n",
       "      <th>Fulfilment Center</th>\n",
       "      <th>dayofweek</th>\n",
       "      <th>weekend</th>\n",
       "      <th>Hour of Day</th>\n",
       "    </tr>\n",
       "  </thead>\n",
       "  <tbody>\n",
       "    <tr>\n",
       "      <th>67</th>\n",
       "      <td>2022-05-14</td>\n",
       "      <td>Mrs Adigun</td>\n",
       "      <td>05:00</td>\n",
       "      <td>05:30</td>\n",
       "      <td>07:30</td>\n",
       "      <td>Gone</td>\n",
       "      <td>NaN</td>\n",
       "      <td>NaN</td>\n",
       "      <td>NaN</td>\n",
       "      <td>NaN</td>\n",
       "      <td>...</td>\n",
       "      <td>0.0</td>\n",
       "      <td>0.0</td>\n",
       "      <td>0.0</td>\n",
       "      <td>0.0</td>\n",
       "      <td>0.0</td>\n",
       "      <td>3510.0</td>\n",
       "      <td>Aleshinloye</td>\n",
       "      <td>5</td>\n",
       "      <td>1</td>\n",
       "      <td>Early Morning</td>\n",
       "    </tr>\n",
       "    <tr>\n",
       "      <th>126</th>\n",
       "      <td>2022-05-07</td>\n",
       "      <td>Oladele Olasumbo Oyinlola</td>\n",
       "      <td>08:37</td>\n",
       "      <td>09:07</td>\n",
       "      <td>10:07</td>\n",
       "      <td>Gone</td>\n",
       "      <td>NaN</td>\n",
       "      <td>NaN</td>\n",
       "      <td>NaN</td>\n",
       "      <td>NaN</td>\n",
       "      <td>...</td>\n",
       "      <td>0.0</td>\n",
       "      <td>0.0</td>\n",
       "      <td>0.0</td>\n",
       "      <td>0.0</td>\n",
       "      <td>0.0</td>\n",
       "      <td>3380.0</td>\n",
       "      <td>UI</td>\n",
       "      <td>5</td>\n",
       "      <td>1</td>\n",
       "      <td>Early Morning</td>\n",
       "    </tr>\n",
       "    <tr>\n",
       "      <th>173</th>\n",
       "      <td>2022-04-06</td>\n",
       "      <td>olatunji Adeyemi</td>\n",
       "      <td>08:35</td>\n",
       "      <td>09:05</td>\n",
       "      <td>10:05</td>\n",
       "      <td>Gone</td>\n",
       "      <td>NaN</td>\n",
       "      <td>NaN</td>\n",
       "      <td>NaN</td>\n",
       "      <td>NaN</td>\n",
       "      <td>...</td>\n",
       "      <td>0.0</td>\n",
       "      <td>0.0</td>\n",
       "      <td>0.0</td>\n",
       "      <td>0.0</td>\n",
       "      <td>0.0</td>\n",
       "      <td>2470.0</td>\n",
       "      <td>Ologuneru</td>\n",
       "      <td>2</td>\n",
       "      <td>0</td>\n",
       "      <td>Early Morning</td>\n",
       "    </tr>\n",
       "    <tr>\n",
       "      <th>183</th>\n",
       "      <td>2022-07-29</td>\n",
       "      <td>Mrs Oyeleke</td>\n",
       "      <td>08:56</td>\n",
       "      <td>09:26</td>\n",
       "      <td>11:26</td>\n",
       "      <td>Gone</td>\n",
       "      <td>NaN</td>\n",
       "      <td>NaN</td>\n",
       "      <td>NaN</td>\n",
       "      <td>NaN</td>\n",
       "      <td>...</td>\n",
       "      <td>0.0</td>\n",
       "      <td>0.0</td>\n",
       "      <td>0.0</td>\n",
       "      <td>0.0</td>\n",
       "      <td>0.0</td>\n",
       "      <td>2340.0</td>\n",
       "      <td>Felele</td>\n",
       "      <td>4</td>\n",
       "      <td>1</td>\n",
       "      <td>Early Morning</td>\n",
       "    </tr>\n",
       "    <tr>\n",
       "      <th>186</th>\n",
       "      <td>2022-07-07</td>\n",
       "      <td>Mummy Kolade</td>\n",
       "      <td>08:48</td>\n",
       "      <td>09:18</td>\n",
       "      <td>11:18</td>\n",
       "      <td>Gone</td>\n",
       "      <td>NaN</td>\n",
       "      <td>NaN</td>\n",
       "      <td>NaN</td>\n",
       "      <td>NaN</td>\n",
       "      <td>...</td>\n",
       "      <td>0.0</td>\n",
       "      <td>0.0</td>\n",
       "      <td>0.0</td>\n",
       "      <td>0.0</td>\n",
       "      <td>0.0</td>\n",
       "      <td>4940.0</td>\n",
       "      <td>Aleshinloye</td>\n",
       "      <td>3</td>\n",
       "      <td>0</td>\n",
       "      <td>Early Morning</td>\n",
       "    </tr>\n",
       "  </tbody>\n",
       "</table>\n",
       "<p>5 rows × 58 columns</p>\n",
       "</div>"
      ],
      "text/plain": [
       "          Date           Name of Customer Time of Order Expected Time out  \\\n",
       "67  2022-05-14                 Mrs Adigun         05:00             05:30   \n",
       "126 2022-05-07  Oladele Olasumbo Oyinlola         08:37             09:07   \n",
       "173 2022-04-06           olatunji Adeyemi         08:35             09:05   \n",
       "183 2022-07-29                Mrs Oyeleke         08:56             09:26   \n",
       "186 2022-07-07               Mummy Kolade         08:48             09:18   \n",
       "\n",
       "    Expected Time of Delivery Time Out Update  \\\n",
       "67                      07:30            Gone   \n",
       "126                     10:07            Gone   \n",
       "173                     10:05            Gone   \n",
       "183                     11:26            Gone   \n",
       "186                     11:18            Gone   \n",
       "\n",
       "    Why was the Order not Dispatched in 30mins? Action Taken  \\\n",
       "67                                          NaN          NaN   \n",
       "126                                         NaN          NaN   \n",
       "173                                         NaN          NaN   \n",
       "183                                         NaN          NaN   \n",
       "186                                         NaN          NaN   \n",
       "\n",
       "    New Expected Time Out New Expected Time of Delivery  ...  \\\n",
       "67                    NaN                           NaN  ...   \n",
       "126                   NaN                           NaN  ...   \n",
       "173                   NaN                           NaN  ...   \n",
       "183                   NaN                           NaN  ...   \n",
       "186                   NaN                           NaN  ...   \n",
       "\n",
       "    Hake 1kg (Cleaned)  Titus 1kg Titus 1kg (Cleaned) Chicken 1kg  \\\n",
       "67                 0.0        0.0                 0.0         0.0   \n",
       "126                0.0        0.0                 0.0         0.0   \n",
       "173                0.0        0.0                 0.0         0.0   \n",
       "183                0.0        0.0                 0.0         0.0   \n",
       "186                0.0        0.0                 0.0         0.0   \n",
       "\n",
       "    Cow Head & Neck 1kg  Naira Value Fulfilment Center  dayofweek  weekend  \\\n",
       "67                  0.0       3510.0       Aleshinloye          5        1   \n",
       "126                 0.0       3380.0                UI          5        1   \n",
       "173                 0.0       2470.0         Ologuneru          2        0   \n",
       "183                 0.0       2340.0            Felele          4        1   \n",
       "186                 0.0       4940.0       Aleshinloye          3        0   \n",
       "\n",
       "       Hour of Day  \n",
       "67   Early Morning  \n",
       "126  Early Morning  \n",
       "173  Early Morning  \n",
       "183  Early Morning  \n",
       "186  Early Morning  \n",
       "\n",
       "[5 rows x 58 columns]"
      ]
     },
     "execution_count": 765,
     "metadata": {},
     "output_type": "execute_result"
    }
   ],
   "source": [
    "early_morning.head()#Display first five rows"
   ]
  },
  {
   "cell_type": "code",
   "execution_count": 766,
   "id": "849cf6a7",
   "metadata": {},
   "outputs": [
    {
     "data": {
      "text/plain": [
       "67     Old Customer\n",
       "126    Old Customer\n",
       "173    Old Customer\n",
       "183    Old Customer\n",
       "186    Old Customer\n",
       "212    New Customer\n",
       "223    Old Customer\n",
       "232    Old Customer\n",
       "283    Old Customer\n",
       "Name: Customer Type, dtype: object"
      ]
     },
     "execution_count": 766,
     "metadata": {},
     "output_type": "execute_result"
    }
   ],
   "source": [
    "early_morning[\"Customer Type\"]"
   ]
  },
  {
   "cell_type": "markdown",
   "id": "d69b6b65",
   "metadata": {},
   "source": [
    "Most of them are old customers"
   ]
  },
  {
   "cell_type": "code",
   "execution_count": 767,
   "id": "5a498e99",
   "metadata": {},
   "outputs": [
    {
     "name": "stdout",
     "output_type": "stream",
     "text": [
      "67\n",
      "Mrs Adigun\n",
      "3510.0\n",
      "126\n",
      "Oladele Olasumbo Oyinlola\n",
      "3380.0\n",
      "173\n",
      "olatunji Adeyemi\n",
      "2470.0\n",
      "183\n",
      "Mrs Oyeleke\n",
      "Value Pack (Boneless Beef)\n",
      "2340.0\n",
      "186\n",
      "Mummy Kolade\n",
      "4940.0\n",
      "212\n",
      "Anthonia\n",
      "3185.0\n",
      "223\n",
      "Mum Wasilat\n",
      "Token Pack (Agemawo)\n",
      "Token Pack (Cow Assorted)\n",
      "2340.0\n",
      "232\n",
      "Mrs Osho Seun\n",
      "Value Pack (Boneless Beef)\n",
      "Value Pack (Cow Head & Neck)\n",
      "7020.0\n",
      "283\n",
      "Mummy Desire\n",
      "18980.0\n"
     ]
    }
   ],
   "source": [
    "#print the index, customer name, products bought and the amount of the early morning orders\n",
    "for index,record in early_morning.iterrows():\n",
    "    print(index) #Print the index\n",
    "    print(record[\"Name of Customer\"])\n",
    "    for product in product_list:\n",
    "        if record[product] == 0.0: #If the item was not bought, continue\n",
    "            continue\n",
    "        else:#If the item was ordered\n",
    "            print(product) #Print the product\n",
    "    print(record[\"Naira Value\"]) #Print the amount"
   ]
  },
  {
   "cell_type": "markdown",
   "id": "189f06d5",
   "metadata": {},
   "source": [
    "## More insight into the late night orders"
   ]
  },
  {
   "cell_type": "code",
   "execution_count": 768,
   "id": "ef64eee4",
   "metadata": {
    "scrolled": true
   },
   "outputs": [
    {
     "name": "stdout",
     "output_type": "stream",
     "text": [
      "17\n",
      "Waheed Abiodun Abass\n",
      "3770.0\n",
      "23\n",
      "nan\n",
      "2730.0\n",
      "35\n",
      "Excellent Lawal\n",
      "2470.0\n",
      "36\n",
      "Ayotunde\n",
      "7020.0\n",
      "37\n",
      "Mrs Adebayo\n",
      "3510.0\n",
      "60\n",
      "Ayomide Oladipupo\n",
      "6760.0\n",
      "61\n",
      "Mr John\n",
      "Token Pack (Cow Assorted)\n",
      "2730.0\n",
      "101\n",
      "Elizabeth\n",
      "4810.0\n",
      "116\n",
      "Mrs Yvonnegold\n",
      "3900.0\n",
      "129\n",
      "Mr Niran\n",
      "1300.0\n",
      "148\n",
      "Dami\n",
      "10530.0\n",
      "163\n",
      "Adedoyinsola\n",
      "6890.0\n",
      "172\n",
      "Taiwo Adewusi\n",
      "12350.0\n",
      "180\n",
      "King Lolu\n",
      "3510.0\n",
      "203\n",
      "Dr Funmi idowu\n",
      "6370.0\n",
      "222\n",
      "Tamz\n",
      "nan\n",
      "245\n",
      "Bose\n",
      "1430.0\n",
      "251\n",
      "Komoafe\n",
      "3510.0\n",
      "259\n",
      "Mrs Queen\n",
      "Token pack(boneless beef)\n",
      "Token Pack (Cow Head & Neck)\n",
      "2600.0\n",
      "284\n",
      "Mrs Aremu\n",
      "5980.0\n",
      "288\n",
      "Temitayo\n",
      "3510.0\n"
     ]
    }
   ],
   "source": [
    "#print the index, customer name, products bought and the amount of the late night orders\n",
    "for index,record in late_night.iterrows():\n",
    "    print(index) #Print the index\n",
    "    print(record[\"Name of Customer\"])\n",
    "    for product in product_list:\n",
    "        if record[product] == 0.0: #If the item was not bought, continue\n",
    "            continue\n",
    "        else:#If the item was ordered\n",
    "            print(product) #Print the product\n",
    "    print(record[\"Naira Value\"]) #Print the amount"
   ]
  },
  {
   "cell_type": "markdown",
   "id": "917b6500",
   "metadata": {},
   "source": [
    "We can see from the above that in most of the late night orders, what was ordered was not specified in the data, but there was a cost"
   ]
  },
  {
   "cell_type": "markdown",
   "id": "4501bc77",
   "metadata": {},
   "source": [
    "## Analysis of fulfilment centers"
   ]
  },
  {
   "cell_type": "code",
   "execution_count": 769,
   "id": "1a94345d",
   "metadata": {},
   "outputs": [
    {
     "data": {
      "text/plain": [
       "Bashorun       41\n",
       "Felele         41\n",
       "Apata          41\n",
       "UI             39\n",
       "Aleshinloye    38\n",
       "Alakia         25\n",
       "Ologuneru      22\n",
       "Akobo          17\n",
       "Olorunsogo     13\n",
       "Omi-Adio       10\n",
       "Apete           6\n",
       "Onikolobo       4\n",
       "Abiola Way      2\n",
       "Name: Fulfilment Center, dtype: int64"
      ]
     },
     "execution_count": 769,
     "metadata": {},
     "output_type": "execute_result"
    }
   ],
   "source": [
    "df[\"Fulfilment Center\"].value_counts() #Returns the unqiue fulfilment centers and their count"
   ]
  },
  {
   "cell_type": "markdown",
   "id": "425b8386",
   "metadata": {},
   "source": [
    "Bashorun, Felele and apata are where most orders are from, followed by UI, Aleshinloye etc."
   ]
  },
  {
   "cell_type": "markdown",
   "id": "8eff35b8",
   "metadata": {},
   "source": [
    "#### Bashorun"
   ]
  },
  {
   "cell_type": "code",
   "execution_count": 770,
   "id": "5dd01526",
   "metadata": {},
   "outputs": [],
   "source": [
    "bashorun = df.loc[df[\"Fulfilment Center\"] == \"Bashorun\"]"
   ]
  },
  {
   "cell_type": "code",
   "execution_count": 781,
   "id": "46c8f693",
   "metadata": {},
   "outputs": [],
   "source": [
    "Duration=[]#Create an empty list\n",
    "hours = []#Create an empty list\n",
    "\n",
    "for duration,hour in zip(bashorun[\"Duration(minutes)\"],bashorun[\"Hour of Day\"]):\n",
    "    if pd.isnull(duration):#Do not consider the empty rows in the duration column\n",
    "        continue\n",
    "    else:\n",
    "        Duration.append(duration)#Append the the Duration list\n",
    "        hours.append(hour)#Append to the hours list"
   ]
  },
  {
   "cell_type": "code",
   "execution_count": 790,
   "id": "7435c8e5",
   "metadata": {},
   "outputs": [
    {
     "data": {
      "text/plain": [
       "<AxesSubplot:title={'center':'Duration of orders to bashorun at different hours of the day'}, xlabel='Hour of Day', ylabel='Duration(minutes)'>"
      ]
     },
     "execution_count": 790,
     "metadata": {},
     "output_type": "execute_result"
    },
    {
     "data": {
      "image/png": "[encoded data removed]",
      "text/plain": [
       "<Figure size 864x432 with 1 Axes>"
      ]
     },
     "metadata": {
      "needs_background": "light"
     },
     "output_type": "display_data"
    }
   ],
   "source": [
    "fig=plt.figure(figsize=(12,6))#Create a figure\n",
    "ax=fig.add_subplot(1,1,1)#Add an axis to the figure\n",
    "ax.set_xlabel(\"Hour of Day\")\n",
    "ax.set_ylabel(\"Duration(minutes)\")\n",
    "ax.set_title(\"Duration of orders to bashorun at different hours of the day\")\n",
    "sns.lineplot(x=hours, y=Duration, ax=ax)"
   ]
  },
  {
   "cell_type": "markdown",
   "id": "f67a7017",
   "metadata": {},
   "source": [
    "We can see there was a spike in the line plot, there was an early morning delivery to bashorun that took longer than usual"
   ]
  },
  {
   "cell_type": "code",
   "execution_count": 785,
   "id": "efdb9972",
   "metadata": {},
   "outputs": [],
   "source": [
    "bash_spike = bashorun.loc[bashorun[\"Duration(minutes)\"]>100]#get the row where the duration of delivery was greater than 100 minutes"
   ]
  },
  {
   "cell_type": "code",
   "execution_count": 784,
   "id": "b7bfa062",
   "metadata": {},
   "outputs": [
    {
     "data": {
      "text/html": [
       "<div>\n",
       "<style scoped>\n",
       "    .dataframe tbody tr th:only-of-type {\n",
       "        vertical-align: middle;\n",
       "    }\n",
       "\n",
       "    .dataframe tbody tr th {\n",
       "        vertical-align: top;\n",
       "    }\n",
       "\n",
       "    .dataframe thead th {\n",
       "        text-align: right;\n",
       "    }\n",
       "</style>\n",
       "<table border=\"1\" class=\"dataframe\">\n",
       "  <thead>\n",
       "    <tr style=\"text-align: right;\">\n",
       "      <th></th>\n",
       "      <th>Date</th>\n",
       "      <th>Name of Customer</th>\n",
       "      <th>Time of Order</th>\n",
       "      <th>Expected Time out</th>\n",
       "      <th>Expected Time of Delivery</th>\n",
       "      <th>Time Out Update</th>\n",
       "      <th>Why was the Order not Dispatched in 30mins?</th>\n",
       "      <th>Action Taken</th>\n",
       "      <th>New Expected Time Out</th>\n",
       "      <th>New Expected Time of Delivery</th>\n",
       "      <th>...</th>\n",
       "      <th>Hake 1kg (Cleaned)</th>\n",
       "      <th>Titus 1kg</th>\n",
       "      <th>Titus 1kg (Cleaned)</th>\n",
       "      <th>Chicken 1kg</th>\n",
       "      <th>Cow Head &amp; Neck 1kg</th>\n",
       "      <th>Naira Value</th>\n",
       "      <th>Fulfilment Center</th>\n",
       "      <th>dayofweek</th>\n",
       "      <th>weekend</th>\n",
       "      <th>Hour of Day</th>\n",
       "    </tr>\n",
       "  </thead>\n",
       "  <tbody>\n",
       "    <tr>\n",
       "      <th>283</th>\n",
       "      <td>2022-04-22</td>\n",
       "      <td>Mummy Desire</td>\n",
       "      <td>08:12</td>\n",
       "      <td>08:42</td>\n",
       "      <td>09:42</td>\n",
       "      <td>Yet to Go</td>\n",
       "      <td>Product not Available</td>\n",
       "      <td>Called Customer, She rescheduled.</td>\n",
       "      <td>09:42</td>\n",
       "      <td>10:42</td>\n",
       "      <td>...</td>\n",
       "      <td>0.0</td>\n",
       "      <td>0.0</td>\n",
       "      <td>0.0</td>\n",
       "      <td>0.0</td>\n",
       "      <td>0.0</td>\n",
       "      <td>18980.0</td>\n",
       "      <td>Bashorun</td>\n",
       "      <td>4</td>\n",
       "      <td>1</td>\n",
       "      <td>Early Morning</td>\n",
       "    </tr>\n",
       "  </tbody>\n",
       "</table>\n",
       "<p>1 rows × 58 columns</p>\n",
       "</div>"
      ],
      "text/plain": [
       "          Date Name of Customer Time of Order Expected Time out  \\\n",
       "283 2022-04-22     Mummy Desire         08:12             08:42   \n",
       "\n",
       "    Expected Time of Delivery Time Out Update  \\\n",
       "283                     09:42       Yet to Go   \n",
       "\n",
       "    Why was the Order not Dispatched in 30mins?  \\\n",
       "283                       Product not Available   \n",
       "\n",
       "                          Action Taken New Expected Time Out  \\\n",
       "283  Called Customer, She rescheduled.                 09:42   \n",
       "\n",
       "    New Expected Time of Delivery  ... Hake 1kg (Cleaned)  Titus 1kg  \\\n",
       "283                         10:42  ...                0.0        0.0   \n",
       "\n",
       "    Titus 1kg (Cleaned) Chicken 1kg Cow Head & Neck 1kg  Naira Value  \\\n",
       "283                 0.0         0.0                 0.0      18980.0   \n",
       "\n",
       "    Fulfilment Center  dayofweek  weekend    Hour of Day  \n",
       "283          Bashorun          4        1  Early Morning  \n",
       "\n",
       "[1 rows x 58 columns]"
      ]
     },
     "execution_count": 784,
     "metadata": {},
     "output_type": "execute_result"
    }
   ],
   "source": [
    "bash_spike"
   ]
  },
  {
   "cell_type": "markdown",
   "id": "c90af6fc",
   "metadata": {},
   "source": [
    "The order took a long time to  be delivered because the product was not available"
   ]
  },
  {
   "cell_type": "markdown",
   "id": "978f1cc8",
   "metadata": {},
   "source": [
    "#### Felele"
   ]
  },
  {
   "cell_type": "code",
   "execution_count": 791,
   "id": "2f30fce2",
   "metadata": {},
   "outputs": [],
   "source": [
    "felele = df.loc[df[\"Fulfilment Center\"] == \"Felele\"]"
   ]
  },
  {
   "cell_type": "code",
   "execution_count": 792,
   "id": "fc21648f",
   "metadata": {},
   "outputs": [],
   "source": [
    "Duration=[]#Create an empty list\n",
    "hours = []#Create an empty list\n",
    "\n",
    "for duration,hour in zip(felele[\"Duration(minutes)\"],felele[\"Hour of Day\"]):\n",
    "    if pd.isnull(duration):#Do not consider the empty rows in the duration column\n",
    "        continue\n",
    "    else:\n",
    "        Duration.append(duration)#Append the the Duration list\n",
    "        hours.append(hour)#Append to the hours list"
   ]
  },
  {
   "cell_type": "code",
   "execution_count": 794,
   "id": "ecfd420b",
   "metadata": {},
   "outputs": [
    {
     "data": {
      "text/plain": [
       "<AxesSubplot:title={'center':'Duration of orders to felele at different hours of the day'}, xlabel='Hour of Day', ylabel='Duration(minutes)'>"
      ]
     },
     "execution_count": 794,
     "metadata": {},
     "output_type": "execute_result"
    },
    {
     "data": {
      "image/png": "[encoded data removed]",
      "text/plain": [
       "<Figure size 864x432 with 1 Axes>"
      ]
     },
     "metadata": {
      "needs_background": "light"
     },
     "output_type": "display_data"
    }
   ],
   "source": [
    "fig=plt.figure(figsize=(12,6))#Create a figure\n",
    "ax=fig.add_subplot(1,1,1)#Add an axis to the figure\n",
    "ax.set_xlabel(\"Hour of Day\")\n",
    "ax.set_ylabel(\"Duration(minutes)\")\n",
    "ax.set_title(\"Duration of orders to felele at different hours of the day\")\n",
    "sns.lineplot(x=hours, y=Duration, ax=ax)"
   ]
  },
  {
   "cell_type": "code",
   "execution_count": null,
   "id": "4b603352",
   "metadata": {},
   "outputs": [],
   "source": []
  }
 ],
 "metadata": {
  "kernelspec": {
   "display_name": "Python 3 (ipykernel)",
   "language": "python",
   "name": "python3"
  },
  "language_info": {
   "codemirror_mode": {
    "name": "ipython",
    "version": 3
   },
   "file_extension": ".py",
   "mimetype": "text/x-python",
   "name": "python",
   "nbconvert_exporter": "python",
   "pygments_lexer": "ipython3",
   "version": "3.9.7"
  }
 },
 "nbformat": 4,
 "nbformat_minor": 5
}
