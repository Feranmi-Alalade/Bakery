{
 "cells": [
  {
   "cell_type": "markdown",
   "id": "4fe26c04",
   "metadata": {},
   "source": [
    "_This project was created by Oluwaferanmi Alalade_\n",
    "This is the progress as at -9/09/2022"
   ]
  },
  {
   "cell_type": "code",
   "execution_count": 145,
   "id": "b55474c7",
   "metadata": {},
   "outputs": [],
   "source": [
    "import pandas as pd\n",
    "from datetime import datetime, timedelta"
   ]
  },
  {
   "cell_type": "code",
   "execution_count": 146,
   "id": "d07676d8",
   "metadata": {},
   "outputs": [],
   "source": [
    "df = pd.read_csv(r\"C:\\Users\\Oluwaferanmi\\Documents\\settlements_data_JS.csv\")"
   ]
  },
  {
   "cell_type": "code",
   "execution_count": 147,
   "id": "c6c67904",
   "metadata": {},
   "outputs": [
    {
     "data": {
      "text/html": [
       "<div>\n",
       "<style scoped>\n",
       "    .dataframe tbody tr th:only-of-type {\n",
       "        vertical-align: middle;\n",
       "    }\n",
       "\n",
       "    .dataframe tbody tr th {\n",
       "        vertical-align: top;\n",
       "    }\n",
       "\n",
       "    .dataframe thead th {\n",
       "        text-align: right;\n",
       "    }\n",
       "</style>\n",
       "<table border=\"1\" class=\"dataframe\">\n",
       "  <thead>\n",
       "    <tr style=\"text-align: right;\">\n",
       "      <th></th>\n",
       "      <th>Order ID</th>\n",
       "      <th>Activity Date</th>\n",
       "      <th>Bakery Item</th>\n",
       "      <th>Quantity</th>\n",
       "      <th>Dee's Location</th>\n",
       "      <th>Activity Type</th>\n",
       "      <th>Inventory Date</th>\n",
       "    </tr>\n",
       "  </thead>\n",
       "  <tbody>\n",
       "    <tr>\n",
       "      <th>0</th>\n",
       "      <td>344545</td>\n",
       "      <td>21/08/2020</td>\n",
       "      <td>CCC</td>\n",
       "      <td>170</td>\n",
       "      <td>1JS</td>\n",
       "      <td>Order</td>\n",
       "      <td>NaN</td>\n",
       "    </tr>\n",
       "    <tr>\n",
       "      <th>1</th>\n",
       "      <td>4384815</td>\n",
       "      <td>20/08/2020</td>\n",
       "      <td>CCC</td>\n",
       "      <td>80</td>\n",
       "      <td>2WS</td>\n",
       "      <td>Order</td>\n",
       "      <td>NaN</td>\n",
       "    </tr>\n",
       "    <tr>\n",
       "      <th>2</th>\n",
       "      <td>24084</td>\n",
       "      <td>23/08/2020</td>\n",
       "      <td>AAPL</td>\n",
       "      <td>250</td>\n",
       "      <td>2WS</td>\n",
       "      <td>Shipment</td>\n",
       "      <td>NaN</td>\n",
       "    </tr>\n",
       "    <tr>\n",
       "      <th>3</th>\n",
       "      <td>3092445</td>\n",
       "      <td>21/08/2020</td>\n",
       "      <td>BBRD</td>\n",
       "      <td>50</td>\n",
       "      <td>2WS</td>\n",
       "      <td>Order</td>\n",
       "      <td>NaN</td>\n",
       "    </tr>\n",
       "    <tr>\n",
       "      <th>4</th>\n",
       "      <td>2373263</td>\n",
       "      <td>21/08/2020</td>\n",
       "      <td>BBRD</td>\n",
       "      <td>120</td>\n",
       "      <td>1JS</td>\n",
       "      <td>Order</td>\n",
       "      <td>NaN</td>\n",
       "    </tr>\n",
       "  </tbody>\n",
       "</table>\n",
       "</div>"
      ],
      "text/plain": [
       "   Order ID Activity Date Bakery Item  Quantity Dee's Location Activity Type  \\\n",
       "0    344545    21/08/2020         CCC       170            1JS         Order   \n",
       "1   4384815    20/08/2020         CCC        80            2WS         Order   \n",
       "2     24084    23/08/2020        AAPL       250            2WS      Shipment   \n",
       "3   3092445    21/08/2020        BBRD        50            2WS         Order   \n",
       "4   2373263    21/08/2020        BBRD       120            1JS         Order   \n",
       "\n",
       "   Inventory Date  \n",
       "0             NaN  \n",
       "1             NaN  \n",
       "2             NaN  \n",
       "3             NaN  \n",
       "4             NaN  "
      ]
     },
     "execution_count": 147,
     "metadata": {},
     "output_type": "execute_result"
    }
   ],
   "source": [
    "df.head()"
   ]
  },
  {
   "cell_type": "code",
   "execution_count": 148,
   "id": "d111c953",
   "metadata": {},
   "outputs": [
    {
     "data": {
      "text/plain": [
       "Series([], Name: Inventory Date, dtype: int64)"
      ]
     },
     "execution_count": 148,
     "metadata": {},
     "output_type": "execute_result"
    }
   ],
   "source": [
    "df[\"Inventory Date\"].value_counts()"
   ]
  },
  {
   "cell_type": "code",
   "execution_count": 149,
   "id": "fff72ad8",
   "metadata": {},
   "outputs": [],
   "source": [
    "def InventoryDate(data):\n",
    "    Invent_Date = []\n",
    "    for index, record in data.iterrows():\n",
    "        if record[\"Activity Type\"] == \"Order\":\n",
    "            date = datetime.strptime(record[\"Activity Date\"], \"%d/%m/%Y\")\n",
    "            record[\"Inventory Date\"] = date + timedelta(days=2)\n",
    "        elif record[\"Activity Type\"] == \"Shipment\":\n",
    "            if record[\"Dee's Location\"] == \"1JS\" or record[\"Dee's Location\"] == \"2WS\":\n",
    "                date = datetime.strptime(record[\"Activity Date\"], \"%d/%m/%Y\")\n",
    "                record[\"Inventory Date\"] = date + timedelta(days=1)\n",
    "            elif record[\"Dee's Location\"] == \"3PUFF\":\n",
    "                date = datetime.strptime(record[\"Activity Date\"], \"%d/%m/%Y\")\n",
    "                record[\"Inventory Date\"] = date + timedelta(days=2)\n",
    "        else:\n",
    "            continue\n",
    "\n",
    "        Invent_Date.append(record[\"Inventory Date\"])\n",
    "    return Invent_Date\n",
    "    "
   ]
  },
  {
   "cell_type": "code",
   "execution_count": 150,
   "id": "bfa3cab8",
   "metadata": {},
   "outputs": [],
   "source": [
    "df[\"Inventory Date\"] = InventoryDate(df)"
   ]
  },
  {
   "cell_type": "code",
   "execution_count": 151,
   "id": "cc1b4bb5",
   "metadata": {},
   "outputs": [
    {
     "data": {
      "text/html": [
       "<div>\n",
       "<style scoped>\n",
       "    .dataframe tbody tr th:only-of-type {\n",
       "        vertical-align: middle;\n",
       "    }\n",
       "\n",
       "    .dataframe tbody tr th {\n",
       "        vertical-align: top;\n",
       "    }\n",
       "\n",
       "    .dataframe thead th {\n",
       "        text-align: right;\n",
       "    }\n",
       "</style>\n",
       "<table border=\"1\" class=\"dataframe\">\n",
       "  <thead>\n",
       "    <tr style=\"text-align: right;\">\n",
       "      <th></th>\n",
       "      <th>Order ID</th>\n",
       "      <th>Activity Date</th>\n",
       "      <th>Bakery Item</th>\n",
       "      <th>Quantity</th>\n",
       "      <th>Dee's Location</th>\n",
       "      <th>Activity Type</th>\n",
       "      <th>Inventory Date</th>\n",
       "    </tr>\n",
       "  </thead>\n",
       "  <tbody>\n",
       "    <tr>\n",
       "      <th>0</th>\n",
       "      <td>344545</td>\n",
       "      <td>21/08/2020</td>\n",
       "      <td>CCC</td>\n",
       "      <td>170</td>\n",
       "      <td>1JS</td>\n",
       "      <td>Order</td>\n",
       "      <td>2020-08-23</td>\n",
       "    </tr>\n",
       "    <tr>\n",
       "      <th>1</th>\n",
       "      <td>4384815</td>\n",
       "      <td>20/08/2020</td>\n",
       "      <td>CCC</td>\n",
       "      <td>80</td>\n",
       "      <td>2WS</td>\n",
       "      <td>Order</td>\n",
       "      <td>2020-08-22</td>\n",
       "    </tr>\n",
       "    <tr>\n",
       "      <th>2</th>\n",
       "      <td>24084</td>\n",
       "      <td>23/08/2020</td>\n",
       "      <td>AAPL</td>\n",
       "      <td>250</td>\n",
       "      <td>2WS</td>\n",
       "      <td>Shipment</td>\n",
       "      <td>2020-08-24</td>\n",
       "    </tr>\n",
       "    <tr>\n",
       "      <th>3</th>\n",
       "      <td>3092445</td>\n",
       "      <td>21/08/2020</td>\n",
       "      <td>BBRD</td>\n",
       "      <td>50</td>\n",
       "      <td>2WS</td>\n",
       "      <td>Order</td>\n",
       "      <td>2020-08-23</td>\n",
       "    </tr>\n",
       "    <tr>\n",
       "      <th>4</th>\n",
       "      <td>2373263</td>\n",
       "      <td>21/08/2020</td>\n",
       "      <td>BBRD</td>\n",
       "      <td>120</td>\n",
       "      <td>1JS</td>\n",
       "      <td>Order</td>\n",
       "      <td>2020-08-23</td>\n",
       "    </tr>\n",
       "  </tbody>\n",
       "</table>\n",
       "</div>"
      ],
      "text/plain": [
       "   Order ID Activity Date Bakery Item  Quantity Dee's Location Activity Type  \\\n",
       "0    344545    21/08/2020         CCC       170            1JS         Order   \n",
       "1   4384815    20/08/2020         CCC        80            2WS         Order   \n",
       "2     24084    23/08/2020        AAPL       250            2WS      Shipment   \n",
       "3   3092445    21/08/2020        BBRD        50            2WS         Order   \n",
       "4   2373263    21/08/2020        BBRD       120            1JS         Order   \n",
       "\n",
       "  Inventory Date  \n",
       "0     2020-08-23  \n",
       "1     2020-08-22  \n",
       "2     2020-08-24  \n",
       "3     2020-08-23  \n",
       "4     2020-08-23  "
      ]
     },
     "execution_count": 151,
     "metadata": {},
     "output_type": "execute_result"
    }
   ],
   "source": [
    "df.head()"
   ]
  },
  {
   "cell_type": "code",
   "execution_count": 152,
   "id": "571e78f6",
   "metadata": {},
   "outputs": [
    {
     "data": {
      "text/html": [
       "<div>\n",
       "<style scoped>\n",
       "    .dataframe tbody tr th:only-of-type {\n",
       "        vertical-align: middle;\n",
       "    }\n",
       "\n",
       "    .dataframe tbody tr th {\n",
       "        vertical-align: top;\n",
       "    }\n",
       "\n",
       "    .dataframe thead th {\n",
       "        text-align: right;\n",
       "    }\n",
       "</style>\n",
       "<table border=\"1\" class=\"dataframe\">\n",
       "  <thead>\n",
       "    <tr style=\"text-align: right;\">\n",
       "      <th></th>\n",
       "      <th>Order ID</th>\n",
       "      <th>Activity Date</th>\n",
       "      <th>Bakery Item</th>\n",
       "      <th>Quantity</th>\n",
       "      <th>Dee's Location</th>\n",
       "      <th>Activity Type</th>\n",
       "      <th>Inventory Date</th>\n",
       "    </tr>\n",
       "  </thead>\n",
       "  <tbody>\n",
       "    <tr>\n",
       "      <th>2</th>\n",
       "      <td>24084</td>\n",
       "      <td>23/08/2020</td>\n",
       "      <td>AAPL</td>\n",
       "      <td>250</td>\n",
       "      <td>2WS</td>\n",
       "      <td>Shipment</td>\n",
       "      <td>2020-08-24</td>\n",
       "    </tr>\n",
       "    <tr>\n",
       "      <th>8</th>\n",
       "      <td>4755979</td>\n",
       "      <td>21/08/2020</td>\n",
       "      <td>AAPL</td>\n",
       "      <td>150</td>\n",
       "      <td>2WS</td>\n",
       "      <td>Shipment</td>\n",
       "      <td>2020-08-22</td>\n",
       "    </tr>\n",
       "    <tr>\n",
       "      <th>19</th>\n",
       "      <td>199073</td>\n",
       "      <td>21/08/2020</td>\n",
       "      <td>AAPL</td>\n",
       "      <td>200</td>\n",
       "      <td>3PUFF</td>\n",
       "      <td>Shipment</td>\n",
       "      <td>2020-08-23</td>\n",
       "    </tr>\n",
       "    <tr>\n",
       "      <th>21</th>\n",
       "      <td>612627</td>\n",
       "      <td>23/08/2020</td>\n",
       "      <td>AAPL</td>\n",
       "      <td>300</td>\n",
       "      <td>1JS</td>\n",
       "      <td>Shipment</td>\n",
       "      <td>2020-08-24</td>\n",
       "    </tr>\n",
       "    <tr>\n",
       "      <th>22</th>\n",
       "      <td>2793436</td>\n",
       "      <td>21/08/2020</td>\n",
       "      <td>BBRD</td>\n",
       "      <td>900</td>\n",
       "      <td>1JS</td>\n",
       "      <td>Shipment</td>\n",
       "      <td>2020-08-22</td>\n",
       "    </tr>\n",
       "    <tr>\n",
       "      <th>29</th>\n",
       "      <td>3836973</td>\n",
       "      <td>21/08/2020</td>\n",
       "      <td>BBRD</td>\n",
       "      <td>700</td>\n",
       "      <td>2WS</td>\n",
       "      <td>Shipment</td>\n",
       "      <td>2020-08-22</td>\n",
       "    </tr>\n",
       "    <tr>\n",
       "      <th>38</th>\n",
       "      <td>4626866</td>\n",
       "      <td>22/08/2020</td>\n",
       "      <td>CCC</td>\n",
       "      <td>800</td>\n",
       "      <td>3PUFF</td>\n",
       "      <td>Shipment</td>\n",
       "      <td>2020-08-24</td>\n",
       "    </tr>\n",
       "    <tr>\n",
       "      <th>41</th>\n",
       "      <td>1088540</td>\n",
       "      <td>23/08/2020</td>\n",
       "      <td>BBRD</td>\n",
       "      <td>800</td>\n",
       "      <td>1JS</td>\n",
       "      <td>Shipment</td>\n",
       "      <td>2020-08-24</td>\n",
       "    </tr>\n",
       "    <tr>\n",
       "      <th>52</th>\n",
       "      <td>1473291</td>\n",
       "      <td>23/08/2020</td>\n",
       "      <td>CCC</td>\n",
       "      <td>450</td>\n",
       "      <td>1JS</td>\n",
       "      <td>Shipment</td>\n",
       "      <td>2020-08-24</td>\n",
       "    </tr>\n",
       "    <tr>\n",
       "      <th>69</th>\n",
       "      <td>1901900</td>\n",
       "      <td>23/08/2020</td>\n",
       "      <td>CCC</td>\n",
       "      <td>550</td>\n",
       "      <td>2WS</td>\n",
       "      <td>Shipment</td>\n",
       "      <td>2020-08-24</td>\n",
       "    </tr>\n",
       "    <tr>\n",
       "      <th>79</th>\n",
       "      <td>2125482</td>\n",
       "      <td>23/08/2020</td>\n",
       "      <td>CCC</td>\n",
       "      <td>600</td>\n",
       "      <td>3PUFF</td>\n",
       "      <td>Shipment</td>\n",
       "      <td>2020-08-25</td>\n",
       "    </tr>\n",
       "    <tr>\n",
       "      <th>82</th>\n",
       "      <td>905782</td>\n",
       "      <td>22/08/2020</td>\n",
       "      <td>AAPL</td>\n",
       "      <td>350</td>\n",
       "      <td>2WS</td>\n",
       "      <td>Shipment</td>\n",
       "      <td>2020-08-23</td>\n",
       "    </tr>\n",
       "    <tr>\n",
       "      <th>90</th>\n",
       "      <td>2899092</td>\n",
       "      <td>21/08/2020</td>\n",
       "      <td>CCC</td>\n",
       "      <td>450</td>\n",
       "      <td>2WS</td>\n",
       "      <td>Shipment</td>\n",
       "      <td>2020-08-22</td>\n",
       "    </tr>\n",
       "    <tr>\n",
       "      <th>91</th>\n",
       "      <td>2683759</td>\n",
       "      <td>22/08/2020</td>\n",
       "      <td>BBRD</td>\n",
       "      <td>400</td>\n",
       "      <td>3PUFF</td>\n",
       "      <td>Shipment</td>\n",
       "      <td>2020-08-24</td>\n",
       "    </tr>\n",
       "    <tr>\n",
       "      <th>97</th>\n",
       "      <td>4618025</td>\n",
       "      <td>22/08/2020</td>\n",
       "      <td>CCC</td>\n",
       "      <td>450</td>\n",
       "      <td>1JS</td>\n",
       "      <td>Shipment</td>\n",
       "      <td>2020-08-23</td>\n",
       "    </tr>\n",
       "    <tr>\n",
       "      <th>98</th>\n",
       "      <td>2575976</td>\n",
       "      <td>23/08/2020</td>\n",
       "      <td>BBRD</td>\n",
       "      <td>400</td>\n",
       "      <td>3PUFF</td>\n",
       "      <td>Shipment</td>\n",
       "      <td>2020-08-25</td>\n",
       "    </tr>\n",
       "    <tr>\n",
       "      <th>102</th>\n",
       "      <td>4546348</td>\n",
       "      <td>21/08/2020</td>\n",
       "      <td>CCC</td>\n",
       "      <td>450</td>\n",
       "      <td>1JS</td>\n",
       "      <td>Shipment</td>\n",
       "      <td>2020-08-22</td>\n",
       "    </tr>\n",
       "    <tr>\n",
       "      <th>118</th>\n",
       "      <td>1452264</td>\n",
       "      <td>22/08/2020</td>\n",
       "      <td>CCC</td>\n",
       "      <td>350</td>\n",
       "      <td>2WS</td>\n",
       "      <td>Shipment</td>\n",
       "      <td>2020-08-23</td>\n",
       "    </tr>\n",
       "    <tr>\n",
       "      <th>120</th>\n",
       "      <td>3059395</td>\n",
       "      <td>23/08/2020</td>\n",
       "      <td>BBRD</td>\n",
       "      <td>800</td>\n",
       "      <td>2WS</td>\n",
       "      <td>Shipment</td>\n",
       "      <td>2020-08-24</td>\n",
       "    </tr>\n",
       "    <tr>\n",
       "      <th>127</th>\n",
       "      <td>2724679</td>\n",
       "      <td>21/08/2020</td>\n",
       "      <td>BBRD</td>\n",
       "      <td>400</td>\n",
       "      <td>3PUFF</td>\n",
       "      <td>Shipment</td>\n",
       "      <td>2020-08-23</td>\n",
       "    </tr>\n",
       "    <tr>\n",
       "      <th>136</th>\n",
       "      <td>368117</td>\n",
       "      <td>22/08/2020</td>\n",
       "      <td>BBRD</td>\n",
       "      <td>600</td>\n",
       "      <td>2WS</td>\n",
       "      <td>Shipment</td>\n",
       "      <td>2020-08-23</td>\n",
       "    </tr>\n",
       "    <tr>\n",
       "      <th>160</th>\n",
       "      <td>580731</td>\n",
       "      <td>22/08/2020</td>\n",
       "      <td>AAPL</td>\n",
       "      <td>200</td>\n",
       "      <td>3PUFF</td>\n",
       "      <td>Shipment</td>\n",
       "      <td>2020-08-24</td>\n",
       "    </tr>\n",
       "    <tr>\n",
       "      <th>164</th>\n",
       "      <td>2074756</td>\n",
       "      <td>22/08/2020</td>\n",
       "      <td>BBRD</td>\n",
       "      <td>1000</td>\n",
       "      <td>1JS</td>\n",
       "      <td>Shipment</td>\n",
       "      <td>2020-08-23</td>\n",
       "    </tr>\n",
       "    <tr>\n",
       "      <th>177</th>\n",
       "      <td>4928620</td>\n",
       "      <td>22/08/2020</td>\n",
       "      <td>AAPL</td>\n",
       "      <td>150</td>\n",
       "      <td>1JS</td>\n",
       "      <td>Shipment</td>\n",
       "      <td>2020-08-23</td>\n",
       "    </tr>\n",
       "    <tr>\n",
       "      <th>183</th>\n",
       "      <td>163422</td>\n",
       "      <td>21/08/2020</td>\n",
       "      <td>CCC</td>\n",
       "      <td>700</td>\n",
       "      <td>3PUFF</td>\n",
       "      <td>Shipment</td>\n",
       "      <td>2020-08-23</td>\n",
       "    </tr>\n",
       "    <tr>\n",
       "      <th>187</th>\n",
       "      <td>4499539</td>\n",
       "      <td>23/08/2020</td>\n",
       "      <td>AAPL</td>\n",
       "      <td>150</td>\n",
       "      <td>3PUFF</td>\n",
       "      <td>Shipment</td>\n",
       "      <td>2020-08-25</td>\n",
       "    </tr>\n",
       "    <tr>\n",
       "      <th>197</th>\n",
       "      <td>131584</td>\n",
       "      <td>21/08/2020</td>\n",
       "      <td>AAPL</td>\n",
       "      <td>350</td>\n",
       "      <td>1JS</td>\n",
       "      <td>Shipment</td>\n",
       "      <td>2020-08-22</td>\n",
       "    </tr>\n",
       "  </tbody>\n",
       "</table>\n",
       "</div>"
      ],
      "text/plain": [
       "     Order ID Activity Date Bakery Item  Quantity Dee's Location  \\\n",
       "2       24084    23/08/2020        AAPL       250            2WS   \n",
       "8     4755979    21/08/2020        AAPL       150            2WS   \n",
       "19     199073    21/08/2020        AAPL       200          3PUFF   \n",
       "21     612627    23/08/2020        AAPL       300            1JS   \n",
       "22    2793436    21/08/2020        BBRD       900            1JS   \n",
       "29    3836973    21/08/2020        BBRD       700            2WS   \n",
       "38    4626866    22/08/2020         CCC       800          3PUFF   \n",
       "41    1088540    23/08/2020        BBRD       800            1JS   \n",
       "52    1473291    23/08/2020         CCC       450            1JS   \n",
       "69    1901900    23/08/2020         CCC       550            2WS   \n",
       "79    2125482    23/08/2020         CCC       600          3PUFF   \n",
       "82     905782    22/08/2020        AAPL       350            2WS   \n",
       "90    2899092    21/08/2020         CCC       450            2WS   \n",
       "91    2683759    22/08/2020        BBRD       400          3PUFF   \n",
       "97    4618025    22/08/2020         CCC       450            1JS   \n",
       "98    2575976    23/08/2020        BBRD       400          3PUFF   \n",
       "102   4546348    21/08/2020         CCC       450            1JS   \n",
       "118   1452264    22/08/2020         CCC       350            2WS   \n",
       "120   3059395    23/08/2020        BBRD       800            2WS   \n",
       "127   2724679    21/08/2020        BBRD       400          3PUFF   \n",
       "136    368117    22/08/2020        BBRD       600            2WS   \n",
       "160    580731    22/08/2020        AAPL       200          3PUFF   \n",
       "164   2074756    22/08/2020        BBRD      1000            1JS   \n",
       "177   4928620    22/08/2020        AAPL       150            1JS   \n",
       "183    163422    21/08/2020         CCC       700          3PUFF   \n",
       "187   4499539    23/08/2020        AAPL       150          3PUFF   \n",
       "197    131584    21/08/2020        AAPL       350            1JS   \n",
       "\n",
       "    Activity Type Inventory Date  \n",
       "2        Shipment     2020-08-24  \n",
       "8        Shipment     2020-08-22  \n",
       "19       Shipment     2020-08-23  \n",
       "21       Shipment     2020-08-24  \n",
       "22       Shipment     2020-08-22  \n",
       "29       Shipment     2020-08-22  \n",
       "38       Shipment     2020-08-24  \n",
       "41       Shipment     2020-08-24  \n",
       "52       Shipment     2020-08-24  \n",
       "69       Shipment     2020-08-24  \n",
       "79       Shipment     2020-08-25  \n",
       "82       Shipment     2020-08-23  \n",
       "90       Shipment     2020-08-22  \n",
       "91       Shipment     2020-08-24  \n",
       "97       Shipment     2020-08-23  \n",
       "98       Shipment     2020-08-25  \n",
       "102      Shipment     2020-08-22  \n",
       "118      Shipment     2020-08-23  \n",
       "120      Shipment     2020-08-24  \n",
       "127      Shipment     2020-08-23  \n",
       "136      Shipment     2020-08-23  \n",
       "160      Shipment     2020-08-24  \n",
       "164      Shipment     2020-08-23  \n",
       "177      Shipment     2020-08-23  \n",
       "183      Shipment     2020-08-23  \n",
       "187      Shipment     2020-08-25  \n",
       "197      Shipment     2020-08-22  "
      ]
     },
     "execution_count": 152,
     "metadata": {},
     "output_type": "execute_result"
    }
   ],
   "source": [
    "shipment_df = df.loc[df[\"Activity Type\"] == \"Shipment\"]\n",
    "order_df = df.loc[df[\"Activity Type\"] == \"Order\"]\n",
    "\n",
    "shipment_df"
   ]
  },
  {
   "cell_type": "markdown",
   "id": "f63b3517",
   "metadata": {},
   "source": [
    "## Shipment"
   ]
  },
  {
   "cell_type": "code",
   "execution_count": 153,
   "id": "0a6f4f1b",
   "metadata": {},
   "outputs": [
    {
     "data": {
      "text/html": [
       "<div>\n",
       "<style scoped>\n",
       "    .dataframe tbody tr th:only-of-type {\n",
       "        vertical-align: middle;\n",
       "    }\n",
       "\n",
       "    .dataframe tbody tr th {\n",
       "        vertical-align: top;\n",
       "    }\n",
       "\n",
       "    .dataframe thead th {\n",
       "        text-align: right;\n",
       "    }\n",
       "</style>\n",
       "<table border=\"1\" class=\"dataframe\">\n",
       "  <thead>\n",
       "    <tr style=\"text-align: right;\">\n",
       "      <th></th>\n",
       "      <th>Quantity</th>\n",
       "    </tr>\n",
       "    <tr>\n",
       "      <th>Bakery Item</th>\n",
       "      <th></th>\n",
       "    </tr>\n",
       "  </thead>\n",
       "  <tbody>\n",
       "    <tr>\n",
       "      <th>AAPL</th>\n",
       "      <td>2100</td>\n",
       "    </tr>\n",
       "    <tr>\n",
       "      <th>BBRD</th>\n",
       "      <td>6000</td>\n",
       "    </tr>\n",
       "    <tr>\n",
       "      <th>CCC</th>\n",
       "      <td>4800</td>\n",
       "    </tr>\n",
       "  </tbody>\n",
       "</table>\n",
       "</div>"
      ],
      "text/plain": [
       "             Quantity\n",
       "Bakery Item          \n",
       "AAPL             2100\n",
       "BBRD             6000\n",
       "CCC              4800"
      ]
     },
     "execution_count": 153,
     "metadata": {},
     "output_type": "execute_result"
    }
   ],
   "source": [
    "shipment_df.groupby(shipment_df[\"Bakery Item\"])[[\"Quantity\"]].sum()"
   ]
  },
  {
   "cell_type": "markdown",
   "id": "09b0b401",
   "metadata": {},
   "source": [
    "From the above, it is seen that in the four day period, 2100 Applepies, 6000 banana bread and 4800 Chocolate chip cookies wereshipped"
   ]
  },
  {
   "cell_type": "code",
   "execution_count": 154,
   "id": "65d256c4",
   "metadata": {},
   "outputs": [],
   "source": [
    "day1_ship = shipment_df.loc[shipment_df[\"Activity Date\"] == \"20/08/2020\"]"
   ]
  },
  {
   "cell_type": "code",
   "execution_count": 155,
   "id": "9211edbe",
   "metadata": {},
   "outputs": [
    {
     "data": {
      "text/html": [
       "<div>\n",
       "<style scoped>\n",
       "    .dataframe tbody tr th:only-of-type {\n",
       "        vertical-align: middle;\n",
       "    }\n",
       "\n",
       "    .dataframe tbody tr th {\n",
       "        vertical-align: top;\n",
       "    }\n",
       "\n",
       "    .dataframe thead th {\n",
       "        text-align: right;\n",
       "    }\n",
       "</style>\n",
       "<table border=\"1\" class=\"dataframe\">\n",
       "  <thead>\n",
       "    <tr style=\"text-align: right;\">\n",
       "      <th></th>\n",
       "      <th>Order ID</th>\n",
       "      <th>Activity Date</th>\n",
       "      <th>Bakery Item</th>\n",
       "      <th>Quantity</th>\n",
       "      <th>Dee's Location</th>\n",
       "      <th>Activity Type</th>\n",
       "      <th>Inventory Date</th>\n",
       "    </tr>\n",
       "  </thead>\n",
       "  <tbody>\n",
       "  </tbody>\n",
       "</table>\n",
       "</div>"
      ],
      "text/plain": [
       "Empty DataFrame\n",
       "Columns: [Order ID, Activity Date, Bakery Item, Quantity, Dee's Location, Activity Type, Inventory Date]\n",
       "Index: []"
      ]
     },
     "execution_count": 155,
     "metadata": {},
     "output_type": "execute_result"
    }
   ],
   "source": [
    "day1_ship.head()"
   ]
  },
  {
   "cell_type": "code",
   "execution_count": 156,
   "id": "b195e9bd",
   "metadata": {},
   "outputs": [
    {
     "data": {
      "text/html": [
       "<div>\n",
       "<style scoped>\n",
       "    .dataframe tbody tr th:only-of-type {\n",
       "        vertical-align: middle;\n",
       "    }\n",
       "\n",
       "    .dataframe tbody tr th {\n",
       "        vertical-align: top;\n",
       "    }\n",
       "\n",
       "    .dataframe thead th {\n",
       "        text-align: right;\n",
       "    }\n",
       "</style>\n",
       "<table border=\"1\" class=\"dataframe\">\n",
       "  <thead>\n",
       "    <tr style=\"text-align: right;\">\n",
       "      <th></th>\n",
       "      <th>Quantity</th>\n",
       "    </tr>\n",
       "    <tr>\n",
       "      <th>Bakery Item</th>\n",
       "      <th></th>\n",
       "    </tr>\n",
       "  </thead>\n",
       "  <tbody>\n",
       "  </tbody>\n",
       "</table>\n",
       "</div>"
      ],
      "text/plain": [
       "Empty DataFrame\n",
       "Columns: [Quantity]\n",
       "Index: []"
      ]
     },
     "execution_count": 156,
     "metadata": {},
     "output_type": "execute_result"
    }
   ],
   "source": [
    "day1_ship.groupby(day1_ship[\"Bakery Item\"]).sum()[[\"Quantity\"]]"
   ]
  },
  {
   "cell_type": "code",
   "execution_count": 157,
   "id": "21796a05",
   "metadata": {},
   "outputs": [
    {
     "data": {
      "text/html": [
       "<div>\n",
       "<style scoped>\n",
       "    .dataframe tbody tr th:only-of-type {\n",
       "        vertical-align: middle;\n",
       "    }\n",
       "\n",
       "    .dataframe tbody tr th {\n",
       "        vertical-align: top;\n",
       "    }\n",
       "\n",
       "    .dataframe thead th {\n",
       "        text-align: right;\n",
       "    }\n",
       "</style>\n",
       "<table border=\"1\" class=\"dataframe\">\n",
       "  <thead>\n",
       "    <tr style=\"text-align: right;\">\n",
       "      <th></th>\n",
       "      <th>Order ID</th>\n",
       "      <th>Activity Date</th>\n",
       "      <th>Bakery Item</th>\n",
       "      <th>Quantity</th>\n",
       "      <th>Dee's Location</th>\n",
       "      <th>Activity Type</th>\n",
       "      <th>Inventory Date</th>\n",
       "    </tr>\n",
       "  </thead>\n",
       "  <tbody>\n",
       "    <tr>\n",
       "      <th>8</th>\n",
       "      <td>4755979</td>\n",
       "      <td>21/08/2020</td>\n",
       "      <td>AAPL</td>\n",
       "      <td>150</td>\n",
       "      <td>2WS</td>\n",
       "      <td>Shipment</td>\n",
       "      <td>2020-08-22</td>\n",
       "    </tr>\n",
       "    <tr>\n",
       "      <th>19</th>\n",
       "      <td>199073</td>\n",
       "      <td>21/08/2020</td>\n",
       "      <td>AAPL</td>\n",
       "      <td>200</td>\n",
       "      <td>3PUFF</td>\n",
       "      <td>Shipment</td>\n",
       "      <td>2020-08-23</td>\n",
       "    </tr>\n",
       "    <tr>\n",
       "      <th>22</th>\n",
       "      <td>2793436</td>\n",
       "      <td>21/08/2020</td>\n",
       "      <td>BBRD</td>\n",
       "      <td>900</td>\n",
       "      <td>1JS</td>\n",
       "      <td>Shipment</td>\n",
       "      <td>2020-08-22</td>\n",
       "    </tr>\n",
       "    <tr>\n",
       "      <th>29</th>\n",
       "      <td>3836973</td>\n",
       "      <td>21/08/2020</td>\n",
       "      <td>BBRD</td>\n",
       "      <td>700</td>\n",
       "      <td>2WS</td>\n",
       "      <td>Shipment</td>\n",
       "      <td>2020-08-22</td>\n",
       "    </tr>\n",
       "    <tr>\n",
       "      <th>90</th>\n",
       "      <td>2899092</td>\n",
       "      <td>21/08/2020</td>\n",
       "      <td>CCC</td>\n",
       "      <td>450</td>\n",
       "      <td>2WS</td>\n",
       "      <td>Shipment</td>\n",
       "      <td>2020-08-22</td>\n",
       "    </tr>\n",
       "    <tr>\n",
       "      <th>102</th>\n",
       "      <td>4546348</td>\n",
       "      <td>21/08/2020</td>\n",
       "      <td>CCC</td>\n",
       "      <td>450</td>\n",
       "      <td>1JS</td>\n",
       "      <td>Shipment</td>\n",
       "      <td>2020-08-22</td>\n",
       "    </tr>\n",
       "    <tr>\n",
       "      <th>127</th>\n",
       "      <td>2724679</td>\n",
       "      <td>21/08/2020</td>\n",
       "      <td>BBRD</td>\n",
       "      <td>400</td>\n",
       "      <td>3PUFF</td>\n",
       "      <td>Shipment</td>\n",
       "      <td>2020-08-23</td>\n",
       "    </tr>\n",
       "    <tr>\n",
       "      <th>183</th>\n",
       "      <td>163422</td>\n",
       "      <td>21/08/2020</td>\n",
       "      <td>CCC</td>\n",
       "      <td>700</td>\n",
       "      <td>3PUFF</td>\n",
       "      <td>Shipment</td>\n",
       "      <td>2020-08-23</td>\n",
       "    </tr>\n",
       "    <tr>\n",
       "      <th>197</th>\n",
       "      <td>131584</td>\n",
       "      <td>21/08/2020</td>\n",
       "      <td>AAPL</td>\n",
       "      <td>350</td>\n",
       "      <td>1JS</td>\n",
       "      <td>Shipment</td>\n",
       "      <td>2020-08-22</td>\n",
       "    </tr>\n",
       "  </tbody>\n",
       "</table>\n",
       "</div>"
      ],
      "text/plain": [
       "     Order ID Activity Date Bakery Item  Quantity Dee's Location  \\\n",
       "8     4755979    21/08/2020        AAPL       150            2WS   \n",
       "19     199073    21/08/2020        AAPL       200          3PUFF   \n",
       "22    2793436    21/08/2020        BBRD       900            1JS   \n",
       "29    3836973    21/08/2020        BBRD       700            2WS   \n",
       "90    2899092    21/08/2020         CCC       450            2WS   \n",
       "102   4546348    21/08/2020         CCC       450            1JS   \n",
       "127   2724679    21/08/2020        BBRD       400          3PUFF   \n",
       "183    163422    21/08/2020         CCC       700          3PUFF   \n",
       "197    131584    21/08/2020        AAPL       350            1JS   \n",
       "\n",
       "    Activity Type Inventory Date  \n",
       "8        Shipment     2020-08-22  \n",
       "19       Shipment     2020-08-23  \n",
       "22       Shipment     2020-08-22  \n",
       "29       Shipment     2020-08-22  \n",
       "90       Shipment     2020-08-22  \n",
       "102      Shipment     2020-08-22  \n",
       "127      Shipment     2020-08-23  \n",
       "183      Shipment     2020-08-23  \n",
       "197      Shipment     2020-08-22  "
      ]
     },
     "execution_count": 157,
     "metadata": {},
     "output_type": "execute_result"
    }
   ],
   "source": [
    "day2_ship = shipment_df.loc[shipment_df[\"Activity Date\"] == \"21/08/2020\"]\n",
    "day2_ship"
   ]
  },
  {
   "cell_type": "code",
   "execution_count": 158,
   "id": "98db9305",
   "metadata": {},
   "outputs": [
    {
     "data": {
      "text/html": [
       "<div>\n",
       "<style scoped>\n",
       "    .dataframe tbody tr th:only-of-type {\n",
       "        vertical-align: middle;\n",
       "    }\n",
       "\n",
       "    .dataframe tbody tr th {\n",
       "        vertical-align: top;\n",
       "    }\n",
       "\n",
       "    .dataframe thead th {\n",
       "        text-align: right;\n",
       "    }\n",
       "</style>\n",
       "<table border=\"1\" class=\"dataframe\">\n",
       "  <thead>\n",
       "    <tr style=\"text-align: right;\">\n",
       "      <th></th>\n",
       "      <th>Quantity</th>\n",
       "    </tr>\n",
       "    <tr>\n",
       "      <th>Bakery Item</th>\n",
       "      <th></th>\n",
       "    </tr>\n",
       "  </thead>\n",
       "  <tbody>\n",
       "    <tr>\n",
       "      <th>AAPL</th>\n",
       "      <td>700</td>\n",
       "    </tr>\n",
       "    <tr>\n",
       "      <th>BBRD</th>\n",
       "      <td>2000</td>\n",
       "    </tr>\n",
       "    <tr>\n",
       "      <th>CCC</th>\n",
       "      <td>1600</td>\n",
       "    </tr>\n",
       "  </tbody>\n",
       "</table>\n",
       "</div>"
      ],
      "text/plain": [
       "             Quantity\n",
       "Bakery Item          \n",
       "AAPL              700\n",
       "BBRD             2000\n",
       "CCC              1600"
      ]
     },
     "execution_count": 158,
     "metadata": {},
     "output_type": "execute_result"
    }
   ],
   "source": [
    "day2_ship.groupby(\"Bakery Item\").sum()[[\"Quantity\"]]"
   ]
  },
  {
   "cell_type": "code",
   "execution_count": 159,
   "id": "d8752307",
   "metadata": {},
   "outputs": [
    {
     "data": {
      "text/html": [
       "<div>\n",
       "<style scoped>\n",
       "    .dataframe tbody tr th:only-of-type {\n",
       "        vertical-align: middle;\n",
       "    }\n",
       "\n",
       "    .dataframe tbody tr th {\n",
       "        vertical-align: top;\n",
       "    }\n",
       "\n",
       "    .dataframe thead th {\n",
       "        text-align: right;\n",
       "    }\n",
       "</style>\n",
       "<table border=\"1\" class=\"dataframe\">\n",
       "  <thead>\n",
       "    <tr style=\"text-align: right;\">\n",
       "      <th></th>\n",
       "      <th>Order ID</th>\n",
       "      <th>Activity Date</th>\n",
       "      <th>Bakery Item</th>\n",
       "      <th>Quantity</th>\n",
       "      <th>Dee's Location</th>\n",
       "      <th>Activity Type</th>\n",
       "      <th>Inventory Date</th>\n",
       "    </tr>\n",
       "  </thead>\n",
       "  <tbody>\n",
       "    <tr>\n",
       "      <th>38</th>\n",
       "      <td>4626866</td>\n",
       "      <td>22/08/2020</td>\n",
       "      <td>CCC</td>\n",
       "      <td>800</td>\n",
       "      <td>3PUFF</td>\n",
       "      <td>Shipment</td>\n",
       "      <td>2020-08-24</td>\n",
       "    </tr>\n",
       "    <tr>\n",
       "      <th>82</th>\n",
       "      <td>905782</td>\n",
       "      <td>22/08/2020</td>\n",
       "      <td>AAPL</td>\n",
       "      <td>350</td>\n",
       "      <td>2WS</td>\n",
       "      <td>Shipment</td>\n",
       "      <td>2020-08-23</td>\n",
       "    </tr>\n",
       "    <tr>\n",
       "      <th>91</th>\n",
       "      <td>2683759</td>\n",
       "      <td>22/08/2020</td>\n",
       "      <td>BBRD</td>\n",
       "      <td>400</td>\n",
       "      <td>3PUFF</td>\n",
       "      <td>Shipment</td>\n",
       "      <td>2020-08-24</td>\n",
       "    </tr>\n",
       "    <tr>\n",
       "      <th>97</th>\n",
       "      <td>4618025</td>\n",
       "      <td>22/08/2020</td>\n",
       "      <td>CCC</td>\n",
       "      <td>450</td>\n",
       "      <td>1JS</td>\n",
       "      <td>Shipment</td>\n",
       "      <td>2020-08-23</td>\n",
       "    </tr>\n",
       "    <tr>\n",
       "      <th>118</th>\n",
       "      <td>1452264</td>\n",
       "      <td>22/08/2020</td>\n",
       "      <td>CCC</td>\n",
       "      <td>350</td>\n",
       "      <td>2WS</td>\n",
       "      <td>Shipment</td>\n",
       "      <td>2020-08-23</td>\n",
       "    </tr>\n",
       "    <tr>\n",
       "      <th>136</th>\n",
       "      <td>368117</td>\n",
       "      <td>22/08/2020</td>\n",
       "      <td>BBRD</td>\n",
       "      <td>600</td>\n",
       "      <td>2WS</td>\n",
       "      <td>Shipment</td>\n",
       "      <td>2020-08-23</td>\n",
       "    </tr>\n",
       "    <tr>\n",
       "      <th>160</th>\n",
       "      <td>580731</td>\n",
       "      <td>22/08/2020</td>\n",
       "      <td>AAPL</td>\n",
       "      <td>200</td>\n",
       "      <td>3PUFF</td>\n",
       "      <td>Shipment</td>\n",
       "      <td>2020-08-24</td>\n",
       "    </tr>\n",
       "    <tr>\n",
       "      <th>164</th>\n",
       "      <td>2074756</td>\n",
       "      <td>22/08/2020</td>\n",
       "      <td>BBRD</td>\n",
       "      <td>1000</td>\n",
       "      <td>1JS</td>\n",
       "      <td>Shipment</td>\n",
       "      <td>2020-08-23</td>\n",
       "    </tr>\n",
       "    <tr>\n",
       "      <th>177</th>\n",
       "      <td>4928620</td>\n",
       "      <td>22/08/2020</td>\n",
       "      <td>AAPL</td>\n",
       "      <td>150</td>\n",
       "      <td>1JS</td>\n",
       "      <td>Shipment</td>\n",
       "      <td>2020-08-23</td>\n",
       "    </tr>\n",
       "  </tbody>\n",
       "</table>\n",
       "</div>"
      ],
      "text/plain": [
       "     Order ID Activity Date Bakery Item  Quantity Dee's Location  \\\n",
       "38    4626866    22/08/2020         CCC       800          3PUFF   \n",
       "82     905782    22/08/2020        AAPL       350            2WS   \n",
       "91    2683759    22/08/2020        BBRD       400          3PUFF   \n",
       "97    4618025    22/08/2020         CCC       450            1JS   \n",
       "118   1452264    22/08/2020         CCC       350            2WS   \n",
       "136    368117    22/08/2020        BBRD       600            2WS   \n",
       "160    580731    22/08/2020        AAPL       200          3PUFF   \n",
       "164   2074756    22/08/2020        BBRD      1000            1JS   \n",
       "177   4928620    22/08/2020        AAPL       150            1JS   \n",
       "\n",
       "    Activity Type Inventory Date  \n",
       "38       Shipment     2020-08-24  \n",
       "82       Shipment     2020-08-23  \n",
       "91       Shipment     2020-08-24  \n",
       "97       Shipment     2020-08-23  \n",
       "118      Shipment     2020-08-23  \n",
       "136      Shipment     2020-08-23  \n",
       "160      Shipment     2020-08-24  \n",
       "164      Shipment     2020-08-23  \n",
       "177      Shipment     2020-08-23  "
      ]
     },
     "execution_count": 159,
     "metadata": {},
     "output_type": "execute_result"
    }
   ],
   "source": [
    "day3_ship = shipment_df.loc[shipment_df[\"Activity Date\"] == \"22/08/2020\"]\n",
    "day3_ship"
   ]
  },
  {
   "cell_type": "code",
   "execution_count": 160,
   "id": "11307319",
   "metadata": {},
   "outputs": [
    {
     "data": {
      "text/html": [
       "<div>\n",
       "<style scoped>\n",
       "    .dataframe tbody tr th:only-of-type {\n",
       "        vertical-align: middle;\n",
       "    }\n",
       "\n",
       "    .dataframe tbody tr th {\n",
       "        vertical-align: top;\n",
       "    }\n",
       "\n",
       "    .dataframe thead th {\n",
       "        text-align: right;\n",
       "    }\n",
       "</style>\n",
       "<table border=\"1\" class=\"dataframe\">\n",
       "  <thead>\n",
       "    <tr style=\"text-align: right;\">\n",
       "      <th></th>\n",
       "      <th>Order ID</th>\n",
       "      <th>Quantity</th>\n",
       "    </tr>\n",
       "    <tr>\n",
       "      <th>Bakery Item</th>\n",
       "      <th></th>\n",
       "      <th></th>\n",
       "    </tr>\n",
       "  </thead>\n",
       "  <tbody>\n",
       "    <tr>\n",
       "      <th>AAPL</th>\n",
       "      <td>6415133</td>\n",
       "      <td>700</td>\n",
       "    </tr>\n",
       "    <tr>\n",
       "      <th>BBRD</th>\n",
       "      <td>5126632</td>\n",
       "      <td>2000</td>\n",
       "    </tr>\n",
       "    <tr>\n",
       "      <th>CCC</th>\n",
       "      <td>10697155</td>\n",
       "      <td>1600</td>\n",
       "    </tr>\n",
       "  </tbody>\n",
       "</table>\n",
       "</div>"
      ],
      "text/plain": [
       "             Order ID  Quantity\n",
       "Bakery Item                    \n",
       "AAPL          6415133       700\n",
       "BBRD          5126632      2000\n",
       "CCC          10697155      1600"
      ]
     },
     "execution_count": 160,
     "metadata": {},
     "output_type": "execute_result"
    }
   ],
   "source": [
    "day3_ship.groupby(day3_ship[\"Bakery Item\"]).sum()"
   ]
  },
  {
   "cell_type": "code",
   "execution_count": 161,
   "id": "d4422d9c",
   "metadata": {},
   "outputs": [
    {
     "data": {
      "text/html": [
       "<div>\n",
       "<style scoped>\n",
       "    .dataframe tbody tr th:only-of-type {\n",
       "        vertical-align: middle;\n",
       "    }\n",
       "\n",
       "    .dataframe tbody tr th {\n",
       "        vertical-align: top;\n",
       "    }\n",
       "\n",
       "    .dataframe thead th {\n",
       "        text-align: right;\n",
       "    }\n",
       "</style>\n",
       "<table border=\"1\" class=\"dataframe\">\n",
       "  <thead>\n",
       "    <tr style=\"text-align: right;\">\n",
       "      <th></th>\n",
       "      <th>Order ID</th>\n",
       "      <th>Activity Date</th>\n",
       "      <th>Bakery Item</th>\n",
       "      <th>Quantity</th>\n",
       "      <th>Dee's Location</th>\n",
       "      <th>Activity Type</th>\n",
       "      <th>Inventory Date</th>\n",
       "    </tr>\n",
       "  </thead>\n",
       "  <tbody>\n",
       "    <tr>\n",
       "      <th>2</th>\n",
       "      <td>24084</td>\n",
       "      <td>23/08/2020</td>\n",
       "      <td>AAPL</td>\n",
       "      <td>250</td>\n",
       "      <td>2WS</td>\n",
       "      <td>Shipment</td>\n",
       "      <td>2020-08-24</td>\n",
       "    </tr>\n",
       "    <tr>\n",
       "      <th>21</th>\n",
       "      <td>612627</td>\n",
       "      <td>23/08/2020</td>\n",
       "      <td>AAPL</td>\n",
       "      <td>300</td>\n",
       "      <td>1JS</td>\n",
       "      <td>Shipment</td>\n",
       "      <td>2020-08-24</td>\n",
       "    </tr>\n",
       "    <tr>\n",
       "      <th>41</th>\n",
       "      <td>1088540</td>\n",
       "      <td>23/08/2020</td>\n",
       "      <td>BBRD</td>\n",
       "      <td>800</td>\n",
       "      <td>1JS</td>\n",
       "      <td>Shipment</td>\n",
       "      <td>2020-08-24</td>\n",
       "    </tr>\n",
       "    <tr>\n",
       "      <th>52</th>\n",
       "      <td>1473291</td>\n",
       "      <td>23/08/2020</td>\n",
       "      <td>CCC</td>\n",
       "      <td>450</td>\n",
       "      <td>1JS</td>\n",
       "      <td>Shipment</td>\n",
       "      <td>2020-08-24</td>\n",
       "    </tr>\n",
       "    <tr>\n",
       "      <th>69</th>\n",
       "      <td>1901900</td>\n",
       "      <td>23/08/2020</td>\n",
       "      <td>CCC</td>\n",
       "      <td>550</td>\n",
       "      <td>2WS</td>\n",
       "      <td>Shipment</td>\n",
       "      <td>2020-08-24</td>\n",
       "    </tr>\n",
       "    <tr>\n",
       "      <th>79</th>\n",
       "      <td>2125482</td>\n",
       "      <td>23/08/2020</td>\n",
       "      <td>CCC</td>\n",
       "      <td>600</td>\n",
       "      <td>3PUFF</td>\n",
       "      <td>Shipment</td>\n",
       "      <td>2020-08-25</td>\n",
       "    </tr>\n",
       "    <tr>\n",
       "      <th>98</th>\n",
       "      <td>2575976</td>\n",
       "      <td>23/08/2020</td>\n",
       "      <td>BBRD</td>\n",
       "      <td>400</td>\n",
       "      <td>3PUFF</td>\n",
       "      <td>Shipment</td>\n",
       "      <td>2020-08-25</td>\n",
       "    </tr>\n",
       "    <tr>\n",
       "      <th>120</th>\n",
       "      <td>3059395</td>\n",
       "      <td>23/08/2020</td>\n",
       "      <td>BBRD</td>\n",
       "      <td>800</td>\n",
       "      <td>2WS</td>\n",
       "      <td>Shipment</td>\n",
       "      <td>2020-08-24</td>\n",
       "    </tr>\n",
       "    <tr>\n",
       "      <th>187</th>\n",
       "      <td>4499539</td>\n",
       "      <td>23/08/2020</td>\n",
       "      <td>AAPL</td>\n",
       "      <td>150</td>\n",
       "      <td>3PUFF</td>\n",
       "      <td>Shipment</td>\n",
       "      <td>2020-08-25</td>\n",
       "    </tr>\n",
       "  </tbody>\n",
       "</table>\n",
       "</div>"
      ],
      "text/plain": [
       "     Order ID Activity Date Bakery Item  Quantity Dee's Location  \\\n",
       "2       24084    23/08/2020        AAPL       250            2WS   \n",
       "21     612627    23/08/2020        AAPL       300            1JS   \n",
       "41    1088540    23/08/2020        BBRD       800            1JS   \n",
       "52    1473291    23/08/2020         CCC       450            1JS   \n",
       "69    1901900    23/08/2020         CCC       550            2WS   \n",
       "79    2125482    23/08/2020         CCC       600          3PUFF   \n",
       "98    2575976    23/08/2020        BBRD       400          3PUFF   \n",
       "120   3059395    23/08/2020        BBRD       800            2WS   \n",
       "187   4499539    23/08/2020        AAPL       150          3PUFF   \n",
       "\n",
       "    Activity Type Inventory Date  \n",
       "2        Shipment     2020-08-24  \n",
       "21       Shipment     2020-08-24  \n",
       "41       Shipment     2020-08-24  \n",
       "52       Shipment     2020-08-24  \n",
       "69       Shipment     2020-08-24  \n",
       "79       Shipment     2020-08-25  \n",
       "98       Shipment     2020-08-25  \n",
       "120      Shipment     2020-08-24  \n",
       "187      Shipment     2020-08-25  "
      ]
     },
     "execution_count": 161,
     "metadata": {},
     "output_type": "execute_result"
    }
   ],
   "source": [
    "day4_ship = shipment_df.loc[shipment_df[\"Activity Date\"] == \"23/08/2020\"]\n",
    "day4_ship"
   ]
  },
  {
   "cell_type": "code",
   "execution_count": 162,
   "id": "fe2fcc7d",
   "metadata": {},
   "outputs": [
    {
     "data": {
      "text/html": [
       "<div>\n",
       "<style scoped>\n",
       "    .dataframe tbody tr th:only-of-type {\n",
       "        vertical-align: middle;\n",
       "    }\n",
       "\n",
       "    .dataframe tbody tr th {\n",
       "        vertical-align: top;\n",
       "    }\n",
       "\n",
       "    .dataframe thead th {\n",
       "        text-align: right;\n",
       "    }\n",
       "</style>\n",
       "<table border=\"1\" class=\"dataframe\">\n",
       "  <thead>\n",
       "    <tr style=\"text-align: right;\">\n",
       "      <th></th>\n",
       "      <th>Order ID</th>\n",
       "      <th>Quantity</th>\n",
       "    </tr>\n",
       "    <tr>\n",
       "      <th>Bakery Item</th>\n",
       "      <th></th>\n",
       "      <th></th>\n",
       "    </tr>\n",
       "  </thead>\n",
       "  <tbody>\n",
       "    <tr>\n",
       "      <th>AAPL</th>\n",
       "      <td>5136250</td>\n",
       "      <td>700</td>\n",
       "    </tr>\n",
       "    <tr>\n",
       "      <th>BBRD</th>\n",
       "      <td>6723911</td>\n",
       "      <td>2000</td>\n",
       "    </tr>\n",
       "    <tr>\n",
       "      <th>CCC</th>\n",
       "      <td>5500673</td>\n",
       "      <td>1600</td>\n",
       "    </tr>\n",
       "  </tbody>\n",
       "</table>\n",
       "</div>"
      ],
      "text/plain": [
       "             Order ID  Quantity\n",
       "Bakery Item                    \n",
       "AAPL          5136250       700\n",
       "BBRD          6723911      2000\n",
       "CCC           5500673      1600"
      ]
     },
     "execution_count": 162,
     "metadata": {},
     "output_type": "execute_result"
    }
   ],
   "source": [
    "day4_ship.groupby(by=\"Bakery Item\").sum()"
   ]
  },
  {
   "cell_type": "markdown",
   "id": "12428f47",
   "metadata": {},
   "source": [
    "## Order "
   ]
  },
  {
   "cell_type": "code",
   "execution_count": 163,
   "id": "262481be",
   "metadata": {},
   "outputs": [
    {
     "data": {
      "text/html": [
       "<div>\n",
       "<style scoped>\n",
       "    .dataframe tbody tr th:only-of-type {\n",
       "        vertical-align: middle;\n",
       "    }\n",
       "\n",
       "    .dataframe tbody tr th {\n",
       "        vertical-align: top;\n",
       "    }\n",
       "\n",
       "    .dataframe thead th {\n",
       "        text-align: right;\n",
       "    }\n",
       "</style>\n",
       "<table border=\"1\" class=\"dataframe\">\n",
       "  <thead>\n",
       "    <tr style=\"text-align: right;\">\n",
       "      <th></th>\n",
       "      <th>Quantity</th>\n",
       "    </tr>\n",
       "    <tr>\n",
       "      <th>Bakery Item</th>\n",
       "      <th></th>\n",
       "    </tr>\n",
       "  </thead>\n",
       "  <tbody>\n",
       "    <tr>\n",
       "      <th>AAPL</th>\n",
       "      <td>3960</td>\n",
       "    </tr>\n",
       "    <tr>\n",
       "      <th>BBRD</th>\n",
       "      <td>6420</td>\n",
       "    </tr>\n",
       "    <tr>\n",
       "      <th>CCC</th>\n",
       "      <td>5710</td>\n",
       "    </tr>\n",
       "  </tbody>\n",
       "</table>\n",
       "</div>"
      ],
      "text/plain": [
       "             Quantity\n",
       "Bakery Item          \n",
       "AAPL             3960\n",
       "BBRD             6420\n",
       "CCC              5710"
      ]
     },
     "execution_count": 163,
     "metadata": {},
     "output_type": "execute_result"
    }
   ],
   "source": [
    "order_df.groupby(\"Bakery Item\").sum()[[\"Quantity\"]]"
   ]
  },
  {
   "cell_type": "markdown",
   "id": "3bfcada3",
   "metadata": {},
   "source": [
    "3960 apple pies were ordered, 6420 banana bread and 5710 chocolate chip cookies "
   ]
  },
  {
   "cell_type": "markdown",
   "id": "6f0ac7c6",
   "metadata": {},
   "source": [
    "### First day"
   ]
  },
  {
   "cell_type": "code",
   "execution_count": 164,
   "id": "e8a041cb",
   "metadata": {},
   "outputs": [],
   "source": [
    "# day1_ord = order_df.loc[order_df[\"Activity Date\"] == \"20/08/2020\"]\n",
    "# day1_ord.head()"
   ]
  },
  {
   "cell_type": "code",
   "execution_count": 165,
   "id": "c978a737",
   "metadata": {},
   "outputs": [],
   "source": [
    "# day1_ord.groupby(\"Bakery Item\").sum()[[\"Quantity\"]]"
   ]
  },
  {
   "cell_type": "code",
   "execution_count": 166,
   "id": "e09a621d",
   "metadata": {},
   "outputs": [],
   "source": [
    "# day2_ord = order_df.loc[order_df[\"Activity Date\"] == \"21/08/2020\"]\n",
    "# day2_ord.head()"
   ]
  },
  {
   "cell_type": "code",
   "execution_count": 167,
   "id": "4e210c40",
   "metadata": {},
   "outputs": [],
   "source": [
    "# day2_ord.groupby(\"Bakery Item\").sum()[[\"Quantity\"]]"
   ]
  },
  {
   "cell_type": "code",
   "execution_count": 168,
   "id": "d0664dc4",
   "metadata": {},
   "outputs": [],
   "source": [
    "# day3_ord = order_df.loc[order_df[\"Activity Date\"] == \"22/08/2020\"]\n",
    "# day3_ord.head()"
   ]
  },
  {
   "cell_type": "code",
   "execution_count": 169,
   "id": "0c6fc7f3",
   "metadata": {},
   "outputs": [],
   "source": [
    "# day3_ord.groupby(\"Bakery Item\").sum()[[\"Quantity\"]]"
   ]
  },
  {
   "cell_type": "code",
   "execution_count": 170,
   "id": "bbe2efec",
   "metadata": {},
   "outputs": [],
   "source": [
    "# day4_ord = order_df.loc[order_df[\"Activity Date\"] == \"23/08/2020\"]\n",
    "# day4_ord.head()"
   ]
  },
  {
   "cell_type": "code",
   "execution_count": 171,
   "id": "6c816002",
   "metadata": {},
   "outputs": [],
   "source": [
    "# base_aapl = 500\n",
    "# base_bbrd = 500\n",
    "# base_ccc = 2120"
   ]
  },
  {
   "cell_type": "markdown",
   "id": "5df708ad",
   "metadata": {},
   "source": [
    "## Shipping to different locations\n",
    "### Finding the quantity of each product shipped to the different locations on the 22nd, 23rd and 24th"
   ]
  },
  {
   "cell_type": "markdown",
   "id": "44ce2999",
   "metadata": {},
   "source": [
    "#### The inventory dates"
   ]
  },
  {
   "cell_type": "code",
   "execution_count": 172,
   "id": "13be3121",
   "metadata": {},
   "outputs": [
    {
     "data": {
      "text/plain": [
       "2020-08-24    9\n",
       "2020-08-23    9\n",
       "2020-08-22    6\n",
       "2020-08-25    3\n",
       "Name: Inventory Date, dtype: int64"
      ]
     },
     "execution_count": 172,
     "metadata": {},
     "output_type": "execute_result"
    }
   ],
   "source": [
    "shipment_df[\"Inventory Date\"].value_counts()"
   ]
  },
  {
   "cell_type": "code",
   "execution_count": 173,
   "id": "f0124e65",
   "metadata": {},
   "outputs": [],
   "source": [
    "#Grouping the different shipments by the inventory dates\n",
    "d = shipment_df.groupby(\"Inventory Date\")"
   ]
  },
  {
   "cell_type": "code",
   "execution_count": 174,
   "id": "b929534e",
   "metadata": {},
   "outputs": [
    {
     "data": {
      "text/html": [
       "<div>\n",
       "<style scoped>\n",
       "    .dataframe tbody tr th:only-of-type {\n",
       "        vertical-align: middle;\n",
       "    }\n",
       "\n",
       "    .dataframe tbody tr th {\n",
       "        vertical-align: top;\n",
       "    }\n",
       "\n",
       "    .dataframe thead th {\n",
       "        text-align: right;\n",
       "    }\n",
       "</style>\n",
       "<table border=\"1\" class=\"dataframe\">\n",
       "  <thead>\n",
       "    <tr style=\"text-align: right;\">\n",
       "      <th></th>\n",
       "      <th>Order ID</th>\n",
       "      <th>Activity Date</th>\n",
       "      <th>Bakery Item</th>\n",
       "      <th>Quantity</th>\n",
       "      <th>Dee's Location</th>\n",
       "      <th>Activity Type</th>\n",
       "      <th>Inventory Date</th>\n",
       "    </tr>\n",
       "  </thead>\n",
       "  <tbody>\n",
       "    <tr>\n",
       "      <th>8</th>\n",
       "      <td>4755979</td>\n",
       "      <td>21/08/2020</td>\n",
       "      <td>AAPL</td>\n",
       "      <td>150</td>\n",
       "      <td>2WS</td>\n",
       "      <td>Shipment</td>\n",
       "      <td>2020-08-22</td>\n",
       "    </tr>\n",
       "    <tr>\n",
       "      <th>22</th>\n",
       "      <td>2793436</td>\n",
       "      <td>21/08/2020</td>\n",
       "      <td>BBRD</td>\n",
       "      <td>900</td>\n",
       "      <td>1JS</td>\n",
       "      <td>Shipment</td>\n",
       "      <td>2020-08-22</td>\n",
       "    </tr>\n",
       "    <tr>\n",
       "      <th>29</th>\n",
       "      <td>3836973</td>\n",
       "      <td>21/08/2020</td>\n",
       "      <td>BBRD</td>\n",
       "      <td>700</td>\n",
       "      <td>2WS</td>\n",
       "      <td>Shipment</td>\n",
       "      <td>2020-08-22</td>\n",
       "    </tr>\n",
       "    <tr>\n",
       "      <th>90</th>\n",
       "      <td>2899092</td>\n",
       "      <td>21/08/2020</td>\n",
       "      <td>CCC</td>\n",
       "      <td>450</td>\n",
       "      <td>2WS</td>\n",
       "      <td>Shipment</td>\n",
       "      <td>2020-08-22</td>\n",
       "    </tr>\n",
       "    <tr>\n",
       "      <th>102</th>\n",
       "      <td>4546348</td>\n",
       "      <td>21/08/2020</td>\n",
       "      <td>CCC</td>\n",
       "      <td>450</td>\n",
       "      <td>1JS</td>\n",
       "      <td>Shipment</td>\n",
       "      <td>2020-08-22</td>\n",
       "    </tr>\n",
       "    <tr>\n",
       "      <th>197</th>\n",
       "      <td>131584</td>\n",
       "      <td>21/08/2020</td>\n",
       "      <td>AAPL</td>\n",
       "      <td>350</td>\n",
       "      <td>1JS</td>\n",
       "      <td>Shipment</td>\n",
       "      <td>2020-08-22</td>\n",
       "    </tr>\n",
       "  </tbody>\n",
       "</table>\n",
       "</div>"
      ],
      "text/plain": [
       "     Order ID Activity Date Bakery Item  Quantity Dee's Location  \\\n",
       "8     4755979    21/08/2020        AAPL       150            2WS   \n",
       "22    2793436    21/08/2020        BBRD       900            1JS   \n",
       "29    3836973    21/08/2020        BBRD       700            2WS   \n",
       "90    2899092    21/08/2020         CCC       450            2WS   \n",
       "102   4546348    21/08/2020         CCC       450            1JS   \n",
       "197    131584    21/08/2020        AAPL       350            1JS   \n",
       "\n",
       "    Activity Type Inventory Date  \n",
       "8        Shipment     2020-08-22  \n",
       "22       Shipment     2020-08-22  \n",
       "29       Shipment     2020-08-22  \n",
       "90       Shipment     2020-08-22  \n",
       "102      Shipment     2020-08-22  \n",
       "197      Shipment     2020-08-22  "
      ]
     },
     "execution_count": 174,
     "metadata": {},
     "output_type": "execute_result"
    }
   ],
   "source": [
    "#Getting the information on the first inventory date which is the 22nd of august, 2020\n",
    "\n",
    "first_date = d.get_group(\"2020-08-22\")\n",
    "first_date"
   ]
  },
  {
   "cell_type": "markdown",
   "id": "5b6f9eb7",
   "metadata": {},
   "source": [
    "Analyzing information on the quantity of products shipped to the different locations on the first inventory date\n",
    " - js_first being the dataframe which shows the quantity of each bakery items shipped to 1JS outlet on the first inventory date\n",
    " - ws_first being the dataframe which shows the quantity of each bakery items shipped to 2WS outlet on the first inventory date"
   ]
  },
  {
   "cell_type": "code",
   "execution_count": 175,
   "id": "ec2884cf",
   "metadata": {},
   "outputs": [],
   "source": [
    "location_first = first_date.groupby(\"Dee's Location\")#Grouping by the different outlet locations for the first inv date\n",
    "js_first_ship = location_first.get_group(\"1JS\")[[\"Bakery Item\",\"Quantity\"]]\n",
    "js_first_ship = js_first_ship.groupby(\"Bakery Item\").sum()[\"Quantity\"]\n",
    "\n",
    "ws_first_ship = location_first.get_group(\"2WS\")[[\"Bakery Item\",\"Quantity\"]]\n",
    "ws_first_ship = ws_first_ship.groupby(\"Bakery Item\").sum()[\"Quantity\"]\n"
   ]
  },
  {
   "cell_type": "code",
   "execution_count": 176,
   "id": "adedb0df",
   "metadata": {},
   "outputs": [
    {
     "data": {
      "text/plain": [
       "Bakery Item\n",
       "AAPL    350\n",
       "BBRD    900\n",
       "CCC     450\n",
       "Name: Quantity, dtype: int64"
      ]
     },
     "execution_count": 176,
     "metadata": {},
     "output_type": "execute_result"
    }
   ],
   "source": [
    "js_first_ship"
   ]
  },
  {
   "cell_type": "code",
   "execution_count": 177,
   "id": "1e9639e3",
   "metadata": {},
   "outputs": [
    {
     "data": {
      "text/plain": [
       "Bakery Item\n",
       "AAPL    150\n",
       "BBRD    700\n",
       "CCC     450\n",
       "Name: Quantity, dtype: int64"
      ]
     },
     "execution_count": 177,
     "metadata": {},
     "output_type": "execute_result"
    }
   ],
   "source": [
    "ws_first_ship"
   ]
  },
  {
   "cell_type": "code",
   "execution_count": 178,
   "id": "c624ec46",
   "metadata": {
    "scrolled": true
   },
   "outputs": [
    {
     "data": {
      "text/html": [
       "<div>\n",
       "<style scoped>\n",
       "    .dataframe tbody tr th:only-of-type {\n",
       "        vertical-align: middle;\n",
       "    }\n",
       "\n",
       "    .dataframe tbody tr th {\n",
       "        vertical-align: top;\n",
       "    }\n",
       "\n",
       "    .dataframe thead th {\n",
       "        text-align: right;\n",
       "    }\n",
       "</style>\n",
       "<table border=\"1\" class=\"dataframe\">\n",
       "  <thead>\n",
       "    <tr style=\"text-align: right;\">\n",
       "      <th></th>\n",
       "      <th>Order ID</th>\n",
       "      <th>Activity Date</th>\n",
       "      <th>Bakery Item</th>\n",
       "      <th>Quantity</th>\n",
       "      <th>Dee's Location</th>\n",
       "      <th>Activity Type</th>\n",
       "      <th>Inventory Date</th>\n",
       "    </tr>\n",
       "  </thead>\n",
       "  <tbody>\n",
       "    <tr>\n",
       "      <th>19</th>\n",
       "      <td>199073</td>\n",
       "      <td>21/08/2020</td>\n",
       "      <td>AAPL</td>\n",
       "      <td>200</td>\n",
       "      <td>3PUFF</td>\n",
       "      <td>Shipment</td>\n",
       "      <td>2020-08-23</td>\n",
       "    </tr>\n",
       "    <tr>\n",
       "      <th>82</th>\n",
       "      <td>905782</td>\n",
       "      <td>22/08/2020</td>\n",
       "      <td>AAPL</td>\n",
       "      <td>350</td>\n",
       "      <td>2WS</td>\n",
       "      <td>Shipment</td>\n",
       "      <td>2020-08-23</td>\n",
       "    </tr>\n",
       "    <tr>\n",
       "      <th>97</th>\n",
       "      <td>4618025</td>\n",
       "      <td>22/08/2020</td>\n",
       "      <td>CCC</td>\n",
       "      <td>450</td>\n",
       "      <td>1JS</td>\n",
       "      <td>Shipment</td>\n",
       "      <td>2020-08-23</td>\n",
       "    </tr>\n",
       "    <tr>\n",
       "      <th>118</th>\n",
       "      <td>1452264</td>\n",
       "      <td>22/08/2020</td>\n",
       "      <td>CCC</td>\n",
       "      <td>350</td>\n",
       "      <td>2WS</td>\n",
       "      <td>Shipment</td>\n",
       "      <td>2020-08-23</td>\n",
       "    </tr>\n",
       "    <tr>\n",
       "      <th>127</th>\n",
       "      <td>2724679</td>\n",
       "      <td>21/08/2020</td>\n",
       "      <td>BBRD</td>\n",
       "      <td>400</td>\n",
       "      <td>3PUFF</td>\n",
       "      <td>Shipment</td>\n",
       "      <td>2020-08-23</td>\n",
       "    </tr>\n",
       "    <tr>\n",
       "      <th>136</th>\n",
       "      <td>368117</td>\n",
       "      <td>22/08/2020</td>\n",
       "      <td>BBRD</td>\n",
       "      <td>600</td>\n",
       "      <td>2WS</td>\n",
       "      <td>Shipment</td>\n",
       "      <td>2020-08-23</td>\n",
       "    </tr>\n",
       "    <tr>\n",
       "      <th>164</th>\n",
       "      <td>2074756</td>\n",
       "      <td>22/08/2020</td>\n",
       "      <td>BBRD</td>\n",
       "      <td>1000</td>\n",
       "      <td>1JS</td>\n",
       "      <td>Shipment</td>\n",
       "      <td>2020-08-23</td>\n",
       "    </tr>\n",
       "    <tr>\n",
       "      <th>177</th>\n",
       "      <td>4928620</td>\n",
       "      <td>22/08/2020</td>\n",
       "      <td>AAPL</td>\n",
       "      <td>150</td>\n",
       "      <td>1JS</td>\n",
       "      <td>Shipment</td>\n",
       "      <td>2020-08-23</td>\n",
       "    </tr>\n",
       "    <tr>\n",
       "      <th>183</th>\n",
       "      <td>163422</td>\n",
       "      <td>21/08/2020</td>\n",
       "      <td>CCC</td>\n",
       "      <td>700</td>\n",
       "      <td>3PUFF</td>\n",
       "      <td>Shipment</td>\n",
       "      <td>2020-08-23</td>\n",
       "    </tr>\n",
       "  </tbody>\n",
       "</table>\n",
       "</div>"
      ],
      "text/plain": [
       "     Order ID Activity Date Bakery Item  Quantity Dee's Location  \\\n",
       "19     199073    21/08/2020        AAPL       200          3PUFF   \n",
       "82     905782    22/08/2020        AAPL       350            2WS   \n",
       "97    4618025    22/08/2020         CCC       450            1JS   \n",
       "118   1452264    22/08/2020         CCC       350            2WS   \n",
       "127   2724679    21/08/2020        BBRD       400          3PUFF   \n",
       "136    368117    22/08/2020        BBRD       600            2WS   \n",
       "164   2074756    22/08/2020        BBRD      1000            1JS   \n",
       "177   4928620    22/08/2020        AAPL       150            1JS   \n",
       "183    163422    21/08/2020         CCC       700          3PUFF   \n",
       "\n",
       "    Activity Type Inventory Date  \n",
       "19       Shipment     2020-08-23  \n",
       "82       Shipment     2020-08-23  \n",
       "97       Shipment     2020-08-23  \n",
       "118      Shipment     2020-08-23  \n",
       "127      Shipment     2020-08-23  \n",
       "136      Shipment     2020-08-23  \n",
       "164      Shipment     2020-08-23  \n",
       "177      Shipment     2020-08-23  \n",
       "183      Shipment     2020-08-23  "
      ]
     },
     "execution_count": 178,
     "metadata": {},
     "output_type": "execute_result"
    }
   ],
   "source": [
    "second_date = d.get_group(\"2020-08-23\")\n",
    "second_date"
   ]
  },
  {
   "cell_type": "markdown",
   "id": "4e84868f",
   "metadata": {},
   "source": [
    " Second date - 23rd of august 2020\n",
    " - js_sec being the dataframe which shows the quantity of each bakery items shipped to 1JS outlet on the second inventory date\n",
    " - ws_sec being the dataframe which shows the quantity of each bakery items shipped to 2WS outlet on the second inventory date"
   ]
  },
  {
   "cell_type": "code",
   "execution_count": 179,
   "id": "0381cee5",
   "metadata": {},
   "outputs": [],
   "source": [
    "location_sec = second_date.groupby(\"Dee's Location\")\n",
    "js_sec_ship = location_sec.get_group(\"1JS\")[[\"Bakery Item\",\"Quantity\"]]\n",
    "js_sec_ship = js_sec_ship.groupby(\"Bakery Item\").sum()[\"Quantity\"]\n",
    "\n",
    "ws_sec_ship = location_sec.get_group(\"2WS\")[[\"Bakery Item\",\"Quantity\"]]\n",
    "ws_sec_ship = ws_sec_ship.groupby(\"Bakery Item\").sum()[\"Quantity\"]\n",
    "\n",
    "pf_sec_ship = location_sec.get_group(\"3PUFF\")[[\"Bakery Item\",\"Quantity\"]]\n",
    "pf_sec_ship = pf_sec_ship.groupby(\"Bakery Item\").sum()[\"Quantity\"]"
   ]
  },
  {
   "cell_type": "code",
   "execution_count": 180,
   "id": "63d1e188",
   "metadata": {},
   "outputs": [
    {
     "data": {
      "text/plain": [
       "Bakery Item\n",
       "AAPL     150\n",
       "BBRD    1000\n",
       "CCC      450\n",
       "Name: Quantity, dtype: int64"
      ]
     },
     "execution_count": 180,
     "metadata": {},
     "output_type": "execute_result"
    }
   ],
   "source": [
    "js_sec_ship"
   ]
  },
  {
   "cell_type": "code",
   "execution_count": 181,
   "id": "f7d34656",
   "metadata": {},
   "outputs": [
    {
     "data": {
      "text/plain": [
       "Bakery Item\n",
       "AAPL    350\n",
       "BBRD    600\n",
       "CCC     350\n",
       "Name: Quantity, dtype: int64"
      ]
     },
     "execution_count": 181,
     "metadata": {},
     "output_type": "execute_result"
    }
   ],
   "source": [
    "ws_sec_ship"
   ]
  },
  {
   "cell_type": "code",
   "execution_count": 182,
   "id": "3115f1be",
   "metadata": {},
   "outputs": [
    {
     "data": {
      "text/plain": [
       "Bakery Item\n",
       "AAPL    200\n",
       "BBRD    400\n",
       "CCC     700\n",
       "Name: Quantity, dtype: int64"
      ]
     },
     "execution_count": 182,
     "metadata": {},
     "output_type": "execute_result"
    }
   ],
   "source": [
    "pf_sec_ship"
   ]
  },
  {
   "cell_type": "markdown",
   "id": "c11c2a17",
   "metadata": {},
   "source": [
    "Third date - 24th August 2020"
   ]
  },
  {
   "cell_type": "code",
   "execution_count": 183,
   "id": "c5477a7a",
   "metadata": {},
   "outputs": [
    {
     "data": {
      "text/html": [
       "<div>\n",
       "<style scoped>\n",
       "    .dataframe tbody tr th:only-of-type {\n",
       "        vertical-align: middle;\n",
       "    }\n",
       "\n",
       "    .dataframe tbody tr th {\n",
       "        vertical-align: top;\n",
       "    }\n",
       "\n",
       "    .dataframe thead th {\n",
       "        text-align: right;\n",
       "    }\n",
       "</style>\n",
       "<table border=\"1\" class=\"dataframe\">\n",
       "  <thead>\n",
       "    <tr style=\"text-align: right;\">\n",
       "      <th></th>\n",
       "      <th>Order ID</th>\n",
       "      <th>Activity Date</th>\n",
       "      <th>Bakery Item</th>\n",
       "      <th>Quantity</th>\n",
       "      <th>Dee's Location</th>\n",
       "      <th>Activity Type</th>\n",
       "      <th>Inventory Date</th>\n",
       "    </tr>\n",
       "  </thead>\n",
       "  <tbody>\n",
       "    <tr>\n",
       "      <th>2</th>\n",
       "      <td>24084</td>\n",
       "      <td>23/08/2020</td>\n",
       "      <td>AAPL</td>\n",
       "      <td>250</td>\n",
       "      <td>2WS</td>\n",
       "      <td>Shipment</td>\n",
       "      <td>2020-08-24</td>\n",
       "    </tr>\n",
       "    <tr>\n",
       "      <th>21</th>\n",
       "      <td>612627</td>\n",
       "      <td>23/08/2020</td>\n",
       "      <td>AAPL</td>\n",
       "      <td>300</td>\n",
       "      <td>1JS</td>\n",
       "      <td>Shipment</td>\n",
       "      <td>2020-08-24</td>\n",
       "    </tr>\n",
       "    <tr>\n",
       "      <th>38</th>\n",
       "      <td>4626866</td>\n",
       "      <td>22/08/2020</td>\n",
       "      <td>CCC</td>\n",
       "      <td>800</td>\n",
       "      <td>3PUFF</td>\n",
       "      <td>Shipment</td>\n",
       "      <td>2020-08-24</td>\n",
       "    </tr>\n",
       "    <tr>\n",
       "      <th>41</th>\n",
       "      <td>1088540</td>\n",
       "      <td>23/08/2020</td>\n",
       "      <td>BBRD</td>\n",
       "      <td>800</td>\n",
       "      <td>1JS</td>\n",
       "      <td>Shipment</td>\n",
       "      <td>2020-08-24</td>\n",
       "    </tr>\n",
       "    <tr>\n",
       "      <th>52</th>\n",
       "      <td>1473291</td>\n",
       "      <td>23/08/2020</td>\n",
       "      <td>CCC</td>\n",
       "      <td>450</td>\n",
       "      <td>1JS</td>\n",
       "      <td>Shipment</td>\n",
       "      <td>2020-08-24</td>\n",
       "    </tr>\n",
       "    <tr>\n",
       "      <th>69</th>\n",
       "      <td>1901900</td>\n",
       "      <td>23/08/2020</td>\n",
       "      <td>CCC</td>\n",
       "      <td>550</td>\n",
       "      <td>2WS</td>\n",
       "      <td>Shipment</td>\n",
       "      <td>2020-08-24</td>\n",
       "    </tr>\n",
       "    <tr>\n",
       "      <th>91</th>\n",
       "      <td>2683759</td>\n",
       "      <td>22/08/2020</td>\n",
       "      <td>BBRD</td>\n",
       "      <td>400</td>\n",
       "      <td>3PUFF</td>\n",
       "      <td>Shipment</td>\n",
       "      <td>2020-08-24</td>\n",
       "    </tr>\n",
       "    <tr>\n",
       "      <th>120</th>\n",
       "      <td>3059395</td>\n",
       "      <td>23/08/2020</td>\n",
       "      <td>BBRD</td>\n",
       "      <td>800</td>\n",
       "      <td>2WS</td>\n",
       "      <td>Shipment</td>\n",
       "      <td>2020-08-24</td>\n",
       "    </tr>\n",
       "    <tr>\n",
       "      <th>160</th>\n",
       "      <td>580731</td>\n",
       "      <td>22/08/2020</td>\n",
       "      <td>AAPL</td>\n",
       "      <td>200</td>\n",
       "      <td>3PUFF</td>\n",
       "      <td>Shipment</td>\n",
       "      <td>2020-08-24</td>\n",
       "    </tr>\n",
       "  </tbody>\n",
       "</table>\n",
       "</div>"
      ],
      "text/plain": [
       "     Order ID Activity Date Bakery Item  Quantity Dee's Location  \\\n",
       "2       24084    23/08/2020        AAPL       250            2WS   \n",
       "21     612627    23/08/2020        AAPL       300            1JS   \n",
       "38    4626866    22/08/2020         CCC       800          3PUFF   \n",
       "41    1088540    23/08/2020        BBRD       800            1JS   \n",
       "52    1473291    23/08/2020         CCC       450            1JS   \n",
       "69    1901900    23/08/2020         CCC       550            2WS   \n",
       "91    2683759    22/08/2020        BBRD       400          3PUFF   \n",
       "120   3059395    23/08/2020        BBRD       800            2WS   \n",
       "160    580731    22/08/2020        AAPL       200          3PUFF   \n",
       "\n",
       "    Activity Type Inventory Date  \n",
       "2        Shipment     2020-08-24  \n",
       "21       Shipment     2020-08-24  \n",
       "38       Shipment     2020-08-24  \n",
       "41       Shipment     2020-08-24  \n",
       "52       Shipment     2020-08-24  \n",
       "69       Shipment     2020-08-24  \n",
       "91       Shipment     2020-08-24  \n",
       "120      Shipment     2020-08-24  \n",
       "160      Shipment     2020-08-24  "
      ]
     },
     "execution_count": 183,
     "metadata": {},
     "output_type": "execute_result"
    }
   ],
   "source": [
    "third_date = d.get_group(\"2020-08-24\")\n",
    "third_date"
   ]
  },
  {
   "cell_type": "code",
   "execution_count": 184,
   "id": "a084fa27",
   "metadata": {},
   "outputs": [],
   "source": [
    "location_third = third_date.groupby(\"Dee's Location\")\n",
    "js_third_ship = location_third.get_group(\"1JS\")[[\"Bakery Item\",\"Quantity\"]]\n",
    "js_third_ship = js_third_ship.groupby(\"Bakery Item\").sum()[\"Quantity\"]\n",
    "\n",
    "ws_third_ship = location_third.get_group(\"2WS\")[[\"Bakery Item\",\"Quantity\"]]\n",
    "ws_third_ship = ws_third_ship.groupby(\"Bakery Item\").sum()[\"Quantity\"]\n",
    "\n",
    "pf_third_ship = location_third.get_group(\"3PUFF\")[[\"Bakery Item\",\"Quantity\"]]\n",
    "pf_third_ship = pf_third_ship.groupby(\"Bakery Item\").sum()[\"Quantity\"]"
   ]
  },
  {
   "cell_type": "code",
   "execution_count": 185,
   "id": "a3674fc2",
   "metadata": {},
   "outputs": [
    {
     "data": {
      "text/plain": [
       "Bakery Item\n",
       "AAPL    300\n",
       "BBRD    800\n",
       "CCC     450\n",
       "Name: Quantity, dtype: int64"
      ]
     },
     "execution_count": 185,
     "metadata": {},
     "output_type": "execute_result"
    }
   ],
   "source": [
    "js_third_ship"
   ]
  },
  {
   "cell_type": "code",
   "execution_count": 186,
   "id": "2702b339",
   "metadata": {},
   "outputs": [
    {
     "data": {
      "text/plain": [
       "Bakery Item\n",
       "AAPL    250\n",
       "BBRD    800\n",
       "CCC     550\n",
       "Name: Quantity, dtype: int64"
      ]
     },
     "execution_count": 186,
     "metadata": {},
     "output_type": "execute_result"
    }
   ],
   "source": [
    "ws_third_ship"
   ]
  },
  {
   "cell_type": "code",
   "execution_count": 187,
   "id": "9631caa6",
   "metadata": {},
   "outputs": [
    {
     "data": {
      "text/plain": [
       "Bakery Item\n",
       "AAPL    200\n",
       "BBRD    400\n",
       "CCC     800\n",
       "Name: Quantity, dtype: int64"
      ]
     },
     "execution_count": 187,
     "metadata": {},
     "output_type": "execute_result"
    }
   ],
   "source": [
    "pf_third_ship"
   ]
  },
  {
   "cell_type": "markdown",
   "id": "971c91b2",
   "metadata": {},
   "source": [
    "## Ordersfrom different locations\n",
    "### Finding the quantity of each product ordered from the different locations on the 22nd, 23rd and 24th"
   ]
  },
  {
   "cell_type": "code",
   "execution_count": 188,
   "id": "bbab6474",
   "metadata": {},
   "outputs": [],
   "source": [
    "e = order_df.groupby(\"Inventory Date\") #Grouping the different orders by the inventory dates"
   ]
  },
  {
   "cell_type": "markdown",
   "id": "994c8b16",
   "metadata": {},
   "source": [
    "### First Inventory Date"
   ]
  },
  {
   "cell_type": "code",
   "execution_count": 189,
   "id": "8e119dce",
   "metadata": {},
   "outputs": [],
   "source": [
    "first_ord = e.get_group(\"2020-08-22\")"
   ]
  },
  {
   "cell_type": "code",
   "execution_count": 190,
   "id": "4fcb96c2",
   "metadata": {},
   "outputs": [],
   "source": [
    "location_first = first_ord.groupby(\"Dee's Location\")\n",
    "js_first_ord = location_first.get_group(\"1JS\")\n"
   ]
  },
  {
   "cell_type": "code",
   "execution_count": 191,
   "id": "c5fa07c3",
   "metadata": {},
   "outputs": [],
   "source": [
    "js_first_ord = js_first_ord.groupby(\"Bakery Item\").sum()[\"Quantity\"]"
   ]
  },
  {
   "cell_type": "code",
   "execution_count": 192,
   "id": "f7e511f7",
   "metadata": {},
   "outputs": [
    {
     "data": {
      "text/plain": [
       "Bakery Item\n",
       "AAPL    680\n",
       "BBRD    520\n",
       "CCC     440\n",
       "Name: Quantity, dtype: int64"
      ]
     },
     "execution_count": 192,
     "metadata": {},
     "output_type": "execute_result"
    }
   ],
   "source": [
    "js_first_ord"
   ]
  },
  {
   "cell_type": "code",
   "execution_count": 193,
   "id": "7294049b",
   "metadata": {},
   "outputs": [
    {
     "data": {
      "text/plain": [
       "Bakery Item\n",
       "AAPL    320\n",
       "BBRD    530\n",
       "CCC     500\n",
       "Name: Quantity, dtype: int64"
      ]
     },
     "execution_count": 193,
     "metadata": {},
     "output_type": "execute_result"
    }
   ],
   "source": [
    "ws_first_ord = location_first.get_group(\"2WS\")\n",
    "ws_first_ord = ws_first_ord.groupby(\"Bakery Item\").sum()[\"Quantity\"]\n",
    "ws_first_ord"
   ]
  },
  {
   "cell_type": "code",
   "execution_count": 194,
   "id": "1c963223",
   "metadata": {},
   "outputs": [
    {
     "data": {
      "text/plain": [
       "Bakery Item\n",
       "AAPL    420\n",
       "BBRD    250\n",
       "CCC     290\n",
       "Name: Quantity, dtype: int64"
      ]
     },
     "execution_count": 194,
     "metadata": {},
     "output_type": "execute_result"
    }
   ],
   "source": [
    "pf_first_ord = location_first.get_group(\"3PUFF\")\n",
    "pf_first_ord = pf_first_ord.groupby(\"Bakery Item\").sum()[\"Quantity\"]\n",
    "pf_first_ord"
   ]
  },
  {
   "cell_type": "markdown",
   "id": "c2df755e",
   "metadata": {},
   "source": [
    "### Second Inventory Date"
   ]
  },
  {
   "cell_type": "code",
   "execution_count": 195,
   "id": "453e9c47",
   "metadata": {},
   "outputs": [],
   "source": [
    "sec_ord = e.get_group(\"2020-08-23\")"
   ]
  },
  {
   "cell_type": "code",
   "execution_count": 196,
   "id": "4c677f16",
   "metadata": {},
   "outputs": [],
   "source": [
    "location_sec_ord = sec_ord.groupby(\"Dee's Location\")\n",
    "js_sec_ord = location_sec_ord.get_group(\"1JS\")"
   ]
  },
  {
   "cell_type": "code",
   "execution_count": 197,
   "id": "5afaaf5f",
   "metadata": {},
   "outputs": [
    {
     "data": {
      "text/plain": [
       "Bakery Item\n",
       "AAPL     520\n",
       "BBRD    1190\n",
       "CCC     1710\n",
       "Name: Quantity, dtype: int64"
      ]
     },
     "execution_count": 197,
     "metadata": {},
     "output_type": "execute_result"
    }
   ],
   "source": [
    "js_sec_ord = js_sec_ord.groupby(\"Bakery Item\").sum()[\"Quantity\"]\n",
    "js_sec_ord"
   ]
  },
  {
   "cell_type": "code",
   "execution_count": 198,
   "id": "e481988c",
   "metadata": {},
   "outputs": [
    {
     "data": {
      "text/plain": [
       "Bakery Item\n",
       "AAPL     520\n",
       "BBRD    1190\n",
       "CCC     1710\n",
       "Name: Quantity, dtype: int64"
      ]
     },
     "execution_count": 198,
     "metadata": {},
     "output_type": "execute_result"
    }
   ],
   "source": [
    "js_sec_ord"
   ]
  },
  {
   "cell_type": "code",
   "execution_count": 199,
   "id": "1ae26c10",
   "metadata": {},
   "outputs": [
    {
     "data": {
      "text/plain": [
       "Bakery Item\n",
       "AAPL    330\n",
       "BBRD    660\n",
       "CCC     230\n",
       "Name: Quantity, dtype: int64"
      ]
     },
     "execution_count": 199,
     "metadata": {},
     "output_type": "execute_result"
    }
   ],
   "source": [
    "ws_sec_ord = location_sec_ord.get_group(\"2WS\")\n",
    "ws_sec_ord = ws_sec_ord.groupby(\"Bakery Item\").sum()[\"Quantity\"]\n",
    "ws_sec_ord"
   ]
  },
  {
   "cell_type": "code",
   "execution_count": 200,
   "id": "3f7a13c3",
   "metadata": {},
   "outputs": [
    {
     "data": {
      "text/plain": [
       "Bakery Item\n",
       "AAPL    410\n",
       "BBRD    600\n",
       "CCC     420\n",
       "Name: Quantity, dtype: int64"
      ]
     },
     "execution_count": 200,
     "metadata": {},
     "output_type": "execute_result"
    }
   ],
   "source": [
    "pf_sec_ord = location_sec_ord.get_group(\"3PUFF\")\n",
    "pf_sec_ord = pf_sec_ord.groupby(\"Bakery Item\").sum()[\"Quantity\"]\n",
    "pf_sec_ord"
   ]
  },
  {
   "cell_type": "markdown",
   "id": "2115e9e0",
   "metadata": {},
   "source": [
    "### Third Inventory Date"
   ]
  },
  {
   "cell_type": "code",
   "execution_count": 201,
   "id": "52c40361",
   "metadata": {},
   "outputs": [],
   "source": [
    "third_ord = e.get_group(\"2020-08-24\")"
   ]
  },
  {
   "cell_type": "code",
   "execution_count": 202,
   "id": "7677727a",
   "metadata": {},
   "outputs": [
    {
     "data": {
      "text/plain": [
       "Bakery Item\n",
       "AAPL     770\n",
       "BBRD    1310\n",
       "CCC     1090\n",
       "Name: Quantity, dtype: int64"
      ]
     },
     "execution_count": 202,
     "metadata": {},
     "output_type": "execute_result"
    }
   ],
   "source": [
    "location_third_ord = third_ord.groupby(\"Dee's Location\")\n",
    "\n",
    "js_third_ord = location_third_ord.get_group(\"1JS\")\n",
    "js_third_ord = js_third_ord.groupby(\"Bakery Item\").sum()[\"Quantity\"]\n",
    "\n",
    "js_third_ord"
   ]
  },
  {
   "cell_type": "code",
   "execution_count": 203,
   "id": "dda836e7",
   "metadata": {},
   "outputs": [
    {
     "data": {
      "text/plain": [
       "Bakery Item\n",
       "AAPL    340\n",
       "BBRD    700\n",
       "CCC     590\n",
       "Name: Quantity, dtype: int64"
      ]
     },
     "execution_count": 203,
     "metadata": {},
     "output_type": "execute_result"
    }
   ],
   "source": [
    "ws_third_ord = location_third_ord.get_group(\"2WS\")\n",
    "ws_third_ord = ws_third_ord.groupby(\"Bakery Item\").sum()[\"Quantity\"]\n",
    "ws_third_ord"
   ]
  },
  {
   "cell_type": "code",
   "execution_count": 204,
   "id": "a7bbe0bf",
   "metadata": {},
   "outputs": [
    {
     "data": {
      "text/plain": [
       "Bakery Item\n",
       "AAPL    170\n",
       "BBRD    660\n",
       "CCC     440\n",
       "Name: Quantity, dtype: int64"
      ]
     },
     "execution_count": 204,
     "metadata": {},
     "output_type": "execute_result"
    }
   ],
   "source": [
    "pf_third_ord = location_third_ord.get_group(\"3PUFF\")\n",
    "pf_third_ord = pf_third_ord.groupby(\"Bakery Item\").sum()[\"Quantity\"]\n",
    "pf_third_ord"
   ]
  },
  {
   "cell_type": "code",
   "execution_count": null,
   "id": "381feb0d",
   "metadata": {},
   "outputs": [],
   "source": []
  },
  {
   "cell_type": "markdown",
   "id": "bc5e19c7",
   "metadata": {},
   "source": [
    "## To calculate the quantity of each product in the inventory of each outlet and the end of each day\n",
    "The earliest shipment to any of the outlet stores landed on the 22nd of August, before then it is assumed that all the outlets had 500 of each product in their inventory, and it is stated that AAPL shipment was on hold due to logistic issues which means the quantity of Apple pies in each of the outlets remained 500 throughout the period"
   ]
  },
  {
   "cell_type": "code",
   "execution_count": 205,
   "id": "a546eab2",
   "metadata": {},
   "outputs": [],
   "source": [
    "base_aapl = 500\n",
    "base_bbrd = 500\n",
    "base_ccc = 500"
   ]
  },
  {
   "cell_type": "code",
   "execution_count": 206,
   "id": "416bf6d8",
   "metadata": {},
   "outputs": [],
   "source": [
    "js_first = {}\n",
    "\n",
    "for index,(js1_ship, js1_ord) in enumerate(zip(js_first_ship.values, js_first_ord.values)):\n",
    "    if index == 0:\n",
    "        js_first[\"AAPL\"] = [js1_ship, js1_ord]\n",
    "    elif index == 1:\n",
    "        js_first[\"BBRD\"] = [js1_ship, js1_ord]\n",
    "    elif index == 2:\n",
    "        js_first[\"CCC\"] = [js1_ship, js1_ord]"
   ]
  },
  {
   "cell_type": "code",
   "execution_count": 207,
   "id": "7ad0d7cc",
   "metadata": {},
   "outputs": [
    {
     "data": {
      "text/plain": [
       "{'AAPL': [350, 680], 'BBRD': [900, 520], 'CCC': [450, 440]}"
      ]
     },
     "execution_count": 207,
     "metadata": {},
     "output_type": "execute_result"
    }
   ],
   "source": [
    "js_first"
   ]
  },
  {
   "cell_type": "code",
   "execution_count": 208,
   "id": "ce839a9b",
   "metadata": {},
   "outputs": [],
   "source": [
    "js_second = {}\n",
    "\n",
    "for index,(js2_ship, js2_ord) in enumerate(zip(js_sec_ship.values, js_sec_ord.values)):\n",
    "    if index == 0:\n",
    "        js_second[\"AAPL\"] = [js2_ship, js2_ord]\n",
    "    elif index == 1:\n",
    "        js_second[\"BBRD\"] = [js2_ship, js2_ord]\n",
    "    elif index == 2:\n",
    "        js_second[\"CCC\"] = [js2_ship, js2_ord]"
   ]
  },
  {
   "cell_type": "code",
   "execution_count": 209,
   "id": "1a40e126",
   "metadata": {},
   "outputs": [
    {
     "data": {
      "text/plain": [
       "{'AAPL': [150, 520], 'BBRD': [1000, 1190], 'CCC': [450, 1710]}"
      ]
     },
     "execution_count": 209,
     "metadata": {},
     "output_type": "execute_result"
    }
   ],
   "source": [
    "js_second"
   ]
  },
  {
   "cell_type": "code",
   "execution_count": 210,
   "id": "339369b6",
   "metadata": {},
   "outputs": [],
   "source": [
    "js_third = {}\n",
    "\n",
    "for index,(js3_ship, js3_ord) in enumerate(zip(js_third_ship.values, js_third_ord.values)):\n",
    "    if index == 0:\n",
    "        js_third[\"AAPL\"] = [js3_ship, js3_ord]\n",
    "    elif index == 1:\n",
    "        js_third[\"BBRD\"] = [js3_ship, js3_ord]\n",
    "    elif index == 2:\n",
    "        js_third[\"CCC\"] = [js3_ship, js3_ord]"
   ]
  },
  {
   "cell_type": "code",
   "execution_count": 211,
   "id": "68b0adb0",
   "metadata": {},
   "outputs": [
    {
     "data": {
      "text/plain": [
       "{'AAPL': [300, 770], 'BBRD': [800, 1310], 'CCC': [450, 1090]}"
      ]
     },
     "execution_count": 211,
     "metadata": {},
     "output_type": "execute_result"
    }
   ],
   "source": [
    "js_third"
   ]
  },
  {
   "cell_type": "code",
   "execution_count": 212,
   "id": "7a7a6915",
   "metadata": {},
   "outputs": [],
   "source": [
    "js = {}\n",
    "\n",
    "js[\"First Day\"] = js_first\n",
    "js[\"Second Day\"] = js_second\n",
    "js[\"Third Day\"] = js_third"
   ]
  },
  {
   "cell_type": "code",
   "execution_count": 213,
   "id": "953321b5",
   "metadata": {},
   "outputs": [
    {
     "data": {
      "text/plain": [
       "{'First Day': {'AAPL': [350, 680], 'BBRD': [900, 520], 'CCC': [450, 440]},\n",
       " 'Second Day': {'AAPL': [150, 520], 'BBRD': [1000, 1190], 'CCC': [450, 1710]},\n",
       " 'Third Day': {'AAPL': [300, 770], 'BBRD': [800, 1310], 'CCC': [450, 1090]}}"
      ]
     },
     "execution_count": 213,
     "metadata": {},
     "output_type": "execute_result"
    }
   ],
   "source": [
    "js"
   ]
  },
  {
   "cell_type": "code",
   "execution_count": 214,
   "id": "961afbac",
   "metadata": {},
   "outputs": [
    {
     "data": {
      "text/plain": [
       "[350, 680]"
      ]
     },
     "execution_count": 214,
     "metadata": {},
     "output_type": "execute_result"
    }
   ],
   "source": [
    "js.get(\"First Day\").get(\"AAPL\")"
   ]
  },
  {
   "cell_type": "code",
   "execution_count": 215,
   "id": "b328bfe9",
   "metadata": {},
   "outputs": [],
   "source": [
    "def ord_ship_bal(data):\n",
    "    balance = int(data[0]) - int(data[1])\n",
    "    return balance"
   ]
  },
  {
   "cell_type": "code",
   "execution_count": 216,
   "id": "610bb7aa",
   "metadata": {},
   "outputs": [
    {
     "name": "stdout",
     "output_type": "stream",
     "text": [
      "{'AAPL': [350, 680], 'BBRD': [900, 520], 'CCC': [450, 440]}\n",
      "{'AAPL': [150, 520], 'BBRD': [1000, 1190], 'CCC': [450, 1710]}\n",
      "{'AAPL': [300, 770], 'BBRD': [800, 1310], 'CCC': [450, 1090]}\n"
     ]
    }
   ],
   "source": [
    "base_aapl = 500\n",
    "base_bbrd = 500\n",
    "base_ccc = 500\n",
    "invent_day = {}\n",
    "first_day = {}\n",
    "second_day = {}\n",
    "third_day = {}\n",
    "\n",
    "for index, day in enumerate(js.values()):\n",
    "    print(day)\n",
    "    \n",
    "    if index == 0:\n",
    "        first_day[\"AAPL\"] = base_aapl - day.get(\"AAPL\")[1]\n",
    "        first_day[\"BBRD\"] = base_bbrd + ord_ship_bal(day.get(\"BBRD\"))\n",
    "        first_day[\"CCC\"] = base_ccc + ord_ship_bal(day.get(\"CCC\"))\n",
    "        \n",
    "        base_aapl = first_day.get(\"AAPL\")\n",
    "        base_bbrd = first_day[\"BBRD\"]\n",
    "        base_ccc = first_day[\"CCC\"]\n",
    "    \n",
    "    if index == 1:\n",
    "        second_day[\"AAPL\"] = base_aapl - day.get(\"AAPL\")[1]\n",
    "        second_day[\"BBRD\"] = base_bbrd + ord_ship_bal(day.get(\"BBRD\"))\n",
    "        second_day[\"CCC\"] = base_ccc + ord_ship_bal(day.get(\"CCC\"))\n",
    "        \n",
    "        base_aapl = second_day.get(\"AAPL\")\n",
    "        base_bbrd = second_day[\"BBRD\"]\n",
    "        base_ccc = second_day[\"CCC\"]\n",
    "    \n",
    "    if index == 2:\n",
    "        third_day[\"AAPL\"] = base_aapl - day.get(\"AAPL\")[1]\n",
    "        third_day[\"BBRD\"] = base_bbrd + ord_ship_bal(day.get(\"BBRD\"))\n",
    "        third_day[\"CCC\"] = base_ccc + ord_ship_bal(day.get(\"CCC\"))\n",
    "    "
   ]
  },
  {
   "cell_type": "code",
   "execution_count": 217,
   "id": "7b8e253f",
   "metadata": {},
   "outputs": [
    {
     "data": {
      "text/plain": [
       "{'AAPL': -180, 'BBRD': 880, 'CCC': 510}"
      ]
     },
     "execution_count": 217,
     "metadata": {},
     "output_type": "execute_result"
    }
   ],
   "source": [
    "first_day"
   ]
  },
  {
   "cell_type": "code",
   "execution_count": 218,
   "id": "427fbbda",
   "metadata": {},
   "outputs": [
    {
     "data": {
      "text/plain": [
       "{'AAPL': -700, 'BBRD': 690, 'CCC': -750}"
      ]
     },
     "execution_count": 218,
     "metadata": {},
     "output_type": "execute_result"
    }
   ],
   "source": [
    "second_day"
   ]
  },
  {
   "cell_type": "code",
   "execution_count": 219,
   "id": "a4aaea96",
   "metadata": {},
   "outputs": [
    {
     "data": {
      "text/plain": [
       "{'AAPL': -1470, 'BBRD': 180, 'CCC': -1390}"
      ]
     },
     "execution_count": 219,
     "metadata": {},
     "output_type": "execute_result"
    }
   ],
   "source": [
    "third_day"
   ]
  },
  {
   "cell_type": "code",
   "execution_count": null,
   "id": "3a3792ab",
   "metadata": {},
   "outputs": [],
   "source": []
  }
 ],
 "metadata": {
  "kernelspec": {
   "display_name": "Python 3 (ipykernel)",
   "language": "python",
   "name": "python3"
  },
  "language_info": {
   "codemirror_mode": {
    "name": "ipython",
    "version": 3
   },
   "file_extension": ".py",
   "mimetype": "text/x-python",
   "name": "python",
   "nbconvert_exporter": "python",
   "pygments_lexer": "ipython3",
   "version": "3.9.7"
  }
 },
 "nbformat": 4,
 "nbformat_minor": 5
}
