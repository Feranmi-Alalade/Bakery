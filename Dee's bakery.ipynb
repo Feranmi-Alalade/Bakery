{
 "cells": [
  {
   "cell_type": "markdown",
   "id": "4fe26c04",
   "metadata": {},
   "source": [
    "# Bakery Inventory\n",
    "_This notebook was created by Oluwaferanmi Alalade on the 10th of September,2022_"
   ]
  },
  {
   "cell_type": "markdown",
   "id": "78f9148e",
   "metadata": {},
   "source": [
    "### Importing the necessary libraries\n",
    "The libraries used in this notebook were pandas, which is used for data manipulation and analysis, and datetime, which is used in dealing with dates"
   ]
  },
  {
   "cell_type": "code",
   "execution_count": 1,
   "id": "b55474c7",
   "metadata": {},
   "outputs": [],
   "source": [
    "import pandas as pd\n",
    "from datetime import datetime, timedelta"
   ]
  },
  {
   "cell_type": "code",
   "execution_count": 2,
   "id": "d07676d8",
   "metadata": {},
   "outputs": [],
   "source": [
    "df = pd.read_csv(r\"C:\\Users\\Oluwaferanmi\\Documents\\settlements_data_JS.csv\") #Reading the csv file into this notebook"
   ]
  },
  {
   "cell_type": "code",
   "execution_count": 3,
   "id": "c6c67904",
   "metadata": {},
   "outputs": [
    {
     "data": {
      "text/html": [
       "<div>\n",
       "<style scoped>\n",
       "    .dataframe tbody tr th:only-of-type {\n",
       "        vertical-align: middle;\n",
       "    }\n",
       "\n",
       "    .dataframe tbody tr th {\n",
       "        vertical-align: top;\n",
       "    }\n",
       "\n",
       "    .dataframe thead th {\n",
       "        text-align: right;\n",
       "    }\n",
       "</style>\n",
       "<table border=\"1\" class=\"dataframe\">\n",
       "  <thead>\n",
       "    <tr style=\"text-align: right;\">\n",
       "      <th></th>\n",
       "      <th>Order ID</th>\n",
       "      <th>Activity Date</th>\n",
       "      <th>Bakery Item</th>\n",
       "      <th>Quantity</th>\n",
       "      <th>Dee's Location</th>\n",
       "      <th>Activity Type</th>\n",
       "      <th>Inventory Date</th>\n",
       "    </tr>\n",
       "  </thead>\n",
       "  <tbody>\n",
       "    <tr>\n",
       "      <th>0</th>\n",
       "      <td>344545</td>\n",
       "      <td>21/08/2020</td>\n",
       "      <td>CCC</td>\n",
       "      <td>170</td>\n",
       "      <td>1JS</td>\n",
       "      <td>Order</td>\n",
       "      <td>NaN</td>\n",
       "    </tr>\n",
       "    <tr>\n",
       "      <th>1</th>\n",
       "      <td>4384815</td>\n",
       "      <td>20/08/2020</td>\n",
       "      <td>CCC</td>\n",
       "      <td>80</td>\n",
       "      <td>2WS</td>\n",
       "      <td>Order</td>\n",
       "      <td>NaN</td>\n",
       "    </tr>\n",
       "    <tr>\n",
       "      <th>2</th>\n",
       "      <td>24084</td>\n",
       "      <td>23/08/2020</td>\n",
       "      <td>AAPL</td>\n",
       "      <td>250</td>\n",
       "      <td>2WS</td>\n",
       "      <td>Shipment</td>\n",
       "      <td>NaN</td>\n",
       "    </tr>\n",
       "    <tr>\n",
       "      <th>3</th>\n",
       "      <td>3092445</td>\n",
       "      <td>21/08/2020</td>\n",
       "      <td>BBRD</td>\n",
       "      <td>50</td>\n",
       "      <td>2WS</td>\n",
       "      <td>Order</td>\n",
       "      <td>NaN</td>\n",
       "    </tr>\n",
       "    <tr>\n",
       "      <th>4</th>\n",
       "      <td>2373263</td>\n",
       "      <td>21/08/2020</td>\n",
       "      <td>BBRD</td>\n",
       "      <td>120</td>\n",
       "      <td>1JS</td>\n",
       "      <td>Order</td>\n",
       "      <td>NaN</td>\n",
       "    </tr>\n",
       "  </tbody>\n",
       "</table>\n",
       "</div>"
      ],
      "text/plain": [
       "   Order ID Activity Date Bakery Item  Quantity Dee's Location Activity Type  \\\n",
       "0    344545    21/08/2020         CCC       170            1JS         Order   \n",
       "1   4384815    20/08/2020         CCC        80            2WS         Order   \n",
       "2     24084    23/08/2020        AAPL       250            2WS      Shipment   \n",
       "3   3092445    21/08/2020        BBRD        50            2WS         Order   \n",
       "4   2373263    21/08/2020        BBRD       120            1JS         Order   \n",
       "\n",
       "   Inventory Date  \n",
       "0             NaN  \n",
       "1             NaN  \n",
       "2             NaN  \n",
       "3             NaN  \n",
       "4             NaN  "
      ]
     },
     "execution_count": 3,
     "metadata": {},
     "output_type": "execute_result"
    }
   ],
   "source": [
    "df.head() #Display the first five rows of the data"
   ]
  },
  {
   "cell_type": "code",
   "execution_count": 4,
   "id": "af04d1f2",
   "metadata": {},
   "outputs": [
    {
     "data": {
      "text/plain": [
       "21/08/2020    67\n",
       "22/08/2020    66\n",
       "20/08/2020    60\n",
       "23/08/2020     9\n",
       "Name: Activity Date, dtype: int64"
      ]
     },
     "execution_count": 4,
     "metadata": {},
     "output_type": "execute_result"
    }
   ],
   "source": [
    "df[\"Activity Date\"].value_counts() #Display the unique activity dates and the count of each date"
   ]
  },
  {
   "cell_type": "markdown",
   "id": "e8edce17",
   "metadata": {},
   "source": [
    "The whole dataset is for a 4 day period"
   ]
  },
  {
   "cell_type": "markdown",
   "id": "638385c5",
   "metadata": {},
   "source": [
    "### InventoryDate function\n",
    "This function takes in the Activity date, and returns the inventory date, the bakery has three outlets:\n",
    " - 1JS: located on Jane Street, NY: Shipping to this location takes 1 day\n",
    " - 2WS: located on Wall Street,NY: Shipping also takes 1 day\n",
    " - 3PUFF: located in Poughkeepsie: Shipping takes two days\n",
    " \n",
    "When an order is placed, it takes two days before the products are ready for pickup"
   ]
  },
  {
   "cell_type": "code",
   "execution_count": 5,
   "id": "fff72ad8",
   "metadata": {},
   "outputs": [],
   "source": [
    "def InventoryDate(data):\n",
    "    Invent_Date = []#Inventory Date\n",
    "    for index, record in data.iterrows():\n",
    "        if record[\"Activity Type\"] == \"Order\":\n",
    "            date = datetime.strptime(record[\"Activity Date\"], \"%d/%m/%Y\")\n",
    "            record[\"Inventory Date\"] = date + timedelta(days=2)#An order takes two days to be completed\n",
    "        elif record[\"Activity Type\"] == \"Shipment\":\n",
    "            if record[\"Dee's Location\"] == \"1JS\" or record[\"Dee's Location\"] == \"2WS\":\n",
    "                date = datetime.strptime(record[\"Activity Date\"], \"%d/%m/%Y\")\n",
    "                record[\"Inventory Date\"] = date + timedelta(days=1) #Add 1 day to when the product leaves the mega bakery\n",
    "            elif record[\"Dee's Location\"] == \"3PUFF\":\n",
    "                date = datetime.strptime(record[\"Activity Date\"], \"%d/%m/%Y\")\n",
    "                record[\"Inventory Date\"] = date + timedelta(days=2) #Add 2 days\n",
    "        else:\n",
    "            continue\n",
    "\n",
    "        Invent_Date.append(record[\"Inventory Date\"]) #Append the inventory date to the empty list\n",
    "    return Invent_Date\n",
    "    "
   ]
  },
  {
   "cell_type": "code",
   "execution_count": 6,
   "id": "bfa3cab8",
   "metadata": {},
   "outputs": [],
   "source": [
    "df[\"Inventory Date\"] = InventoryDate(df) #Cast the inventory dates into the original dataframe"
   ]
  },
  {
   "cell_type": "code",
   "execution_count": 7,
   "id": "cc1b4bb5",
   "metadata": {},
   "outputs": [
    {
     "data": {
      "text/html": [
       "<div>\n",
       "<style scoped>\n",
       "    .dataframe tbody tr th:only-of-type {\n",
       "        vertical-align: middle;\n",
       "    }\n",
       "\n",
       "    .dataframe tbody tr th {\n",
       "        vertical-align: top;\n",
       "    }\n",
       "\n",
       "    .dataframe thead th {\n",
       "        text-align: right;\n",
       "    }\n",
       "</style>\n",
       "<table border=\"1\" class=\"dataframe\">\n",
       "  <thead>\n",
       "    <tr style=\"text-align: right;\">\n",
       "      <th></th>\n",
       "      <th>Order ID</th>\n",
       "      <th>Activity Date</th>\n",
       "      <th>Bakery Item</th>\n",
       "      <th>Quantity</th>\n",
       "      <th>Dee's Location</th>\n",
       "      <th>Activity Type</th>\n",
       "      <th>Inventory Date</th>\n",
       "    </tr>\n",
       "  </thead>\n",
       "  <tbody>\n",
       "    <tr>\n",
       "      <th>0</th>\n",
       "      <td>344545</td>\n",
       "      <td>21/08/2020</td>\n",
       "      <td>CCC</td>\n",
       "      <td>170</td>\n",
       "      <td>1JS</td>\n",
       "      <td>Order</td>\n",
       "      <td>2020-08-23</td>\n",
       "    </tr>\n",
       "    <tr>\n",
       "      <th>1</th>\n",
       "      <td>4384815</td>\n",
       "      <td>20/08/2020</td>\n",
       "      <td>CCC</td>\n",
       "      <td>80</td>\n",
       "      <td>2WS</td>\n",
       "      <td>Order</td>\n",
       "      <td>2020-08-22</td>\n",
       "    </tr>\n",
       "    <tr>\n",
       "      <th>2</th>\n",
       "      <td>24084</td>\n",
       "      <td>23/08/2020</td>\n",
       "      <td>AAPL</td>\n",
       "      <td>250</td>\n",
       "      <td>2WS</td>\n",
       "      <td>Shipment</td>\n",
       "      <td>2020-08-24</td>\n",
       "    </tr>\n",
       "    <tr>\n",
       "      <th>3</th>\n",
       "      <td>3092445</td>\n",
       "      <td>21/08/2020</td>\n",
       "      <td>BBRD</td>\n",
       "      <td>50</td>\n",
       "      <td>2WS</td>\n",
       "      <td>Order</td>\n",
       "      <td>2020-08-23</td>\n",
       "    </tr>\n",
       "    <tr>\n",
       "      <th>4</th>\n",
       "      <td>2373263</td>\n",
       "      <td>21/08/2020</td>\n",
       "      <td>BBRD</td>\n",
       "      <td>120</td>\n",
       "      <td>1JS</td>\n",
       "      <td>Order</td>\n",
       "      <td>2020-08-23</td>\n",
       "    </tr>\n",
       "  </tbody>\n",
       "</table>\n",
       "</div>"
      ],
      "text/plain": [
       "   Order ID Activity Date Bakery Item  Quantity Dee's Location Activity Type  \\\n",
       "0    344545    21/08/2020         CCC       170            1JS         Order   \n",
       "1   4384815    20/08/2020         CCC        80            2WS         Order   \n",
       "2     24084    23/08/2020        AAPL       250            2WS      Shipment   \n",
       "3   3092445    21/08/2020        BBRD        50            2WS         Order   \n",
       "4   2373263    21/08/2020        BBRD       120            1JS         Order   \n",
       "\n",
       "  Inventory Date  \n",
       "0     2020-08-23  \n",
       "1     2020-08-22  \n",
       "2     2020-08-24  \n",
       "3     2020-08-23  \n",
       "4     2020-08-23  "
      ]
     },
     "execution_count": 7,
     "metadata": {},
     "output_type": "execute_result"
    }
   ],
   "source": [
    "df.head() #Display the first five columns"
   ]
  },
  {
   "cell_type": "code",
   "execution_count": 8,
   "id": "571e78f6",
   "metadata": {},
   "outputs": [],
   "source": [
    "shipment_df = df.loc[df[\"Activity Type\"] == \"Shipment\"] #Locate the shipment activities\n",
    "order_df = df.loc[df[\"Activity Type\"] == \"Order\"]#Locate the order activities"
   ]
  },
  {
   "cell_type": "markdown",
   "id": "f63b3517",
   "metadata": {},
   "source": [
    "## Shipment"
   ]
  },
  {
   "cell_type": "code",
   "execution_count": 9,
   "id": "0a6f4f1b",
   "metadata": {},
   "outputs": [
    {
     "data": {
      "text/html": [
       "<div>\n",
       "<style scoped>\n",
       "    .dataframe tbody tr th:only-of-type {\n",
       "        vertical-align: middle;\n",
       "    }\n",
       "\n",
       "    .dataframe tbody tr th {\n",
       "        vertical-align: top;\n",
       "    }\n",
       "\n",
       "    .dataframe thead th {\n",
       "        text-align: right;\n",
       "    }\n",
       "</style>\n",
       "<table border=\"1\" class=\"dataframe\">\n",
       "  <thead>\n",
       "    <tr style=\"text-align: right;\">\n",
       "      <th></th>\n",
       "      <th>Quantity</th>\n",
       "    </tr>\n",
       "    <tr>\n",
       "      <th>Bakery Item</th>\n",
       "      <th></th>\n",
       "    </tr>\n",
       "  </thead>\n",
       "  <tbody>\n",
       "    <tr>\n",
       "      <th>AAPL</th>\n",
       "      <td>2100</td>\n",
       "    </tr>\n",
       "    <tr>\n",
       "      <th>BBRD</th>\n",
       "      <td>6000</td>\n",
       "    </tr>\n",
       "    <tr>\n",
       "      <th>CCC</th>\n",
       "      <td>4800</td>\n",
       "    </tr>\n",
       "  </tbody>\n",
       "</table>\n",
       "</div>"
      ],
      "text/plain": [
       "             Quantity\n",
       "Bakery Item          \n",
       "AAPL             2100\n",
       "BBRD             6000\n",
       "CCC              4800"
      ]
     },
     "execution_count": 9,
     "metadata": {},
     "output_type": "execute_result"
    }
   ],
   "source": [
    "shipment_df.groupby([\"Bakery Item\"])[[\"Quantity\"]].sum() #Group the shipments by products and display the quantity"
   ]
  },
  {
   "cell_type": "markdown",
   "id": "09b0b401",
   "metadata": {},
   "source": [
    "From the above, it is seen that in the four day period, 2100 Applepies, 6000 banana bread and 4800 Chocolate chip cookies were shipped in the four day period"
   ]
  },
  {
   "cell_type": "markdown",
   "id": "12428f47",
   "metadata": {},
   "source": [
    "## Order "
   ]
  },
  {
   "cell_type": "code",
   "execution_count": 10,
   "id": "262481be",
   "metadata": {},
   "outputs": [
    {
     "data": {
      "text/html": [
       "<div>\n",
       "<style scoped>\n",
       "    .dataframe tbody tr th:only-of-type {\n",
       "        vertical-align: middle;\n",
       "    }\n",
       "\n",
       "    .dataframe tbody tr th {\n",
       "        vertical-align: top;\n",
       "    }\n",
       "\n",
       "    .dataframe thead th {\n",
       "        text-align: right;\n",
       "    }\n",
       "</style>\n",
       "<table border=\"1\" class=\"dataframe\">\n",
       "  <thead>\n",
       "    <tr style=\"text-align: right;\">\n",
       "      <th></th>\n",
       "      <th>Quantity</th>\n",
       "    </tr>\n",
       "    <tr>\n",
       "      <th>Bakery Item</th>\n",
       "      <th></th>\n",
       "    </tr>\n",
       "  </thead>\n",
       "  <tbody>\n",
       "    <tr>\n",
       "      <th>AAPL</th>\n",
       "      <td>3960</td>\n",
       "    </tr>\n",
       "    <tr>\n",
       "      <th>BBRD</th>\n",
       "      <td>6420</td>\n",
       "    </tr>\n",
       "    <tr>\n",
       "      <th>CCC</th>\n",
       "      <td>5710</td>\n",
       "    </tr>\n",
       "  </tbody>\n",
       "</table>\n",
       "</div>"
      ],
      "text/plain": [
       "             Quantity\n",
       "Bakery Item          \n",
       "AAPL             3960\n",
       "BBRD             6420\n",
       "CCC              5710"
      ]
     },
     "execution_count": 10,
     "metadata": {},
     "output_type": "execute_result"
    }
   ],
   "source": [
    "order_df.groupby(\"Bakery Item\").sum()[[\"Quantity\"]] #Group the orders by products and display the quantity"
   ]
  },
  {
   "cell_type": "markdown",
   "id": "3bfcada3",
   "metadata": {},
   "source": [
    "3960 apple pies were ordered, 6420 banana bread and 5710 chocolate chip cookies "
   ]
  },
  {
   "cell_type": "markdown",
   "id": "5df708ad",
   "metadata": {},
   "source": [
    "## Shipping to different locations\n",
    "### Finding the quantity of each product shipped to the different locations on the 22nd, 23rd and 24th"
   ]
  },
  {
   "cell_type": "markdown",
   "id": "44ce2999",
   "metadata": {},
   "source": [
    "#### The inventory dates"
   ]
  },
  {
   "cell_type": "code",
   "execution_count": 11,
   "id": "13be3121",
   "metadata": {},
   "outputs": [
    {
     "data": {
      "text/plain": [
       "2020-08-24    9\n",
       "2020-08-23    9\n",
       "2020-08-22    6\n",
       "2020-08-25    3\n",
       "Name: Inventory Date, dtype: int64"
      ]
     },
     "execution_count": 11,
     "metadata": {},
     "output_type": "execute_result"
    }
   ],
   "source": [
    "shipment_df[\"Inventory Date\"].value_counts()"
   ]
  },
  {
   "cell_type": "code",
   "execution_count": 12,
   "id": "f0124e65",
   "metadata": {},
   "outputs": [],
   "source": [
    "#Grouping the different shipments by the inventory dates\n",
    "d = shipment_df.groupby(\"Inventory Date\")"
   ]
  },
  {
   "cell_type": "markdown",
   "id": "2f798941",
   "metadata": {},
   "source": [
    "### First Date - 22/08/2020"
   ]
  },
  {
   "cell_type": "code",
   "execution_count": 13,
   "id": "b929534e",
   "metadata": {},
   "outputs": [
    {
     "data": {
      "text/html": [
       "<div>\n",
       "<style scoped>\n",
       "    .dataframe tbody tr th:only-of-type {\n",
       "        vertical-align: middle;\n",
       "    }\n",
       "\n",
       "    .dataframe tbody tr th {\n",
       "        vertical-align: top;\n",
       "    }\n",
       "\n",
       "    .dataframe thead th {\n",
       "        text-align: right;\n",
       "    }\n",
       "</style>\n",
       "<table border=\"1\" class=\"dataframe\">\n",
       "  <thead>\n",
       "    <tr style=\"text-align: right;\">\n",
       "      <th></th>\n",
       "      <th>Order ID</th>\n",
       "      <th>Activity Date</th>\n",
       "      <th>Bakery Item</th>\n",
       "      <th>Quantity</th>\n",
       "      <th>Dee's Location</th>\n",
       "      <th>Activity Type</th>\n",
       "      <th>Inventory Date</th>\n",
       "    </tr>\n",
       "  </thead>\n",
       "  <tbody>\n",
       "    <tr>\n",
       "      <th>8</th>\n",
       "      <td>4755979</td>\n",
       "      <td>21/08/2020</td>\n",
       "      <td>AAPL</td>\n",
       "      <td>150</td>\n",
       "      <td>2WS</td>\n",
       "      <td>Shipment</td>\n",
       "      <td>2020-08-22</td>\n",
       "    </tr>\n",
       "    <tr>\n",
       "      <th>22</th>\n",
       "      <td>2793436</td>\n",
       "      <td>21/08/2020</td>\n",
       "      <td>BBRD</td>\n",
       "      <td>900</td>\n",
       "      <td>1JS</td>\n",
       "      <td>Shipment</td>\n",
       "      <td>2020-08-22</td>\n",
       "    </tr>\n",
       "    <tr>\n",
       "      <th>29</th>\n",
       "      <td>3836973</td>\n",
       "      <td>21/08/2020</td>\n",
       "      <td>BBRD</td>\n",
       "      <td>700</td>\n",
       "      <td>2WS</td>\n",
       "      <td>Shipment</td>\n",
       "      <td>2020-08-22</td>\n",
       "    </tr>\n",
       "    <tr>\n",
       "      <th>90</th>\n",
       "      <td>2899092</td>\n",
       "      <td>21/08/2020</td>\n",
       "      <td>CCC</td>\n",
       "      <td>450</td>\n",
       "      <td>2WS</td>\n",
       "      <td>Shipment</td>\n",
       "      <td>2020-08-22</td>\n",
       "    </tr>\n",
       "    <tr>\n",
       "      <th>102</th>\n",
       "      <td>4546348</td>\n",
       "      <td>21/08/2020</td>\n",
       "      <td>CCC</td>\n",
       "      <td>450</td>\n",
       "      <td>1JS</td>\n",
       "      <td>Shipment</td>\n",
       "      <td>2020-08-22</td>\n",
       "    </tr>\n",
       "    <tr>\n",
       "      <th>197</th>\n",
       "      <td>131584</td>\n",
       "      <td>21/08/2020</td>\n",
       "      <td>AAPL</td>\n",
       "      <td>350</td>\n",
       "      <td>1JS</td>\n",
       "      <td>Shipment</td>\n",
       "      <td>2020-08-22</td>\n",
       "    </tr>\n",
       "  </tbody>\n",
       "</table>\n",
       "</div>"
      ],
      "text/plain": [
       "     Order ID Activity Date Bakery Item  Quantity Dee's Location  \\\n",
       "8     4755979    21/08/2020        AAPL       150            2WS   \n",
       "22    2793436    21/08/2020        BBRD       900            1JS   \n",
       "29    3836973    21/08/2020        BBRD       700            2WS   \n",
       "90    2899092    21/08/2020         CCC       450            2WS   \n",
       "102   4546348    21/08/2020         CCC       450            1JS   \n",
       "197    131584    21/08/2020        AAPL       350            1JS   \n",
       "\n",
       "    Activity Type Inventory Date  \n",
       "8        Shipment     2020-08-22  \n",
       "22       Shipment     2020-08-22  \n",
       "29       Shipment     2020-08-22  \n",
       "90       Shipment     2020-08-22  \n",
       "102      Shipment     2020-08-22  \n",
       "197      Shipment     2020-08-22  "
      ]
     },
     "execution_count": 13,
     "metadata": {},
     "output_type": "execute_result"
    }
   ],
   "source": [
    "#Getting the information on the first inventory date which is the 22nd of august, 2020\n",
    "\n",
    "first_date = d.get_group(\"2020-08-22\")\n",
    "first_date"
   ]
  },
  {
   "cell_type": "markdown",
   "id": "5b6f9eb7",
   "metadata": {},
   "source": [
    "Analyzing information on the quantity of products shipped to the different locations on the first inventory date\n",
    " - js_first_ship being the dataframe which shows the quantity of each bakery items shipped to 1JS outlet on the first inventory date\n",
    " - ws_first_ship being the dataframe which shows the quantity of each bakery items shipped to 2WS outlet on the first inventory date"
   ]
  },
  {
   "cell_type": "code",
   "execution_count": 14,
   "id": "ec2884cf",
   "metadata": {},
   "outputs": [],
   "source": [
    "location_first = first_date.groupby(\"Dee's Location\")#Grouping by the different outlet locations for the first inv date\n",
    "js_first_ship = location_first.get_group(\"1JS\")[[\"Bakery Item\",\"Quantity\"]]\n",
    "js_first_ship = js_first_ship.groupby(\"Bakery Item\").sum()[\"Quantity\"]#Group by Item and display quantity\n",
    "\n",
    "ws_first_ship = location_first.get_group(\"2WS\")[[\"Bakery Item\",\"Quantity\"]]\n",
    "ws_first_ship = ws_first_ship.groupby(\"Bakery Item\").sum()[\"Quantity\"]#Group by Item and display quantity"
   ]
  },
  {
   "cell_type": "code",
   "execution_count": 15,
   "id": "1e9639e3",
   "metadata": {},
   "outputs": [
    {
     "name": "stdout",
     "output_type": "stream",
     "text": [
      "Shipment from 1JS on the second date: \n",
      "Bakery Item\n",
      "AAPL    350\n",
      "BBRD    900\n",
      "CCC     450\n",
      "Name: Quantity, dtype: int64\n",
      "Shipment from 2WS on the second date: \n",
      "Bakery Item\n",
      "AAPL    150\n",
      "BBRD    700\n",
      "CCC     450\n",
      "Name: Quantity, dtype: int64\n"
     ]
    }
   ],
   "source": [
    "print(f\"Shipment from 1JS on the second date: \\n{js_first_ship}\")\n",
    "print(f\"Shipment from 2WS on the second date: \\n{ws_first_ship}\")"
   ]
  },
  {
   "cell_type": "code",
   "execution_count": 16,
   "id": "7b6c6810",
   "metadata": {},
   "outputs": [
    {
     "name": "stdout",
     "output_type": "stream",
     "text": [
      "'3PUFF'\n",
      "There were no shipments to this location on this date\n"
     ]
    }
   ],
   "source": [
    "try:\n",
    "    pf_first_ship = location_first.get_group(\"3PUFF\")[[\"Bakery Item\",\"Quantity\"]]\n",
    "    pf_first_ship = pf_first_ship.groupby(\"Bakery Item\").sum()[\"Quantity\"]#Group by Item and display quantity\n",
    "    print(pf_first_ship)\n",
    "except Exception as e:\n",
    "    print(e)\n",
    "    print(\"There were no shipments to this location on this date\")"
   ]
  },
  {
   "cell_type": "markdown",
   "id": "0f901f09",
   "metadata": {},
   "source": [
    "The error above shows no shipment landed in poughkeepsie on the 22nd of August, 2020"
   ]
  },
  {
   "cell_type": "markdown",
   "id": "1f0ac73b",
   "metadata": {},
   "source": [
    "### Second date - 23/08/2020"
   ]
  },
  {
   "cell_type": "code",
   "execution_count": 17,
   "id": "c624ec46",
   "metadata": {
    "scrolled": true
   },
   "outputs": [
    {
     "data": {
      "text/html": [
       "<div>\n",
       "<style scoped>\n",
       "    .dataframe tbody tr th:only-of-type {\n",
       "        vertical-align: middle;\n",
       "    }\n",
       "\n",
       "    .dataframe tbody tr th {\n",
       "        vertical-align: top;\n",
       "    }\n",
       "\n",
       "    .dataframe thead th {\n",
       "        text-align: right;\n",
       "    }\n",
       "</style>\n",
       "<table border=\"1\" class=\"dataframe\">\n",
       "  <thead>\n",
       "    <tr style=\"text-align: right;\">\n",
       "      <th></th>\n",
       "      <th>Order ID</th>\n",
       "      <th>Activity Date</th>\n",
       "      <th>Bakery Item</th>\n",
       "      <th>Quantity</th>\n",
       "      <th>Dee's Location</th>\n",
       "      <th>Activity Type</th>\n",
       "      <th>Inventory Date</th>\n",
       "    </tr>\n",
       "  </thead>\n",
       "  <tbody>\n",
       "    <tr>\n",
       "      <th>19</th>\n",
       "      <td>199073</td>\n",
       "      <td>21/08/2020</td>\n",
       "      <td>AAPL</td>\n",
       "      <td>200</td>\n",
       "      <td>3PUFF</td>\n",
       "      <td>Shipment</td>\n",
       "      <td>2020-08-23</td>\n",
       "    </tr>\n",
       "    <tr>\n",
       "      <th>82</th>\n",
       "      <td>905782</td>\n",
       "      <td>22/08/2020</td>\n",
       "      <td>AAPL</td>\n",
       "      <td>350</td>\n",
       "      <td>2WS</td>\n",
       "      <td>Shipment</td>\n",
       "      <td>2020-08-23</td>\n",
       "    </tr>\n",
       "    <tr>\n",
       "      <th>97</th>\n",
       "      <td>4618025</td>\n",
       "      <td>22/08/2020</td>\n",
       "      <td>CCC</td>\n",
       "      <td>450</td>\n",
       "      <td>1JS</td>\n",
       "      <td>Shipment</td>\n",
       "      <td>2020-08-23</td>\n",
       "    </tr>\n",
       "    <tr>\n",
       "      <th>118</th>\n",
       "      <td>1452264</td>\n",
       "      <td>22/08/2020</td>\n",
       "      <td>CCC</td>\n",
       "      <td>350</td>\n",
       "      <td>2WS</td>\n",
       "      <td>Shipment</td>\n",
       "      <td>2020-08-23</td>\n",
       "    </tr>\n",
       "    <tr>\n",
       "      <th>127</th>\n",
       "      <td>2724679</td>\n",
       "      <td>21/08/2020</td>\n",
       "      <td>BBRD</td>\n",
       "      <td>400</td>\n",
       "      <td>3PUFF</td>\n",
       "      <td>Shipment</td>\n",
       "      <td>2020-08-23</td>\n",
       "    </tr>\n",
       "    <tr>\n",
       "      <th>136</th>\n",
       "      <td>368117</td>\n",
       "      <td>22/08/2020</td>\n",
       "      <td>BBRD</td>\n",
       "      <td>600</td>\n",
       "      <td>2WS</td>\n",
       "      <td>Shipment</td>\n",
       "      <td>2020-08-23</td>\n",
       "    </tr>\n",
       "    <tr>\n",
       "      <th>164</th>\n",
       "      <td>2074756</td>\n",
       "      <td>22/08/2020</td>\n",
       "      <td>BBRD</td>\n",
       "      <td>1000</td>\n",
       "      <td>1JS</td>\n",
       "      <td>Shipment</td>\n",
       "      <td>2020-08-23</td>\n",
       "    </tr>\n",
       "    <tr>\n",
       "      <th>177</th>\n",
       "      <td>4928620</td>\n",
       "      <td>22/08/2020</td>\n",
       "      <td>AAPL</td>\n",
       "      <td>150</td>\n",
       "      <td>1JS</td>\n",
       "      <td>Shipment</td>\n",
       "      <td>2020-08-23</td>\n",
       "    </tr>\n",
       "    <tr>\n",
       "      <th>183</th>\n",
       "      <td>163422</td>\n",
       "      <td>21/08/2020</td>\n",
       "      <td>CCC</td>\n",
       "      <td>700</td>\n",
       "      <td>3PUFF</td>\n",
       "      <td>Shipment</td>\n",
       "      <td>2020-08-23</td>\n",
       "    </tr>\n",
       "  </tbody>\n",
       "</table>\n",
       "</div>"
      ],
      "text/plain": [
       "     Order ID Activity Date Bakery Item  Quantity Dee's Location  \\\n",
       "19     199073    21/08/2020        AAPL       200          3PUFF   \n",
       "82     905782    22/08/2020        AAPL       350            2WS   \n",
       "97    4618025    22/08/2020         CCC       450            1JS   \n",
       "118   1452264    22/08/2020         CCC       350            2WS   \n",
       "127   2724679    21/08/2020        BBRD       400          3PUFF   \n",
       "136    368117    22/08/2020        BBRD       600            2WS   \n",
       "164   2074756    22/08/2020        BBRD      1000            1JS   \n",
       "177   4928620    22/08/2020        AAPL       150            1JS   \n",
       "183    163422    21/08/2020         CCC       700          3PUFF   \n",
       "\n",
       "    Activity Type Inventory Date  \n",
       "19       Shipment     2020-08-23  \n",
       "82       Shipment     2020-08-23  \n",
       "97       Shipment     2020-08-23  \n",
       "118      Shipment     2020-08-23  \n",
       "127      Shipment     2020-08-23  \n",
       "136      Shipment     2020-08-23  \n",
       "164      Shipment     2020-08-23  \n",
       "177      Shipment     2020-08-23  \n",
       "183      Shipment     2020-08-23  "
      ]
     },
     "execution_count": 17,
     "metadata": {},
     "output_type": "execute_result"
    }
   ],
   "source": [
    "second_date = d.get_group(\"2020-08-23\")#get information on the 23rd\n",
    "second_date"
   ]
  },
  {
   "cell_type": "markdown",
   "id": "4e84868f",
   "metadata": {},
   "source": [
    " Second date - 23rd of august 2020\n",
    " - js_sec_ship being the dataframe which shows the quantity of each bakery items shipped to 1JS outlet on the second inventory date\n",
    " - ws_sec_ship being the dataframe which shows the quantity of each bakery items shipped to 2WS outlet on the second inventory date\n",
    " - pf_sec_ship being the dataframe which shows the quantity of each bakery items shipped to 2WS outlet on the second inventory date"
   ]
  },
  {
   "cell_type": "code",
   "execution_count": 18,
   "id": "0381cee5",
   "metadata": {},
   "outputs": [],
   "source": [
    "location_sec = second_date.groupby(\"Dee's Location\")\n",
    "js_sec_ship = location_sec.get_group(\"1JS\")[[\"Bakery Item\",\"Quantity\"]]#Get Item and quantity info to 1JS\n",
    "js_sec_ship = js_sec_ship.groupby(\"Bakery Item\").sum()[\"Quantity\"]#Group by Item and display quantity\n",
    "\n",
    "ws_sec_ship = location_sec.get_group(\"2WS\")[[\"Bakery Item\",\"Quantity\"]]\n",
    "ws_sec_ship = ws_sec_ship.groupby(\"Bakery Item\").sum()[\"Quantity\"]#Group by Item and display quantity\n",
    "\n",
    "pf_sec_ship = location_sec.get_group(\"3PUFF\")[[\"Bakery Item\",\"Quantity\"]]\n",
    "pf_sec_ship = pf_sec_ship.groupby(\"Bakery Item\").sum()[\"Quantity\"]#Group by Item and display quantity"
   ]
  },
  {
   "cell_type": "code",
   "execution_count": 19,
   "id": "3115f1be",
   "metadata": {},
   "outputs": [
    {
     "name": "stdout",
     "output_type": "stream",
     "text": [
      "Shipment from 1JS on the second date: \n",
      "Bakery Item\n",
      "AAPL     150\n",
      "BBRD    1000\n",
      "CCC      450\n",
      "Name: Quantity, dtype: int64\n",
      "Shipment from 2WS on the second date: \n",
      "Bakery Item\n",
      "AAPL    350\n",
      "BBRD    600\n",
      "CCC     350\n",
      "Name: Quantity, dtype: int64\n",
      "Shipment from 3PUFF on the second date: \n",
      "Bakery Item\n",
      "AAPL    200\n",
      "BBRD    400\n",
      "CCC     700\n",
      "Name: Quantity, dtype: int64\n"
     ]
    }
   ],
   "source": [
    "print(f\"Shipment from 1JS on the second date: \\n{js_sec_ship}\")\n",
    "print(f\"Shipment from 2WS on the second date: \\n{ws_sec_ship}\")\n",
    "print(f\"Shipment from 3PUFF on the second date: \\n{pf_sec_ship}\")"
   ]
  },
  {
   "cell_type": "markdown",
   "id": "c11c2a17",
   "metadata": {},
   "source": [
    "### Third date - 24th August 2020"
   ]
  },
  {
   "cell_type": "code",
   "execution_count": 20,
   "id": "c5477a7a",
   "metadata": {},
   "outputs": [
    {
     "data": {
      "text/html": [
       "<div>\n",
       "<style scoped>\n",
       "    .dataframe tbody tr th:only-of-type {\n",
       "        vertical-align: middle;\n",
       "    }\n",
       "\n",
       "    .dataframe tbody tr th {\n",
       "        vertical-align: top;\n",
       "    }\n",
       "\n",
       "    .dataframe thead th {\n",
       "        text-align: right;\n",
       "    }\n",
       "</style>\n",
       "<table border=\"1\" class=\"dataframe\">\n",
       "  <thead>\n",
       "    <tr style=\"text-align: right;\">\n",
       "      <th></th>\n",
       "      <th>Order ID</th>\n",
       "      <th>Activity Date</th>\n",
       "      <th>Bakery Item</th>\n",
       "      <th>Quantity</th>\n",
       "      <th>Dee's Location</th>\n",
       "      <th>Activity Type</th>\n",
       "      <th>Inventory Date</th>\n",
       "    </tr>\n",
       "  </thead>\n",
       "  <tbody>\n",
       "    <tr>\n",
       "      <th>2</th>\n",
       "      <td>24084</td>\n",
       "      <td>23/08/2020</td>\n",
       "      <td>AAPL</td>\n",
       "      <td>250</td>\n",
       "      <td>2WS</td>\n",
       "      <td>Shipment</td>\n",
       "      <td>2020-08-24</td>\n",
       "    </tr>\n",
       "    <tr>\n",
       "      <th>21</th>\n",
       "      <td>612627</td>\n",
       "      <td>23/08/2020</td>\n",
       "      <td>AAPL</td>\n",
       "      <td>300</td>\n",
       "      <td>1JS</td>\n",
       "      <td>Shipment</td>\n",
       "      <td>2020-08-24</td>\n",
       "    </tr>\n",
       "    <tr>\n",
       "      <th>38</th>\n",
       "      <td>4626866</td>\n",
       "      <td>22/08/2020</td>\n",
       "      <td>CCC</td>\n",
       "      <td>800</td>\n",
       "      <td>3PUFF</td>\n",
       "      <td>Shipment</td>\n",
       "      <td>2020-08-24</td>\n",
       "    </tr>\n",
       "    <tr>\n",
       "      <th>41</th>\n",
       "      <td>1088540</td>\n",
       "      <td>23/08/2020</td>\n",
       "      <td>BBRD</td>\n",
       "      <td>800</td>\n",
       "      <td>1JS</td>\n",
       "      <td>Shipment</td>\n",
       "      <td>2020-08-24</td>\n",
       "    </tr>\n",
       "    <tr>\n",
       "      <th>52</th>\n",
       "      <td>1473291</td>\n",
       "      <td>23/08/2020</td>\n",
       "      <td>CCC</td>\n",
       "      <td>450</td>\n",
       "      <td>1JS</td>\n",
       "      <td>Shipment</td>\n",
       "      <td>2020-08-24</td>\n",
       "    </tr>\n",
       "    <tr>\n",
       "      <th>69</th>\n",
       "      <td>1901900</td>\n",
       "      <td>23/08/2020</td>\n",
       "      <td>CCC</td>\n",
       "      <td>550</td>\n",
       "      <td>2WS</td>\n",
       "      <td>Shipment</td>\n",
       "      <td>2020-08-24</td>\n",
       "    </tr>\n",
       "    <tr>\n",
       "      <th>91</th>\n",
       "      <td>2683759</td>\n",
       "      <td>22/08/2020</td>\n",
       "      <td>BBRD</td>\n",
       "      <td>400</td>\n",
       "      <td>3PUFF</td>\n",
       "      <td>Shipment</td>\n",
       "      <td>2020-08-24</td>\n",
       "    </tr>\n",
       "    <tr>\n",
       "      <th>120</th>\n",
       "      <td>3059395</td>\n",
       "      <td>23/08/2020</td>\n",
       "      <td>BBRD</td>\n",
       "      <td>800</td>\n",
       "      <td>2WS</td>\n",
       "      <td>Shipment</td>\n",
       "      <td>2020-08-24</td>\n",
       "    </tr>\n",
       "    <tr>\n",
       "      <th>160</th>\n",
       "      <td>580731</td>\n",
       "      <td>22/08/2020</td>\n",
       "      <td>AAPL</td>\n",
       "      <td>200</td>\n",
       "      <td>3PUFF</td>\n",
       "      <td>Shipment</td>\n",
       "      <td>2020-08-24</td>\n",
       "    </tr>\n",
       "  </tbody>\n",
       "</table>\n",
       "</div>"
      ],
      "text/plain": [
       "     Order ID Activity Date Bakery Item  Quantity Dee's Location  \\\n",
       "2       24084    23/08/2020        AAPL       250            2WS   \n",
       "21     612627    23/08/2020        AAPL       300            1JS   \n",
       "38    4626866    22/08/2020         CCC       800          3PUFF   \n",
       "41    1088540    23/08/2020        BBRD       800            1JS   \n",
       "52    1473291    23/08/2020         CCC       450            1JS   \n",
       "69    1901900    23/08/2020         CCC       550            2WS   \n",
       "91    2683759    22/08/2020        BBRD       400          3PUFF   \n",
       "120   3059395    23/08/2020        BBRD       800            2WS   \n",
       "160    580731    22/08/2020        AAPL       200          3PUFF   \n",
       "\n",
       "    Activity Type Inventory Date  \n",
       "2        Shipment     2020-08-24  \n",
       "21       Shipment     2020-08-24  \n",
       "38       Shipment     2020-08-24  \n",
       "41       Shipment     2020-08-24  \n",
       "52       Shipment     2020-08-24  \n",
       "69       Shipment     2020-08-24  \n",
       "91       Shipment     2020-08-24  \n",
       "120      Shipment     2020-08-24  \n",
       "160      Shipment     2020-08-24  "
      ]
     },
     "execution_count": 20,
     "metadata": {},
     "output_type": "execute_result"
    }
   ],
   "source": [
    "third_date = d.get_group(\"2020-08-24\")#Get more information on the 24th\n",
    "third_date"
   ]
  },
  {
   "cell_type": "code",
   "execution_count": 21,
   "id": "a084fa27",
   "metadata": {},
   "outputs": [],
   "source": [
    "location_third = third_date.groupby(\"Dee's Location\")\n",
    "js_third_ship = location_third.get_group(\"1JS\")[[\"Bakery Item\",\"Quantity\"]]#Get Item and quantity info to 1JS\n",
    "js_third_ship = js_third_ship.groupby(\"Bakery Item\").sum()[\"Quantity\"]#Group by Item and display quantity\n",
    "\n",
    "ws_third_ship = location_third.get_group(\"2WS\")[[\"Bakery Item\",\"Quantity\"]]#Get Item and quantity info to 2WS\n",
    "ws_third_ship = ws_third_ship.groupby(\"Bakery Item\").sum()[\"Quantity\"]#Group by Item and display quantity\n",
    "\n",
    "pf_third_ship = location_third.get_group(\"3PUFF\")[[\"Bakery Item\",\"Quantity\"]]#Get Item and quantity info to 3PUFF\n",
    "pf_third_ship = pf_third_ship.groupby(\"Bakery Item\").sum()[\"Quantity\"]#Group by Item and display quantity"
   ]
  },
  {
   "cell_type": "code",
   "execution_count": 22,
   "id": "e9a2f58a",
   "metadata": {},
   "outputs": [
    {
     "name": "stdout",
     "output_type": "stream",
     "text": [
      "Shipment from 1JS on the third date: \n",
      "Bakery Item\n",
      "AAPL    300\n",
      "BBRD    800\n",
      "CCC     450\n",
      "Name: Quantity, dtype: int64\n",
      "Shipment from 2WS on the third date: \n",
      "Bakery Item\n",
      "AAPL    250\n",
      "BBRD    800\n",
      "CCC     550\n",
      "Name: Quantity, dtype: int64\n",
      "Shipment from 3PUFF on the third date: \n",
      "Bakery Item\n",
      "AAPL    250\n",
      "BBRD    800\n",
      "CCC     550\n",
      "Name: Quantity, dtype: int64\n"
     ]
    }
   ],
   "source": [
    "print(f\"Shipment from 1JS on the third date: \\n{js_third_ship}\")\n",
    "print(f\"Shipment from 2WS on the third date: \\n{ws_third_ship}\")\n",
    "print(f\"Shipment from 3PUFF on the third date: \\n{ws_third_ship}\")"
   ]
  },
  {
   "cell_type": "markdown",
   "id": "971c91b2",
   "metadata": {},
   "source": [
    "## Ordersfrom different locations\n",
    "### Finding the quantity of each product ordered from the different locations on the 22nd, 23rd and 24th"
   ]
  },
  {
   "cell_type": "code",
   "execution_count": 23,
   "id": "bbab6474",
   "metadata": {},
   "outputs": [],
   "source": [
    "e = order_df.groupby(\"Inventory Date\") #Grouping the different orders by the inventory dates"
   ]
  },
  {
   "cell_type": "markdown",
   "id": "994c8b16",
   "metadata": {},
   "source": [
    "### First Inventory Date"
   ]
  },
  {
   "cell_type": "code",
   "execution_count": 24,
   "id": "8e119dce",
   "metadata": {},
   "outputs": [],
   "source": [
    "first_ord = e.get_group(\"2020-08-22\")"
   ]
  },
  {
   "cell_type": "code",
   "execution_count": 25,
   "id": "4fcb96c2",
   "metadata": {},
   "outputs": [],
   "source": [
    "location_first = first_ord.groupby(\"Dee's Location\")\n",
    "\n",
    "js_first_ord = location_first.get_group(\"1JS\")#Get Item and quantity info to 1JS\n",
    "js_first_ord = js_first_ord.groupby(\"Bakery Item\").sum()[\"Quantity\"]\n",
    "\n",
    "ws_first_ord = location_first.get_group(\"2WS\")#Get Item and quantity info to 2WS\n",
    "ws_first_ord = ws_first_ord.groupby(\"Bakery Item\").sum()[\"Quantity\"]\n",
    "\n",
    "pf_first_ord = location_first.get_group(\"3PUFF\")#Get Item and quantity info to 3PUFF\n",
    "pf_first_ord = pf_first_ord.groupby(\"Bakery Item\").sum()[\"Quantity\"]#Group by Item and display quantity"
   ]
  },
  {
   "cell_type": "code",
   "execution_count": 26,
   "id": "f7e511f7",
   "metadata": {},
   "outputs": [
    {
     "name": "stdout",
     "output_type": "stream",
     "text": [
      "Order from 1JS on the first date: \n",
      "Bakery Item\n",
      "AAPL    680\n",
      "BBRD    520\n",
      "CCC     440\n",
      "Name: Quantity, dtype: int64\n",
      "Order from 2WS on the first date: \n",
      "Bakery Item\n",
      "AAPL    320\n",
      "BBRD    530\n",
      "CCC     500\n",
      "Name: Quantity, dtype: int64\n",
      "Order from 3PUFF on the first date: \n",
      "Bakery Item\n",
      "AAPL    420\n",
      "BBRD    250\n",
      "CCC     290\n",
      "Name: Quantity, dtype: int64\n"
     ]
    }
   ],
   "source": [
    "print(f\"Order from 1JS on the first date: \\n{js_first_ord}\")\n",
    "print(f\"Order from 2WS on the first date: \\n{ws_first_ord}\")\n",
    "print(f\"Order from 3PUFF on the first date: \\n{pf_first_ord}\")"
   ]
  },
  {
   "cell_type": "markdown",
   "id": "c2df755e",
   "metadata": {},
   "source": [
    "### Second Inventory Date"
   ]
  },
  {
   "cell_type": "code",
   "execution_count": 27,
   "id": "453e9c47",
   "metadata": {},
   "outputs": [],
   "source": [
    "sec_ord = e.get_group(\"2020-08-23\")"
   ]
  },
  {
   "cell_type": "code",
   "execution_count": 28,
   "id": "4c677f16",
   "metadata": {},
   "outputs": [],
   "source": [
    "location_sec_ord = sec_ord.groupby(\"Dee's Location\")\n",
    "\n",
    "js_sec_ord = location_sec_ord.get_group(\"1JS\")#Get Item and quantity info to 1JS\n",
    "js_sec_ord = js_sec_ord.groupby(\"Bakery Item\").sum()[\"Quantity\"]\n",
    "\n",
    "ws_sec_ord = location_sec_ord.get_group(\"2WS\")#Get Item and quantity info to 2WS\n",
    "ws_sec_ord = ws_sec_ord.groupby(\"Bakery Item\").sum()[\"Quantity\"]\n",
    "\n",
    "pf_sec_ord = location_sec_ord.get_group(\"3PUFF\")#Get Item and quantity info to 3PUFF\n",
    "pf_sec_ord = pf_sec_ord.groupby(\"Bakery Item\").sum()[\"Quantity\"]#Group by Item and display quantity"
   ]
  },
  {
   "cell_type": "code",
   "execution_count": 29,
   "id": "d2725d95",
   "metadata": {},
   "outputs": [
    {
     "name": "stdout",
     "output_type": "stream",
     "text": [
      "Order from 1JS on the second date: \n",
      "Bakery Item\n",
      "AAPL     520\n",
      "BBRD    1190\n",
      "CCC     1710\n",
      "Name: Quantity, dtype: int64\n",
      "Order from 2WS on the second date: \n",
      "Bakery Item\n",
      "AAPL    330\n",
      "BBRD    660\n",
      "CCC     230\n",
      "Name: Quantity, dtype: int64\n",
      "Order from 3PUFF on the second date: \n",
      "Bakery Item\n",
      "AAPL    410\n",
      "BBRD    600\n",
      "CCC     420\n",
      "Name: Quantity, dtype: int64\n"
     ]
    }
   ],
   "source": [
    "print(f\"Order from 1JS on the second date: \\n{js_sec_ord}\")\n",
    "print(f\"Order from 2WS on the second date: \\n{ws_sec_ord}\")\n",
    "print(f\"Order from 3PUFF on the second date: \\n{pf_sec_ord}\")"
   ]
  },
  {
   "cell_type": "markdown",
   "id": "2115e9e0",
   "metadata": {},
   "source": [
    "### Third Inventory Date"
   ]
  },
  {
   "cell_type": "code",
   "execution_count": 30,
   "id": "52c40361",
   "metadata": {},
   "outputs": [],
   "source": [
    "third_ord = e.get_group(\"2020-08-24\")"
   ]
  },
  {
   "cell_type": "code",
   "execution_count": 31,
   "id": "7677727a",
   "metadata": {},
   "outputs": [],
   "source": [
    "location_third_ord = third_ord.groupby(\"Dee's Location\")\n",
    "\n",
    "js_third_ord = location_third_ord.get_group(\"1JS\")#Get Item and quantity info to 1JS\n",
    "js_third_ord = js_third_ord.groupby(\"Bakery Item\").sum()[\"Quantity\"]\n",
    "\n",
    "ws_third_ord = location_third_ord.get_group(\"2WS\")#Get Item and quantity info to 2WS\n",
    "ws_third_ord = ws_third_ord.groupby(\"Bakery Item\").sum()[\"Quantity\"]\n",
    "\n",
    "pf_third_ord = location_third_ord.get_group(\"3PUFF\")#Get Item and quantity info to 3PUFF\n",
    "pf_third_ord = pf_third_ord.groupby(\"Bakery Item\").sum()[\"Quantity\"]#Group by Item and display quantity"
   ]
  },
  {
   "cell_type": "code",
   "execution_count": 32,
   "id": "ae379c45",
   "metadata": {},
   "outputs": [
    {
     "name": "stdout",
     "output_type": "stream",
     "text": [
      "Order from 1JS on the third date: \n",
      "Bakery Item\n",
      "AAPL     520\n",
      "BBRD    1190\n",
      "CCC     1710\n",
      "Name: Quantity, dtype: int64\n",
      "Order from 2WS on the third date: \n",
      "Bakery Item\n",
      "AAPL    330\n",
      "BBRD    660\n",
      "CCC     230\n",
      "Name: Quantity, dtype: int64\n",
      "Order from 3PUFF on the third date: \n",
      "Bakery Item\n",
      "AAPL    410\n",
      "BBRD    600\n",
      "CCC     420\n",
      "Name: Quantity, dtype: int64\n"
     ]
    }
   ],
   "source": [
    "print(f\"Order from 1JS on the third date: \\n{js_sec_ord}\")\n",
    "print(f\"Order from 2WS on the third date: \\n{ws_sec_ord}\")\n",
    "print(f\"Order from 3PUFF on the third date: \\n{pf_sec_ord}\")"
   ]
  },
  {
   "cell_type": "markdown",
   "id": "bc5e19c7",
   "metadata": {},
   "source": [
    "## To calculate the quantity of each product in the inventory of each outlet and the end of each day\n",
    "The earliest shipment to any of the outlet stores landed on the 22nd of August, before then it is assumed that all the outlets had 500 of each product in their inventory, and it is stated that AAPL shipment was on hold due to logistic issues which means the quantity of Apple pies in each of the outlets remained 500 throughout the period"
   ]
  },
  {
   "cell_type": "markdown",
   "id": "cbd0eb24",
   "metadata": {},
   "source": [
    "## Jane Street Location\n",
    "The quantity of each product left in the inventory of the outlet on Jane Street on the 3 dates was calculatedin this section."
   ]
  },
  {
   "cell_type": "code",
   "execution_count": 33,
   "id": "416bf6d8",
   "metadata": {},
   "outputs": [],
   "source": [
    "js_first = {}\n",
    "\n",
    "for index,(js1_ship, js1_ord) in enumerate(zip(js_first_ship.values, js_first_ord.values)):\n",
    "    if index == 0:\n",
    "        js_first[\"AAPL\"] = [js1_ship, js1_ord]\n",
    "    elif index == 1:\n",
    "        js_first[\"BBRD\"] = [js1_ship, js1_ord]\n",
    "    elif index == 2:\n",
    "        js_first[\"CCC\"] = [js1_ship, js1_ord]\n",
    "        \n",
    "js_second = {}\n",
    "\n",
    "for index,(js2_ship, js2_ord) in enumerate(zip(js_sec_ship.values, js_sec_ord.values)):\n",
    "    if index == 0:\n",
    "        js_second[\"AAPL\"] = [js2_ship, js2_ord]\n",
    "    elif index == 1:\n",
    "        js_second[\"BBRD\"] = [js2_ship, js2_ord]\n",
    "    elif index == 2:\n",
    "        js_second[\"CCC\"] = [js2_ship, js2_ord]\n",
    "        \n",
    "js_third = {}\n",
    "\n",
    "for index,(js3_ship, js3_ord) in enumerate(zip(js_third_ship.values, js_third_ord.values)):\n",
    "    if index == 0:\n",
    "        js_third[\"AAPL\"] = [js3_ship, js3_ord]\n",
    "    elif index == 1:\n",
    "        js_third[\"BBRD\"] = [js3_ship, js3_ord]\n",
    "    elif index == 2:\n",
    "        js_third[\"CCC\"] = [js3_ship, js3_ord]"
   ]
  },
  {
   "cell_type": "code",
   "execution_count": 34,
   "id": "7ad0d7cc",
   "metadata": {},
   "outputs": [
    {
     "name": "stdout",
     "output_type": "stream",
     "text": [
      "First day shipment and orders: {'AAPL': [350, 680], 'BBRD': [900, 520], 'CCC': [450, 440]}\n",
      "Second day shipment and orders: {'AAPL': [150, 520], 'BBRD': [1000, 1190], 'CCC': [450, 1710]}\n",
      "Third day shipment and orders: {'AAPL': [300, 770], 'BBRD': [800, 1310], 'CCC': [450, 1090]}\n"
     ]
    }
   ],
   "source": [
    "print(f\"First day shipment and orders: {js_first}\")\n",
    "print(f\"Second day shipment and orders: {js_second}\")\n",
    "print(f\"Third day shipment and orders: {js_third}\")"
   ]
  },
  {
   "cell_type": "code",
   "execution_count": 35,
   "id": "7a7a6915",
   "metadata": {},
   "outputs": [],
   "source": [
    "js = {} #This dictionary will later contain the order and expected shipment quantities on the three dates\n",
    "        #at jane street\n",
    "\n",
    "js[\"First Day\"] = js_first\n",
    "js[\"Second Day\"] = js_second\n",
    "js[\"Third Day\"] = js_third"
   ]
  },
  {
   "cell_type": "code",
   "execution_count": 36,
   "id": "953321b5",
   "metadata": {},
   "outputs": [
    {
     "data": {
      "text/plain": [
       "{'First Day': {'AAPL': [350, 680], 'BBRD': [900, 520], 'CCC': [450, 440]},\n",
       " 'Second Day': {'AAPL': [150, 520], 'BBRD': [1000, 1190], 'CCC': [450, 1710]},\n",
       " 'Third Day': {'AAPL': [300, 770], 'BBRD': [800, 1310], 'CCC': [450, 1090]}}"
      ]
     },
     "execution_count": 36,
     "metadata": {},
     "output_type": "execute_result"
    }
   ],
   "source": [
    "js"
   ]
  },
  {
   "cell_type": "code",
   "execution_count": 37,
   "id": "b328bfe9",
   "metadata": {},
   "outputs": [],
   "source": [
    "def ord_ship_bal(data):\n",
    "    \"\"\"\n",
    "    This function returns\n",
    "    the difference between\n",
    "    two numbers,\n",
    "    In this case, the difference\n",
    "    in shipment and order for\n",
    "    each day\n",
    "    \"\"\"\n",
    "    balance = int(data[0]) - int(data[1])\n",
    "    return balance"
   ]
  },
  {
   "cell_type": "markdown",
   "id": "9175f53b",
   "metadata": {},
   "source": [
    "## Inventory at the end of the three days - Jane Street\n",
    " - 22/08/2020\n",
    " - 23/08/2020\n",
    " - 24/08/2020\n",
    " \n",
    " At the beginning of the time period, we assumed each location had in their inventory 500 of each product. Also due to some logistic issues, there would not be any shipment of apple pies to any of the locations."
   ]
  },
  {
   "cell_type": "code",
   "execution_count": 38,
   "id": "610bb7aa",
   "metadata": {},
   "outputs": [],
   "source": [
    "base_aapl = 500 #Inventory quantity at the beginning of the time period\n",
    "base_bbrd = 500\n",
    "base_ccc = 500\n",
    "invent_day = {}\n",
    "day1_js = {}\n",
    "day2_js = {}\n",
    "day3_js = {}\n",
    "\n",
    "for index, day in enumerate(js.values()):    \n",
    "    if index == 0: #First day - 22nd\n",
    "        day1_js[\"AAPL\"] = base_aapl - day.get(\"AAPL\")[1] #get the order quantity of appe pies \n",
    "        day1_js[\"BBRD\"] = base_bbrd + ord_ship_bal(day.get(\"BBRD\"))#get the quantity of BBRD left after the first day\n",
    "        day1_js[\"CCC\"] = base_ccc + ord_ship_bal(day.get(\"CCC\"))#get the quantity of CCC left after the first day\n",
    "        \n",
    "        #The base quantities will then be updated to the quantity left after the first day\n",
    "        base_aapl = day1_js.get(\"AAPL\")#Inventory quantities at the beginning of the second day\n",
    "        base_bbrd = day1_js[\"BBRD\"]\n",
    "        base_ccc = day1_js[\"CCC\"]\n",
    "    \n",
    "    if index == 1:#Second day - 23rd\n",
    "        #Quantities left in the inventory at the end of the second day\n",
    "        day2_js[\"AAPL\"] = base_aapl - day.get(\"AAPL\")[1]\n",
    "        day2_js[\"BBRD\"] = base_bbrd + ord_ship_bal(day.get(\"BBRD\"))\n",
    "        day2_js[\"CCC\"] = base_ccc + ord_ship_bal(day.get(\"CCC\"))\n",
    "        \n",
    "        base_aapl = day2_js.get(\"AAPL\")#Inventory quantities at the beginning of the third day\n",
    "        base_bbrd = day2_js[\"BBRD\"]\n",
    "        base_ccc = day2_js[\"CCC\"]\n",
    "    \n",
    "    if index == 2:#Third day - 24th\n",
    "        day3_js[\"AAPL\"] = base_aapl - day.get(\"AAPL\")[1]\n",
    "        day3_js[\"BBRD\"] = base_bbrd + ord_ship_bal(day.get(\"BBRD\"))#get the quantity of BBRD left after the first day\n",
    "        day3_js[\"CCC\"] = base_ccc + ord_ship_bal(day.get(\"CCC\"))#get the quantity of CCC left after the first day"
   ]
  },
  {
   "cell_type": "code",
   "execution_count": 39,
   "id": "7b8e253f",
   "metadata": {},
   "outputs": [
    {
     "data": {
      "text/plain": [
       "{'AAPL': -180, 'BBRD': 880, 'CCC': 510}"
      ]
     },
     "execution_count": 39,
     "metadata": {},
     "output_type": "execute_result"
    }
   ],
   "source": [
    "day1_js"
   ]
  },
  {
   "cell_type": "code",
   "execution_count": 40,
   "id": "427fbbda",
   "metadata": {},
   "outputs": [
    {
     "data": {
      "text/plain": [
       "{'AAPL': -700, 'BBRD': 690, 'CCC': -750}"
      ]
     },
     "execution_count": 40,
     "metadata": {},
     "output_type": "execute_result"
    }
   ],
   "source": [
    "day2_js"
   ]
  },
  {
   "cell_type": "code",
   "execution_count": 41,
   "id": "a4aaea96",
   "metadata": {},
   "outputs": [
    {
     "data": {
      "text/plain": [
       "{'AAPL': -1470, 'BBRD': 180, 'CCC': -1390}"
      ]
     },
     "execution_count": 41,
     "metadata": {},
     "output_type": "execute_result"
    }
   ],
   "source": [
    "day3_js"
   ]
  },
  {
   "cell_type": "code",
   "execution_count": 42,
   "id": "3a3792ab",
   "metadata": {},
   "outputs": [],
   "source": [
    "js_invent = {}\n",
    "\n",
    "js_invent[\"22/08/2020 inventory\"] = day1_js\n",
    "js_invent[\"23/08/2020 inventory\"] = day2_js\n",
    "js_invent[\"24/08/2020 inventory\"] = day3_js"
   ]
  },
  {
   "cell_type": "code",
   "execution_count": 43,
   "id": "e79c918b",
   "metadata": {},
   "outputs": [
    {
     "data": {
      "text/plain": [
       "{'22/08/2020 inventory': {'AAPL': -180, 'BBRD': 880, 'CCC': 510},\n",
       " '23/08/2020 inventory': {'AAPL': -700, 'BBRD': 690, 'CCC': -750},\n",
       " '24/08/2020 inventory': {'AAPL': -1470, 'BBRD': 180, 'CCC': -1390}}"
      ]
     },
     "execution_count": 43,
     "metadata": {},
     "output_type": "execute_result"
    }
   ],
   "source": [
    "js_invent"
   ]
  },
  {
   "cell_type": "markdown",
   "id": "fb3e44dc",
   "metadata": {},
   "source": [
    "## Wall Street Location\n",
    "The quantity of each product left in the inventory of the outlet on Wall Street on the 3 dates was calculated in this section."
   ]
  },
  {
   "cell_type": "code",
   "execution_count": 44,
   "id": "28ebfcf3",
   "metadata": {},
   "outputs": [],
   "source": [
    "ws_first = {}\n",
    "\n",
    "for index,(ws1_ship, ws1_ord) in enumerate(zip(ws_first_ship.values, ws_first_ord.values)):\n",
    "    if index == 0:\n",
    "        ws_first[\"AAPL\"] = [ws1_ship, ws1_ord]\n",
    "    elif index == 1:\n",
    "        ws_first[\"BBRD\"] = [ws1_ship, ws1_ord]\n",
    "    elif index == 2:\n",
    "        ws_first[\"CCC\"] = [ws1_ship, ws1_ord]\n",
    "        \n",
    "ws_second = {}#The order and expected shipment(The shipment wasnt processed) quantities on the second day\n",
    "\n",
    "for index,(ws2_ship, ws2_ord) in enumerate(zip(ws_sec_ship.values, ws_sec_ord.values)):\n",
    "    if index == 0:\n",
    "        ws_second[\"AAPL\"] = [ws2_ship, ws2_ord]\n",
    "    elif index == 1:\n",
    "        ws_second[\"BBRD\"] = [ws2_ship, ws2_ord]\n",
    "    elif index == 2:\n",
    "        ws_second[\"CCC\"] = [ws2_ship, ws2_ord]\n",
    "        \n",
    "ws_third = {} #The order and expected shipment(The shipment wasnt processed) quantities on the third day\n",
    "\n",
    "for index,(ws3_ship, ws3_ord) in enumerate(zip(ws_third_ship.values, ws_third_ord.values)):\n",
    "    if index == 0:\n",
    "        ws_third[\"AAPL\"] = [ws3_ship, ws3_ord]\n",
    "    elif index == 1:\n",
    "        ws_third[\"BBRD\"] = [ws3_ship, ws3_ord]\n",
    "    elif index == 2:\n",
    "        ws_third[\"CCC\"] = [ws3_ship, ws3_ord]"
   ]
  },
  {
   "cell_type": "code",
   "execution_count": 45,
   "id": "23846291",
   "metadata": {},
   "outputs": [
    {
     "name": "stdout",
     "output_type": "stream",
     "text": [
      "First day shipment and orders: {'AAPL': [150, 320], 'BBRD': [700, 530], 'CCC': [450, 500]}\n",
      "Second day shipment and orders: {'AAPL': [350, 330], 'BBRD': [600, 660], 'CCC': [350, 230]}\n",
      "Third day shipment and orders: {'AAPL': [250, 340], 'BBRD': [800, 700], 'CCC': [550, 590]}\n"
     ]
    }
   ],
   "source": [
    "print(f\"First day shipment and orders: {ws_first}\")\n",
    "print(f\"Second day shipment and orders: {ws_second}\")\n",
    "print(f\"Third day shipment and orders: {ws_third}\")"
   ]
  },
  {
   "cell_type": "code",
   "execution_count": 46,
   "id": "7631d1cb",
   "metadata": {},
   "outputs": [],
   "source": [
    "ws = {} #This dictionary will later contain the order and expected shipment quantities on the three dates\n",
    "        #at wall street\n",
    "\n",
    "ws[\"First Day\"] = ws_first\n",
    "ws[\"Second Day\"] = ws_second\n",
    "ws[\"Third Day\"] = ws_third"
   ]
  },
  {
   "cell_type": "code",
   "execution_count": 47,
   "id": "301b0230",
   "metadata": {},
   "outputs": [
    {
     "data": {
      "text/plain": [
       "{'First Day': {'AAPL': [150, 320], 'BBRD': [700, 530], 'CCC': [450, 500]},\n",
       " 'Second Day': {'AAPL': [350, 330], 'BBRD': [600, 660], 'CCC': [350, 230]},\n",
       " 'Third Day': {'AAPL': [250, 340], 'BBRD': [800, 700], 'CCC': [550, 590]}}"
      ]
     },
     "execution_count": 47,
     "metadata": {},
     "output_type": "execute_result"
    }
   ],
   "source": [
    "ws"
   ]
  },
  {
   "cell_type": "markdown",
   "id": "0ad3c9b7",
   "metadata": {},
   "source": [
    "## Inventory at the end of the three days - Wall Street\n",
    " - 22/08/2020\n",
    " - 23/08/2020\n",
    " - 24/08/2020\n",
    " \n",
    " At the beginning of the time period, we assumed each location had in their inventory 500 of each product. Also due to some logistic issues, there would not be any shipment of apple pies to any of the locations."
   ]
  },
  {
   "cell_type": "code",
   "execution_count": 48,
   "id": "a26982c8",
   "metadata": {},
   "outputs": [],
   "source": [
    "base_aapl = 500 #Inventory quantity at the beginning of the time period\n",
    "base_bbrd = 500\n",
    "base_ccc = 500\n",
    "invent_day = {}\n",
    "day1_ws = {}\n",
    "day2_ws = {}\n",
    "day3_ws = {}\n",
    "\n",
    "for index, day in enumerate(ws.values()):    \n",
    "    if index == 0: #First day - 22nd\n",
    "        day1_ws[\"AAPL\"] = base_aapl - day.get(\"AAPL\")[1] #get the order quantity of appe pies \n",
    "        day1_ws[\"BBRD\"] = base_bbrd + ord_ship_bal(day.get(\"BBRD\"))#get the quantity of BBRD left after the first day\n",
    "        day1_ws[\"CCC\"] = base_ccc + ord_ship_bal(day.get(\"CCC\"))#get the quantity of CCC left after the first day\n",
    "        \n",
    "        #The base quantities will then be updated to the quantity left after the first day\n",
    "        base_aapl = day1_ws.get(\"AAPL\")#Inventory quantities at the beginning of the second day\n",
    "        base_bbrd = day1_ws[\"BBRD\"]\n",
    "        base_ccc = day1_ws[\"CCC\"]\n",
    "    \n",
    "    if index == 1:#Second day - 23rd\n",
    "        #Quantities left in the inventory at the end of the second day\n",
    "        day2_ws[\"AAPL\"] = base_aapl - day.get(\"AAPL\")[1]\n",
    "        day2_ws[\"BBRD\"] = base_bbrd + ord_ship_bal(day.get(\"BBRD\"))\n",
    "        day2_ws[\"CCC\"] = base_ccc + ord_ship_bal(day.get(\"CCC\"))\n",
    "        \n",
    "        base_aapl = day2_ws.get(\"AAPL\")#Inventory quantities at the beginning of the third day\n",
    "        base_bbrd = day2_ws[\"BBRD\"]\n",
    "        base_ccc = day2_ws[\"CCC\"]\n",
    "    \n",
    "    if index == 2:#Third day - 24th\n",
    "        day3_ws[\"AAPL\"] = base_aapl - day.get(\"AAPL\")[1]\n",
    "        day3_ws[\"BBRD\"] = base_bbrd + ord_ship_bal(day.get(\"BBRD\"))\n",
    "        day3_ws[\"CCC\"] = base_ccc + ord_ship_bal(day.get(\"CCC\"))\n",
    "    "
   ]
  },
  {
   "cell_type": "code",
   "execution_count": 49,
   "id": "ee8e11db",
   "metadata": {},
   "outputs": [
    {
     "name": "stdout",
     "output_type": "stream",
     "text": [
      "{'AAPL': 180, 'BBRD': 670, 'CCC': 450}\n",
      "{'AAPL': -150, 'BBRD': 610, 'CCC': 570}\n",
      "{'AAPL': -490, 'BBRD': 710, 'CCC': 530}\n"
     ]
    }
   ],
   "source": [
    "print(day1_ws)#Order and shipment balance on the first day at wall street\n",
    "print(day2_ws)#Order and shipment balance on the second day at wall street\n",
    "print(day3_ws)#Order and shipment balance on the third day at wall street"
   ]
  },
  {
   "cell_type": "code",
   "execution_count": 50,
   "id": "393a8e5d",
   "metadata": {},
   "outputs": [],
   "source": [
    "ws_invent = {} \n",
    "\n",
    "ws_invent[\"22/08/2020 inventory\"] = day1_ws\n",
    "ws_invent[\"23/08/2020 inventory\"] = day2_ws\n",
    "ws_invent[\"24/08/2020 inventory\"] = day3_ws"
   ]
  },
  {
   "cell_type": "code",
   "execution_count": 51,
   "id": "e9685a98",
   "metadata": {},
   "outputs": [
    {
     "data": {
      "text/plain": [
       "{'22/08/2020 inventory': {'AAPL': 180, 'BBRD': 670, 'CCC': 450},\n",
       " '23/08/2020 inventory': {'AAPL': -150, 'BBRD': 610, 'CCC': 570},\n",
       " '24/08/2020 inventory': {'AAPL': -490, 'BBRD': 710, 'CCC': 530}}"
      ]
     },
     "execution_count": 51,
     "metadata": {},
     "output_type": "execute_result"
    }
   ],
   "source": [
    "ws_invent"
   ]
  },
  {
   "cell_type": "markdown",
   "id": "58f2a85d",
   "metadata": {},
   "source": [
    "## Poughkeepsie Location\n",
    "The quantity of each product left in the inventory of the outlet on Poughkeepsie on the 3 dates was calculated in this section."
   ]
  },
  {
   "cell_type": "code",
   "execution_count": 52,
   "id": "75d61077",
   "metadata": {},
   "outputs": [],
   "source": [
    "pf_first = {}#The order and expected shipment(The shipment wasnt processed) quantities on the first day\n",
    "\n",
    "for index, pf1_ord in enumerate(pf_first_ord.values):\n",
    "    if index == 0:\n",
    "        pf_first[\"AAPL\"] = [0, pf1_ord]#Since there was no shipment to 3PUFF on the first day\n",
    "    elif index == 1:\n",
    "        pf_first[\"BBRD\"] = [0, pf1_ord]\n",
    "    elif index == 2:\n",
    "        pf_first[\"CCC\"] = [0, pf1_ord]\n",
    "        \n",
    "pf_second = {}#The order and expected shipment(The shipment wasnt processed) quantities on the second day\n",
    "\n",
    "for index,(pf2_ship, pf2_ord) in enumerate(zip(pf_sec_ship.values, pf_sec_ord.values)):\n",
    "    if index == 0:\n",
    "        pf_second[\"AAPL\"] = [pf2_ship, pf2_ord]\n",
    "    elif index == 1:\n",
    "        pf_second[\"BBRD\"] = [pf2_ship, pf2_ord]\n",
    "    elif index == 2:\n",
    "        pf_second[\"CCC\"] = [pf2_ship, pf2_ord]\n",
    "        \n",
    "pf_third = {} #The order and expected shipment(The shipment wasnt processed) quantities on the third day\n",
    "\n",
    "for index,(pf3_ship, pf3_ord) in enumerate(zip(pf_third_ship.values, pf_third_ord.values)):\n",
    "    if index == 0:\n",
    "        pf_third[\"AAPL\"] = [pf3_ship, pf3_ord]\n",
    "    elif index == 1:\n",
    "        pf_third[\"BBRD\"] = [pf3_ship, pf3_ord]\n",
    "    elif index == 2:\n",
    "        pf_third[\"CCC\"] = [pf3_ship, pf3_ord]"
   ]
  },
  {
   "cell_type": "code",
   "execution_count": 53,
   "id": "5b088cd4",
   "metadata": {},
   "outputs": [
    {
     "name": "stdout",
     "output_type": "stream",
     "text": [
      "First day shipment and orders: {'AAPL': [0, 420], 'BBRD': [0, 250], 'CCC': [0, 290]}\n",
      "Second day shipment and orders: {'AAPL': [200, 410], 'BBRD': [400, 600], 'CCC': [700, 420]}\n",
      "Third day shipment and orders: {'AAPL': [200, 170], 'BBRD': [400, 660], 'CCC': [800, 440]}\n"
     ]
    }
   ],
   "source": [
    "print(f\"First day shipment and orders: {pf_first}\")\n",
    "print(f\"Second day shipment and orders: {pf_second}\")\n",
    "print(f\"Third day shipment and orders: {pf_third}\")"
   ]
  },
  {
   "cell_type": "code",
   "execution_count": 54,
   "id": "ab529d2f",
   "metadata": {},
   "outputs": [
    {
     "data": {
      "text/plain": [
       "{'First Day': {'AAPL': [0, 420], 'BBRD': [0, 250], 'CCC': [0, 290]},\n",
       " 'Second Day': {'AAPL': [200, 410], 'BBRD': [400, 600], 'CCC': [700, 420]},\n",
       " 'Third Day': {'AAPL': [200, 170], 'BBRD': [400, 660], 'CCC': [800, 440]}}"
      ]
     },
     "execution_count": 54,
     "metadata": {},
     "output_type": "execute_result"
    }
   ],
   "source": [
    "pf = {} #This dictionary will later contain the order and expected shipment quantities on the three dates\n",
    "        #at jane street\n",
    "\n",
    "pf[\"First Day\"] = pf_first\n",
    "pf[\"Second Day\"] = pf_second\n",
    "pf[\"Third Day\"] = pf_third\n",
    "\n",
    "pf"
   ]
  },
  {
   "cell_type": "markdown",
   "id": "c438314e",
   "metadata": {},
   "source": [
    "## Inventory at the end of the three days - Poughkeepsie\n",
    " - 22/08/2020\n",
    " - 23/08/2020\n",
    " - 24/08/2020\n",
    " \n",
    " At the beginning of the time period, we assumed each location had in their inventory 500 of each product. Also due to some logistic issues, there would not be any shipment of apple pies to any of the locations."
   ]
  },
  {
   "cell_type": "code",
   "execution_count": 55,
   "id": "ed0dcc88",
   "metadata": {},
   "outputs": [],
   "source": [
    "base_aapl = 500 #Inventory quantity at the beginning of the time period\n",
    "base_bbrd = 500\n",
    "base_ccc = 500\n",
    "invent_day = {}\n",
    "day1_pf = {}\n",
    "day2_pf = {}\n",
    "day3_pf = {}\n",
    "\n",
    "for index, day in enumerate(pf.values()):    \n",
    "    if index == 0: #First day - 22nd\n",
    "        day1_pf[\"AAPL\"] = base_aapl - day.get(\"AAPL\")[1] #get the order quantity of appe pies \n",
    "        day1_pf[\"BBRD\"] = base_bbrd + ord_ship_bal(day.get(\"BBRD\"))#get the quantity of BBRD left after the first day\n",
    "        day1_pf[\"CCC\"] = base_ccc + ord_ship_bal(day.get(\"CCC\"))#get the quantity of CCC left after the first day\n",
    "        \n",
    "        #The base quantities will then be updated to the quantity left after the first day\n",
    "        base_aapl = day1_pf.get(\"AAPL\")#Inventory quantities at the beginning of the second day\n",
    "        base_bbrd = day1_pf[\"BBRD\"]\n",
    "        base_ccc = day1_pf[\"CCC\"]\n",
    "    \n",
    "    if index == 1:#Second day - 23rd\n",
    "        #Quantities left in the inventory at the end of the second day\n",
    "        day2_pf[\"AAPL\"] = base_aapl - day.get(\"AAPL\")[1]\n",
    "        day2_pf[\"BBRD\"] = base_bbrd + ord_ship_bal(day.get(\"BBRD\"))\n",
    "        day2_pf[\"CCC\"] = base_ccc + ord_ship_bal(day.get(\"CCC\"))\n",
    "        \n",
    "        base_aapl = day2_pf.get(\"AAPL\")#Inventory quantities at the beginning of the third day\n",
    "        base_bbrd = day2_pf[\"BBRD\"]\n",
    "        base_ccc = day2_pf[\"CCC\"]\n",
    "    \n",
    "    if index == 2:#Third day - 24th\n",
    "        day3_pf[\"AAPL\"] = base_aapl - day.get(\"AAPL\")[1]\n",
    "        day3_pf[\"BBRD\"] = base_bbrd + ord_ship_bal(day.get(\"BBRD\"))\n",
    "        day3_pf[\"CCC\"] = base_ccc + ord_ship_bal(day.get(\"CCC\"))\n",
    "    "
   ]
  },
  {
   "cell_type": "code",
   "execution_count": 56,
   "id": "532cb20b",
   "metadata": {},
   "outputs": [
    {
     "name": "stdout",
     "output_type": "stream",
     "text": [
      "{'AAPL': 80, 'BBRD': 250, 'CCC': 210}\n",
      "{'AAPL': -330, 'BBRD': 50, 'CCC': 490}\n",
      "{'AAPL': -500, 'BBRD': -210, 'CCC': 850}\n"
     ]
    }
   ],
   "source": [
    "print(day1_pf)\n",
    "print(day2_pf)\n",
    "print(day3_pf)"
   ]
  },
  {
   "cell_type": "code",
   "execution_count": 57,
   "id": "353af1eb",
   "metadata": {},
   "outputs": [],
   "source": [
    "pf_invent = {} \n",
    "\n",
    "pf_invent[\"22/08/2020 inventory\"] = day1_pf\n",
    "pf_invent[\"23/08/2020 inventory\"] = day2_pf\n",
    "pf_invent[\"24/08/2020 inventory\"] = day3_pf"
   ]
  },
  {
   "cell_type": "code",
   "execution_count": 58,
   "id": "bde70fd4",
   "metadata": {},
   "outputs": [
    {
     "data": {
      "text/plain": [
       "{'22/08/2020 inventory': {'AAPL': 80, 'BBRD': 250, 'CCC': 210},\n",
       " '23/08/2020 inventory': {'AAPL': -330, 'BBRD': 50, 'CCC': 490},\n",
       " '24/08/2020 inventory': {'AAPL': -500, 'BBRD': -210, 'CCC': 850}}"
      ]
     },
     "execution_count": 58,
     "metadata": {},
     "output_type": "execute_result"
    }
   ],
   "source": [
    "pf_invent"
   ]
  },
  {
   "cell_type": "code",
   "execution_count": 59,
   "id": "758a1ce9",
   "metadata": {},
   "outputs": [],
   "source": [
    "inventory ={}\n",
    "\n",
    "inventory[\"1JS\"]=js_invent\n",
    "inventory[\"2WS\"]=ws_invent\n",
    "inventory[\"3PUFF\"]=pf_invent"
   ]
  },
  {
   "cell_type": "code",
   "execution_count": 60,
   "id": "e9afbced",
   "metadata": {},
   "outputs": [
    {
     "data": {
      "text/plain": [
       "{'1JS': {'22/08/2020 inventory': {'AAPL': -180, 'BBRD': 880, 'CCC': 510},\n",
       "  '23/08/2020 inventory': {'AAPL': -700, 'BBRD': 690, 'CCC': -750},\n",
       "  '24/08/2020 inventory': {'AAPL': -1470, 'BBRD': 180, 'CCC': -1390}},\n",
       " '2WS': {'22/08/2020 inventory': {'AAPL': 180, 'BBRD': 670, 'CCC': 450},\n",
       "  '23/08/2020 inventory': {'AAPL': -150, 'BBRD': 610, 'CCC': 570},\n",
       "  '24/08/2020 inventory': {'AAPL': -490, 'BBRD': 710, 'CCC': 530}},\n",
       " '3PUFF': {'22/08/2020 inventory': {'AAPL': 80, 'BBRD': 250, 'CCC': 210},\n",
       "  '23/08/2020 inventory': {'AAPL': -330, 'BBRD': 50, 'CCC': 490},\n",
       "  '24/08/2020 inventory': {'AAPL': -500, 'BBRD': -210, 'CCC': 850}}}"
      ]
     },
     "execution_count": 60,
     "metadata": {},
     "output_type": "execute_result"
    }
   ],
   "source": [
    "inventory #inventory for the three dates at the three different locations"
   ]
  },
  {
   "cell_type": "code",
   "execution_count": 61,
   "id": "cac726e4",
   "metadata": {},
   "outputs": [
    {
     "data": {
      "text/html": [
       "<div>\n",
       "<style scoped>\n",
       "    .dataframe tbody tr th:only-of-type {\n",
       "        vertical-align: middle;\n",
       "    }\n",
       "\n",
       "    .dataframe tbody tr th {\n",
       "        vertical-align: top;\n",
       "    }\n",
       "\n",
       "    .dataframe thead th {\n",
       "        text-align: right;\n",
       "    }\n",
       "</style>\n",
       "<table border=\"1\" class=\"dataframe\">\n",
       "  <thead>\n",
       "    <tr style=\"text-align: right;\">\n",
       "      <th></th>\n",
       "      <th>AAPL</th>\n",
       "      <th>BBRD</th>\n",
       "      <th>CCC</th>\n",
       "    </tr>\n",
       "  </thead>\n",
       "  <tbody>\n",
       "    <tr>\n",
       "      <th>22/08/2020</th>\n",
       "      <td>-180</td>\n",
       "      <td>880</td>\n",
       "      <td>510</td>\n",
       "    </tr>\n",
       "    <tr>\n",
       "      <th>23/08/2020</th>\n",
       "      <td>-700</td>\n",
       "      <td>690</td>\n",
       "      <td>-750</td>\n",
       "    </tr>\n",
       "    <tr>\n",
       "      <th>24/08/2020</th>\n",
       "      <td>-1470</td>\n",
       "      <td>180</td>\n",
       "      <td>-1390</td>\n",
       "    </tr>\n",
       "  </tbody>\n",
       "</table>\n",
       "</div>"
      ],
      "text/plain": [
       "            AAPL  BBRD   CCC\n",
       "22/08/2020  -180   880   510\n",
       "23/08/2020  -700   690  -750\n",
       "24/08/2020 -1470   180 -1390"
      ]
     },
     "execution_count": 61,
     "metadata": {},
     "output_type": "execute_result"
    }
   ],
   "source": [
    "js_df = pd.DataFrame(inventory[\"1JS\"].values(), index = [\"22/08/2020\",\"23/08/2020\",\"24/08/2020\"])\n",
    "js_df#DataFrame showing the 1JS inventory balance of each item at each date"
   ]
  },
  {
   "cell_type": "code",
   "execution_count": 62,
   "id": "9c0a34f2",
   "metadata": {},
   "outputs": [
    {
     "data": {
      "text/html": [
       "<div>\n",
       "<style scoped>\n",
       "    .dataframe tbody tr th:only-of-type {\n",
       "        vertical-align: middle;\n",
       "    }\n",
       "\n",
       "    .dataframe tbody tr th {\n",
       "        vertical-align: top;\n",
       "    }\n",
       "\n",
       "    .dataframe thead th {\n",
       "        text-align: right;\n",
       "    }\n",
       "</style>\n",
       "<table border=\"1\" class=\"dataframe\">\n",
       "  <thead>\n",
       "    <tr style=\"text-align: right;\">\n",
       "      <th></th>\n",
       "      <th>AAPL</th>\n",
       "      <th>BBRD</th>\n",
       "      <th>CCC</th>\n",
       "    </tr>\n",
       "  </thead>\n",
       "  <tbody>\n",
       "    <tr>\n",
       "      <th>22/08/2020</th>\n",
       "      <td>180</td>\n",
       "      <td>670</td>\n",
       "      <td>450</td>\n",
       "    </tr>\n",
       "    <tr>\n",
       "      <th>23/08/2020</th>\n",
       "      <td>-150</td>\n",
       "      <td>610</td>\n",
       "      <td>570</td>\n",
       "    </tr>\n",
       "    <tr>\n",
       "      <th>24/08/2020</th>\n",
       "      <td>-490</td>\n",
       "      <td>710</td>\n",
       "      <td>530</td>\n",
       "    </tr>\n",
       "  </tbody>\n",
       "</table>\n",
       "</div>"
      ],
      "text/plain": [
       "            AAPL  BBRD  CCC\n",
       "22/08/2020   180   670  450\n",
       "23/08/2020  -150   610  570\n",
       "24/08/2020  -490   710  530"
      ]
     },
     "execution_count": 62,
     "metadata": {},
     "output_type": "execute_result"
    }
   ],
   "source": [
    "ws_df = pd.DataFrame(inventory[\"2WS\"].values(), index = [\"22/08/2020\",\"23/08/2020\",\"24/08/2020\"])\n",
    "ws_df#DataFrame showing the 2WS inventory balance of each item at each date"
   ]
  },
  {
   "cell_type": "code",
   "execution_count": 63,
   "id": "a4e25ca8",
   "metadata": {},
   "outputs": [
    {
     "data": {
      "text/html": [
       "<div>\n",
       "<style scoped>\n",
       "    .dataframe tbody tr th:only-of-type {\n",
       "        vertical-align: middle;\n",
       "    }\n",
       "\n",
       "    .dataframe tbody tr th {\n",
       "        vertical-align: top;\n",
       "    }\n",
       "\n",
       "    .dataframe thead th {\n",
       "        text-align: right;\n",
       "    }\n",
       "</style>\n",
       "<table border=\"1\" class=\"dataframe\">\n",
       "  <thead>\n",
       "    <tr style=\"text-align: right;\">\n",
       "      <th></th>\n",
       "      <th>AAPL</th>\n",
       "      <th>BBRD</th>\n",
       "      <th>CCC</th>\n",
       "    </tr>\n",
       "  </thead>\n",
       "  <tbody>\n",
       "    <tr>\n",
       "      <th>22/08/2020</th>\n",
       "      <td>80</td>\n",
       "      <td>250</td>\n",
       "      <td>210</td>\n",
       "    </tr>\n",
       "    <tr>\n",
       "      <th>23/08/2020</th>\n",
       "      <td>-330</td>\n",
       "      <td>50</td>\n",
       "      <td>490</td>\n",
       "    </tr>\n",
       "    <tr>\n",
       "      <th>24/08/2020</th>\n",
       "      <td>-500</td>\n",
       "      <td>-210</td>\n",
       "      <td>850</td>\n",
       "    </tr>\n",
       "  </tbody>\n",
       "</table>\n",
       "</div>"
      ],
      "text/plain": [
       "            AAPL  BBRD  CCC\n",
       "22/08/2020    80   250  210\n",
       "23/08/2020  -330    50  490\n",
       "24/08/2020  -500  -210  850"
      ]
     },
     "execution_count": 63,
     "metadata": {},
     "output_type": "execute_result"
    }
   ],
   "source": [
    "pf_df = pd.DataFrame(inventory[\"3PUFF\"].values(), index = [\"22/08/2020\",\"23/08/2020\",\"24/08/2020\"])\n",
    "pf_df#DataFrame showing the 3PUFF inventory balance of each item at each date"
   ]
  },
  {
   "cell_type": "markdown",
   "id": "531bcd4e",
   "metadata": {},
   "source": [
    "## Shipment deficit/surplus at the mega bakery\n",
    "The daily production capacity of the megabakery:\n",
    " - 2000 BBRD\n",
    " - 1600 CC\n",
    " - 700 AAPL\n",
    " \n",
    " Since the products leave the megabakery/shipped from the megabakery on the activity dates, the activity dates will be taken into  consideration to know the quantity of products leaving the megabakery each day."
   ]
  },
  {
   "cell_type": "code",
   "execution_count": 64,
   "id": "99af647d",
   "metadata": {},
   "outputs": [],
   "source": [
    "dates = shipment_df.groupby(\"Activity Date\")"
   ]
  },
  {
   "cell_type": "code",
   "execution_count": 65,
   "id": "b1a1b513",
   "metadata": {},
   "outputs": [
    {
     "data": {
      "text/plain": [
       "23/08/2020    9\n",
       "21/08/2020    9\n",
       "22/08/2020    9\n",
       "Name: Activity Date, dtype: int64"
      ]
     },
     "execution_count": 65,
     "metadata": {},
     "output_type": "execute_result"
    }
   ],
   "source": [
    "shipment_df[\"Activity Date\"].value_counts() #get dates products were shipped from the megabakery"
   ]
  },
  {
   "cell_type": "code",
   "execution_count": 66,
   "id": "34d3061f",
   "metadata": {},
   "outputs": [],
   "source": [
    "first_ship_date = dates.get_group(\"21/08/2020\")"
   ]
  },
  {
   "cell_type": "code",
   "execution_count": 67,
   "id": "6eaacf49",
   "metadata": {},
   "outputs": [
    {
     "data": {
      "text/html": [
       "<div>\n",
       "<style scoped>\n",
       "    .dataframe tbody tr th:only-of-type {\n",
       "        vertical-align: middle;\n",
       "    }\n",
       "\n",
       "    .dataframe tbody tr th {\n",
       "        vertical-align: top;\n",
       "    }\n",
       "\n",
       "    .dataframe thead th {\n",
       "        text-align: right;\n",
       "    }\n",
       "</style>\n",
       "<table border=\"1\" class=\"dataframe\">\n",
       "  <thead>\n",
       "    <tr style=\"text-align: right;\">\n",
       "      <th></th>\n",
       "      <th>Quantity</th>\n",
       "    </tr>\n",
       "    <tr>\n",
       "      <th>Bakery Item</th>\n",
       "      <th></th>\n",
       "    </tr>\n",
       "  </thead>\n",
       "  <tbody>\n",
       "    <tr>\n",
       "      <th>AAPL</th>\n",
       "      <td>700</td>\n",
       "    </tr>\n",
       "    <tr>\n",
       "      <th>BBRD</th>\n",
       "      <td>2000</td>\n",
       "    </tr>\n",
       "    <tr>\n",
       "      <th>CCC</th>\n",
       "      <td>1600</td>\n",
       "    </tr>\n",
       "  </tbody>\n",
       "</table>\n",
       "</div>"
      ],
      "text/plain": [
       "             Quantity\n",
       "Bakery Item          \n",
       "AAPL              700\n",
       "BBRD             2000\n",
       "CCC              1600"
      ]
     },
     "execution_count": 67,
     "metadata": {},
     "output_type": "execute_result"
    }
   ],
   "source": [
    "first_ship_date.groupby(\"Bakery Item\").sum()[[\"Quantity\"]]"
   ]
  },
  {
   "cell_type": "code",
   "execution_count": 68,
   "id": "8440ff2b",
   "metadata": {},
   "outputs": [],
   "source": [
    "sec_ship_date = dates.get_group(\"22/08/2020\")"
   ]
  },
  {
   "cell_type": "code",
   "execution_count": 69,
   "id": "fe490f1a",
   "metadata": {},
   "outputs": [
    {
     "data": {
      "text/html": [
       "<div>\n",
       "<style scoped>\n",
       "    .dataframe tbody tr th:only-of-type {\n",
       "        vertical-align: middle;\n",
       "    }\n",
       "\n",
       "    .dataframe tbody tr th {\n",
       "        vertical-align: top;\n",
       "    }\n",
       "\n",
       "    .dataframe thead th {\n",
       "        text-align: right;\n",
       "    }\n",
       "</style>\n",
       "<table border=\"1\" class=\"dataframe\">\n",
       "  <thead>\n",
       "    <tr style=\"text-align: right;\">\n",
       "      <th></th>\n",
       "      <th>Quantity</th>\n",
       "    </tr>\n",
       "    <tr>\n",
       "      <th>Bakery Item</th>\n",
       "      <th></th>\n",
       "    </tr>\n",
       "  </thead>\n",
       "  <tbody>\n",
       "    <tr>\n",
       "      <th>AAPL</th>\n",
       "      <td>700</td>\n",
       "    </tr>\n",
       "    <tr>\n",
       "      <th>BBRD</th>\n",
       "      <td>2000</td>\n",
       "    </tr>\n",
       "    <tr>\n",
       "      <th>CCC</th>\n",
       "      <td>1600</td>\n",
       "    </tr>\n",
       "  </tbody>\n",
       "</table>\n",
       "</div>"
      ],
      "text/plain": [
       "             Quantity\n",
       "Bakery Item          \n",
       "AAPL              700\n",
       "BBRD             2000\n",
       "CCC              1600"
      ]
     },
     "execution_count": 69,
     "metadata": {},
     "output_type": "execute_result"
    }
   ],
   "source": [
    "sec_ship_date.groupby(\"Bakery Item\").sum()[[\"Quantity\"]]"
   ]
  },
  {
   "cell_type": "code",
   "execution_count": 70,
   "id": "17cb5d3d",
   "metadata": {},
   "outputs": [],
   "source": [
    "third_ship_date = dates.get_group(\"23/08/2020\")"
   ]
  },
  {
   "cell_type": "code",
   "execution_count": 71,
   "id": "2be3de7f",
   "metadata": {},
   "outputs": [
    {
     "data": {
      "text/html": [
       "<div>\n",
       "<style scoped>\n",
       "    .dataframe tbody tr th:only-of-type {\n",
       "        vertical-align: middle;\n",
       "    }\n",
       "\n",
       "    .dataframe tbody tr th {\n",
       "        vertical-align: top;\n",
       "    }\n",
       "\n",
       "    .dataframe thead th {\n",
       "        text-align: right;\n",
       "    }\n",
       "</style>\n",
       "<table border=\"1\" class=\"dataframe\">\n",
       "  <thead>\n",
       "    <tr style=\"text-align: right;\">\n",
       "      <th></th>\n",
       "      <th>Quantity</th>\n",
       "    </tr>\n",
       "    <tr>\n",
       "      <th>Bakery Item</th>\n",
       "      <th></th>\n",
       "    </tr>\n",
       "  </thead>\n",
       "  <tbody>\n",
       "    <tr>\n",
       "      <th>AAPL</th>\n",
       "      <td>700</td>\n",
       "    </tr>\n",
       "    <tr>\n",
       "      <th>BBRD</th>\n",
       "      <td>2000</td>\n",
       "    </tr>\n",
       "    <tr>\n",
       "      <th>CCC</th>\n",
       "      <td>1600</td>\n",
       "    </tr>\n",
       "  </tbody>\n",
       "</table>\n",
       "</div>"
      ],
      "text/plain": [
       "             Quantity\n",
       "Bakery Item          \n",
       "AAPL              700\n",
       "BBRD             2000\n",
       "CCC              1600"
      ]
     },
     "execution_count": 71,
     "metadata": {},
     "output_type": "execute_result"
    }
   ],
   "source": [
    "third_ship_date.groupby(\"Bakery Item\").sum()[[\"Quantity\"]]"
   ]
  },
  {
   "cell_type": "markdown",
   "id": "bc4d75b0",
   "metadata": {},
   "source": [
    "It can be seen from the above that the mega bakery worked at maximum capacity every day during the period."
   ]
  },
  {
   "cell_type": "code",
   "execution_count": 72,
   "id": "5dacb24a",
   "metadata": {},
   "outputs": [
    {
     "data": {
      "text/html": [
       "<div>\n",
       "<style scoped>\n",
       "    .dataframe tbody tr th:only-of-type {\n",
       "        vertical-align: middle;\n",
       "    }\n",
       "\n",
       "    .dataframe tbody tr th {\n",
       "        vertical-align: top;\n",
       "    }\n",
       "\n",
       "    .dataframe thead th {\n",
       "        text-align: right;\n",
       "    }\n",
       "</style>\n",
       "<table border=\"1\" class=\"dataframe\">\n",
       "  <thead>\n",
       "    <tr style=\"text-align: right;\">\n",
       "      <th></th>\n",
       "      <th>AAPL</th>\n",
       "      <th>BBRD</th>\n",
       "      <th>CCC</th>\n",
       "    </tr>\n",
       "  </thead>\n",
       "  <tbody>\n",
       "    <tr>\n",
       "      <th>22/08/2020</th>\n",
       "      <td>-180</td>\n",
       "      <td>880</td>\n",
       "      <td>510</td>\n",
       "    </tr>\n",
       "    <tr>\n",
       "      <th>23/08/2020</th>\n",
       "      <td>-700</td>\n",
       "      <td>690</td>\n",
       "      <td>-750</td>\n",
       "    </tr>\n",
       "    <tr>\n",
       "      <th>24/08/2020</th>\n",
       "      <td>-1470</td>\n",
       "      <td>180</td>\n",
       "      <td>-1390</td>\n",
       "    </tr>\n",
       "  </tbody>\n",
       "</table>\n",
       "</div>"
      ],
      "text/plain": [
       "            AAPL  BBRD   CCC\n",
       "22/08/2020  -180   880   510\n",
       "23/08/2020  -700   690  -750\n",
       "24/08/2020 -1470   180 -1390"
      ]
     },
     "execution_count": 72,
     "metadata": {},
     "output_type": "execute_result"
    }
   ],
   "source": [
    "js_df"
   ]
  },
  {
   "cell_type": "code",
   "execution_count": 73,
   "id": "d444133e",
   "metadata": {},
   "outputs": [
    {
     "data": {
      "text/html": [
       "<div>\n",
       "<style scoped>\n",
       "    .dataframe tbody tr th:only-of-type {\n",
       "        vertical-align: middle;\n",
       "    }\n",
       "\n",
       "    .dataframe tbody tr th {\n",
       "        vertical-align: top;\n",
       "    }\n",
       "\n",
       "    .dataframe thead th {\n",
       "        text-align: right;\n",
       "    }\n",
       "</style>\n",
       "<table border=\"1\" class=\"dataframe\">\n",
       "  <thead>\n",
       "    <tr style=\"text-align: right;\">\n",
       "      <th></th>\n",
       "      <th>AAPL</th>\n",
       "      <th>BBRD</th>\n",
       "      <th>CCC</th>\n",
       "    </tr>\n",
       "  </thead>\n",
       "  <tbody>\n",
       "    <tr>\n",
       "      <th>22/08/2020</th>\n",
       "      <td>180</td>\n",
       "      <td>670</td>\n",
       "      <td>450</td>\n",
       "    </tr>\n",
       "    <tr>\n",
       "      <th>23/08/2020</th>\n",
       "      <td>-150</td>\n",
       "      <td>610</td>\n",
       "      <td>570</td>\n",
       "    </tr>\n",
       "    <tr>\n",
       "      <th>24/08/2020</th>\n",
       "      <td>-490</td>\n",
       "      <td>710</td>\n",
       "      <td>530</td>\n",
       "    </tr>\n",
       "  </tbody>\n",
       "</table>\n",
       "</div>"
      ],
      "text/plain": [
       "            AAPL  BBRD  CCC\n",
       "22/08/2020   180   670  450\n",
       "23/08/2020  -150   610  570\n",
       "24/08/2020  -490   710  530"
      ]
     },
     "execution_count": 73,
     "metadata": {},
     "output_type": "execute_result"
    }
   ],
   "source": [
    "ws_df"
   ]
  },
  {
   "cell_type": "code",
   "execution_count": 74,
   "id": "2b2f61e7",
   "metadata": {},
   "outputs": [
    {
     "data": {
      "text/html": [
       "<div>\n",
       "<style scoped>\n",
       "    .dataframe tbody tr th:only-of-type {\n",
       "        vertical-align: middle;\n",
       "    }\n",
       "\n",
       "    .dataframe tbody tr th {\n",
       "        vertical-align: top;\n",
       "    }\n",
       "\n",
       "    .dataframe thead th {\n",
       "        text-align: right;\n",
       "    }\n",
       "</style>\n",
       "<table border=\"1\" class=\"dataframe\">\n",
       "  <thead>\n",
       "    <tr style=\"text-align: right;\">\n",
       "      <th></th>\n",
       "      <th>AAPL</th>\n",
       "      <th>BBRD</th>\n",
       "      <th>CCC</th>\n",
       "    </tr>\n",
       "  </thead>\n",
       "  <tbody>\n",
       "    <tr>\n",
       "      <th>22/08/2020</th>\n",
       "      <td>80</td>\n",
       "      <td>250</td>\n",
       "      <td>210</td>\n",
       "    </tr>\n",
       "    <tr>\n",
       "      <th>23/08/2020</th>\n",
       "      <td>-330</td>\n",
       "      <td>50</td>\n",
       "      <td>490</td>\n",
       "    </tr>\n",
       "    <tr>\n",
       "      <th>24/08/2020</th>\n",
       "      <td>-500</td>\n",
       "      <td>-210</td>\n",
       "      <td>850</td>\n",
       "    </tr>\n",
       "  </tbody>\n",
       "</table>\n",
       "</div>"
      ],
      "text/plain": [
       "            AAPL  BBRD  CCC\n",
       "22/08/2020    80   250  210\n",
       "23/08/2020  -330    50  490\n",
       "24/08/2020  -500  -210  850"
      ]
     },
     "execution_count": 74,
     "metadata": {},
     "output_type": "execute_result"
    }
   ],
   "source": [
    "pf_df"
   ]
  },
  {
   "cell_type": "markdown",
   "id": "894b6190",
   "metadata": {},
   "source": [
    "## What if there was no issue with the transport of Apple pies to 1JS?"
   ]
  },
  {
   "cell_type": "code",
   "execution_count": 75,
   "id": "ce02597a",
   "metadata": {},
   "outputs": [],
   "source": [
    "base_aapl = 500 #Inventory quantity at the beginning of the time period\n",
    "base_bbrd = 500\n",
    "base_ccc = 500\n",
    "invent_day = {}\n",
    "day1_js = {}\n",
    "day2_js = {}\n",
    "day3_js = {}\n",
    "\n",
    "for index, day in enumerate(js.values()):    \n",
    "    if index == 0: #First day - 22nd\n",
    "        day1_js[\"AAPL\"] = base_aapl + ord_ship_bal(day.get(\"AAPL\")) #get the order quantity of appe pies \n",
    "        day1_js[\"BBRD\"] = base_bbrd + ord_ship_bal(day.get(\"BBRD\"))#get the quantity of BBRD left after the first day\n",
    "        day1_js[\"CCC\"] = base_ccc + ord_ship_bal(day.get(\"CCC\"))#get the quantity of CCC left after the first day\n",
    "        \n",
    "        #The base quantities will then be updated to the quantity left after the first day\n",
    "        base_aapl = day1_js.get(\"AAPL\")#Inventory quantities at the beginning of the second day\n",
    "        base_bbrd = day1_js[\"BBRD\"]\n",
    "        base_ccc = day1_js[\"CCC\"]\n",
    "    \n",
    "    if index == 1:#Second day - 23rd\n",
    "        #Quantities left in the inventory at the end of the second day\n",
    "        day2_js[\"AAPL\"] = base_aapl + ord_ship_bal(day.get(\"AAPL\"))\n",
    "        day2_js[\"BBRD\"] = base_bbrd + ord_ship_bal(day.get(\"BBRD\"))\n",
    "        day2_js[\"CCC\"] = base_ccc + ord_ship_bal(day.get(\"CCC\"))\n",
    "        \n",
    "        base_aapl = day2_js.get(\"AAPL\")#Inventory quantities at the beginning of the third day\n",
    "        base_bbrd = day2_js[\"BBRD\"]\n",
    "        base_ccc = day2_js[\"CCC\"]\n",
    "    \n",
    "    if index == 2:#Third day - 24th\n",
    "        day3_js[\"AAPL\"] = base_aapl + ord_ship_bal(day.get(\"AAPL\"))\n",
    "        day3_js[\"BBRD\"] = base_bbrd + ord_ship_bal(day.get(\"BBRD\"))#get the quantity of BBRD left after the first day\n",
    "        day3_js[\"CCC\"] = base_ccc + ord_ship_bal(day.get(\"CCC\"))#get the quantity of CCC left after the first day"
   ]
  },
  {
   "cell_type": "code",
   "execution_count": 76,
   "id": "44c7c5aa",
   "metadata": {},
   "outputs": [
    {
     "data": {
      "text/plain": [
       "{'22/08/2020 inventory': {'AAPL': 170, 'BBRD': 880, 'CCC': 510},\n",
       " '23/08/2020 inventory': {'AAPL': -200, 'BBRD': 690, 'CCC': -750},\n",
       " '24/08/2020 inventory': {'AAPL': -670, 'BBRD': 180, 'CCC': -1390}}"
      ]
     },
     "execution_count": 76,
     "metadata": {},
     "output_type": "execute_result"
    }
   ],
   "source": [
    "js_invent = {}\n",
    "\n",
    "js_invent[\"22/08/2020 inventory\"] = day1_js\n",
    "js_invent[\"23/08/2020 inventory\"] = day2_js\n",
    "js_invent[\"24/08/2020 inventory\"] = day3_js\n",
    "\n",
    "js_invent"
   ]
  },
  {
   "cell_type": "code",
   "execution_count": 77,
   "id": "e37a4ebb",
   "metadata": {},
   "outputs": [
    {
     "data": {
      "text/html": [
       "<div>\n",
       "<style scoped>\n",
       "    .dataframe tbody tr th:only-of-type {\n",
       "        vertical-align: middle;\n",
       "    }\n",
       "\n",
       "    .dataframe tbody tr th {\n",
       "        vertical-align: top;\n",
       "    }\n",
       "\n",
       "    .dataframe thead th {\n",
       "        text-align: right;\n",
       "    }\n",
       "</style>\n",
       "<table border=\"1\" class=\"dataframe\">\n",
       "  <thead>\n",
       "    <tr style=\"text-align: right;\">\n",
       "      <th></th>\n",
       "      <th>AAPL</th>\n",
       "      <th>BBRD</th>\n",
       "      <th>CCC</th>\n",
       "    </tr>\n",
       "  </thead>\n",
       "  <tbody>\n",
       "    <tr>\n",
       "      <th>22/08/2020</th>\n",
       "      <td>170</td>\n",
       "      <td>880</td>\n",
       "      <td>510</td>\n",
       "    </tr>\n",
       "    <tr>\n",
       "      <th>23/08/2020</th>\n",
       "      <td>-200</td>\n",
       "      <td>690</td>\n",
       "      <td>-750</td>\n",
       "    </tr>\n",
       "    <tr>\n",
       "      <th>24/08/2020</th>\n",
       "      <td>-670</td>\n",
       "      <td>180</td>\n",
       "      <td>-1390</td>\n",
       "    </tr>\n",
       "  </tbody>\n",
       "</table>\n",
       "</div>"
      ],
      "text/plain": [
       "            AAPL  BBRD   CCC\n",
       "22/08/2020   170   880   510\n",
       "23/08/2020  -200   690  -750\n",
       "24/08/2020  -670   180 -1390"
      ]
     },
     "execution_count": 77,
     "metadata": {},
     "output_type": "execute_result"
    }
   ],
   "source": [
    "js_df = pd.DataFrame(js_invent.values(), index = [\"22/08/2020\",\"23/08/2020\",\"24/08/2020\"])\n",
    "js_df#DataFrame showing the 1JS inventory balance if there was no issue with apple pie transport"
   ]
  },
  {
   "cell_type": "markdown",
   "id": "b9e2551a",
   "metadata": {},
   "source": [
    "The deficits in Apple pies would have been minimized if the issue with the shipment of Apple pies was fixed."
   ]
  },
  {
   "cell_type": "markdown",
   "id": "163e1995",
   "metadata": {},
   "source": [
    "## What if there was no issue with the transport of Apple pies to 2WS?"
   ]
  },
  {
   "cell_type": "code",
   "execution_count": 78,
   "id": "9030bb68",
   "metadata": {},
   "outputs": [],
   "source": [
    "base_aapl = 500 #Inventory quantity at the beginning of the time period\n",
    "base_bbrd = 500\n",
    "base_ccc = 500\n",
    "invent_day = {}\n",
    "day1_ws = {}\n",
    "day2_ws = {}\n",
    "day3_ws = {}\n",
    "\n",
    "for index, day in enumerate(ws.values()):    \n",
    "    if index == 0: #First day - 22nd\n",
    "        day1_ws[\"AAPL\"] = base_aapl + ord_ship_bal(day.get(\"AAPL\")) #get the order quantity of appe pies \n",
    "        day1_ws[\"BBRD\"] = base_bbrd + ord_ship_bal(day.get(\"BBRD\"))#get the quantity of BBRD left after the first day\n",
    "        day1_ws[\"CCC\"] = base_ccc + ord_ship_bal(day.get(\"CCC\"))#get the quantity of CCC left after the first day\n",
    "        \n",
    "        #The base quantities will then be updated to the quantity left after the first day\n",
    "        base_aapl = day1_ws.get(\"AAPL\")#Inventory quantities at the beginning of the second day\n",
    "        base_bbrd = day1_ws[\"BBRD\"]\n",
    "        base_ccc = day1_ws[\"CCC\"]\n",
    "    \n",
    "    if index == 1:#Second day - 23rd\n",
    "        #Quantities left in the inventory at the end of the second day\n",
    "        day2_ws[\"AAPL\"] = base_aapl + ord_ship_bal(day.get(\"AAPL\"))\n",
    "        day2_ws[\"BBRD\"] = base_bbrd + ord_ship_bal(day.get(\"BBRD\"))\n",
    "        day2_ws[\"CCC\"] = base_ccc + ord_ship_bal(day.get(\"CCC\"))\n",
    "        \n",
    "        base_aapl = day2_ws.get(\"AAPL\")#Inventory quantities at the beginning of the third day\n",
    "        base_bbrd = day2_ws[\"BBRD\"]\n",
    "        base_ccc = day2_ws[\"CCC\"]\n",
    "    \n",
    "    if index == 2:#Third day - 24th\n",
    "        day3_ws[\"AAPL\"] = base_aapl + ord_ship_bal(day.get(\"AAPL\"))\n",
    "        day3_ws[\"BBRD\"] = base_bbrd + ord_ship_bal(day.get(\"BBRD\"))\n",
    "        day3_ws[\"CCC\"] = base_ccc + ord_ship_bal(day.get(\"CCC\"))\n",
    "    "
   ]
  },
  {
   "cell_type": "code",
   "execution_count": 79,
   "id": "e3dc3f57",
   "metadata": {},
   "outputs": [],
   "source": [
    "ws_invent = {} \n",
    "\n",
    "ws_invent[\"22/08/2020 inventory\"] = day1_ws\n",
    "ws_invent[\"23/08/2020 inventory\"] = day2_ws\n",
    "ws_invent[\"24/08/2020 inventory\"] = day3_ws"
   ]
  },
  {
   "cell_type": "code",
   "execution_count": 80,
   "id": "6bf852e3",
   "metadata": {},
   "outputs": [
    {
     "data": {
      "text/plain": [
       "{'22/08/2020 inventory': {'AAPL': 330, 'BBRD': 670, 'CCC': 450},\n",
       " '23/08/2020 inventory': {'AAPL': 350, 'BBRD': 610, 'CCC': 570},\n",
       " '24/08/2020 inventory': {'AAPL': 260, 'BBRD': 710, 'CCC': 530}}"
      ]
     },
     "execution_count": 80,
     "metadata": {},
     "output_type": "execute_result"
    }
   ],
   "source": [
    "ws_invent"
   ]
  },
  {
   "cell_type": "code",
   "execution_count": 81,
   "id": "0855cd28",
   "metadata": {},
   "outputs": [
    {
     "data": {
      "text/html": [
       "<div>\n",
       "<style scoped>\n",
       "    .dataframe tbody tr th:only-of-type {\n",
       "        vertical-align: middle;\n",
       "    }\n",
       "\n",
       "    .dataframe tbody tr th {\n",
       "        vertical-align: top;\n",
       "    }\n",
       "\n",
       "    .dataframe thead th {\n",
       "        text-align: right;\n",
       "    }\n",
       "</style>\n",
       "<table border=\"1\" class=\"dataframe\">\n",
       "  <thead>\n",
       "    <tr style=\"text-align: right;\">\n",
       "      <th></th>\n",
       "      <th>AAPL</th>\n",
       "      <th>BBRD</th>\n",
       "      <th>CCC</th>\n",
       "    </tr>\n",
       "  </thead>\n",
       "  <tbody>\n",
       "    <tr>\n",
       "      <th>22/08/2020</th>\n",
       "      <td>330</td>\n",
       "      <td>670</td>\n",
       "      <td>450</td>\n",
       "    </tr>\n",
       "    <tr>\n",
       "      <th>23/08/2020</th>\n",
       "      <td>350</td>\n",
       "      <td>610</td>\n",
       "      <td>570</td>\n",
       "    </tr>\n",
       "    <tr>\n",
       "      <th>24/08/2020</th>\n",
       "      <td>260</td>\n",
       "      <td>710</td>\n",
       "      <td>530</td>\n",
       "    </tr>\n",
       "  </tbody>\n",
       "</table>\n",
       "</div>"
      ],
      "text/plain": [
       "            AAPL  BBRD  CCC\n",
       "22/08/2020   330   670  450\n",
       "23/08/2020   350   610  570\n",
       "24/08/2020   260   710  530"
      ]
     },
     "execution_count": 81,
     "metadata": {},
     "output_type": "execute_result"
    }
   ],
   "source": [
    "ws_df = pd.DataFrame(ws_invent.values(), index = [\"22/08/2020\",\"23/08/2020\",\"24/08/2020\"])\n",
    "ws_df#DataFrame showing the 2WS inventory balance if there was no issue with apple pie transport"
   ]
  },
  {
   "cell_type": "markdown",
   "id": "0fcfe177",
   "metadata": {},
   "source": [
    "As seen above, the apple pie deficits would have been solved if there was no issue with the transport of apple pies"
   ]
  },
  {
   "cell_type": "markdown",
   "id": "37901a57",
   "metadata": {},
   "source": [
    "## What if shipment issues to Poughkeepsie were fixed?"
   ]
  },
  {
   "cell_type": "code",
   "execution_count": 82,
   "id": "7caa6f1d",
   "metadata": {},
   "outputs": [],
   "source": [
    "base_aapl = 500 #Inventory quantity at the beginning of the time period\n",
    "base_bbrd = 500\n",
    "base_ccc = 500\n",
    "invent_day = {}\n",
    "day1_pf = {}\n",
    "day2_pf = {}\n",
    "day3_pf = {}\n",
    "\n",
    "for index, day in enumerate(pf.values()):    \n",
    "    if index == 0: #First day - 22nd\n",
    "        day1_pf[\"AAPL\"] = base_aapl + ord_ship_bal(day.get(\"AAPL\")) #get the order quantity of appe pies \n",
    "        day1_pf[\"BBRD\"] = base_bbrd + ord_ship_bal(day.get(\"BBRD\"))#get the quantity of BBRD left after the first day\n",
    "        day1_pf[\"CCC\"] = base_ccc + ord_ship_bal(day.get(\"CCC\"))#get the quantity of CCC left after the first day\n",
    "        \n",
    "        #The base quantities will then be updated to the quantity left after the first day\n",
    "        base_aapl = day1_pf.get(\"AAPL\")#Inventory quantities at the beginning of the second day\n",
    "        base_bbrd = day1_pf[\"BBRD\"]\n",
    "        base_ccc = day1_pf[\"CCC\"]\n",
    "    \n",
    "    if index == 1:#Second day - 23rd\n",
    "        #Quantities left in the inventory at the end of the second day\n",
    "        day2_pf[\"AAPL\"] = base_aapl + ord_ship_bal(day.get(\"AAPL\"))\n",
    "        day2_pf[\"BBRD\"] = base_bbrd + ord_ship_bal(day.get(\"BBRD\"))\n",
    "        day2_pf[\"CCC\"] = base_ccc + ord_ship_bal(day.get(\"CCC\"))\n",
    "        \n",
    "        base_aapl = day2_pf.get(\"AAPL\")#Inventory quantities at the beginning of the third day\n",
    "        base_bbrd = day2_pf[\"BBRD\"]\n",
    "        base_ccc = day2_pf[\"CCC\"]\n",
    "    \n",
    "    if index == 2:#Third day - 24th\n",
    "        day3_pf[\"AAPL\"] = base_aapl + ord_ship_bal(day.get(\"AAPL\"))\n",
    "        day3_pf[\"BBRD\"] = base_bbrd + ord_ship_bal(day.get(\"BBRD\"))\n",
    "        day3_pf[\"CCC\"] = base_ccc + ord_ship_bal(day.get(\"CCC\"))\n",
    "    "
   ]
  },
  {
   "cell_type": "code",
   "execution_count": 83,
   "id": "357477b7",
   "metadata": {},
   "outputs": [],
   "source": [
    "pf_invent = {} \n",
    "\n",
    "pf_invent[\"22/08/2020 inventory\"] = day1_pf\n",
    "pf_invent[\"23/08/2020 inventory\"] = day2_pf\n",
    "pf_invent[\"24/08/2020 inventory\"] = day3_pf"
   ]
  },
  {
   "cell_type": "code",
   "execution_count": 84,
   "id": "3e169b38",
   "metadata": {},
   "outputs": [
    {
     "data": {
      "text/html": [
       "<div>\n",
       "<style scoped>\n",
       "    .dataframe tbody tr th:only-of-type {\n",
       "        vertical-align: middle;\n",
       "    }\n",
       "\n",
       "    .dataframe tbody tr th {\n",
       "        vertical-align: top;\n",
       "    }\n",
       "\n",
       "    .dataframe thead th {\n",
       "        text-align: right;\n",
       "    }\n",
       "</style>\n",
       "<table border=\"1\" class=\"dataframe\">\n",
       "  <thead>\n",
       "    <tr style=\"text-align: right;\">\n",
       "      <th></th>\n",
       "      <th>AAPL</th>\n",
       "      <th>BBRD</th>\n",
       "      <th>CCC</th>\n",
       "    </tr>\n",
       "  </thead>\n",
       "  <tbody>\n",
       "    <tr>\n",
       "      <th>22/08/2020</th>\n",
       "      <td>80</td>\n",
       "      <td>250</td>\n",
       "      <td>210</td>\n",
       "    </tr>\n",
       "    <tr>\n",
       "      <th>23/08/2020</th>\n",
       "      <td>-130</td>\n",
       "      <td>50</td>\n",
       "      <td>490</td>\n",
       "    </tr>\n",
       "    <tr>\n",
       "      <th>24/08/2020</th>\n",
       "      <td>-100</td>\n",
       "      <td>-210</td>\n",
       "      <td>850</td>\n",
       "    </tr>\n",
       "  </tbody>\n",
       "</table>\n",
       "</div>"
      ],
      "text/plain": [
       "            AAPL  BBRD  CCC\n",
       "22/08/2020    80   250  210\n",
       "23/08/2020  -130    50  490\n",
       "24/08/2020  -100  -210  850"
      ]
     },
     "execution_count": 84,
     "metadata": {},
     "output_type": "execute_result"
    }
   ],
   "source": [
    "pf_df = pd.DataFrame(pf_invent.values(), index = [\"22/08/2020\",\"23/08/2020\",\"24/08/2020\"])\n",
    "pf_df#DataFrame showing the 3PUFF inventory balance if there was no issue with apple pie transport"
   ]
  },
  {
   "cell_type": "code",
   "execution_count": 85,
   "id": "4763dc81",
   "metadata": {},
   "outputs": [],
   "source": [
    "df.to_excel(\"excel_notebook_alalade.xlsx\", index=False)"
   ]
  },
  {
   "cell_type": "code",
   "execution_count": null,
   "id": "4387bef0",
   "metadata": {},
   "outputs": [],
   "source": []
  }
 ],
 "metadata": {
  "kernelspec": {
   "display_name": "Python 3 (ipykernel)",
   "language": "python",
   "name": "python3"
  },
  "language_info": {
   "codemirror_mode": {
    "name": "ipython",
    "version": 3
   },
   "file_extension": ".py",
   "mimetype": "text/x-python",
   "name": "python",
   "nbconvert_exporter": "python",
   "pygments_lexer": "ipython3",
   "version": "3.9.7"
  }
 },
 "nbformat": 4,
 "nbformat_minor": 5
}
